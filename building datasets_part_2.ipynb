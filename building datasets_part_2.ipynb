{
 "cells": [
  {
   "cell_type": "markdown",
   "id": "crucial-gnome",
   "metadata": {},
   "source": [
    "# Import libraries and data"
   ]
  },
  {
   "cell_type": "code",
   "execution_count": 1,
   "id": "defensive-creator",
   "metadata": {},
   "outputs": [],
   "source": [
    "import numpy as np\n",
    "import math\n",
    "import pandas as pd\n",
    "from datetime import datetime\n",
    "import warnings\n",
    "warnings.filterwarnings('ignore')\n",
    "from matplotlib import pyplot as plt\n",
    "import seaborn as sns"
   ]
  },
  {
   "cell_type": "code",
   "execution_count": 2,
   "id": "guided-father",
   "metadata": {},
   "outputs": [
    {
     "data": {
      "text/html": [
       "        <script type=\"text/javascript\">\n",
       "        window.PlotlyConfig = {MathJaxConfig: 'local'};\n",
       "        if (window.MathJax) {MathJax.Hub.Config({SVG: {font: \"STIX-Web\"}});}\n",
       "        if (typeof require !== 'undefined') {\n",
       "        require.undef(\"plotly\");\n",
       "        requirejs.config({\n",
       "            paths: {\n",
       "                'plotly': ['https://cdn.plot.ly/plotly-latest.min']\n",
       "            }\n",
       "        });\n",
       "        require(['plotly'], function(Plotly) {\n",
       "            window._Plotly = Plotly;\n",
       "        });\n",
       "        }\n",
       "        </script>\n",
       "        "
      ]
     },
     "metadata": {},
     "output_type": "display_data"
    }
   ],
   "source": [
    "import sys\n",
    "sys.path.insert(0, '/Users/dpagniez/Desktop/Functions')\n",
    "\n",
    "from My_functions_EDA import *"
   ]
  },
  {
   "cell_type": "code",
   "execution_count": 3,
   "id": "suspended-checkout",
   "metadata": {},
   "outputs": [],
   "source": [
    "data = pd.read_csv('/Users/dpagniez/Desktop/DS_bootcamp/FINAL PROJECT/ES_Final project questionnaire .csv')"
   ]
  },
  {
   "cell_type": "code",
   "execution_count": 4,
   "id": "joint-monroe",
   "metadata": {},
   "outputs": [],
   "source": [
    "test = data.copy()"
   ]
  },
  {
   "cell_type": "code",
   "execution_count": 5,
   "id": "fallen-advisory",
   "metadata": {
    "scrolled": true
   },
   "outputs": [
    {
     "name": "stdout",
     "output_type": "stream",
     "text": [
      "<class 'pandas.core.frame.DataFrame'>\n",
      "RangeIndex: 434 entries, 0 to 433\n",
      "Columns: 103 entries, Marca temporal to Una vez realizada la investigación, si deseas recibir una copia de la presentación con las conclusiones, introduce tu mail aquí: \n",
      "dtypes: float64(3), object(100)\n",
      "memory usage: 349.4+ KB\n"
     ]
    }
   ],
   "source": [
    "test.info()"
   ]
  },
  {
   "cell_type": "code",
   "execution_count": 6,
   "id": "loaded-desktop",
   "metadata": {},
   "outputs": [
    {
     "data": {
      "text/plain": [
       "Index(['Marca temporal', '¿Deseas participar?', '¿Cuántos años tienes?',\n",
       "       '¿Cuál es tu país de nacimiento?',\n",
       "       '¿Cuál es tu país de residencia actual? ',\n",
       "       'Considerando los últimos tres meses: ¿Qué tan de acuerdo estas con las siguientes afirmaciones? [Me siento una persona tan valiosa como las otras]',\n",
       "       'Considerando los últimos tres meses: ¿Qué tan de acuerdo estas con las siguientes afirmaciones? [Generalmente me inclino a pensar que soy un fracaso]',\n",
       "       'Considerando los últimos tres meses: ¿Qué tan de acuerdo estas con las siguientes afirmaciones? [Creo que tengo algunas cualidades buenas]',\n",
       "       'Considerando los últimos tres meses: ¿Qué tan de acuerdo estas con las siguientes afirmaciones? [Soy capaz de hacer las cosas tan bien como los demás]',\n",
       "       'Considerando los últimos tres meses: ¿Qué tan de acuerdo estas con las siguientes afirmaciones? [Creo que no tengo mucho de lo que estar orgullosa]',\n",
       "       ...\n",
       "       '¿Alguna vez te han mandado material pornográfico sin haberlo solicitado por una red social?',\n",
       "       '¿Cuál era el sexo de la/s persona/s que te enviaron este material?',\n",
       "       '¿Alguna vez te han pedido fotos pornográficas, de genitales o desnudos por una red social?',\n",
       "       '¿Cuál era el sexo de la persona que te pidió este material?',\n",
       "       '¿Crees que algo del contenido que ves por TikTok o Instagram se parece a la pornografía?',\n",
       "       '¿Crees que algunas mujeres intentan imitar lo que ven en la pornografía a la hora de subir fotos o vídeos a estas redes sociales?',\n",
       "       '¿Crees que la pornografía influye en lo que se comparte en redes sociales?',\n",
       "       '¿Crees que lo que se comparte en redes sociales distorsiona la realidad?',\n",
       "       '¿Crees que lo que consumes en las redes sociales afecta tu autoestima?',\n",
       "       'Una vez realizada la investigación, si deseas recibir una copia de la presentación con las conclusiones, introduce tu mail aquí: '],\n",
       "      dtype='object', length=103)"
      ]
     },
     "execution_count": 6,
     "metadata": {},
     "output_type": "execute_result"
    }
   ],
   "source": [
    "test.columns"
   ]
  },
  {
   "cell_type": "code",
   "execution_count": 7,
   "id": "strategic-arkansas",
   "metadata": {},
   "outputs": [
    {
     "data": {
      "text/html": [
       "<div>\n",
       "<style scoped>\n",
       "    .dataframe tbody tr th:only-of-type {\n",
       "        vertical-align: middle;\n",
       "    }\n",
       "\n",
       "    .dataframe tbody tr th {\n",
       "        vertical-align: top;\n",
       "    }\n",
       "\n",
       "    .dataframe thead th {\n",
       "        text-align: right;\n",
       "    }\n",
       "</style>\n",
       "<table border=\"1\" class=\"dataframe\">\n",
       "  <thead>\n",
       "    <tr style=\"text-align: right;\">\n",
       "      <th></th>\n",
       "      <th>Marca temporal</th>\n",
       "      <th>¿Deseas participar?</th>\n",
       "      <th>¿Cuántos años tienes?</th>\n",
       "      <th>¿Cuál es tu país de nacimiento?</th>\n",
       "      <th>¿Cuál es tu país de residencia actual?</th>\n",
       "      <th>Considerando los últimos tres meses: ¿Qué tan de acuerdo estas con las siguientes afirmaciones? [Me siento una persona tan valiosa como las otras]</th>\n",
       "      <th>Considerando los últimos tres meses: ¿Qué tan de acuerdo estas con las siguientes afirmaciones? [Generalmente me inclino a pensar que soy un fracaso]</th>\n",
       "      <th>Considerando los últimos tres meses: ¿Qué tan de acuerdo estas con las siguientes afirmaciones? [Creo que tengo algunas cualidades buenas]</th>\n",
       "      <th>Considerando los últimos tres meses: ¿Qué tan de acuerdo estas con las siguientes afirmaciones? [Soy capaz de hacer las cosas tan bien como los demás]</th>\n",
       "      <th>Considerando los últimos tres meses: ¿Qué tan de acuerdo estas con las siguientes afirmaciones? [Creo que no tengo mucho de lo que estar orgullosa]</th>\n",
       "      <th>...</th>\n",
       "      <th>¿Alguna vez te han mandado material pornográfico sin haberlo solicitado por una red social?</th>\n",
       "      <th>¿Cuál era el sexo de la/s persona/s que te enviaron este material?</th>\n",
       "      <th>¿Alguna vez te han pedido fotos pornográficas, de genitales o desnudos por una red social?</th>\n",
       "      <th>¿Cuál era el sexo de la persona que te pidió este material?</th>\n",
       "      <th>¿Crees que algo del contenido que ves por TikTok o Instagram se parece a la pornografía?</th>\n",
       "      <th>¿Crees que algunas mujeres intentan imitar lo que ven en la pornografía a la hora de subir fotos o vídeos a estas redes sociales?</th>\n",
       "      <th>¿Crees que la pornografía influye en lo que se comparte en redes sociales?</th>\n",
       "      <th>¿Crees que lo que se comparte en redes sociales distorsiona la realidad?</th>\n",
       "      <th>¿Crees que lo que consumes en las redes sociales afecta tu autoestima?</th>\n",
       "      <th>Una vez realizada la investigación, si deseas recibir una copia de la presentación con las conclusiones, introduce tu mail aquí:</th>\n",
       "    </tr>\n",
       "  </thead>\n",
       "  <tbody>\n",
       "    <tr>\n",
       "      <th>0</th>\n",
       "      <td>2021/03/25 7:25:11 p. m. EET</td>\n",
       "      <td>Aceptar</td>\n",
       "      <td>30</td>\n",
       "      <td>España</td>\n",
       "      <td>España</td>\n",
       "      <td>De acuerdo</td>\n",
       "      <td>En desacuerdo</td>\n",
       "      <td>Muy de acuerdo</td>\n",
       "      <td>Muy de acuerdo</td>\n",
       "      <td>En desacuerdo</td>\n",
       "      <td>...</td>\n",
       "      <td>Sí</td>\n",
       "      <td>Hombre</td>\n",
       "      <td>Sí</td>\n",
       "      <td>Hombre</td>\n",
       "      <td>Sí</td>\n",
       "      <td>Sí</td>\n",
       "      <td>Sí</td>\n",
       "      <td>Sí</td>\n",
       "      <td>Sí</td>\n",
       "      <td>apaniaguavilloria@gmail.com</td>\n",
       "    </tr>\n",
       "    <tr>\n",
       "      <th>1</th>\n",
       "      <td>2021/03/25 11:18:02 p. m. EET</td>\n",
       "      <td>Aceptar</td>\n",
       "      <td>cxz</td>\n",
       "      <td>sdc</td>\n",
       "      <td>dcs</td>\n",
       "      <td>Muy en desacuerdo</td>\n",
       "      <td>Muy en desacuerdo</td>\n",
       "      <td>Muy en desacuerdo</td>\n",
       "      <td>Muy en desacuerdo</td>\n",
       "      <td>Muy en desacuerdo</td>\n",
       "      <td>...</td>\n",
       "      <td>No</td>\n",
       "      <td>Hombre</td>\n",
       "      <td>NaN</td>\n",
       "      <td>NaN</td>\n",
       "      <td>No tengo dichas redes sociales</td>\n",
       "      <td>NaN</td>\n",
       "      <td>NaN</td>\n",
       "      <td>NaN</td>\n",
       "      <td>NaN</td>\n",
       "      <td>NaN</td>\n",
       "    </tr>\n",
       "    <tr>\n",
       "      <th>2</th>\n",
       "      <td>2021/03/26 12:02:08 a. m. EET</td>\n",
       "      <td>Aceptar</td>\n",
       "      <td>25</td>\n",
       "      <td>España</td>\n",
       "      <td>España</td>\n",
       "      <td>De acuerdo</td>\n",
       "      <td>En desacuerdo</td>\n",
       "      <td>Muy de acuerdo</td>\n",
       "      <td>Muy de acuerdo</td>\n",
       "      <td>En desacuerdo</td>\n",
       "      <td>...</td>\n",
       "      <td>Sí</td>\n",
       "      <td>Hombre</td>\n",
       "      <td>Sí</td>\n",
       "      <td>Hombre</td>\n",
       "      <td>Sí</td>\n",
       "      <td>Sí</td>\n",
       "      <td>Sí</td>\n",
       "      <td>Sí</td>\n",
       "      <td>Sí</td>\n",
       "      <td>NaN</td>\n",
       "    </tr>\n",
       "    <tr>\n",
       "      <th>3</th>\n",
       "      <td>2021/03/26 12:11:49 a. m. EET</td>\n",
       "      <td>Aceptar</td>\n",
       "      <td>30</td>\n",
       "      <td>España</td>\n",
       "      <td>España</td>\n",
       "      <td>Muy en desacuerdo</td>\n",
       "      <td>Muy de acuerdo</td>\n",
       "      <td>De acuerdo</td>\n",
       "      <td>En desacuerdo</td>\n",
       "      <td>De acuerdo</td>\n",
       "      <td>...</td>\n",
       "      <td>Sí</td>\n",
       "      <td>Hombre</td>\n",
       "      <td>Sí</td>\n",
       "      <td>Hombre</td>\n",
       "      <td>Sí</td>\n",
       "      <td>Sí</td>\n",
       "      <td>Sí</td>\n",
       "      <td>Sí</td>\n",
       "      <td>Sí</td>\n",
       "      <td>NaN</td>\n",
       "    </tr>\n",
       "    <tr>\n",
       "      <th>4</th>\n",
       "      <td>2021/03/26 12:15:23 a. m. EET</td>\n",
       "      <td>Aceptar</td>\n",
       "      <td>29</td>\n",
       "      <td>España</td>\n",
       "      <td>España</td>\n",
       "      <td>En desacuerdo</td>\n",
       "      <td>En desacuerdo</td>\n",
       "      <td>Muy en desacuerdo</td>\n",
       "      <td>Muy en desacuerdo</td>\n",
       "      <td>En desacuerdo</td>\n",
       "      <td>...</td>\n",
       "      <td>Sí</td>\n",
       "      <td>Hombre</td>\n",
       "      <td>Sí</td>\n",
       "      <td>Hombre</td>\n",
       "      <td>No tengo dichas redes sociales</td>\n",
       "      <td>Sí</td>\n",
       "      <td>Sí</td>\n",
       "      <td>Sí</td>\n",
       "      <td>Sí</td>\n",
       "      <td>NaN</td>\n",
       "    </tr>\n",
       "    <tr>\n",
       "      <th>5</th>\n",
       "      <td>2021/03/26 12:16:33 a. m. EET</td>\n",
       "      <td>Aceptar</td>\n",
       "      <td>46</td>\n",
       "      <td>España</td>\n",
       "      <td>España</td>\n",
       "      <td>De acuerdo</td>\n",
       "      <td>En desacuerdo</td>\n",
       "      <td>Muy de acuerdo</td>\n",
       "      <td>Muy de acuerdo</td>\n",
       "      <td>En desacuerdo</td>\n",
       "      <td>...</td>\n",
       "      <td>No</td>\n",
       "      <td>NaN</td>\n",
       "      <td>No</td>\n",
       "      <td>NaN</td>\n",
       "      <td>Sí</td>\n",
       "      <td>Sí</td>\n",
       "      <td>Sí</td>\n",
       "      <td>Sí</td>\n",
       "      <td>Sí</td>\n",
       "      <td>NaN</td>\n",
       "    </tr>\n",
       "    <tr>\n",
       "      <th>6</th>\n",
       "      <td>2021/03/26 12:20:53 a. m. EET</td>\n",
       "      <td>Aceptar</td>\n",
       "      <td>35</td>\n",
       "      <td>España</td>\n",
       "      <td>España</td>\n",
       "      <td>De acuerdo</td>\n",
       "      <td>En desacuerdo</td>\n",
       "      <td>De acuerdo</td>\n",
       "      <td>De acuerdo</td>\n",
       "      <td>En desacuerdo</td>\n",
       "      <td>...</td>\n",
       "      <td>No</td>\n",
       "      <td>NaN</td>\n",
       "      <td>Sí</td>\n",
       "      <td>Hombre;Mujer</td>\n",
       "      <td>Sí</td>\n",
       "      <td>Sí</td>\n",
       "      <td>Sí</td>\n",
       "      <td>Sí</td>\n",
       "      <td>Sí</td>\n",
       "      <td>dolma.mlc@gmail.com</td>\n",
       "    </tr>\n",
       "    <tr>\n",
       "      <th>7</th>\n",
       "      <td>2021/03/26 12:22:23 a. m. EET</td>\n",
       "      <td>Aceptar</td>\n",
       "      <td>25</td>\n",
       "      <td>España</td>\n",
       "      <td>España</td>\n",
       "      <td>Muy de acuerdo</td>\n",
       "      <td>De acuerdo</td>\n",
       "      <td>Muy de acuerdo</td>\n",
       "      <td>Muy de acuerdo</td>\n",
       "      <td>De acuerdo</td>\n",
       "      <td>...</td>\n",
       "      <td>Sí</td>\n",
       "      <td>Hombre</td>\n",
       "      <td>Sí</td>\n",
       "      <td>Hombre</td>\n",
       "      <td>No</td>\n",
       "      <td>Sí</td>\n",
       "      <td>Sí</td>\n",
       "      <td>Sí</td>\n",
       "      <td>Sí</td>\n",
       "      <td>cloestein@outlook.com</td>\n",
       "    </tr>\n",
       "    <tr>\n",
       "      <th>8</th>\n",
       "      <td>2021/03/26 12:24:59 a. m. EET</td>\n",
       "      <td>Aceptar</td>\n",
       "      <td>21</td>\n",
       "      <td>España</td>\n",
       "      <td>España</td>\n",
       "      <td>Muy de acuerdo</td>\n",
       "      <td>De acuerdo</td>\n",
       "      <td>En desacuerdo</td>\n",
       "      <td>Muy de acuerdo</td>\n",
       "      <td>En desacuerdo</td>\n",
       "      <td>...</td>\n",
       "      <td>No</td>\n",
       "      <td>NaN</td>\n",
       "      <td>Sí</td>\n",
       "      <td>Hombre</td>\n",
       "      <td>Sí</td>\n",
       "      <td>Sí</td>\n",
       "      <td>Sí</td>\n",
       "      <td>Sí</td>\n",
       "      <td>Sí</td>\n",
       "      <td>NaN</td>\n",
       "    </tr>\n",
       "    <tr>\n",
       "      <th>9</th>\n",
       "      <td>2021/03/26 12:43:02 a. m. EET</td>\n",
       "      <td>Aceptar</td>\n",
       "      <td>30</td>\n",
       "      <td>España</td>\n",
       "      <td>España</td>\n",
       "      <td>Muy de acuerdo</td>\n",
       "      <td>En desacuerdo</td>\n",
       "      <td>De acuerdo</td>\n",
       "      <td>En desacuerdo</td>\n",
       "      <td>De acuerdo</td>\n",
       "      <td>...</td>\n",
       "      <td>Sí</td>\n",
       "      <td>Hombre</td>\n",
       "      <td>Sí</td>\n",
       "      <td>Hombre</td>\n",
       "      <td>Sí</td>\n",
       "      <td>Sí</td>\n",
       "      <td>Sí</td>\n",
       "      <td>Sí</td>\n",
       "      <td>Sí</td>\n",
       "      <td>NaN</td>\n",
       "    </tr>\n",
       "  </tbody>\n",
       "</table>\n",
       "<p>10 rows × 103 columns</p>\n",
       "</div>"
      ],
      "text/plain": [
       "                  Marca temporal ¿Deseas participar? ¿Cuántos años tienes?  \\\n",
       "0   2021/03/25 7:25:11 p. m. EET             Aceptar                    30   \n",
       "1  2021/03/25 11:18:02 p. m. EET             Aceptar                   cxz   \n",
       "2  2021/03/26 12:02:08 a. m. EET             Aceptar                    25   \n",
       "3  2021/03/26 12:11:49 a. m. EET             Aceptar                    30   \n",
       "4  2021/03/26 12:15:23 a. m. EET             Aceptar                    29   \n",
       "5  2021/03/26 12:16:33 a. m. EET             Aceptar                    46   \n",
       "6  2021/03/26 12:20:53 a. m. EET             Aceptar                    35   \n",
       "7  2021/03/26 12:22:23 a. m. EET             Aceptar                    25   \n",
       "8  2021/03/26 12:24:59 a. m. EET             Aceptar                    21   \n",
       "9  2021/03/26 12:43:02 a. m. EET             Aceptar                    30   \n",
       "\n",
       "  ¿Cuál es tu país de nacimiento? ¿Cuál es tu país de residencia actual?   \\\n",
       "0                          España                                  España   \n",
       "1                             sdc                                     dcs   \n",
       "2                          España                                  España   \n",
       "3                          España                                  España   \n",
       "4                          España                                  España   \n",
       "5                          España                                  España   \n",
       "6                         España                                  España    \n",
       "7                          España                                  España   \n",
       "8                          España                                  España   \n",
       "9                         España                                  España    \n",
       "\n",
       "  Considerando los últimos tres meses: ¿Qué tan de acuerdo estas con las siguientes afirmaciones? [Me siento una persona tan valiosa como las otras]  \\\n",
       "0                                         De acuerdo                                                                                                   \n",
       "1                                  Muy en desacuerdo                                                                                                   \n",
       "2                                         De acuerdo                                                                                                   \n",
       "3                                  Muy en desacuerdo                                                                                                   \n",
       "4                                      En desacuerdo                                                                                                   \n",
       "5                                         De acuerdo                                                                                                   \n",
       "6                                         De acuerdo                                                                                                   \n",
       "7                                     Muy de acuerdo                                                                                                   \n",
       "8                                     Muy de acuerdo                                                                                                   \n",
       "9                                     Muy de acuerdo                                                                                                   \n",
       "\n",
       "  Considerando los últimos tres meses: ¿Qué tan de acuerdo estas con las siguientes afirmaciones? [Generalmente me inclino a pensar que soy un fracaso]  \\\n",
       "0                                      En desacuerdo                                                                                                      \n",
       "1                                  Muy en desacuerdo                                                                                                      \n",
       "2                                      En desacuerdo                                                                                                      \n",
       "3                                     Muy de acuerdo                                                                                                      \n",
       "4                                      En desacuerdo                                                                                                      \n",
       "5                                      En desacuerdo                                                                                                      \n",
       "6                                      En desacuerdo                                                                                                      \n",
       "7                                         De acuerdo                                                                                                      \n",
       "8                                         De acuerdo                                                                                                      \n",
       "9                                      En desacuerdo                                                                                                      \n",
       "\n",
       "  Considerando los últimos tres meses: ¿Qué tan de acuerdo estas con las siguientes afirmaciones? [Creo que tengo algunas cualidades buenas]  \\\n",
       "0                                     Muy de acuerdo                                                                                           \n",
       "1                                  Muy en desacuerdo                                                                                           \n",
       "2                                     Muy de acuerdo                                                                                           \n",
       "3                                         De acuerdo                                                                                           \n",
       "4                                  Muy en desacuerdo                                                                                           \n",
       "5                                     Muy de acuerdo                                                                                           \n",
       "6                                         De acuerdo                                                                                           \n",
       "7                                     Muy de acuerdo                                                                                           \n",
       "8                                      En desacuerdo                                                                                           \n",
       "9                                         De acuerdo                                                                                           \n",
       "\n",
       "  Considerando los últimos tres meses: ¿Qué tan de acuerdo estas con las siguientes afirmaciones? [Soy capaz de hacer las cosas tan bien como los demás]  \\\n",
       "0                                     Muy de acuerdo                                                                                                       \n",
       "1                                  Muy en desacuerdo                                                                                                       \n",
       "2                                     Muy de acuerdo                                                                                                       \n",
       "3                                      En desacuerdo                                                                                                       \n",
       "4                                  Muy en desacuerdo                                                                                                       \n",
       "5                                     Muy de acuerdo                                                                                                       \n",
       "6                                         De acuerdo                                                                                                       \n",
       "7                                     Muy de acuerdo                                                                                                       \n",
       "8                                     Muy de acuerdo                                                                                                       \n",
       "9                                      En desacuerdo                                                                                                       \n",
       "\n",
       "  Considerando los últimos tres meses: ¿Qué tan de acuerdo estas con las siguientes afirmaciones? [Creo que no tengo mucho de lo que estar orgullosa]  \\\n",
       "0                                      En desacuerdo                                                                                                    \n",
       "1                                  Muy en desacuerdo                                                                                                    \n",
       "2                                      En desacuerdo                                                                                                    \n",
       "3                                         De acuerdo                                                                                                    \n",
       "4                                      En desacuerdo                                                                                                    \n",
       "5                                      En desacuerdo                                                                                                    \n",
       "6                                      En desacuerdo                                                                                                    \n",
       "7                                         De acuerdo                                                                                                    \n",
       "8                                      En desacuerdo                                                                                                    \n",
       "9                                         De acuerdo                                                                                                    \n",
       "\n",
       "   ...  \\\n",
       "0  ...   \n",
       "1  ...   \n",
       "2  ...   \n",
       "3  ...   \n",
       "4  ...   \n",
       "5  ...   \n",
       "6  ...   \n",
       "7  ...   \n",
       "8  ...   \n",
       "9  ...   \n",
       "\n",
       "  ¿Alguna vez te han mandado material pornográfico sin haberlo solicitado por una red social?  \\\n",
       "0                                                 Sí                                            \n",
       "1                                                 No                                            \n",
       "2                                                 Sí                                            \n",
       "3                                                 Sí                                            \n",
       "4                                                 Sí                                            \n",
       "5                                                 No                                            \n",
       "6                                                 No                                            \n",
       "7                                                 Sí                                            \n",
       "8                                                 No                                            \n",
       "9                                                 Sí                                            \n",
       "\n",
       "  ¿Cuál era el sexo de la/s persona/s que te enviaron este material?  \\\n",
       "0                                             Hombre                   \n",
       "1                                             Hombre                   \n",
       "2                                             Hombre                   \n",
       "3                                             Hombre                   \n",
       "4                                             Hombre                   \n",
       "5                                                NaN                   \n",
       "6                                                NaN                   \n",
       "7                                             Hombre                   \n",
       "8                                                NaN                   \n",
       "9                                             Hombre                   \n",
       "\n",
       "  ¿Alguna vez te han pedido fotos pornográficas, de genitales o desnudos por una red social?  \\\n",
       "0                                                 Sí                                           \n",
       "1                                                NaN                                           \n",
       "2                                                 Sí                                           \n",
       "3                                                 Sí                                           \n",
       "4                                                 Sí                                           \n",
       "5                                                 No                                           \n",
       "6                                                 Sí                                           \n",
       "7                                                 Sí                                           \n",
       "8                                                 Sí                                           \n",
       "9                                                 Sí                                           \n",
       "\n",
       "  ¿Cuál era el sexo de la persona que te pidió este material?  \\\n",
       "0                                             Hombre            \n",
       "1                                                NaN            \n",
       "2                                             Hombre            \n",
       "3                                             Hombre            \n",
       "4                                             Hombre            \n",
       "5                                                NaN            \n",
       "6                                       Hombre;Mujer            \n",
       "7                                             Hombre            \n",
       "8                                             Hombre            \n",
       "9                                             Hombre            \n",
       "\n",
       "  ¿Crees que algo del contenido que ves por TikTok o Instagram se parece a la pornografía?  \\\n",
       "0                                                 Sí                                         \n",
       "1                     No tengo dichas redes sociales                                         \n",
       "2                                                 Sí                                         \n",
       "3                                                 Sí                                         \n",
       "4                     No tengo dichas redes sociales                                         \n",
       "5                                                 Sí                                         \n",
       "6                                                 Sí                                         \n",
       "7                                                 No                                         \n",
       "8                                                 Sí                                         \n",
       "9                                                 Sí                                         \n",
       "\n",
       "  ¿Crees que algunas mujeres intentan imitar lo que ven en la pornografía a la hora de subir fotos o vídeos a estas redes sociales?  \\\n",
       "0                                                 Sí                                                                                  \n",
       "1                                                NaN                                                                                  \n",
       "2                                                 Sí                                                                                  \n",
       "3                                                 Sí                                                                                  \n",
       "4                                                 Sí                                                                                  \n",
       "5                                                 Sí                                                                                  \n",
       "6                                                 Sí                                                                                  \n",
       "7                                                 Sí                                                                                  \n",
       "8                                                 Sí                                                                                  \n",
       "9                                                 Sí                                                                                  \n",
       "\n",
       "  ¿Crees que la pornografía influye en lo que se comparte en redes sociales?  \\\n",
       "0                                                 Sí                           \n",
       "1                                                NaN                           \n",
       "2                                                 Sí                           \n",
       "3                                                 Sí                           \n",
       "4                                                 Sí                           \n",
       "5                                                 Sí                           \n",
       "6                                                 Sí                           \n",
       "7                                                 Sí                           \n",
       "8                                                 Sí                           \n",
       "9                                                 Sí                           \n",
       "\n",
       "  ¿Crees que lo que se comparte en redes sociales distorsiona la realidad?  \\\n",
       "0                                                 Sí                         \n",
       "1                                                NaN                         \n",
       "2                                                 Sí                         \n",
       "3                                                 Sí                         \n",
       "4                                                 Sí                         \n",
       "5                                                 Sí                         \n",
       "6                                                 Sí                         \n",
       "7                                                 Sí                         \n",
       "8                                                 Sí                         \n",
       "9                                                 Sí                         \n",
       "\n",
       "  ¿Crees que lo que consumes en las redes sociales afecta tu autoestima?  \\\n",
       "0                                                 Sí                       \n",
       "1                                                NaN                       \n",
       "2                                                 Sí                       \n",
       "3                                                 Sí                       \n",
       "4                                                 Sí                       \n",
       "5                                                 Sí                       \n",
       "6                                                 Sí                       \n",
       "7                                                 Sí                       \n",
       "8                                                 Sí                       \n",
       "9                                                 Sí                       \n",
       "\n",
       "  Una vez realizada la investigación, si deseas recibir una copia de la presentación con las conclusiones, introduce tu mail aquí:   \n",
       "0                       apaniaguavilloria@gmail.com                                                                                  \n",
       "1                                                NaN                                                                                 \n",
       "2                                                NaN                                                                                 \n",
       "3                                                NaN                                                                                 \n",
       "4                                                NaN                                                                                 \n",
       "5                                                NaN                                                                                 \n",
       "6                                dolma.mlc@gmail.com                                                                                 \n",
       "7                              cloestein@outlook.com                                                                                 \n",
       "8                                                NaN                                                                                 \n",
       "9                                                NaN                                                                                 \n",
       "\n",
       "[10 rows x 103 columns]"
      ]
     },
     "execution_count": 7,
     "metadata": {},
     "output_type": "execute_result"
    }
   ],
   "source": [
    "test.head(10)"
   ]
  },
  {
   "cell_type": "code",
   "execution_count": 8,
   "id": "junior-population",
   "metadata": {},
   "outputs": [],
   "source": [
    "\n",
    "test= test.reset_index()\n",
    "test=test.rename(columns={'index': 'Id'})"
   ]
  },
  {
   "cell_type": "code",
   "execution_count": 9,
   "id": "pending-jacket",
   "metadata": {},
   "outputs": [
    {
     "data": {
      "text/html": [
       "<div>\n",
       "<style scoped>\n",
       "    .dataframe tbody tr th:only-of-type {\n",
       "        vertical-align: middle;\n",
       "    }\n",
       "\n",
       "    .dataframe tbody tr th {\n",
       "        vertical-align: top;\n",
       "    }\n",
       "\n",
       "    .dataframe thead th {\n",
       "        text-align: right;\n",
       "    }\n",
       "</style>\n",
       "<table border=\"1\" class=\"dataframe\">\n",
       "  <thead>\n",
       "    <tr style=\"text-align: right;\">\n",
       "      <th></th>\n",
       "      <th>Id</th>\n",
       "      <th>Marca temporal</th>\n",
       "      <th>¿Deseas participar?</th>\n",
       "      <th>¿Cuántos años tienes?</th>\n",
       "      <th>¿Cuál es tu país de nacimiento?</th>\n",
       "      <th>¿Cuál es tu país de residencia actual?</th>\n",
       "      <th>Considerando los últimos tres meses: ¿Qué tan de acuerdo estas con las siguientes afirmaciones? [Me siento una persona tan valiosa como las otras]</th>\n",
       "      <th>Considerando los últimos tres meses: ¿Qué tan de acuerdo estas con las siguientes afirmaciones? [Generalmente me inclino a pensar que soy un fracaso]</th>\n",
       "      <th>Considerando los últimos tres meses: ¿Qué tan de acuerdo estas con las siguientes afirmaciones? [Creo que tengo algunas cualidades buenas]</th>\n",
       "      <th>Considerando los últimos tres meses: ¿Qué tan de acuerdo estas con las siguientes afirmaciones? [Soy capaz de hacer las cosas tan bien como los demás]</th>\n",
       "      <th>...</th>\n",
       "      <th>¿Alguna vez te han mandado material pornográfico sin haberlo solicitado por una red social?</th>\n",
       "      <th>¿Cuál era el sexo de la/s persona/s que te enviaron este material?</th>\n",
       "      <th>¿Alguna vez te han pedido fotos pornográficas, de genitales o desnudos por una red social?</th>\n",
       "      <th>¿Cuál era el sexo de la persona que te pidió este material?</th>\n",
       "      <th>¿Crees que algo del contenido que ves por TikTok o Instagram se parece a la pornografía?</th>\n",
       "      <th>¿Crees que algunas mujeres intentan imitar lo que ven en la pornografía a la hora de subir fotos o vídeos a estas redes sociales?</th>\n",
       "      <th>¿Crees que la pornografía influye en lo que se comparte en redes sociales?</th>\n",
       "      <th>¿Crees que lo que se comparte en redes sociales distorsiona la realidad?</th>\n",
       "      <th>¿Crees que lo que consumes en las redes sociales afecta tu autoestima?</th>\n",
       "      <th>Una vez realizada la investigación, si deseas recibir una copia de la presentación con las conclusiones, introduce tu mail aquí:</th>\n",
       "    </tr>\n",
       "  </thead>\n",
       "  <tbody>\n",
       "    <tr>\n",
       "      <th>0</th>\n",
       "      <td>0</td>\n",
       "      <td>2021/03/25 7:25:11 p. m. EET</td>\n",
       "      <td>Aceptar</td>\n",
       "      <td>30</td>\n",
       "      <td>España</td>\n",
       "      <td>España</td>\n",
       "      <td>De acuerdo</td>\n",
       "      <td>En desacuerdo</td>\n",
       "      <td>Muy de acuerdo</td>\n",
       "      <td>Muy de acuerdo</td>\n",
       "      <td>...</td>\n",
       "      <td>Sí</td>\n",
       "      <td>Hombre</td>\n",
       "      <td>Sí</td>\n",
       "      <td>Hombre</td>\n",
       "      <td>Sí</td>\n",
       "      <td>Sí</td>\n",
       "      <td>Sí</td>\n",
       "      <td>Sí</td>\n",
       "      <td>Sí</td>\n",
       "      <td>apaniaguavilloria@gmail.com</td>\n",
       "    </tr>\n",
       "    <tr>\n",
       "      <th>1</th>\n",
       "      <td>1</td>\n",
       "      <td>2021/03/25 11:18:02 p. m. EET</td>\n",
       "      <td>Aceptar</td>\n",
       "      <td>cxz</td>\n",
       "      <td>sdc</td>\n",
       "      <td>dcs</td>\n",
       "      <td>Muy en desacuerdo</td>\n",
       "      <td>Muy en desacuerdo</td>\n",
       "      <td>Muy en desacuerdo</td>\n",
       "      <td>Muy en desacuerdo</td>\n",
       "      <td>...</td>\n",
       "      <td>No</td>\n",
       "      <td>Hombre</td>\n",
       "      <td>NaN</td>\n",
       "      <td>NaN</td>\n",
       "      <td>No tengo dichas redes sociales</td>\n",
       "      <td>NaN</td>\n",
       "      <td>NaN</td>\n",
       "      <td>NaN</td>\n",
       "      <td>NaN</td>\n",
       "      <td>NaN</td>\n",
       "    </tr>\n",
       "    <tr>\n",
       "      <th>2</th>\n",
       "      <td>2</td>\n",
       "      <td>2021/03/26 12:02:08 a. m. EET</td>\n",
       "      <td>Aceptar</td>\n",
       "      <td>25</td>\n",
       "      <td>España</td>\n",
       "      <td>España</td>\n",
       "      <td>De acuerdo</td>\n",
       "      <td>En desacuerdo</td>\n",
       "      <td>Muy de acuerdo</td>\n",
       "      <td>Muy de acuerdo</td>\n",
       "      <td>...</td>\n",
       "      <td>Sí</td>\n",
       "      <td>Hombre</td>\n",
       "      <td>Sí</td>\n",
       "      <td>Hombre</td>\n",
       "      <td>Sí</td>\n",
       "      <td>Sí</td>\n",
       "      <td>Sí</td>\n",
       "      <td>Sí</td>\n",
       "      <td>Sí</td>\n",
       "      <td>NaN</td>\n",
       "    </tr>\n",
       "    <tr>\n",
       "      <th>3</th>\n",
       "      <td>3</td>\n",
       "      <td>2021/03/26 12:11:49 a. m. EET</td>\n",
       "      <td>Aceptar</td>\n",
       "      <td>30</td>\n",
       "      <td>España</td>\n",
       "      <td>España</td>\n",
       "      <td>Muy en desacuerdo</td>\n",
       "      <td>Muy de acuerdo</td>\n",
       "      <td>De acuerdo</td>\n",
       "      <td>En desacuerdo</td>\n",
       "      <td>...</td>\n",
       "      <td>Sí</td>\n",
       "      <td>Hombre</td>\n",
       "      <td>Sí</td>\n",
       "      <td>Hombre</td>\n",
       "      <td>Sí</td>\n",
       "      <td>Sí</td>\n",
       "      <td>Sí</td>\n",
       "      <td>Sí</td>\n",
       "      <td>Sí</td>\n",
       "      <td>NaN</td>\n",
       "    </tr>\n",
       "    <tr>\n",
       "      <th>4</th>\n",
       "      <td>4</td>\n",
       "      <td>2021/03/26 12:15:23 a. m. EET</td>\n",
       "      <td>Aceptar</td>\n",
       "      <td>29</td>\n",
       "      <td>España</td>\n",
       "      <td>España</td>\n",
       "      <td>En desacuerdo</td>\n",
       "      <td>En desacuerdo</td>\n",
       "      <td>Muy en desacuerdo</td>\n",
       "      <td>Muy en desacuerdo</td>\n",
       "      <td>...</td>\n",
       "      <td>Sí</td>\n",
       "      <td>Hombre</td>\n",
       "      <td>Sí</td>\n",
       "      <td>Hombre</td>\n",
       "      <td>No tengo dichas redes sociales</td>\n",
       "      <td>Sí</td>\n",
       "      <td>Sí</td>\n",
       "      <td>Sí</td>\n",
       "      <td>Sí</td>\n",
       "      <td>NaN</td>\n",
       "    </tr>\n",
       "  </tbody>\n",
       "</table>\n",
       "<p>5 rows × 104 columns</p>\n",
       "</div>"
      ],
      "text/plain": [
       "   Id                 Marca temporal ¿Deseas participar?  \\\n",
       "0   0   2021/03/25 7:25:11 p. m. EET             Aceptar   \n",
       "1   1  2021/03/25 11:18:02 p. m. EET             Aceptar   \n",
       "2   2  2021/03/26 12:02:08 a. m. EET             Aceptar   \n",
       "3   3  2021/03/26 12:11:49 a. m. EET             Aceptar   \n",
       "4   4  2021/03/26 12:15:23 a. m. EET             Aceptar   \n",
       "\n",
       "  ¿Cuántos años tienes? ¿Cuál es tu país de nacimiento?  \\\n",
       "0                    30                          España   \n",
       "1                   cxz                             sdc   \n",
       "2                    25                          España   \n",
       "3                    30                          España   \n",
       "4                    29                          España   \n",
       "\n",
       "  ¿Cuál es tu país de residencia actual?   \\\n",
       "0                                  España   \n",
       "1                                     dcs   \n",
       "2                                  España   \n",
       "3                                  España   \n",
       "4                                  España   \n",
       "\n",
       "  Considerando los últimos tres meses: ¿Qué tan de acuerdo estas con las siguientes afirmaciones? [Me siento una persona tan valiosa como las otras]  \\\n",
       "0                                         De acuerdo                                                                                                   \n",
       "1                                  Muy en desacuerdo                                                                                                   \n",
       "2                                         De acuerdo                                                                                                   \n",
       "3                                  Muy en desacuerdo                                                                                                   \n",
       "4                                      En desacuerdo                                                                                                   \n",
       "\n",
       "  Considerando los últimos tres meses: ¿Qué tan de acuerdo estas con las siguientes afirmaciones? [Generalmente me inclino a pensar que soy un fracaso]  \\\n",
       "0                                      En desacuerdo                                                                                                      \n",
       "1                                  Muy en desacuerdo                                                                                                      \n",
       "2                                      En desacuerdo                                                                                                      \n",
       "3                                     Muy de acuerdo                                                                                                      \n",
       "4                                      En desacuerdo                                                                                                      \n",
       "\n",
       "  Considerando los últimos tres meses: ¿Qué tan de acuerdo estas con las siguientes afirmaciones? [Creo que tengo algunas cualidades buenas]  \\\n",
       "0                                     Muy de acuerdo                                                                                           \n",
       "1                                  Muy en desacuerdo                                                                                           \n",
       "2                                     Muy de acuerdo                                                                                           \n",
       "3                                         De acuerdo                                                                                           \n",
       "4                                  Muy en desacuerdo                                                                                           \n",
       "\n",
       "  Considerando los últimos tres meses: ¿Qué tan de acuerdo estas con las siguientes afirmaciones? [Soy capaz de hacer las cosas tan bien como los demás]  \\\n",
       "0                                     Muy de acuerdo                                                                                                       \n",
       "1                                  Muy en desacuerdo                                                                                                       \n",
       "2                                     Muy de acuerdo                                                                                                       \n",
       "3                                      En desacuerdo                                                                                                       \n",
       "4                                  Muy en desacuerdo                                                                                                       \n",
       "\n",
       "   ...  \\\n",
       "0  ...   \n",
       "1  ...   \n",
       "2  ...   \n",
       "3  ...   \n",
       "4  ...   \n",
       "\n",
       "  ¿Alguna vez te han mandado material pornográfico sin haberlo solicitado por una red social?  \\\n",
       "0                                                 Sí                                            \n",
       "1                                                 No                                            \n",
       "2                                                 Sí                                            \n",
       "3                                                 Sí                                            \n",
       "4                                                 Sí                                            \n",
       "\n",
       "  ¿Cuál era el sexo de la/s persona/s que te enviaron este material?  \\\n",
       "0                                             Hombre                   \n",
       "1                                             Hombre                   \n",
       "2                                             Hombre                   \n",
       "3                                             Hombre                   \n",
       "4                                             Hombre                   \n",
       "\n",
       "  ¿Alguna vez te han pedido fotos pornográficas, de genitales o desnudos por una red social?  \\\n",
       "0                                                 Sí                                           \n",
       "1                                                NaN                                           \n",
       "2                                                 Sí                                           \n",
       "3                                                 Sí                                           \n",
       "4                                                 Sí                                           \n",
       "\n",
       "  ¿Cuál era el sexo de la persona que te pidió este material?  \\\n",
       "0                                             Hombre            \n",
       "1                                                NaN            \n",
       "2                                             Hombre            \n",
       "3                                             Hombre            \n",
       "4                                             Hombre            \n",
       "\n",
       "  ¿Crees que algo del contenido que ves por TikTok o Instagram se parece a la pornografía?  \\\n",
       "0                                                 Sí                                         \n",
       "1                     No tengo dichas redes sociales                                         \n",
       "2                                                 Sí                                         \n",
       "3                                                 Sí                                         \n",
       "4                     No tengo dichas redes sociales                                         \n",
       "\n",
       "  ¿Crees que algunas mujeres intentan imitar lo que ven en la pornografía a la hora de subir fotos o vídeos a estas redes sociales?  \\\n",
       "0                                                 Sí                                                                                  \n",
       "1                                                NaN                                                                                  \n",
       "2                                                 Sí                                                                                  \n",
       "3                                                 Sí                                                                                  \n",
       "4                                                 Sí                                                                                  \n",
       "\n",
       "  ¿Crees que la pornografía influye en lo que se comparte en redes sociales?  \\\n",
       "0                                                 Sí                           \n",
       "1                                                NaN                           \n",
       "2                                                 Sí                           \n",
       "3                                                 Sí                           \n",
       "4                                                 Sí                           \n",
       "\n",
       "  ¿Crees que lo que se comparte en redes sociales distorsiona la realidad?  \\\n",
       "0                                                 Sí                         \n",
       "1                                                NaN                         \n",
       "2                                                 Sí                         \n",
       "3                                                 Sí                         \n",
       "4                                                 Sí                         \n",
       "\n",
       "  ¿Crees que lo que consumes en las redes sociales afecta tu autoestima?  \\\n",
       "0                                                 Sí                       \n",
       "1                                                NaN                       \n",
       "2                                                 Sí                       \n",
       "3                                                 Sí                       \n",
       "4                                                 Sí                       \n",
       "\n",
       "  Una vez realizada la investigación, si deseas recibir una copia de la presentación con las conclusiones, introduce tu mail aquí:   \n",
       "0                       apaniaguavilloria@gmail.com                                                                                  \n",
       "1                                                NaN                                                                                 \n",
       "2                                                NaN                                                                                 \n",
       "3                                                NaN                                                                                 \n",
       "4                                                NaN                                                                                 \n",
       "\n",
       "[5 rows x 104 columns]"
      ]
     },
     "execution_count": 9,
     "metadata": {},
     "output_type": "execute_result"
    }
   ],
   "source": [
    "test.head()"
   ]
  },
  {
   "cell_type": "markdown",
   "id": "administrative-american",
   "metadata": {},
   "source": [
    "# Meet the data - keys information"
   ]
  },
  {
   "cell_type": "markdown",
   "id": "finished-graduate",
   "metadata": {},
   "source": [
    "    \n",
    "- ` *** content`: Dataset who contains the temporal mark and information regadring the content that the volunteers consume and publish in both social networks \n",
    "    \n",
    "- `*** lot_likes`: Dataset who contains the temporal mark, and the feelings/emotions that the volunteers say if they recieve a lot of likes\n",
    "    \n",
    "- `*** many_likes`: Dataset who contains the temporal mark, and the feelings/emotions that the volunteers say if they recieve a lot of likes\n",
    "    \n",
    "- `*** porno`: Dataset who contains the temporal mark, and the information about how the volunteers are exposed to pornography\n",
    "    \n",
    "- `*** opinion`: Dataset who contains the temporal mark, and some closed final questions to see what the volunteers think about the studied variables\n",
    "    "
   ]
  },
  {
   "cell_type": "markdown",
   "id": "useful-aerospace",
   "metadata": {},
   "source": [
    "- BODY MODIF"
   ]
  },
  {
   "cell_type": "code",
   "execution_count": null,
   "id": "executed-berry",
   "metadata": {},
   "outputs": [],
   "source": [
    "# is not included on key info because I finally decide don't use it."
   ]
  },
  {
   "cell_type": "code",
   "execution_count": 10,
   "id": "other-meter",
   "metadata": {},
   "outputs": [],
   "source": [
    "body_modif = test.iloc[:,43:51]"
   ]
  },
  {
   "cell_type": "code",
   "execution_count": 11,
   "id": "recorded-arkansas",
   "metadata": {},
   "outputs": [],
   "source": [
    "body_modif = body_modif.reset_index()\n",
    "body_modif = body_modif.rename(columns={'index': 'Id'})"
   ]
  },
  {
   "cell_type": "code",
   "execution_count": 12,
   "id": "elder-anger",
   "metadata": {},
   "outputs": [
    {
     "name": "stdout",
     "output_type": "stream",
     "text": [
      "<class 'pandas.core.frame.DataFrame'>\n",
      "RangeIndex: 434 entries, 0 to 433\n",
      "Data columns (total 9 columns):\n",
      " #   Column                                                                                                                           Non-Null Count  Dtype \n",
      "---  ------                                                                                                                           --------------  ----- \n",
      " 0   Id                                                                                                                               434 non-null    int64 \n",
      " 1   ¿Has utilizado alguno de los siguientes métodos controlar o modificar tu apariencia física? [Ejercicio]                          433 non-null    object\n",
      " 2   ¿Has utilizado alguno de los siguientes métodos controlar o modificar tu apariencia física? [Ayuno intermitente]                 429 non-null    object\n",
      " 3   ¿Has utilizado alguno de los siguientes métodos controlar o modificar tu apariencia física? [Dieta]                              428 non-null    object\n",
      " 4   ¿Has utilizado alguno de los siguientes métodos controlar o modificar tu apariencia física? [Laxantes y/o Diureticos]            426 non-null    object\n",
      " 5   ¿Has utilizado alguno de los siguientes métodos controlar o modificar tu apariencia física? [Restricción de ingesta calorica]    431 non-null    object\n",
      " 6   ¿Has utilizado alguno de los siguientes métodos controlar o modificar tu apariencia física? [Vómito auto-inducido]               426 non-null    object\n",
      " 7   ¿Has utilizado alguno de los siguientes métodos controlar o modificar tu apariencia física? [Tratamientos estéticos reductores]  428 non-null    object\n",
      " 8   ¿Has utilizado alguno de los siguientes métodos controlar o modificar tu apariencia física? [Cirugía estética]                   427 non-null    object\n",
      "dtypes: int64(1), object(8)\n",
      "memory usage: 30.6+ KB\n"
     ]
    }
   ],
   "source": [
    "body_modif.info()"
   ]
  },
  {
   "cell_type": "markdown",
   "id": "junior-accountability",
   "metadata": {},
   "source": [
    "- CONTENT"
   ]
  },
  {
   "cell_type": "code",
   "execution_count": 57,
   "id": "detected-delight",
   "metadata": {},
   "outputs": [],
   "source": [
    "content = test.iloc[:,76:83]"
   ]
  },
  {
   "cell_type": "code",
   "execution_count": 58,
   "id": "corrected-newspaper",
   "metadata": {},
   "outputs": [],
   "source": [
    "content = content.reset_index()\n",
    "content = content.rename(columns={'index': 'Id'})"
   ]
  },
  {
   "cell_type": "code",
   "execution_count": 59,
   "id": "recorded-kansas",
   "metadata": {},
   "outputs": [
    {
     "name": "stdout",
     "output_type": "stream",
     "text": [
      "<class 'pandas.core.frame.DataFrame'>\n",
      "RangeIndex: 434 entries, 0 to 433\n",
      "Data columns (total 8 columns):\n",
      " #   Column                                                                                                                                       Non-Null Count  Dtype \n",
      "---  ------                                                                                                                                       --------------  ----- \n",
      " 0   Id                                                                                                                                           434 non-null    int64 \n",
      " 1   ¿Que clase de cuentas sigues en Instagram?                                                                                                   291 non-null    object\n",
      " 2   ¿Dirías que sigues mas cuentas de hombres o de mujeres?                                                                                      288 non-null    object\n",
      " 3   Considerando el contenido que publicas: [¿Con qué frecuencia dirías que utilizas filtros?]                                                   288 non-null    object\n",
      " 4   Considerando el contenido que publicas: [¿Con qué frecuencia dirías que editas dicho contenido antes de subirlo?]                            287 non-null    object\n",
      " 5   Considerando el contenido que publicas: [¿Contemplas los “me gusta” que recibes en lo que subes como referencia para adaptar tu contenido?]  286 non-null    object\n",
      " 6   Considerando el contenido que publicas: [Antes de hacer la foto/video ¿Tienes en mente cómo crees que debes salir?]                          290 non-null    object\n",
      " 7   Considerando el contenido que publicas: [¿Adoptas determinadas posturas antes de hacerte una foto/vídeo?]                                    289 non-null    object\n",
      "dtypes: int64(1), object(7)\n",
      "memory usage: 27.2+ KB\n"
     ]
    }
   ],
   "source": [
    "content.info()"
   ]
  },
  {
   "cell_type": "code",
   "execution_count": 55,
   "id": "respiratory-laugh",
   "metadata": {},
   "outputs": [],
   "source": [
    "#content = content.append(test.iloc[:,85:89])"
   ]
  },
  {
   "cell_type": "code",
   "execution_count": 60,
   "id": "golden-christian",
   "metadata": {},
   "outputs": [],
   "source": [
    "content_all = pd.concat([content, test.iloc[:,85:89]], axis=1)"
   ]
  },
  {
   "cell_type": "code",
   "execution_count": 61,
   "id": "compatible-boards",
   "metadata": {},
   "outputs": [
    {
     "name": "stdout",
     "output_type": "stream",
     "text": [
      "<class 'pandas.core.frame.DataFrame'>\n",
      "RangeIndex: 434 entries, 0 to 433\n",
      "Data columns (total 12 columns):\n",
      " #   Column                                                                                                                                                                     Non-Null Count  Dtype \n",
      "---  ------                                                                                                                                                                     --------------  ----- \n",
      " 0   Id                                                                                                                                                                         434 non-null    int64 \n",
      " 1   ¿Que clase de cuentas sigues en Instagram?                                                                                                                                 291 non-null    object\n",
      " 2   ¿Dirías que sigues mas cuentas de hombres o de mujeres?                                                                                                                    288 non-null    object\n",
      " 3   Considerando el contenido que publicas: [¿Con qué frecuencia dirías que utilizas filtros?]                                                                                 288 non-null    object\n",
      " 4   Considerando el contenido que publicas: [¿Con qué frecuencia dirías que editas dicho contenido antes de subirlo?]                                                          287 non-null    object\n",
      " 5   Considerando el contenido que publicas: [¿Contemplas los “me gusta” que recibes en lo que subes como referencia para adaptar tu contenido?]                                286 non-null    object\n",
      " 6   Considerando el contenido que publicas: [Antes de hacer la foto/video ¿Tienes en mente cómo crees que debes salir?]                                                        290 non-null    object\n",
      " 7   Considerando el contenido que publicas: [¿Adoptas determinadas posturas antes de hacerte una foto/vídeo?]                                                                  289 non-null    object\n",
      " 8   ¿Crees que compartes contenido diferente en función de si el público que va a verlo es masculino o femenino?                                                               281 non-null    object\n",
      " 9   En función de los likes que recibes ¿Crees que tu contenido es mas consumido por hombres o por mujeres?                                                                    259 non-null    object\n",
      " 10  Considerando el contenido que compartes:  [¿Hay alguna parte de tu cuerpo que intentas evitar o esconder mediante posturas, filtros o ángulos de la foto/video? ¿Cuáles?]  274 non-null    object\n",
      " 11  Considerando el contenido que compartes:  [¿Hay alguna parte de tu cuerpo en la que enfatices mediante posturas, filtros o ángulos de la foto/video? ¿Cuáles]              270 non-null    object\n",
      "dtypes: int64(1), object(11)\n",
      "memory usage: 40.8+ KB\n"
     ]
    }
   ],
   "source": [
    "content_all.info()"
   ]
  },
  {
   "cell_type": "markdown",
   "id": "least-marking",
   "metadata": {},
   "source": [
    "- LOT LIKES"
   ]
  },
  {
   "cell_type": "code",
   "execution_count": 18,
   "id": "encouraging-window",
   "metadata": {},
   "outputs": [],
   "source": [
    "lot_likes = test.iloc[:,83:84]"
   ]
  },
  {
   "cell_type": "code",
   "execution_count": 19,
   "id": "recorded-siemens",
   "metadata": {},
   "outputs": [],
   "source": [
    "lot_likes = lot_likes.reset_index()\n",
    "lot_likes = lot_likes.rename(columns={'index': 'Id'})"
   ]
  },
  {
   "cell_type": "code",
   "execution_count": 20,
   "id": "accredited-marine",
   "metadata": {},
   "outputs": [
    {
     "name": "stdout",
     "output_type": "stream",
     "text": [
      "<class 'pandas.core.frame.DataFrame'>\n",
      "RangeIndex: 434 entries, 0 to 433\n",
      "Data columns (total 2 columns):\n",
      " #   Column                                                         Non-Null Count  Dtype \n",
      "---  ------                                                         --------------  ----- \n",
      " 0   Id                                                             434 non-null    int64 \n",
      " 1   ¿Qué emociones te genera recibir muchos me gusta/comentarios?  250 non-null    object\n",
      "dtypes: int64(1), object(1)\n",
      "memory usage: 6.9+ KB\n"
     ]
    }
   ],
   "source": [
    "lot_likes.info()"
   ]
  },
  {
   "cell_type": "markdown",
   "id": "outdoor-airfare",
   "metadata": {},
   "source": [
    "- MANY LIKES"
   ]
  },
  {
   "cell_type": "code",
   "execution_count": 21,
   "id": "purple-detector",
   "metadata": {},
   "outputs": [],
   "source": [
    "many_likes = test.iloc[:,84:85]"
   ]
  },
  {
   "cell_type": "code",
   "execution_count": 22,
   "id": "progressive-classic",
   "metadata": {},
   "outputs": [],
   "source": [
    "many_likes = many_likes.reset_index()\n",
    "many_likes = many_likes.rename(columns={'index': 'Id'})"
   ]
  },
  {
   "cell_type": "code",
   "execution_count": 23,
   "id": "boring-percentage",
   "metadata": {},
   "outputs": [
    {
     "name": "stdout",
     "output_type": "stream",
     "text": [
      "<class 'pandas.core.frame.DataFrame'>\n",
      "RangeIndex: 434 entries, 0 to 433\n",
      "Data columns (total 2 columns):\n",
      " #   Column                                                        Non-Null Count  Dtype \n",
      "---  ------                                                        --------------  ----- \n",
      " 0   Id                                                            434 non-null    int64 \n",
      " 1   ¿Qué emociones te genera recibir pocos me gusta/comentarios?  248 non-null    object\n",
      "dtypes: int64(1), object(1)\n",
      "memory usage: 6.9+ KB\n"
     ]
    }
   ],
   "source": [
    "many_likes.info()"
   ]
  },
  {
   "cell_type": "markdown",
   "id": "excessive-abraham",
   "metadata": {},
   "source": [
    "- PORNO"
   ]
  },
  {
   "cell_type": "code",
   "execution_count": 22,
   "id": "least-secondary",
   "metadata": {},
   "outputs": [],
   "source": [
    "porno = test.iloc[:,88:97]"
   ]
  },
  {
   "cell_type": "code",
   "execution_count": 23,
   "id": "focal-paraguay",
   "metadata": {},
   "outputs": [],
   "source": [
    "porno = porno.reset_index()\n",
    "porno = porno.rename(columns={'index': 'Id'})"
   ]
  },
  {
   "cell_type": "code",
   "execution_count": 24,
   "id": "useful-ending",
   "metadata": {},
   "outputs": [
    {
     "name": "stdout",
     "output_type": "stream",
     "text": [
      "<class 'pandas.core.frame.DataFrame'>\n",
      "RangeIndex: 434 entries, 0 to 433\n",
      "Data columns (total 10 columns):\n",
      " #   Column                                                                                       Non-Null Count  Dtype \n",
      "---  ------                                                                                       --------------  ----- \n",
      " 0   Id                                                                                           434 non-null    int64 \n",
      " 1   ¿A qué edad viste pornografía por primera vez?                                               417 non-null    object\n",
      " 2   ¿Fue de manera intencionada o no intencionada?                                               412 non-null    object\n",
      " 3   Actualmente, ¿Consumes pornografía?                                                          428 non-null    object\n",
      " 4   ¿Con qué frecuencia?                                                                         79 non-null     object\n",
      " 5   ¿Qué tipo/categoría de pornografía consumes?                                                 58 non-null     object\n",
      " 6   ¿Alguna vez te han mandado material pornográfico sin haberlo solicitado por una red social?  431 non-null    object\n",
      " 7   ¿Cuál era el sexo de la/s persona/s que te enviaron este material?                           290 non-null    object\n",
      " 8   ¿Alguna vez te han pedido fotos pornográficas, de genitales o desnudos por una red social?   427 non-null    object\n",
      " 9   ¿Cuál era el sexo de la persona que te pidió este material?                                  279 non-null    object\n",
      "dtypes: int64(1), object(9)\n",
      "memory usage: 34.0+ KB\n"
     ]
    }
   ],
   "source": [
    "porno.info()"
   ]
  },
  {
   "cell_type": "markdown",
   "id": "offensive-needle",
   "metadata": {},
   "source": [
    "- OPINION"
   ]
  },
  {
   "cell_type": "code",
   "execution_count": 27,
   "id": "asian-grade",
   "metadata": {},
   "outputs": [],
   "source": [
    "opinion = test.iloc[:,98:103]"
   ]
  },
  {
   "cell_type": "code",
   "execution_count": 28,
   "id": "focused-input",
   "metadata": {},
   "outputs": [],
   "source": [
    "opinion = opinion.reset_index()\n",
    "opinion = opinion.rename(columns={'index': 'Id'})"
   ]
  },
  {
   "cell_type": "code",
   "execution_count": 29,
   "id": "abstract-method",
   "metadata": {},
   "outputs": [
    {
     "name": "stdout",
     "output_type": "stream",
     "text": [
      "<class 'pandas.core.frame.DataFrame'>\n",
      "RangeIndex: 434 entries, 0 to 433\n",
      "Data columns (total 6 columns):\n",
      " #   Column                                                                                                                             Non-Null Count  Dtype \n",
      "---  ------                                                                                                                             --------------  ----- \n",
      " 0   Id                                                                                                                                 434 non-null    int64 \n",
      " 1   ¿Crees que algo del contenido que ves por TikTok o Instagram se parece a la pornografía?                                           425 non-null    object\n",
      " 2   ¿Crees que algunas mujeres intentan imitar lo que ven en la pornografía a la hora de subir fotos o vídeos a estas redes sociales?  428 non-null    object\n",
      " 3   ¿Crees que la pornografía influye en lo que se comparte en redes sociales?                                                         427 non-null    object\n",
      " 4   ¿Crees que lo que se comparte en redes sociales distorsiona la realidad?                                                           428 non-null    object\n",
      " 5   ¿Crees que lo que consumes en las redes sociales afecta tu autoestima?                                                             427 non-null    object\n",
      "dtypes: int64(1), object(5)\n",
      "memory usage: 20.5+ KB\n"
     ]
    }
   ],
   "source": [
    "opinion.info()"
   ]
  },
  {
   "cell_type": "markdown",
   "id": "cleared-leadership",
   "metadata": {},
   "source": [
    "## body_modif"
   ]
  },
  {
   "cell_type": "code",
   "execution_count": null,
   "id": "dressed-recruitment",
   "metadata": {},
   "outputs": [],
   "source": []
  },
  {
   "cell_type": "markdown",
   "id": "official-middle",
   "metadata": {},
   "source": [
    "## content"
   ]
  },
  {
   "cell_type": "code",
   "execution_count": 62,
   "id": "steady-soldier",
   "metadata": {},
   "outputs": [
    {
     "data": {
      "text/plain": [
       "Index(['Id', '¿Que clase de cuentas sigues en Instagram?',\n",
       "       '¿Dirías que sigues mas cuentas de hombres o de mujeres?',\n",
       "       'Considerando el contenido que publicas: [¿Con qué frecuencia dirías que utilizas filtros?]',\n",
       "       'Considerando el contenido que publicas: [¿Con qué frecuencia dirías que editas dicho contenido antes de subirlo?]',\n",
       "       'Considerando el contenido que publicas: [¿Contemplas los “me gusta” que recibes en lo que subes como referencia para adaptar tu contenido?]',\n",
       "       'Considerando el contenido que publicas: [Antes de hacer la foto/video ¿Tienes en mente cómo crees que debes salir?]',\n",
       "       'Considerando el contenido que publicas: [¿Adoptas determinadas posturas antes de hacerte una foto/vídeo?]',\n",
       "       '¿Crees que compartes contenido diferente en función de si el público que va a verlo es masculino o femenino?',\n",
       "       'En función de los likes que recibes ¿Crees que tu contenido es mas consumido por hombres o por mujeres?',\n",
       "       'Considerando el contenido que compartes:  [¿Hay alguna parte de tu cuerpo que intentas evitar o esconder mediante posturas, filtros o ángulos de la foto/video? ¿Cuáles?]',\n",
       "       'Considerando el contenido que compartes:  [¿Hay alguna parte de tu cuerpo en la que enfatices mediante posturas, filtros o ángulos de la foto/video? ¿Cuáles]'],\n",
       "      dtype='object')"
      ]
     },
     "execution_count": 62,
     "metadata": {},
     "output_type": "execute_result"
    }
   ],
   "source": [
    "content_all.columns"
   ]
  },
  {
   "cell_type": "code",
   "execution_count": 63,
   "id": "harmful-hollywood",
   "metadata": {},
   "outputs": [],
   "source": [
    "#change the name of the variables"
   ]
  },
  {
   "cell_type": "code",
   "execution_count": 64,
   "id": "recognized-spelling",
   "metadata": {},
   "outputs": [],
   "source": [
    "content_all.rename(columns={'Id': 'Id', \n",
    "                           '¿Que clase de cuentas sigues en Instagram?': 'cont_seguido_tipo',\n",
    "                            '¿Dirías que sigues mas cuentas de hombres o de mujeres?':'cont_cuentas_seguidas',\n",
    "                            'Considerando el contenido que publicas: [¿Con qué frecuencia dirías que utilizas filtros?]':'cont_publi_filtro',\n",
    "                            'Considerando el contenido que publicas: [¿Con qué frecuencia dirías que editas dicho contenido antes de subirlo?]':'cont_publi_editado',\n",
    "                            'Considerando el contenido que publicas: [¿Contemplas los “me gusta” que recibes en lo que subes como referencia para adaptar tu contenido?]':'cont_publi_likes_ref',\n",
    "                            'Considerando el contenido que publicas: [Antes de hacer la foto/video ¿Tienes en mente cómo crees que debes salir?]':'cont_publi_expectativas',\n",
    "                            'Considerando el contenido que publicas: [¿Adoptas determinadas posturas antes de hacerte una foto/vídeo?]':'cont_publi_poses',\n",
    "                            '¿Crees que compartes contenido diferente en función de si el público que va a verlo es masculino o femenino?':'cont_publi_genero',\n",
    "                            'En función de los likes que recibes ¿Crees que tu contenido es mas consumido por hombres o por mujeres?':'cont_likes_genero',\n",
    "                            'Considerando el contenido que compartes:  [¿Hay alguna parte de tu cuerpo que intentas evitar o esconder mediante posturas, filtros o ángulos de la foto/video? ¿Cuáles?]':'cont_publi_poses_evitar',\n",
    "                            'Considerando el contenido que compartes:  [¿Hay alguna parte de tu cuerpo en la que enfatices mediante posturas, filtros o ángulos de la foto/video? ¿Cuáles]':'cont_publi_poses_resaltar'\n",
    "                           }, inplace=True)"
   ]
  },
  {
   "cell_type": "code",
   "execution_count": 65,
   "id": "alive-skirt",
   "metadata": {},
   "outputs": [
    {
     "name": "stdout",
     "output_type": "stream",
     "text": [
      "<class 'pandas.core.frame.DataFrame'>\n",
      "RangeIndex: 434 entries, 0 to 433\n",
      "Data columns (total 12 columns):\n",
      " #   Column                     Non-Null Count  Dtype \n",
      "---  ------                     --------------  ----- \n",
      " 0   Id                         434 non-null    int64 \n",
      " 1   cont_seguido_tipo          291 non-null    object\n",
      " 2   cont_cuentas_seguidas      288 non-null    object\n",
      " 3   cont_publi_filtro          288 non-null    object\n",
      " 4   cont_publi_editado         287 non-null    object\n",
      " 5   cont_publi_likes_ref       286 non-null    object\n",
      " 6   cont_publi_expectativas    290 non-null    object\n",
      " 7   cont_publi_poses           289 non-null    object\n",
      " 8   cont_publi_genero          281 non-null    object\n",
      " 9   cont_likes_genero          259 non-null    object\n",
      " 10  cont_publi_poses_evitar    274 non-null    object\n",
      " 11  cont_publi_poses_resaltar  270 non-null    object\n",
      "dtypes: int64(1), object(11)\n",
      "memory usage: 40.8+ KB\n"
     ]
    }
   ],
   "source": [
    "content_all.info()"
   ]
  },
  {
   "cell_type": "code",
   "execution_count": 66,
   "id": "brown-conservative",
   "metadata": {},
   "outputs": [],
   "source": [
    "# check duplicates and null values"
   ]
  },
  {
   "cell_type": "code",
   "execution_count": 67,
   "id": "aging-scroll",
   "metadata": {},
   "outputs": [
    {
     "data": {
      "text/plain": [
       "0"
      ]
     },
     "execution_count": 67,
     "metadata": {},
     "output_type": "execute_result"
    }
   ],
   "source": [
    "content_all.duplicated().sum()"
   ]
  },
  {
   "cell_type": "code",
   "execution_count": 68,
   "id": "posted-surprise",
   "metadata": {},
   "outputs": [],
   "source": [
    "content_all = content_all.dropna()"
   ]
  },
  {
   "cell_type": "code",
   "execution_count": 69,
   "id": "studied-nevada",
   "metadata": {},
   "outputs": [
    {
     "name": "stdout",
     "output_type": "stream",
     "text": [
      "<class 'pandas.core.frame.DataFrame'>\n",
      "Int64Index: 246 entries, 3 to 430\n",
      "Data columns (total 12 columns):\n",
      " #   Column                     Non-Null Count  Dtype \n",
      "---  ------                     --------------  ----- \n",
      " 0   Id                         246 non-null    int64 \n",
      " 1   cont_seguido_tipo          246 non-null    object\n",
      " 2   cont_cuentas_seguidas      246 non-null    object\n",
      " 3   cont_publi_filtro          246 non-null    object\n",
      " 4   cont_publi_editado         246 non-null    object\n",
      " 5   cont_publi_likes_ref       246 non-null    object\n",
      " 6   cont_publi_expectativas    246 non-null    object\n",
      " 7   cont_publi_poses           246 non-null    object\n",
      " 8   cont_publi_genero          246 non-null    object\n",
      " 9   cont_likes_genero          246 non-null    object\n",
      " 10  cont_publi_poses_evitar    246 non-null    object\n",
      " 11  cont_publi_poses_resaltar  246 non-null    object\n",
      "dtypes: int64(1), object(11)\n",
      "memory usage: 25.0+ KB\n"
     ]
    }
   ],
   "source": [
    "content_all.info()"
   ]
  },
  {
   "cell_type": "code",
   "execution_count": 70,
   "id": "bacterial-lodge",
   "metadata": {},
   "outputs": [],
   "source": [
    "#save in new df the types of content follow by the volunteers"
   ]
  },
  {
   "cell_type": "code",
   "execution_count": 71,
   "id": "analyzed-jumping",
   "metadata": {},
   "outputs": [],
   "source": [
    "contenido_seguido = content_all[['Id','cont_seguido_tipo']]"
   ]
  },
  {
   "cell_type": "code",
   "execution_count": 72,
   "id": "amateur-twins",
   "metadata": {},
   "outputs": [
    {
     "data": {
      "text/html": [
       "<div>\n",
       "<style scoped>\n",
       "    .dataframe tbody tr th:only-of-type {\n",
       "        vertical-align: middle;\n",
       "    }\n",
       "\n",
       "    .dataframe tbody tr th {\n",
       "        vertical-align: top;\n",
       "    }\n",
       "\n",
       "    .dataframe thead th {\n",
       "        text-align: right;\n",
       "    }\n",
       "</style>\n",
       "<table border=\"1\" class=\"dataframe\">\n",
       "  <thead>\n",
       "    <tr style=\"text-align: right;\">\n",
       "      <th></th>\n",
       "      <th>Id</th>\n",
       "      <th>cont_seguido_tipo</th>\n",
       "    </tr>\n",
       "  </thead>\n",
       "  <tbody>\n",
       "    <tr>\n",
       "      <th>3</th>\n",
       "      <td>3</td>\n",
       "      <td>Animales y plantas;Recetas y comida;Salud y De...</td>\n",
       "    </tr>\n",
       "    <tr>\n",
       "      <th>7</th>\n",
       "      <td>7</td>\n",
       "      <td>Animales y plantas;Recetas y comida;Belleza;Mo...</td>\n",
       "    </tr>\n",
       "    <tr>\n",
       "      <th>11</th>\n",
       "      <td>11</td>\n",
       "      <td>Animales y plantas;Viajes y paisajes;Recetas y...</td>\n",
       "    </tr>\n",
       "    <tr>\n",
       "      <th>13</th>\n",
       "      <td>13</td>\n",
       "      <td>Animales y plantas;Recetas y comida;Feminismo</td>\n",
       "    </tr>\n",
       "    <tr>\n",
       "      <th>18</th>\n",
       "      <td>18</td>\n",
       "      <td>Recetas y comida;Salud y Deporte;Noticias/Info...</td>\n",
       "    </tr>\n",
       "    <tr>\n",
       "      <th>...</th>\n",
       "      <td>...</td>\n",
       "      <td>...</td>\n",
       "    </tr>\n",
       "    <tr>\n",
       "      <th>425</th>\n",
       "      <td>425</td>\n",
       "      <td>Animales y plantas;Recetas y comida;Educación,...</td>\n",
       "    </tr>\n",
       "    <tr>\n",
       "      <th>426</th>\n",
       "      <td>426</td>\n",
       "      <td>Animales y plantas;Viajes y paisajes;Recetas y...</td>\n",
       "    </tr>\n",
       "    <tr>\n",
       "      <th>428</th>\n",
       "      <td>428</td>\n",
       "      <td>Recetas y comida;Salud y Deporte;Belleza;Notic...</td>\n",
       "    </tr>\n",
       "    <tr>\n",
       "      <th>429</th>\n",
       "      <td>429</td>\n",
       "      <td>Viajes y paisajes;Feminismo;Otros</td>\n",
       "    </tr>\n",
       "    <tr>\n",
       "      <th>430</th>\n",
       "      <td>430</td>\n",
       "      <td>Animales y plantas;Viajes y paisajes;Recetas y...</td>\n",
       "    </tr>\n",
       "  </tbody>\n",
       "</table>\n",
       "<p>246 rows × 2 columns</p>\n",
       "</div>"
      ],
      "text/plain": [
       "      Id                                  cont_seguido_tipo\n",
       "3      3  Animales y plantas;Recetas y comida;Salud y De...\n",
       "7      7  Animales y plantas;Recetas y comida;Belleza;Mo...\n",
       "11    11  Animales y plantas;Viajes y paisajes;Recetas y...\n",
       "13    13      Animales y plantas;Recetas y comida;Feminismo\n",
       "18    18  Recetas y comida;Salud y Deporte;Noticias/Info...\n",
       "..   ...                                                ...\n",
       "425  425  Animales y plantas;Recetas y comida;Educación,...\n",
       "426  426  Animales y plantas;Viajes y paisajes;Recetas y...\n",
       "428  428  Recetas y comida;Salud y Deporte;Belleza;Notic...\n",
       "429  429                  Viajes y paisajes;Feminismo;Otros\n",
       "430  430  Animales y plantas;Viajes y paisajes;Recetas y...\n",
       "\n",
       "[246 rows x 2 columns]"
      ]
     },
     "execution_count": 72,
     "metadata": {},
     "output_type": "execute_result"
    }
   ],
   "source": [
    "contenido_seguido"
   ]
  },
  {
   "cell_type": "code",
   "execution_count": 73,
   "id": "grand-location",
   "metadata": {},
   "outputs": [
    {
     "data": {
      "text/html": [
       "<div>\n",
       "<style scoped>\n",
       "    .dataframe tbody tr th:only-of-type {\n",
       "        vertical-align: middle;\n",
       "    }\n",
       "\n",
       "    .dataframe tbody tr th {\n",
       "        vertical-align: top;\n",
       "    }\n",
       "\n",
       "    .dataframe thead th {\n",
       "        text-align: right;\n",
       "    }\n",
       "</style>\n",
       "<table border=\"1\" class=\"dataframe\">\n",
       "  <thead>\n",
       "    <tr style=\"text-align: right;\">\n",
       "      <th></th>\n",
       "      <th>0</th>\n",
       "      <th>1</th>\n",
       "      <th>2</th>\n",
       "      <th>3</th>\n",
       "      <th>4</th>\n",
       "      <th>5</th>\n",
       "      <th>6</th>\n",
       "      <th>7</th>\n",
       "      <th>8</th>\n",
       "      <th>9</th>\n",
       "      <th>10</th>\n",
       "      <th>11</th>\n",
       "      <th>12</th>\n",
       "    </tr>\n",
       "  </thead>\n",
       "  <tbody>\n",
       "    <tr>\n",
       "      <th>3</th>\n",
       "      <td>Animales y plantas</td>\n",
       "      <td>Recetas y comida</td>\n",
       "      <td>Salud y Deporte</td>\n",
       "      <td>Belleza</td>\n",
       "      <td>Moda</td>\n",
       "      <td>Educación, formación y ciencia</td>\n",
       "      <td>Feminismo</td>\n",
       "      <td>Perfiles de gente famosa o mediática</td>\n",
       "      <td>None</td>\n",
       "      <td>None</td>\n",
       "      <td>None</td>\n",
       "      <td>None</td>\n",
       "      <td>None</td>\n",
       "    </tr>\n",
       "    <tr>\n",
       "      <th>7</th>\n",
       "      <td>Animales y plantas</td>\n",
       "      <td>Recetas y comida</td>\n",
       "      <td>Belleza</td>\n",
       "      <td>Moda</td>\n",
       "      <td>Noticias/Información</td>\n",
       "      <td>Feminismo</td>\n",
       "      <td>Política</td>\n",
       "      <td>Perfiles de gente famosa o mediática</td>\n",
       "      <td>Otros</td>\n",
       "      <td>None</td>\n",
       "      <td>None</td>\n",
       "      <td>None</td>\n",
       "      <td>None</td>\n",
       "    </tr>\n",
       "    <tr>\n",
       "      <th>11</th>\n",
       "      <td>Animales y plantas</td>\n",
       "      <td>Viajes y paisajes</td>\n",
       "      <td>Recetas y comida</td>\n",
       "      <td>Salud y Deporte</td>\n",
       "      <td>Belleza</td>\n",
       "      <td>Moda</td>\n",
       "      <td>Noticias/Información</td>\n",
       "      <td>Educación, formación y ciencia</td>\n",
       "      <td>Feminismo</td>\n",
       "      <td>Política</td>\n",
       "      <td>Otros</td>\n",
       "      <td>None</td>\n",
       "      <td>None</td>\n",
       "    </tr>\n",
       "    <tr>\n",
       "      <th>13</th>\n",
       "      <td>Animales y plantas</td>\n",
       "      <td>Recetas y comida</td>\n",
       "      <td>Feminismo</td>\n",
       "      <td>None</td>\n",
       "      <td>None</td>\n",
       "      <td>None</td>\n",
       "      <td>None</td>\n",
       "      <td>None</td>\n",
       "      <td>None</td>\n",
       "      <td>None</td>\n",
       "      <td>None</td>\n",
       "      <td>None</td>\n",
       "      <td>None</td>\n",
       "    </tr>\n",
       "    <tr>\n",
       "      <th>18</th>\n",
       "      <td>Recetas y comida</td>\n",
       "      <td>Salud y Deporte</td>\n",
       "      <td>Noticias/Información</td>\n",
       "      <td>Educación, formación y ciencia</td>\n",
       "      <td>Feminismo</td>\n",
       "      <td>Política</td>\n",
       "      <td>Otros</td>\n",
       "      <td>None</td>\n",
       "      <td>None</td>\n",
       "      <td>None</td>\n",
       "      <td>None</td>\n",
       "      <td>None</td>\n",
       "      <td>None</td>\n",
       "    </tr>\n",
       "    <tr>\n",
       "      <th>...</th>\n",
       "      <td>...</td>\n",
       "      <td>...</td>\n",
       "      <td>...</td>\n",
       "      <td>...</td>\n",
       "      <td>...</td>\n",
       "      <td>...</td>\n",
       "      <td>...</td>\n",
       "      <td>...</td>\n",
       "      <td>...</td>\n",
       "      <td>...</td>\n",
       "      <td>...</td>\n",
       "      <td>...</td>\n",
       "      <td>...</td>\n",
       "    </tr>\n",
       "    <tr>\n",
       "      <th>425</th>\n",
       "      <td>Animales y plantas</td>\n",
       "      <td>Recetas y comida</td>\n",
       "      <td>Educación, formación y ciencia</td>\n",
       "      <td>Feminismo</td>\n",
       "      <td>Perfiles de gente famosa o mediática</td>\n",
       "      <td>Otros</td>\n",
       "      <td>None</td>\n",
       "      <td>None</td>\n",
       "      <td>None</td>\n",
       "      <td>None</td>\n",
       "      <td>None</td>\n",
       "      <td>None</td>\n",
       "      <td>None</td>\n",
       "    </tr>\n",
       "    <tr>\n",
       "      <th>426</th>\n",
       "      <td>Animales y plantas</td>\n",
       "      <td>Viajes y paisajes</td>\n",
       "      <td>Recetas y comida</td>\n",
       "      <td>Salud y Deporte</td>\n",
       "      <td>Educación, formación y ciencia</td>\n",
       "      <td>Feminismo</td>\n",
       "      <td>None</td>\n",
       "      <td>None</td>\n",
       "      <td>None</td>\n",
       "      <td>None</td>\n",
       "      <td>None</td>\n",
       "      <td>None</td>\n",
       "      <td>None</td>\n",
       "    </tr>\n",
       "    <tr>\n",
       "      <th>428</th>\n",
       "      <td>Recetas y comida</td>\n",
       "      <td>Salud y Deporte</td>\n",
       "      <td>Belleza</td>\n",
       "      <td>Noticias/Información</td>\n",
       "      <td>Educación, formación y ciencia</td>\n",
       "      <td>Feminismo</td>\n",
       "      <td>Perfiles de gente famosa o mediática</td>\n",
       "      <td>None</td>\n",
       "      <td>None</td>\n",
       "      <td>None</td>\n",
       "      <td>None</td>\n",
       "      <td>None</td>\n",
       "      <td>None</td>\n",
       "    </tr>\n",
       "    <tr>\n",
       "      <th>429</th>\n",
       "      <td>Viajes y paisajes</td>\n",
       "      <td>Feminismo</td>\n",
       "      <td>Otros</td>\n",
       "      <td>None</td>\n",
       "      <td>None</td>\n",
       "      <td>None</td>\n",
       "      <td>None</td>\n",
       "      <td>None</td>\n",
       "      <td>None</td>\n",
       "      <td>None</td>\n",
       "      <td>None</td>\n",
       "      <td>None</td>\n",
       "      <td>None</td>\n",
       "    </tr>\n",
       "    <tr>\n",
       "      <th>430</th>\n",
       "      <td>Animales y plantas</td>\n",
       "      <td>Viajes y paisajes</td>\n",
       "      <td>Recetas y comida</td>\n",
       "      <td>Salud y Deporte</td>\n",
       "      <td>Belleza</td>\n",
       "      <td>Noticias/Información</td>\n",
       "      <td>Educación, formación y ciencia</td>\n",
       "      <td>None</td>\n",
       "      <td>None</td>\n",
       "      <td>None</td>\n",
       "      <td>None</td>\n",
       "      <td>None</td>\n",
       "      <td>None</td>\n",
       "    </tr>\n",
       "  </tbody>\n",
       "</table>\n",
       "<p>246 rows × 13 columns</p>\n",
       "</div>"
      ],
      "text/plain": [
       "                     0                  1                               2   \\\n",
       "3    Animales y plantas   Recetas y comida                 Salud y Deporte   \n",
       "7    Animales y plantas   Recetas y comida                         Belleza   \n",
       "11   Animales y plantas  Viajes y paisajes                Recetas y comida   \n",
       "13   Animales y plantas   Recetas y comida                       Feminismo   \n",
       "18     Recetas y comida    Salud y Deporte            Noticias/Información   \n",
       "..                  ...                ...                             ...   \n",
       "425  Animales y plantas   Recetas y comida  Educación, formación y ciencia   \n",
       "426  Animales y plantas  Viajes y paisajes                Recetas y comida   \n",
       "428    Recetas y comida    Salud y Deporte                         Belleza   \n",
       "429   Viajes y paisajes          Feminismo                           Otros   \n",
       "430  Animales y plantas  Viajes y paisajes                Recetas y comida   \n",
       "\n",
       "                                 3                                     4   \\\n",
       "3                           Belleza                                  Moda   \n",
       "7                              Moda                  Noticias/Información   \n",
       "11                  Salud y Deporte                               Belleza   \n",
       "13                             None                                  None   \n",
       "18   Educación, formación y ciencia                             Feminismo   \n",
       "..                              ...                                   ...   \n",
       "425                       Feminismo  Perfiles de gente famosa o mediática   \n",
       "426                 Salud y Deporte        Educación, formación y ciencia   \n",
       "428            Noticias/Información        Educación, formación y ciencia   \n",
       "429                            None                                  None   \n",
       "430                 Salud y Deporte                               Belleza   \n",
       "\n",
       "                                 5                                     6   \\\n",
       "3    Educación, formación y ciencia                             Feminismo   \n",
       "7                         Feminismo                              Política   \n",
       "11                             Moda                  Noticias/Información   \n",
       "13                             None                                  None   \n",
       "18                         Política                                 Otros   \n",
       "..                              ...                                   ...   \n",
       "425                           Otros                                  None   \n",
       "426                       Feminismo                                  None   \n",
       "428                       Feminismo  Perfiles de gente famosa o mediática   \n",
       "429                            None                                  None   \n",
       "430            Noticias/Información        Educación, formación y ciencia   \n",
       "\n",
       "                                       7          8         9      10    11  \\\n",
       "3    Perfiles de gente famosa o mediática       None      None   None  None   \n",
       "7    Perfiles de gente famosa o mediática      Otros      None   None  None   \n",
       "11         Educación, formación y ciencia  Feminismo  Política  Otros  None   \n",
       "13                                   None       None      None   None  None   \n",
       "18                                   None       None      None   None  None   \n",
       "..                                    ...        ...       ...    ...   ...   \n",
       "425                                  None       None      None   None  None   \n",
       "426                                  None       None      None   None  None   \n",
       "428                                  None       None      None   None  None   \n",
       "429                                  None       None      None   None  None   \n",
       "430                                  None       None      None   None  None   \n",
       "\n",
       "       12  \n",
       "3    None  \n",
       "7    None  \n",
       "11   None  \n",
       "13   None  \n",
       "18   None  \n",
       "..    ...  \n",
       "425  None  \n",
       "426  None  \n",
       "428  None  \n",
       "429  None  \n",
       "430  None  \n",
       "\n",
       "[246 rows x 13 columns]"
      ]
     },
     "execution_count": 73,
     "metadata": {},
     "output_type": "execute_result"
    }
   ],
   "source": [
    "contenido_seguido.cont_seguido_tipo.str.split(';',expand=True)"
   ]
  },
  {
   "cell_type": "code",
   "execution_count": 74,
   "id": "ideal-wagon",
   "metadata": {},
   "outputs": [],
   "source": [
    "#contenido_seguido.to_csv('contenido_seguido.csv')"
   ]
  },
  {
   "cell_type": "markdown",
   "id": "sunset-fishing",
   "metadata": {},
   "source": [
    "### encode categorical variables"
   ]
  },
  {
   "cell_type": "code",
   "execution_count": 75,
   "id": "substantial-innocent",
   "metadata": {},
   "outputs": [
    {
     "name": "stdout",
     "output_type": "stream",
     "text": [
      "<class 'pandas.core.frame.DataFrame'>\n",
      "Int64Index: 246 entries, 3 to 430\n",
      "Data columns (total 12 columns):\n",
      " #   Column                     Non-Null Count  Dtype \n",
      "---  ------                     --------------  ----- \n",
      " 0   Id                         246 non-null    int64 \n",
      " 1   cont_seguido_tipo          246 non-null    object\n",
      " 2   cont_cuentas_seguidas      246 non-null    object\n",
      " 3   cont_publi_filtro          246 non-null    object\n",
      " 4   cont_publi_editado         246 non-null    object\n",
      " 5   cont_publi_likes_ref       246 non-null    object\n",
      " 6   cont_publi_expectativas    246 non-null    object\n",
      " 7   cont_publi_poses           246 non-null    object\n",
      " 8   cont_publi_genero          246 non-null    object\n",
      " 9   cont_likes_genero          246 non-null    object\n",
      " 10  cont_publi_poses_evitar    246 non-null    object\n",
      " 11  cont_publi_poses_resaltar  246 non-null    object\n",
      "dtypes: int64(1), object(11)\n",
      "memory usage: 25.0+ KB\n"
     ]
    }
   ],
   "source": [
    "content_all.info()"
   ]
  },
  {
   "cell_type": "markdown",
   "id": "animal-country",
   "metadata": {},
   "source": [
    "- cont_cuentas_seguidas"
   ]
  },
  {
   "cell_type": "code",
   "execution_count": 76,
   "id": "romantic-thread",
   "metadata": {},
   "outputs": [
    {
     "data": {
      "text/plain": [
       "Mujeres    243\n",
       "Hombres      3\n",
       "Name: cont_cuentas_seguidas, dtype: int64"
      ]
     },
     "execution_count": 76,
     "metadata": {},
     "output_type": "execute_result"
    }
   ],
   "source": [
    "content_all.cont_cuentas_seguidas.value_counts()"
   ]
  },
  {
   "cell_type": "code",
   "execution_count": 77,
   "id": "billion-structure",
   "metadata": {},
   "outputs": [],
   "source": [
    "content_all.loc[content_all.cont_cuentas_seguidas=='Mujeres','cont_cuentas_seguidas']=1\n",
    "content_all.loc[content_all.cont_cuentas_seguidas=='Hombres','cont_cuentas_seguidas']=2"
   ]
  },
  {
   "cell_type": "code",
   "execution_count": 78,
   "id": "august-thanks",
   "metadata": {},
   "outputs": [],
   "source": [
    "content_all.cont_cuentas_seguidas = content_all.cont_cuentas_seguidas.astype('float')"
   ]
  },
  {
   "cell_type": "code",
   "execution_count": 79,
   "id": "usual-annotation",
   "metadata": {},
   "outputs": [],
   "source": [
    "# hombres = 2 ; mujeres = 1 "
   ]
  },
  {
   "cell_type": "markdown",
   "id": "aboriginal-harvard",
   "metadata": {},
   "source": [
    "- cont_publi_filtro"
   ]
  },
  {
   "cell_type": "code",
   "execution_count": 80,
   "id": "critical-hepatitis",
   "metadata": {},
   "outputs": [
    {
     "data": {
      "text/plain": [
       "array(['Casi Nunca', 'Frecuentemente', 'Ocasionalmente', 'Nunca',\n",
       "       'Muy frecuentemente', 'Siempre'], dtype=object)"
      ]
     },
     "execution_count": 80,
     "metadata": {},
     "output_type": "execute_result"
    }
   ],
   "source": [
    "content_all.cont_publi_filtro.unique()"
   ]
  },
  {
   "cell_type": "code",
   "execution_count": 81,
   "id": "magnetic-liberia",
   "metadata": {},
   "outputs": [],
   "source": [
    "replace_map_content_all = {'Nunca':1,\n",
    "               'Casi Nunca':2,\n",
    "              'Ocasionalmente':3,\n",
    "              'Frecuentemente':4,\n",
    "              'Muy frecuentemente':5,\n",
    "              'Siempre':6   }"
   ]
  },
  {
   "cell_type": "code",
   "execution_count": 82,
   "id": "metric-debate",
   "metadata": {},
   "outputs": [],
   "source": [
    "content_all.cont_publi_filtro.replace(replace_map_content_all,inplace=True)"
   ]
  },
  {
   "cell_type": "markdown",
   "id": "reverse-tumor",
   "metadata": {},
   "source": [
    "- cont_publi_editado"
   ]
  },
  {
   "cell_type": "code",
   "execution_count": 83,
   "id": "sweet-tamil",
   "metadata": {},
   "outputs": [],
   "source": [
    "content_all.cont_publi_editado.replace(replace_map_content_all,inplace=True)"
   ]
  },
  {
   "cell_type": "code",
   "execution_count": 84,
   "id": "falling-syntax",
   "metadata": {},
   "outputs": [
    {
     "data": {
      "text/plain": [
       "3    53\n",
       "1    49\n",
       "2    46\n",
       "4    45\n",
       "6    30\n",
       "5    23\n",
       "Name: cont_publi_editado, dtype: int64"
      ]
     },
     "execution_count": 84,
     "metadata": {},
     "output_type": "execute_result"
    }
   ],
   "source": [
    "content_all.cont_publi_editado.value_counts()"
   ]
  },
  {
   "cell_type": "markdown",
   "id": "balanced-workshop",
   "metadata": {},
   "source": [
    "- cont_publi_likes_ref"
   ]
  },
  {
   "cell_type": "code",
   "execution_count": 141,
   "id": "initial-gravity",
   "metadata": {},
   "outputs": [],
   "source": [
    "content_all.cont_publi_likes_ref.replace(replace_map_content_all,inplace=True)"
   ]
  },
  {
   "cell_type": "code",
   "execution_count": 142,
   "id": "binary-compensation",
   "metadata": {
    "scrolled": true
   },
   "outputs": [
    {
     "data": {
      "text/plain": [
       "1    96\n",
       "2    46\n",
       "3    42\n",
       "4    29\n",
       "5    20\n",
       "6    13\n",
       "Name: cont_publi_likes_ref, dtype: int64"
      ]
     },
     "execution_count": 142,
     "metadata": {},
     "output_type": "execute_result"
    }
   ],
   "source": [
    "content_all.cont_publi_likes_ref.value_counts()"
   ]
  },
  {
   "cell_type": "markdown",
   "id": "varied-exploration",
   "metadata": {},
   "source": [
    "- cont_publi_expectativas"
   ]
  },
  {
   "cell_type": "code",
   "execution_count": 144,
   "id": "cardiovascular-coating",
   "metadata": {},
   "outputs": [],
   "source": [
    "content_all.cont_publi_expectativas.replace(replace_map_content_all,inplace=True)"
   ]
  },
  {
   "cell_type": "code",
   "execution_count": 145,
   "id": "lucky-worry",
   "metadata": {
    "scrolled": true
   },
   "outputs": [
    {
     "data": {
      "text/plain": [
       "3    53\n",
       "4    45\n",
       "2    42\n",
       "6    40\n",
       "1    34\n",
       "5    32\n",
       "Name: cont_publi_expectativas, dtype: int64"
      ]
     },
     "execution_count": 145,
     "metadata": {},
     "output_type": "execute_result"
    }
   ],
   "source": [
    "content_all.cont_publi_expectativas.value_counts()"
   ]
  },
  {
   "cell_type": "markdown",
   "id": "disturbed-flash",
   "metadata": {},
   "source": [
    "- cont_publi_poses"
   ]
  },
  {
   "cell_type": "code",
   "execution_count": 147,
   "id": "electronic-timothy",
   "metadata": {},
   "outputs": [],
   "source": [
    "content_all.cont_publi_poses.replace(replace_map_content_all,inplace=True)"
   ]
  },
  {
   "cell_type": "code",
   "execution_count": 148,
   "id": "adopted-madagascar",
   "metadata": {},
   "outputs": [
    {
     "data": {
      "text/plain": [
       "3    55\n",
       "4    52\n",
       "5    38\n",
       "6    37\n",
       "1    35\n",
       "2    29\n",
       "Name: cont_publi_poses, dtype: int64"
      ]
     },
     "execution_count": 148,
     "metadata": {},
     "output_type": "execute_result"
    }
   ],
   "source": [
    "content_all.cont_publi_poses.value_counts()"
   ]
  },
  {
   "cell_type": "markdown",
   "id": "tropical-protest",
   "metadata": {},
   "source": [
    "- cont_publi_genero"
   ]
  },
  {
   "cell_type": "code",
   "execution_count": 152,
   "id": "serious-nirvana",
   "metadata": {},
   "outputs": [
    {
     "data": {
      "text/plain": [
       "0    198\n",
       "1     48\n",
       "Name: cont_publi_genero, dtype: int64"
      ]
     },
     "execution_count": 152,
     "metadata": {},
     "output_type": "execute_result"
    }
   ],
   "source": [
    "content_all.cont_publi_genero.value_counts()"
   ]
  },
  {
   "cell_type": "code",
   "execution_count": 151,
   "id": "complicated-gnome",
   "metadata": {},
   "outputs": [],
   "source": [
    "content_all.loc[content_all.cont_publi_genero=='No','cont_publi_genero']=0\n",
    "content_all.loc[content_all.cont_publi_genero=='Sí','cont_publi_genero']=1"
   ]
  },
  {
   "cell_type": "markdown",
   "id": "interracial-campbell",
   "metadata": {},
   "source": [
    "- cont_likes_genero"
   ]
  },
  {
   "cell_type": "code",
   "execution_count": 155,
   "id": "tight-breach",
   "metadata": {},
   "outputs": [],
   "source": [
    "content_all.loc[content_all.cont_likes_genero=='Mujeres','cont_likes_genero']=1\n",
    "content_all.loc[content_all.cont_likes_genero=='Hombres','cont_likes_genero']=2"
   ]
  },
  {
   "cell_type": "code",
   "execution_count": 156,
   "id": "viral-composite",
   "metadata": {},
   "outputs": [
    {
     "data": {
      "text/plain": [
       "1    207\n",
       "2     39\n",
       "Name: cont_likes_genero, dtype: int64"
      ]
     },
     "execution_count": 156,
     "metadata": {},
     "output_type": "execute_result"
    }
   ],
   "source": [
    "content_all.cont_likes_genero.value_counts()"
   ]
  },
  {
   "cell_type": "code",
   "execution_count": 158,
   "id": "fifty-contest",
   "metadata": {},
   "outputs": [],
   "source": [
    "contenido_poses = content_all[['Id','cont_publi_poses_evitar','cont_publi_poses_resaltar']]"
   ]
  },
  {
   "cell_type": "code",
   "execution_count": 160,
   "id": "palestinian-gazette",
   "metadata": {},
   "outputs": [
    {
     "data": {
      "text/plain": [
       "Id                           0\n",
       "cont_publi_poses_evitar      0\n",
       "cont_publi_poses_resaltar    0\n",
       "dtype: int64"
      ]
     },
     "execution_count": 160,
     "metadata": {},
     "output_type": "execute_result"
    }
   ],
   "source": [
    "contenido_poses.isnull().sum()"
   ]
  },
  {
   "cell_type": "code",
   "execution_count": 162,
   "id": "opponent-given",
   "metadata": {},
   "outputs": [],
   "source": [
    "evitar = contenido_poses.cont_publi_poses_evitar.str.split(';',expand=True).add_prefix('evitar')"
   ]
  },
  {
   "cell_type": "code",
   "execution_count": 167,
   "id": "determined-remove",
   "metadata": {},
   "outputs": [],
   "source": [
    "resaltar = contenido_poses.cont_publi_poses_resaltar.str.split(';',expand=True).add_prefix('resaltar')"
   ]
  },
  {
   "cell_type": "code",
   "execution_count": 165,
   "id": "tracked-diagram",
   "metadata": {},
   "outputs": [],
   "source": [
    "contenido_poses = pd.concat([contenido_poses, evitar.iloc[:,:]], axis=1)"
   ]
  },
  {
   "cell_type": "code",
   "execution_count": 168,
   "id": "official-chick",
   "metadata": {},
   "outputs": [],
   "source": [
    "contenido_poses = pd.concat([contenido_poses,resaltar.iloc[:,:]],axis=1)"
   ]
  },
  {
   "cell_type": "code",
   "execution_count": 212,
   "id": "sophisticated-tooth",
   "metadata": {},
   "outputs": [
    {
     "data": {
      "text/html": [
       "<div>\n",
       "<style scoped>\n",
       "    .dataframe tbody tr th:only-of-type {\n",
       "        vertical-align: middle;\n",
       "    }\n",
       "\n",
       "    .dataframe tbody tr th {\n",
       "        vertical-align: top;\n",
       "    }\n",
       "\n",
       "    .dataframe thead th {\n",
       "        text-align: right;\n",
       "    }\n",
       "</style>\n",
       "<table border=\"1\" class=\"dataframe\">\n",
       "  <thead>\n",
       "    <tr style=\"text-align: right;\">\n",
       "      <th></th>\n",
       "      <th>Id</th>\n",
       "      <th>cont_publi_poses_evitar</th>\n",
       "      <th>cont_publi_poses_resaltar</th>\n",
       "      <th>evitar0</th>\n",
       "      <th>evitar1</th>\n",
       "      <th>evitar2</th>\n",
       "      <th>evitar3</th>\n",
       "      <th>evitar4</th>\n",
       "      <th>evitar5</th>\n",
       "      <th>evitar6</th>\n",
       "      <th>...</th>\n",
       "      <th>resaltar0</th>\n",
       "      <th>resaltar1</th>\n",
       "      <th>resaltar2</th>\n",
       "      <th>resaltar3</th>\n",
       "      <th>resaltar4</th>\n",
       "      <th>resaltar5</th>\n",
       "      <th>resaltar6</th>\n",
       "      <th>resaltar7</th>\n",
       "      <th>resaltar8</th>\n",
       "      <th>resaltar9</th>\n",
       "    </tr>\n",
       "  </thead>\n",
       "  <tbody>\n",
       "    <tr>\n",
       "      <th>3</th>\n",
       "      <td>3</td>\n",
       "      <td>Estómago;Piernas;Muslos</td>\n",
       "      <td>Cara;Cintura</td>\n",
       "      <td>Estómago</td>\n",
       "      <td>Piernas</td>\n",
       "      <td>Muslos</td>\n",
       "      <td>None</td>\n",
       "      <td>None</td>\n",
       "      <td>None</td>\n",
       "      <td>None</td>\n",
       "      <td>...</td>\n",
       "      <td>Cara</td>\n",
       "      <td>Cintura</td>\n",
       "      <td>None</td>\n",
       "      <td>None</td>\n",
       "      <td>None</td>\n",
       "      <td>None</td>\n",
       "      <td>None</td>\n",
       "      <td>None</td>\n",
       "      <td>None</td>\n",
       "      <td>None</td>\n",
       "    </tr>\n",
       "    <tr>\n",
       "      <th>7</th>\n",
       "      <td>7</td>\n",
       "      <td>Estómago;Cintura</td>\n",
       "      <td>Cara;Pechos</td>\n",
       "      <td>Estómago</td>\n",
       "      <td>Cintura</td>\n",
       "      <td>None</td>\n",
       "      <td>None</td>\n",
       "      <td>None</td>\n",
       "      <td>None</td>\n",
       "      <td>None</td>\n",
       "      <td>...</td>\n",
       "      <td>Cara</td>\n",
       "      <td>Pechos</td>\n",
       "      <td>None</td>\n",
       "      <td>None</td>\n",
       "      <td>None</td>\n",
       "      <td>None</td>\n",
       "      <td>None</td>\n",
       "      <td>None</td>\n",
       "      <td>None</td>\n",
       "      <td>None</td>\n",
       "    </tr>\n",
       "    <tr>\n",
       "      <th>11</th>\n",
       "      <td>11</td>\n",
       "      <td>Pechos;Estómago</td>\n",
       "      <td>Cara;Pechos;Estómago;Cintura</td>\n",
       "      <td>Pechos</td>\n",
       "      <td>Estómago</td>\n",
       "      <td>None</td>\n",
       "      <td>None</td>\n",
       "      <td>None</td>\n",
       "      <td>None</td>\n",
       "      <td>None</td>\n",
       "      <td>...</td>\n",
       "      <td>Cara</td>\n",
       "      <td>Pechos</td>\n",
       "      <td>Estómago</td>\n",
       "      <td>Cintura</td>\n",
       "      <td>None</td>\n",
       "      <td>None</td>\n",
       "      <td>None</td>\n",
       "      <td>None</td>\n",
       "      <td>None</td>\n",
       "      <td>None</td>\n",
       "    </tr>\n",
       "    <tr>\n",
       "      <th>13</th>\n",
       "      <td>13</td>\n",
       "      <td>Ninguna</td>\n",
       "      <td>Ninguna</td>\n",
       "      <td>Ninguna</td>\n",
       "      <td>None</td>\n",
       "      <td>None</td>\n",
       "      <td>None</td>\n",
       "      <td>None</td>\n",
       "      <td>None</td>\n",
       "      <td>None</td>\n",
       "      <td>...</td>\n",
       "      <td>Ninguna</td>\n",
       "      <td>None</td>\n",
       "      <td>None</td>\n",
       "      <td>None</td>\n",
       "      <td>None</td>\n",
       "      <td>None</td>\n",
       "      <td>None</td>\n",
       "      <td>None</td>\n",
       "      <td>None</td>\n",
       "      <td>None</td>\n",
       "    </tr>\n",
       "    <tr>\n",
       "      <th>18</th>\n",
       "      <td>18</td>\n",
       "      <td>Estómago;Cintura;Cadera;Nalgas;Piernas;Muslos;...</td>\n",
       "      <td>Ninguna</td>\n",
       "      <td>Estómago</td>\n",
       "      <td>Cintura</td>\n",
       "      <td>Cadera</td>\n",
       "      <td>Nalgas</td>\n",
       "      <td>Piernas</td>\n",
       "      <td>Muslos</td>\n",
       "      <td>Pantorrillas</td>\n",
       "      <td>...</td>\n",
       "      <td>Ninguna</td>\n",
       "      <td>None</td>\n",
       "      <td>None</td>\n",
       "      <td>None</td>\n",
       "      <td>None</td>\n",
       "      <td>None</td>\n",
       "      <td>None</td>\n",
       "      <td>None</td>\n",
       "      <td>None</td>\n",
       "      <td>None</td>\n",
       "    </tr>\n",
       "    <tr>\n",
       "      <th>...</th>\n",
       "      <td>...</td>\n",
       "      <td>...</td>\n",
       "      <td>...</td>\n",
       "      <td>...</td>\n",
       "      <td>...</td>\n",
       "      <td>...</td>\n",
       "      <td>...</td>\n",
       "      <td>...</td>\n",
       "      <td>...</td>\n",
       "      <td>...</td>\n",
       "      <td>...</td>\n",
       "      <td>...</td>\n",
       "      <td>...</td>\n",
       "      <td>...</td>\n",
       "      <td>...</td>\n",
       "      <td>...</td>\n",
       "      <td>...</td>\n",
       "      <td>...</td>\n",
       "      <td>...</td>\n",
       "      <td>...</td>\n",
       "      <td>...</td>\n",
       "    </tr>\n",
       "    <tr>\n",
       "      <th>425</th>\n",
       "      <td>425</td>\n",
       "      <td>Ninguna</td>\n",
       "      <td>Ninguna</td>\n",
       "      <td>Ninguna</td>\n",
       "      <td>None</td>\n",
       "      <td>None</td>\n",
       "      <td>None</td>\n",
       "      <td>None</td>\n",
       "      <td>None</td>\n",
       "      <td>None</td>\n",
       "      <td>...</td>\n",
       "      <td>Ninguna</td>\n",
       "      <td>None</td>\n",
       "      <td>None</td>\n",
       "      <td>None</td>\n",
       "      <td>None</td>\n",
       "      <td>None</td>\n",
       "      <td>None</td>\n",
       "      <td>None</td>\n",
       "      <td>None</td>\n",
       "      <td>None</td>\n",
       "    </tr>\n",
       "    <tr>\n",
       "      <th>426</th>\n",
       "      <td>426</td>\n",
       "      <td>Brazos;Estómago;Cintura;Cadera;Nalgas;Piernas;...</td>\n",
       "      <td>Cara</td>\n",
       "      <td>Brazos</td>\n",
       "      <td>Estómago</td>\n",
       "      <td>Cintura</td>\n",
       "      <td>Cadera</td>\n",
       "      <td>Nalgas</td>\n",
       "      <td>Piernas</td>\n",
       "      <td>Muslos</td>\n",
       "      <td>...</td>\n",
       "      <td>Cara</td>\n",
       "      <td>None</td>\n",
       "      <td>None</td>\n",
       "      <td>None</td>\n",
       "      <td>None</td>\n",
       "      <td>None</td>\n",
       "      <td>None</td>\n",
       "      <td>None</td>\n",
       "      <td>None</td>\n",
       "      <td>None</td>\n",
       "    </tr>\n",
       "    <tr>\n",
       "      <th>428</th>\n",
       "      <td>428</td>\n",
       "      <td>Ninguna</td>\n",
       "      <td>Ninguna</td>\n",
       "      <td>Ninguna</td>\n",
       "      <td>None</td>\n",
       "      <td>None</td>\n",
       "      <td>None</td>\n",
       "      <td>None</td>\n",
       "      <td>None</td>\n",
       "      <td>None</td>\n",
       "      <td>...</td>\n",
       "      <td>Ninguna</td>\n",
       "      <td>None</td>\n",
       "      <td>None</td>\n",
       "      <td>None</td>\n",
       "      <td>None</td>\n",
       "      <td>None</td>\n",
       "      <td>None</td>\n",
       "      <td>None</td>\n",
       "      <td>None</td>\n",
       "      <td>None</td>\n",
       "    </tr>\n",
       "    <tr>\n",
       "      <th>429</th>\n",
       "      <td>429</td>\n",
       "      <td>Ninguna</td>\n",
       "      <td>Ninguna</td>\n",
       "      <td>Ninguna</td>\n",
       "      <td>None</td>\n",
       "      <td>None</td>\n",
       "      <td>None</td>\n",
       "      <td>None</td>\n",
       "      <td>None</td>\n",
       "      <td>None</td>\n",
       "      <td>...</td>\n",
       "      <td>Ninguna</td>\n",
       "      <td>None</td>\n",
       "      <td>None</td>\n",
       "      <td>None</td>\n",
       "      <td>None</td>\n",
       "      <td>None</td>\n",
       "      <td>None</td>\n",
       "      <td>None</td>\n",
       "      <td>None</td>\n",
       "      <td>None</td>\n",
       "    </tr>\n",
       "    <tr>\n",
       "      <th>430</th>\n",
       "      <td>430</td>\n",
       "      <td>Cara;Brazos;Muslos</td>\n",
       "      <td>Pechos;Cintura;Nalgas</td>\n",
       "      <td>Cara</td>\n",
       "      <td>Brazos</td>\n",
       "      <td>Muslos</td>\n",
       "      <td>None</td>\n",
       "      <td>None</td>\n",
       "      <td>None</td>\n",
       "      <td>None</td>\n",
       "      <td>...</td>\n",
       "      <td>Pechos</td>\n",
       "      <td>Cintura</td>\n",
       "      <td>Nalgas</td>\n",
       "      <td>None</td>\n",
       "      <td>None</td>\n",
       "      <td>None</td>\n",
       "      <td>None</td>\n",
       "      <td>None</td>\n",
       "      <td>None</td>\n",
       "      <td>None</td>\n",
       "    </tr>\n",
       "  </tbody>\n",
       "</table>\n",
       "<p>246 rows × 24 columns</p>\n",
       "</div>"
      ],
      "text/plain": [
       "      Id                            cont_publi_poses_evitar  \\\n",
       "3      3                            Estómago;Piernas;Muslos   \n",
       "7      7                                   Estómago;Cintura   \n",
       "11    11                                    Pechos;Estómago   \n",
       "13    13                                            Ninguna   \n",
       "18    18  Estómago;Cintura;Cadera;Nalgas;Piernas;Muslos;...   \n",
       "..   ...                                                ...   \n",
       "425  425                                            Ninguna   \n",
       "426  426  Brazos;Estómago;Cintura;Cadera;Nalgas;Piernas;...   \n",
       "428  428                                            Ninguna   \n",
       "429  429                                            Ninguna   \n",
       "430  430                                 Cara;Brazos;Muslos   \n",
       "\n",
       "        cont_publi_poses_resaltar   evitar0   evitar1  evitar2 evitar3  \\\n",
       "3                    Cara;Cintura  Estómago   Piernas   Muslos    None   \n",
       "7                     Cara;Pechos  Estómago   Cintura     None    None   \n",
       "11   Cara;Pechos;Estómago;Cintura    Pechos  Estómago     None    None   \n",
       "13                        Ninguna   Ninguna      None     None    None   \n",
       "18                        Ninguna  Estómago   Cintura   Cadera  Nalgas   \n",
       "..                            ...       ...       ...      ...     ...   \n",
       "425                       Ninguna   Ninguna      None     None    None   \n",
       "426                          Cara    Brazos  Estómago  Cintura  Cadera   \n",
       "428                       Ninguna   Ninguna      None     None    None   \n",
       "429                       Ninguna   Ninguna      None     None    None   \n",
       "430         Pechos;Cintura;Nalgas      Cara    Brazos   Muslos    None   \n",
       "\n",
       "     evitar4  evitar5       evitar6  ... resaltar0 resaltar1 resaltar2  \\\n",
       "3       None     None          None  ...      Cara   Cintura      None   \n",
       "7       None     None          None  ...      Cara    Pechos      None   \n",
       "11      None     None          None  ...      Cara    Pechos  Estómago   \n",
       "13      None     None          None  ...   Ninguna      None      None   \n",
       "18   Piernas   Muslos  Pantorrillas  ...   Ninguna      None      None   \n",
       "..       ...      ...           ...  ...       ...       ...       ...   \n",
       "425     None     None          None  ...   Ninguna      None      None   \n",
       "426   Nalgas  Piernas        Muslos  ...      Cara      None      None   \n",
       "428     None     None          None  ...   Ninguna      None      None   \n",
       "429     None     None          None  ...   Ninguna      None      None   \n",
       "430     None     None          None  ...    Pechos   Cintura    Nalgas   \n",
       "\n",
       "    resaltar3 resaltar4 resaltar5 resaltar6 resaltar7 resaltar8 resaltar9  \n",
       "3        None      None      None      None      None      None      None  \n",
       "7        None      None      None      None      None      None      None  \n",
       "11    Cintura      None      None      None      None      None      None  \n",
       "13       None      None      None      None      None      None      None  \n",
       "18       None      None      None      None      None      None      None  \n",
       "..        ...       ...       ...       ...       ...       ...       ...  \n",
       "425      None      None      None      None      None      None      None  \n",
       "426      None      None      None      None      None      None      None  \n",
       "428      None      None      None      None      None      None      None  \n",
       "429      None      None      None      None      None      None      None  \n",
       "430      None      None      None      None      None      None      None  \n",
       "\n",
       "[246 rows x 24 columns]"
      ]
     },
     "execution_count": 212,
     "metadata": {},
     "output_type": "execute_result"
    }
   ],
   "source": [
    "contenido_poses"
   ]
  },
  {
   "cell_type": "code",
   "execution_count": 170,
   "id": "stuffed-russian",
   "metadata": {},
   "outputs": [],
   "source": [
    "#contenido_poses.to_csv('poses_evitar_resaltar.csv')"
   ]
  },
  {
   "cell_type": "code",
   "execution_count": 172,
   "id": "married-official",
   "metadata": {},
   "outputs": [
    {
     "data": {
      "text/html": [
       "<div>\n",
       "<style scoped>\n",
       "    .dataframe tbody tr th:only-of-type {\n",
       "        vertical-align: middle;\n",
       "    }\n",
       "\n",
       "    .dataframe tbody tr th {\n",
       "        vertical-align: top;\n",
       "    }\n",
       "\n",
       "    .dataframe thead th {\n",
       "        text-align: right;\n",
       "    }\n",
       "</style>\n",
       "<table border=\"1\" class=\"dataframe\">\n",
       "  <thead>\n",
       "    <tr style=\"text-align: right;\">\n",
       "      <th></th>\n",
       "      <th>Id</th>\n",
       "      <th>cont_cuentas_seguidas</th>\n",
       "      <th>cont_publi_filtro</th>\n",
       "      <th>cont_publi_editado</th>\n",
       "      <th>cont_publi_likes_ref</th>\n",
       "      <th>cont_publi_expectativas</th>\n",
       "      <th>cont_publi_poses</th>\n",
       "      <th>cont_publi_genero</th>\n",
       "      <th>cont_likes_genero</th>\n",
       "    </tr>\n",
       "  </thead>\n",
       "  <tbody>\n",
       "    <tr>\n",
       "      <th>3</th>\n",
       "      <td>3</td>\n",
       "      <td>1.0</td>\n",
       "      <td>2</td>\n",
       "      <td>4</td>\n",
       "      <td>5</td>\n",
       "      <td>4</td>\n",
       "      <td>5</td>\n",
       "      <td>0</td>\n",
       "      <td>1</td>\n",
       "    </tr>\n",
       "    <tr>\n",
       "      <th>7</th>\n",
       "      <td>7</td>\n",
       "      <td>1.0</td>\n",
       "      <td>4</td>\n",
       "      <td>5</td>\n",
       "      <td>2</td>\n",
       "      <td>5</td>\n",
       "      <td>5</td>\n",
       "      <td>1</td>\n",
       "      <td>1</td>\n",
       "    </tr>\n",
       "    <tr>\n",
       "      <th>11</th>\n",
       "      <td>11</td>\n",
       "      <td>1.0</td>\n",
       "      <td>3</td>\n",
       "      <td>3</td>\n",
       "      <td>3</td>\n",
       "      <td>3</td>\n",
       "      <td>3</td>\n",
       "      <td>0</td>\n",
       "      <td>2</td>\n",
       "    </tr>\n",
       "    <tr>\n",
       "      <th>13</th>\n",
       "      <td>13</td>\n",
       "      <td>1.0</td>\n",
       "      <td>1</td>\n",
       "      <td>1</td>\n",
       "      <td>1</td>\n",
       "      <td>5</td>\n",
       "      <td>4</td>\n",
       "      <td>0</td>\n",
       "      <td>1</td>\n",
       "    </tr>\n",
       "    <tr>\n",
       "      <th>18</th>\n",
       "      <td>18</td>\n",
       "      <td>1.0</td>\n",
       "      <td>2</td>\n",
       "      <td>1</td>\n",
       "      <td>2</td>\n",
       "      <td>4</td>\n",
       "      <td>4</td>\n",
       "      <td>0</td>\n",
       "      <td>1</td>\n",
       "    </tr>\n",
       "    <tr>\n",
       "      <th>...</th>\n",
       "      <td>...</td>\n",
       "      <td>...</td>\n",
       "      <td>...</td>\n",
       "      <td>...</td>\n",
       "      <td>...</td>\n",
       "      <td>...</td>\n",
       "      <td>...</td>\n",
       "      <td>...</td>\n",
       "      <td>...</td>\n",
       "    </tr>\n",
       "    <tr>\n",
       "      <th>425</th>\n",
       "      <td>425</td>\n",
       "      <td>1.0</td>\n",
       "      <td>3</td>\n",
       "      <td>4</td>\n",
       "      <td>1</td>\n",
       "      <td>3</td>\n",
       "      <td>1</td>\n",
       "      <td>0</td>\n",
       "      <td>1</td>\n",
       "    </tr>\n",
       "    <tr>\n",
       "      <th>426</th>\n",
       "      <td>426</td>\n",
       "      <td>1.0</td>\n",
       "      <td>4</td>\n",
       "      <td>3</td>\n",
       "      <td>4</td>\n",
       "      <td>5</td>\n",
       "      <td>5</td>\n",
       "      <td>0</td>\n",
       "      <td>1</td>\n",
       "    </tr>\n",
       "    <tr>\n",
       "      <th>428</th>\n",
       "      <td>428</td>\n",
       "      <td>1.0</td>\n",
       "      <td>2</td>\n",
       "      <td>2</td>\n",
       "      <td>1</td>\n",
       "      <td>3</td>\n",
       "      <td>3</td>\n",
       "      <td>0</td>\n",
       "      <td>1</td>\n",
       "    </tr>\n",
       "    <tr>\n",
       "      <th>429</th>\n",
       "      <td>429</td>\n",
       "      <td>1.0</td>\n",
       "      <td>2</td>\n",
       "      <td>1</td>\n",
       "      <td>3</td>\n",
       "      <td>3</td>\n",
       "      <td>2</td>\n",
       "      <td>0</td>\n",
       "      <td>1</td>\n",
       "    </tr>\n",
       "    <tr>\n",
       "      <th>430</th>\n",
       "      <td>430</td>\n",
       "      <td>1.0</td>\n",
       "      <td>3</td>\n",
       "      <td>3</td>\n",
       "      <td>1</td>\n",
       "      <td>3</td>\n",
       "      <td>4</td>\n",
       "      <td>0</td>\n",
       "      <td>1</td>\n",
       "    </tr>\n",
       "  </tbody>\n",
       "</table>\n",
       "<p>246 rows × 9 columns</p>\n",
       "</div>"
      ],
      "text/plain": [
       "      Id  cont_cuentas_seguidas  cont_publi_filtro  cont_publi_editado  \\\n",
       "3      3                    1.0                  2                   4   \n",
       "7      7                    1.0                  4                   5   \n",
       "11    11                    1.0                  3                   3   \n",
       "13    13                    1.0                  1                   1   \n",
       "18    18                    1.0                  2                   1   \n",
       "..   ...                    ...                ...                 ...   \n",
       "425  425                    1.0                  3                   4   \n",
       "426  426                    1.0                  4                   3   \n",
       "428  428                    1.0                  2                   2   \n",
       "429  429                    1.0                  2                   1   \n",
       "430  430                    1.0                  3                   3   \n",
       "\n",
       "     cont_publi_likes_ref  cont_publi_expectativas  cont_publi_poses  \\\n",
       "3                       5                        4                 5   \n",
       "7                       2                        5                 5   \n",
       "11                      3                        3                 3   \n",
       "13                      1                        5                 4   \n",
       "18                      2                        4                 4   \n",
       "..                    ...                      ...               ...   \n",
       "425                     1                        3                 1   \n",
       "426                     4                        5                 5   \n",
       "428                     1                        3                 3   \n",
       "429                     3                        3                 2   \n",
       "430                     1                        3                 4   \n",
       "\n",
       "    cont_publi_genero cont_likes_genero  \n",
       "3                   0                 1  \n",
       "7                   1                 1  \n",
       "11                  0                 2  \n",
       "13                  0                 1  \n",
       "18                  0                 1  \n",
       "..                ...               ...  \n",
       "425                 0                 1  \n",
       "426                 0                 1  \n",
       "428                 0                 1  \n",
       "429                 0                 1  \n",
       "430                 0                 1  \n",
       "\n",
       "[246 rows x 9 columns]"
      ]
     },
     "execution_count": 172,
     "metadata": {},
     "output_type": "execute_result"
    }
   ],
   "source": [
    "content_all.drop(['cont_seguido_tipo','cont_publi_poses_evitar','cont_publi_poses_resaltar'],axis=1)"
   ]
  },
  {
   "cell_type": "code",
   "execution_count": 173,
   "id": "wound-netherlands",
   "metadata": {},
   "outputs": [],
   "source": [
    "#content_all.to_csv('content_all.csv')"
   ]
  },
  {
   "cell_type": "markdown",
   "id": "portuguese-pearl",
   "metadata": {},
   "source": [
    "## lot_likes"
   ]
  },
  {
   "cell_type": "code",
   "execution_count": 175,
   "id": "small-filter",
   "metadata": {},
   "outputs": [
    {
     "data": {
      "text/plain": [
       "Id                                                                 0\n",
       "¿Qué emociones te genera recibir muchos me gusta/comentarios?    184\n",
       "dtype: int64"
      ]
     },
     "execution_count": 175,
     "metadata": {},
     "output_type": "execute_result"
    }
   ],
   "source": [
    "lot_likes.isnull().sum()"
   ]
  },
  {
   "cell_type": "code",
   "execution_count": 178,
   "id": "brilliant-elder",
   "metadata": {},
   "outputs": [],
   "source": [
    "lot_likes = lot_likes.dropna()"
   ]
  },
  {
   "cell_type": "code",
   "execution_count": 179,
   "id": "lonely-tanzania",
   "metadata": {},
   "outputs": [],
   "source": [
    "#lot_likes.to_csv('lot_likes.csv')"
   ]
  },
  {
   "cell_type": "markdown",
   "id": "polyphonic-appointment",
   "metadata": {},
   "source": [
    "## many_likes"
   ]
  },
  {
   "cell_type": "code",
   "execution_count": null,
   "id": "postal-accounting",
   "metadata": {},
   "outputs": [],
   "source": []
  },
  {
   "cell_type": "code",
   "execution_count": 180,
   "id": "based-martial",
   "metadata": {},
   "outputs": [
    {
     "data": {
      "text/plain": [
       "Id                                                                0\n",
       "¿Qué emociones te genera recibir pocos me gusta/comentarios?    186\n",
       "dtype: int64"
      ]
     },
     "execution_count": 180,
     "metadata": {},
     "output_type": "execute_result"
    }
   ],
   "source": [
    "many_likes.isnull().sum()"
   ]
  },
  {
   "cell_type": "code",
   "execution_count": 181,
   "id": "coordinate-sussex",
   "metadata": {},
   "outputs": [],
   "source": [
    "many_likes = many_likes.dropna()"
   ]
  },
  {
   "cell_type": "code",
   "execution_count": 182,
   "id": "danish-console",
   "metadata": {},
   "outputs": [],
   "source": [
    "#many_likes.to_csv('many_likes.csv')"
   ]
  },
  {
   "cell_type": "code",
   "execution_count": 183,
   "id": "wired-grill",
   "metadata": {},
   "outputs": [
    {
     "data": {
      "text/html": [
       "<div>\n",
       "<style scoped>\n",
       "    .dataframe tbody tr th:only-of-type {\n",
       "        vertical-align: middle;\n",
       "    }\n",
       "\n",
       "    .dataframe tbody tr th {\n",
       "        vertical-align: top;\n",
       "    }\n",
       "\n",
       "    .dataframe thead th {\n",
       "        text-align: right;\n",
       "    }\n",
       "</style>\n",
       "<table border=\"1\" class=\"dataframe\">\n",
       "  <thead>\n",
       "    <tr style=\"text-align: right;\">\n",
       "      <th></th>\n",
       "      <th>Id</th>\n",
       "      <th>¿Qué emociones te genera recibir pocos me gusta/comentarios?</th>\n",
       "    </tr>\n",
       "  </thead>\n",
       "  <tbody>\n",
       "    <tr>\n",
       "      <th>3</th>\n",
       "      <td>3</td>\n",
       "      <td>Malestar</td>\n",
       "    </tr>\n",
       "    <tr>\n",
       "      <th>7</th>\n",
       "      <td>7</td>\n",
       "      <td>Indiferencia</td>\n",
       "    </tr>\n",
       "    <tr>\n",
       "      <th>8</th>\n",
       "      <td>8</td>\n",
       "      <td>Rareza</td>\n",
       "    </tr>\n",
       "    <tr>\n",
       "      <th>13</th>\n",
       "      <td>13</td>\n",
       "      <td>Me da igual</td>\n",
       "    </tr>\n",
       "    <tr>\n",
       "      <th>18</th>\n",
       "      <td>18</td>\n",
       "      <td>Que genero poco interés, ignorada, fuera de lu...</td>\n",
       "    </tr>\n",
       "    <tr>\n",
       "      <th>...</th>\n",
       "      <td>...</td>\n",
       "      <td>...</td>\n",
       "    </tr>\n",
       "    <tr>\n",
       "      <th>428</th>\n",
       "      <td>428</td>\n",
       "      <td>Me da igual</td>\n",
       "    </tr>\n",
       "    <tr>\n",
       "      <th>429</th>\n",
       "      <td>429</td>\n",
       "      <td>Frustración, de que no guste tanto como te esp...</td>\n",
       "    </tr>\n",
       "    <tr>\n",
       "      <th>430</th>\n",
       "      <td>430</td>\n",
       "      <td>Indistinto, no suelo mirarlo</td>\n",
       "    </tr>\n",
       "    <tr>\n",
       "      <th>431</th>\n",
       "      <td>431</td>\n",
       "      <td>No subo fotos</td>\n",
       "    </tr>\n",
       "    <tr>\n",
       "      <th>433</th>\n",
       "      <td>433</td>\n",
       "      <td>Subo menos fotos</td>\n",
       "    </tr>\n",
       "  </tbody>\n",
       "</table>\n",
       "<p>248 rows × 2 columns</p>\n",
       "</div>"
      ],
      "text/plain": [
       "      Id ¿Qué emociones te genera recibir pocos me gusta/comentarios?\n",
       "3      3                                           Malestar          \n",
       "7      7                                       Indiferencia          \n",
       "8      8                                             Rareza          \n",
       "13    13                                        Me da igual          \n",
       "18    18  Que genero poco interés, ignorada, fuera de lu...          \n",
       "..   ...                                                ...          \n",
       "428  428                                        Me da igual          \n",
       "429  429  Frustración, de que no guste tanto como te esp...          \n",
       "430  430                       Indistinto, no suelo mirarlo          \n",
       "431  431                                      No subo fotos          \n",
       "433  433                                   Subo menos fotos          \n",
       "\n",
       "[248 rows x 2 columns]"
      ]
     },
     "execution_count": 183,
     "metadata": {},
     "output_type": "execute_result"
    }
   ],
   "source": [
    "many_likes"
   ]
  },
  {
   "cell_type": "markdown",
   "id": "skilled-chapel",
   "metadata": {},
   "source": [
    "## porno\n",
    "\n",
    "porno.columns"
   ]
  },
  {
   "cell_type": "code",
   "execution_count": 25,
   "id": "interested-plaza",
   "metadata": {},
   "outputs": [],
   "source": [
    "porno.rename(columns={'Id': 'Id', \n",
    "                      '¿A qué edad viste pornografía por primera vez?': 'edad_porno',\n",
    "                      '¿Fue de manera intencionada o no intencionada?':'intencionalidad_porno',\n",
    "                      'Actualmente, ¿Consumes pornografía?':'ver_porno',\n",
    "                      '¿Con qué frecuencia?':'frec_ver_porno',\n",
    "                      '¿Qué tipo/categoría de pornografía consumes? ':'tipo_porno',\n",
    "                      '¿Alguna vez te han mandado material pornográfico sin haberlo solicitado por una red social?':'porno_enviado',\n",
    "                      '¿Cuál era el sexo de la/s persona/s que te enviaron este material?':'porno_enviado_genero',\n",
    "                      '¿Alguna vez te han pedido fotos pornográficas, de genitales o desnudos por una red social?':'porno_solicitado',\n",
    "                      '¿Cuál era el sexo de la persona que te pidió este material?':'porno_solicitado_genero'\n",
    "                           }, inplace=True)"
   ]
  },
  {
   "cell_type": "code",
   "execution_count": 26,
   "id": "cubic-enhancement",
   "metadata": {},
   "outputs": [
    {
     "name": "stdout",
     "output_type": "stream",
     "text": [
      "<class 'pandas.core.frame.DataFrame'>\n",
      "RangeIndex: 434 entries, 0 to 433\n",
      "Data columns (total 10 columns):\n",
      " #   Column                   Non-Null Count  Dtype \n",
      "---  ------                   --------------  ----- \n",
      " 0   Id                       434 non-null    int64 \n",
      " 1   edad_porno               417 non-null    object\n",
      " 2   intencionalidad_porno    412 non-null    object\n",
      " 3   ver_porno                428 non-null    object\n",
      " 4   frec_ver_porno           79 non-null     object\n",
      " 5   tipo_porno               58 non-null     object\n",
      " 6   porno_enviado            431 non-null    object\n",
      " 7   porno_enviado_genero     290 non-null    object\n",
      " 8   porno_solicitado         427 non-null    object\n",
      " 9   porno_solicitado_genero  279 non-null    object\n",
      "dtypes: int64(1), object(9)\n",
      "memory usage: 34.0+ KB\n"
     ]
    }
   ],
   "source": [
    "porno.info()"
   ]
  },
  {
   "cell_type": "code",
   "execution_count": 27,
   "id": "clear-accuracy",
   "metadata": {},
   "outputs": [
    {
     "data": {
      "text/plain": [
       "array(['12', 'e4tr', 'No estoy segura… quizá 15', '16', 'Nunca',\n",
       "       'No lo recuerdo bien, quizás a los 14', '10', '13', '17',\n",
       "       'Unos 10  años o quizás menos ',\n",
       "       'Con 14 años vi 5 Segundos por error en el móvil de otra persona y nunca he vuelto a ver',\n",
       "       '15', '8', '15 años', '13 años.', '11', '10 aprox', '35',\n",
       "       'Nunca he visto porno', '20', 'Con 15', '18', '14', 'No recuerdo ',\n",
       "       'Sobre los 20 años', '19', '9', 'Nunca he visto',\n",
       "       'No lo recuerdo, pero muy joven, aún estaba en el colegio, ponle entre 10 y 12 años',\n",
       "       nan, '9 años', 'No me acuerdo, pero estaba en primaria', '30',\n",
       "       'no suelo verla', '6', '50', '21', 'No lo sé ',\n",
       "       '10 u 11 años. No me acuerdo. ', '7', '9 ', '5',\n",
       "       'Como curiosidad, sobre los 10 años, me la pusieron las y los amigas de la calle. ',\n",
       "       '8 años', 'En la adolescencia', 'nunca',\n",
       "       'En revistas quizas fuera una niña pequeña alrededor de los 12 años? En video sobre los 15 años un momento solamente porque los chicos del pueblo ponian el video a todo el mundo...de foema consciente queriendo creo que un par de veces con 20 años aprox',\n",
       "       '11 ', 'a los seis, siete',\n",
       "       'No recuerdo, pero ya había entrado en la pubertad', 'nunca vi',\n",
       "       '24', 'sobre los 12 creo, no lo recuerdo bien',\n",
       "       '10 (?) no me acuerdo', '7 anos', '11-12', 'No recuerdo', '9-10',\n",
       "       'No se... 13?', '10 u 11', 'A los 11 o 12', '16?', 'tipo 10 creo',\n",
       "       '8/9', '18 años ', 'A los once años. ', '16 ', 'No recuerdo. ',\n",
       "       '6/7', '10 años', '11/12', '22', 'no recuerdo', '7 años ',\n",
       "       '12 o 13 años ', 'Sobre 10 años', '26', '12-13 años',\n",
       "       'Era chiquita, menos de diez seguirísimo', '14/15',\n",
       "       'No lo recuerdo... puede que 14', 'A los 7 u 8 años',\n",
       "       'Una amiga mía nos mostró que era lo que habia descubierto y ella miraba eso junto a su prima. Éramos 7 amigas en la pijamada y todas teníamos 13 años.',\n",
       "       '4 años ', '14 -obligada por \"amigos\", me fui de la habitación-',\n",
       "       'No recuerdo, 12 +-', 'Nunca la he visto', '8 o 9 años',\n",
       "       'A los 8 años, tuve un orgasmo por la noche, al día siguiente pregunté nadie me habló del sexo y lo busqué por mí misma.',\n",
       "       'Buscarla y consumirla conscientemente a los 20. Verla accidentalmente seguro que mucho antes pero no lo recuerdo.',\n",
       "       '12-13', 'No lo se', '25', 'Creo que alrededor de los 13',\n",
       "       '15 o 16 ', 'Hentai a los 16 en una web que se llamaba minijuegos',\n",
       "       'Con mi inició en rrss', '27', 'No se supongo q a los 12 o asi',\n",
       "       'No veo pornografía. Me parece misögina',\n",
       "       '16 (fui obligada a ver)', 'De adulta, 20 y pico años',\n",
       "       'No lo recuerdo ', '8 años creo', '12 años', '23',\n",
       "       'Mayor, rollo 18/20', 'Ni idea, pero seguro que muy joven',\n",
       "       '17/18',\n",
       "       'No me acuerdo, solo recuerdo anuncios en webs cuando era pequeña',\n",
       "       '11/12 la descubrí por curiosidad, jamás me gusto ni la he consumido más alla de la curiosidad de una niña que decidio que eso le asqueaba y jamás más.',\n",
       "       '4-5', 'a los 13', '15-16', '11 (aproximadamente)',\n",
       "       'Nunca vi pornografía', '7-8',\n",
       "       'No lo recuerdo... alrededor de los 18...pero no lo sé...',\n",
       "       '9 años creo', '8-9', 'A los 13/14', '29'], dtype=object)"
      ]
     },
     "execution_count": 27,
     "metadata": {},
     "output_type": "execute_result"
    }
   ],
   "source": [
    "porno.edad_porno.unique()"
   ]
  },
  {
   "cell_type": "code",
   "execution_count": 28,
   "id": "corporate-weather",
   "metadata": {},
   "outputs": [],
   "source": [
    "replace_map_edad_porno = {'No estoy segura… quizá 15':15,\n",
    "    'No lo recuerdo bien, quizás a los 14':14, \n",
    "    'Unos 10  años o quizás menos ':10,\n",
    "    'Con 14 años vi 5 Segundos por error en el móvil de otra persona y nunca he vuelto a ver':14,\n",
    "    '15 años':15, '13 años.':13, '10 aprox':10, 'Con 15':15,\n",
    "     'Sobre los 20 años':20,\n",
    "    'No lo recuerdo, pero muy joven, aún estaba en el colegio, ponle entre 10 y 12 años':10,\n",
    "    '9 años':9, 'No me acuerdo, pero estaba en primaria':8,\n",
    "     '10 u 11 años. No me acuerdo. ':10,                     \n",
    "    'Como curiosidad, sobre los 10 años, me la pusieron las y los amigas de la calle. ':10,\n",
    "    'En la adolescencia':15,\n",
    "    'En revistas quizas fuera una niña pequeña alrededor de los 12 años? En video sobre los 15 años un momento solamente porque los chicos del pueblo ponian el video a todo el mundo...de foema consciente queriendo creo que un par de veces con 20 años aprox':12,\n",
    "    'a los seis, siete':7,'No recuerdo, pero ya había entrado en la pubertad':15,\n",
    "    'sobre los 12 creo, no lo recuerdo bien':12,'10 (?) no me acuerdo':10, '7 anos':7, '11-12':11,\n",
    "    '9-10':9,'No se... 13?':13, '10 u 11':10, 'A los 11 o 12':11, \n",
    "    '16?':16, 'tipo 10 creo':10,'11 ':11,\n",
    "    '8/9':8, '18 años ':18, 'A los once años. ':11, '16 ':16,\n",
    "    '6/7':6, '10 años':10, '11/12':11, '7 años ':7,\n",
    "    '12 o 13 años ':12, 'Sobre 10 años':10, '12-13 años':12, \n",
    "    'Era chiquita, menos de diez seguirísimo':9, '14/15':14,\n",
    "    'No lo recuerdo... puede que 14':14, 'A los 7 u 8 años':7,\n",
    "    'Una amiga mía nos mostró que era lo que habia descubierto y ella miraba eso junto a su prima. Éramos 7 amigas en la pijamada y todas teníamos 13 años.':13,\n",
    "    '4 años ':4, '14 -obligada por \"amigos\", me fui de la habitación-':14,\n",
    "    'No recuerdo, 12 +-':12,'8 o 9 años':8,                     \n",
    "   'A los 8 años, tuve un orgasmo por la noche, al día siguiente pregunté nadie me habló del sexo y lo busqué por mí misma.':8,\n",
    "    'Buscarla y consumirla conscientemente a los 20. Verla accidentalmente seguro que mucho antes pero no lo recuerdo.':20,\n",
    "    '12-13':12,  '25':25, 'Creo que alrededor de los 13':13,\n",
    "       '15 o 16 ':15, 'Hentai a los 16 en una web que se llamaba minijuegos':16,                     \n",
    "    'No se supongo q a los 12 o asi':12,'8 años':8,\n",
    "    '16 (fui obligada a ver)':16, 'De adulta, 20 y pico años':20,\n",
    "    '8 años creo':8, '12 años':12, 'Mayor, rollo 18/20':18,\n",
    "    '17/18':17,'11/12 la descubrí por curiosidad, jamás me gusto ni la he consumido más alla de la curiosidad de una niña que decidio que eso le asqueaba y jamás más.':11,\n",
    "       '4-5':5, 'a los 13':13, '15-16':15, '11 (aproximadamente)':11, \n",
    "    '7-8':7,'No lo recuerdo... alrededor de los 18...pero no lo sé...':18,\n",
    "       '9 años creo':9, '8-9':8, 'A los 13/14':13                      \n",
    "}"
   ]
  },
  {
   "cell_type": "code",
   "execution_count": 29,
   "id": "active-granny",
   "metadata": {},
   "outputs": [],
   "source": [
    "porno.edad_porno.replace(replace_map_edad_porno,inplace=True)"
   ]
  },
  {
   "cell_type": "code",
   "execution_count": 30,
   "id": "qualified-valuation",
   "metadata": {},
   "outputs": [
    {
     "data": {
      "text/plain": [
       "array(['12', 'e4tr', 15, '16', 'Nunca', 14, '10', '13', '17', 10, '15',\n",
       "       '8', 13, '11', '35', 'Nunca he visto porno', '20', '18', '14',\n",
       "       'No recuerdo ', 20, '19', '9', 'Nunca he visto', nan, 9, 8, '30',\n",
       "       'no suelo verla', '6', '50', '21', 'No lo sé ', '7', '9 ', '5',\n",
       "       'nunca', 12, 11, 7, 'nunca vi', '24', 'No recuerdo', 16, 18,\n",
       "       'No recuerdo. ', 6, '22', 'no recuerdo', '26', 4,\n",
       "       'Nunca la he visto', 'No lo se', 25, 'Con mi inició en rrss', '27',\n",
       "       'No veo pornografía. Me parece misögina', 'No lo recuerdo ', '23',\n",
       "       'Ni idea, pero seguro que muy joven', 17,\n",
       "       'No me acuerdo, solo recuerdo anuncios en webs cuando era pequeña',\n",
       "       5, 'Nunca vi pornografía', '29'], dtype=object)"
      ]
     },
     "execution_count": 30,
     "metadata": {},
     "output_type": "execute_result"
    }
   ],
   "source": [
    "porno.edad_porno.unique()"
   ]
  },
  {
   "cell_type": "code",
   "execution_count": 31,
   "id": "lined-industry",
   "metadata": {},
   "outputs": [
    {
     "data": {
      "text/html": [
       "<div>\n",
       "<style scoped>\n",
       "    .dataframe tbody tr th:only-of-type {\n",
       "        vertical-align: middle;\n",
       "    }\n",
       "\n",
       "    .dataframe tbody tr th {\n",
       "        vertical-align: top;\n",
       "    }\n",
       "\n",
       "    .dataframe thead th {\n",
       "        text-align: right;\n",
       "    }\n",
       "</style>\n",
       "<table border=\"1\" class=\"dataframe\">\n",
       "  <thead>\n",
       "    <tr style=\"text-align: right;\">\n",
       "      <th></th>\n",
       "      <th>Id</th>\n",
       "      <th>edad_porno</th>\n",
       "      <th>intencionalidad_porno</th>\n",
       "      <th>ver_porno</th>\n",
       "      <th>frec_ver_porno</th>\n",
       "      <th>tipo_porno</th>\n",
       "      <th>porno_enviado</th>\n",
       "      <th>porno_enviado_genero</th>\n",
       "      <th>porno_solicitado</th>\n",
       "      <th>porno_solicitado_genero</th>\n",
       "    </tr>\n",
       "  </thead>\n",
       "  <tbody>\n",
       "    <tr>\n",
       "      <th>1</th>\n",
       "      <td>1</td>\n",
       "      <td>e4tr</td>\n",
       "      <td>No intencionada</td>\n",
       "      <td>Sí, intencionalmente.</td>\n",
       "      <td>Varias veces por semana</td>\n",
       "      <td>NaN</td>\n",
       "      <td>No</td>\n",
       "      <td>Hombre</td>\n",
       "      <td>NaN</td>\n",
       "      <td>NaN</td>\n",
       "    </tr>\n",
       "    <tr>\n",
       "      <th>5</th>\n",
       "      <td>5</td>\n",
       "      <td>Nunca</td>\n",
       "      <td>NaN</td>\n",
       "      <td>No.</td>\n",
       "      <td>NaN</td>\n",
       "      <td>NaN</td>\n",
       "      <td>No</td>\n",
       "      <td>NaN</td>\n",
       "      <td>No</td>\n",
       "      <td>NaN</td>\n",
       "    </tr>\n",
       "    <tr>\n",
       "      <th>29</th>\n",
       "      <td>29</td>\n",
       "      <td>Nunca he visto porno</td>\n",
       "      <td>NaN</td>\n",
       "      <td>No.</td>\n",
       "      <td>NaN</td>\n",
       "      <td>NaN</td>\n",
       "      <td>No</td>\n",
       "      <td>NaN</td>\n",
       "      <td>No</td>\n",
       "      <td>NaN</td>\n",
       "    </tr>\n",
       "    <tr>\n",
       "      <th>43</th>\n",
       "      <td>43</td>\n",
       "      <td>No recuerdo</td>\n",
       "      <td>Intencionada</td>\n",
       "      <td>No.</td>\n",
       "      <td>NaN</td>\n",
       "      <td>NaN</td>\n",
       "      <td>Sí</td>\n",
       "      <td>Hombre</td>\n",
       "      <td>Sí</td>\n",
       "      <td>Mujer</td>\n",
       "    </tr>\n",
       "    <tr>\n",
       "      <th>45</th>\n",
       "      <td>45</td>\n",
       "      <td>Nunca</td>\n",
       "      <td>NaN</td>\n",
       "      <td>No.</td>\n",
       "      <td>NaN</td>\n",
       "      <td>NaN</td>\n",
       "      <td>Sí</td>\n",
       "      <td>Hombre</td>\n",
       "      <td>Sí</td>\n",
       "      <td>Hombre;Mujer</td>\n",
       "    </tr>\n",
       "    <tr>\n",
       "      <th>51</th>\n",
       "      <td>51</td>\n",
       "      <td>Nunca he visto</td>\n",
       "      <td>NaN</td>\n",
       "      <td>No.</td>\n",
       "      <td>NaN</td>\n",
       "      <td>NaN</td>\n",
       "      <td>Sí</td>\n",
       "      <td>Hombre</td>\n",
       "      <td>Sí</td>\n",
       "      <td>Hombre</td>\n",
       "    </tr>\n",
       "    <tr>\n",
       "      <th>70</th>\n",
       "      <td>70</td>\n",
       "      <td>no suelo verla</td>\n",
       "      <td>No intencionada</td>\n",
       "      <td>No.</td>\n",
       "      <td>NaN</td>\n",
       "      <td>NaN</td>\n",
       "      <td>No</td>\n",
       "      <td>NaN</td>\n",
       "      <td>No</td>\n",
       "      <td>NaN</td>\n",
       "    </tr>\n",
       "    <tr>\n",
       "      <th>82</th>\n",
       "      <td>82</td>\n",
       "      <td>No lo sé</td>\n",
       "      <td>No intencionada</td>\n",
       "      <td>No.</td>\n",
       "      <td>NaN</td>\n",
       "      <td>NaN</td>\n",
       "      <td>Sí</td>\n",
       "      <td>Hombre</td>\n",
       "      <td>Sí</td>\n",
       "      <td>Hombre</td>\n",
       "    </tr>\n",
       "    <tr>\n",
       "      <th>111</th>\n",
       "      <td>111</td>\n",
       "      <td>nunca</td>\n",
       "      <td>No intencionada</td>\n",
       "      <td>No.</td>\n",
       "      <td>NaN</td>\n",
       "      <td>NaN</td>\n",
       "      <td>Sí</td>\n",
       "      <td>Hombre</td>\n",
       "      <td>Sí</td>\n",
       "      <td>Hombre</td>\n",
       "    </tr>\n",
       "    <tr>\n",
       "      <th>119</th>\n",
       "      <td>119</td>\n",
       "      <td>Nunca</td>\n",
       "      <td>NaN</td>\n",
       "      <td>No.</td>\n",
       "      <td>NaN</td>\n",
       "      <td>NaN</td>\n",
       "      <td>No</td>\n",
       "      <td>NaN</td>\n",
       "      <td>No</td>\n",
       "      <td>NaN</td>\n",
       "    </tr>\n",
       "    <tr>\n",
       "      <th>133</th>\n",
       "      <td>133</td>\n",
       "      <td>Nunca</td>\n",
       "      <td>No intencionada</td>\n",
       "      <td>No.</td>\n",
       "      <td>NaN</td>\n",
       "      <td>NaN</td>\n",
       "      <td>Sí</td>\n",
       "      <td>Hombre</td>\n",
       "      <td>Sí</td>\n",
       "      <td>Hombre</td>\n",
       "    </tr>\n",
       "    <tr>\n",
       "      <th>135</th>\n",
       "      <td>135</td>\n",
       "      <td>nunca vi</td>\n",
       "      <td>NaN</td>\n",
       "      <td>No.</td>\n",
       "      <td>NaN</td>\n",
       "      <td>NaN</td>\n",
       "      <td>Sí</td>\n",
       "      <td>Hombre</td>\n",
       "      <td>Sí</td>\n",
       "      <td>Hombre</td>\n",
       "    </tr>\n",
       "    <tr>\n",
       "      <th>140</th>\n",
       "      <td>140</td>\n",
       "      <td>nunca</td>\n",
       "      <td>No intencionada</td>\n",
       "      <td>No.</td>\n",
       "      <td>NaN</td>\n",
       "      <td>NaN</td>\n",
       "      <td>Sí</td>\n",
       "      <td>Hombre</td>\n",
       "      <td>Sí</td>\n",
       "      <td>Hombre</td>\n",
       "    </tr>\n",
       "    <tr>\n",
       "      <th>143</th>\n",
       "      <td>143</td>\n",
       "      <td>Nunca</td>\n",
       "      <td>NaN</td>\n",
       "      <td>No.</td>\n",
       "      <td>NaN</td>\n",
       "      <td>NaN</td>\n",
       "      <td>No</td>\n",
       "      <td>NaN</td>\n",
       "      <td>No</td>\n",
       "      <td>NaN</td>\n",
       "    </tr>\n",
       "    <tr>\n",
       "      <th>153</th>\n",
       "      <td>153</td>\n",
       "      <td>No recuerdo</td>\n",
       "      <td>No intencionada</td>\n",
       "      <td>No.</td>\n",
       "      <td>NaN</td>\n",
       "      <td>NaN</td>\n",
       "      <td>Sí</td>\n",
       "      <td>Hombre</td>\n",
       "      <td>No</td>\n",
       "      <td>NaN</td>\n",
       "    </tr>\n",
       "    <tr>\n",
       "      <th>181</th>\n",
       "      <td>181</td>\n",
       "      <td>No recuerdo.</td>\n",
       "      <td>No intencionada</td>\n",
       "      <td>No.</td>\n",
       "      <td>NaN</td>\n",
       "      <td>NaN</td>\n",
       "      <td>No</td>\n",
       "      <td>NaN</td>\n",
       "      <td>Sí</td>\n",
       "      <td>Hombre</td>\n",
       "    </tr>\n",
       "    <tr>\n",
       "      <th>187</th>\n",
       "      <td>187</td>\n",
       "      <td>nunca</td>\n",
       "      <td>NaN</td>\n",
       "      <td>NaN</td>\n",
       "      <td>NaN</td>\n",
       "      <td>NaN</td>\n",
       "      <td>No</td>\n",
       "      <td>NaN</td>\n",
       "      <td>Sí</td>\n",
       "      <td>Hombre</td>\n",
       "    </tr>\n",
       "    <tr>\n",
       "      <th>195</th>\n",
       "      <td>195</td>\n",
       "      <td>Nunca</td>\n",
       "      <td>No intencionada</td>\n",
       "      <td>No.</td>\n",
       "      <td>NaN</td>\n",
       "      <td>NaN</td>\n",
       "      <td>No</td>\n",
       "      <td>NaN</td>\n",
       "      <td>No</td>\n",
       "      <td>NaN</td>\n",
       "    </tr>\n",
       "    <tr>\n",
       "      <th>213</th>\n",
       "      <td>213</td>\n",
       "      <td>no recuerdo</td>\n",
       "      <td>No intencionada</td>\n",
       "      <td>Sí, intencionalmente.</td>\n",
       "      <td>Varias veces por semana</td>\n",
       "      <td>NaN</td>\n",
       "      <td>No</td>\n",
       "      <td>NaN</td>\n",
       "      <td>Sí</td>\n",
       "      <td>Hombre;Mujer</td>\n",
       "    </tr>\n",
       "    <tr>\n",
       "      <th>224</th>\n",
       "      <td>224</td>\n",
       "      <td>No recuerdo</td>\n",
       "      <td>No intencionada</td>\n",
       "      <td>No.</td>\n",
       "      <td>NaN</td>\n",
       "      <td>NaN</td>\n",
       "      <td>Sí</td>\n",
       "      <td>Hombre</td>\n",
       "      <td>Sí</td>\n",
       "      <td>Hombre</td>\n",
       "    </tr>\n",
       "    <tr>\n",
       "      <th>284</th>\n",
       "      <td>284</td>\n",
       "      <td>Nunca la he visto</td>\n",
       "      <td>NaN</td>\n",
       "      <td>No.</td>\n",
       "      <td>NaN</td>\n",
       "      <td>NaN</td>\n",
       "      <td>Sí</td>\n",
       "      <td>Hombre</td>\n",
       "      <td>No</td>\n",
       "      <td>NaN</td>\n",
       "    </tr>\n",
       "    <tr>\n",
       "      <th>311</th>\n",
       "      <td>311</td>\n",
       "      <td>No lo se</td>\n",
       "      <td>No intencionada</td>\n",
       "      <td>No.</td>\n",
       "      <td>NaN</td>\n",
       "      <td>NaN</td>\n",
       "      <td>Sí</td>\n",
       "      <td>Hombre</td>\n",
       "      <td>No</td>\n",
       "      <td>NaN</td>\n",
       "    </tr>\n",
       "    <tr>\n",
       "      <th>322</th>\n",
       "      <td>322</td>\n",
       "      <td>Con mi inició en rrss</td>\n",
       "      <td>No intencionada</td>\n",
       "      <td>No.</td>\n",
       "      <td>NaN</td>\n",
       "      <td>NaN</td>\n",
       "      <td>No</td>\n",
       "      <td>NaN</td>\n",
       "      <td>No</td>\n",
       "      <td>NaN</td>\n",
       "    </tr>\n",
       "    <tr>\n",
       "      <th>333</th>\n",
       "      <td>333</td>\n",
       "      <td>No veo pornografía. Me parece misögina</td>\n",
       "      <td>No intencionada</td>\n",
       "      <td>No.</td>\n",
       "      <td>NaN</td>\n",
       "      <td>NaN</td>\n",
       "      <td>No</td>\n",
       "      <td>NaN</td>\n",
       "      <td>No</td>\n",
       "      <td>NaN</td>\n",
       "    </tr>\n",
       "    <tr>\n",
       "      <th>345</th>\n",
       "      <td>345</td>\n",
       "      <td>No lo recuerdo</td>\n",
       "      <td>No intencionada</td>\n",
       "      <td>Sí, intencionalmente.</td>\n",
       "      <td>Varias veces al mes</td>\n",
       "      <td>Heterosexual</td>\n",
       "      <td>Sí</td>\n",
       "      <td>Mujer</td>\n",
       "      <td>Sí</td>\n",
       "      <td>Hombre</td>\n",
       "    </tr>\n",
       "    <tr>\n",
       "      <th>372</th>\n",
       "      <td>372</td>\n",
       "      <td>Ni idea, pero seguro que muy joven</td>\n",
       "      <td>No intencionada</td>\n",
       "      <td>No.</td>\n",
       "      <td>NaN</td>\n",
       "      <td>NaN</td>\n",
       "      <td>Sí</td>\n",
       "      <td>Hombre</td>\n",
       "      <td>No</td>\n",
       "      <td>NaN</td>\n",
       "    </tr>\n",
       "    <tr>\n",
       "      <th>377</th>\n",
       "      <td>377</td>\n",
       "      <td>Nunca</td>\n",
       "      <td>NaN</td>\n",
       "      <td>No.</td>\n",
       "      <td>NaN</td>\n",
       "      <td>NaN</td>\n",
       "      <td>No</td>\n",
       "      <td>NaN</td>\n",
       "      <td>No</td>\n",
       "      <td>NaN</td>\n",
       "    </tr>\n",
       "    <tr>\n",
       "      <th>382</th>\n",
       "      <td>382</td>\n",
       "      <td>No me acuerdo, solo recuerdo anuncios en webs ...</td>\n",
       "      <td>No intencionada</td>\n",
       "      <td>No.</td>\n",
       "      <td>NaN</td>\n",
       "      <td>NaN</td>\n",
       "      <td>No</td>\n",
       "      <td>NaN</td>\n",
       "      <td>No</td>\n",
       "      <td>NaN</td>\n",
       "    </tr>\n",
       "    <tr>\n",
       "      <th>400</th>\n",
       "      <td>400</td>\n",
       "      <td>Nunca</td>\n",
       "      <td>NaN</td>\n",
       "      <td>No.</td>\n",
       "      <td>NaN</td>\n",
       "      <td>NaN</td>\n",
       "      <td>No</td>\n",
       "      <td>NaN</td>\n",
       "      <td>No</td>\n",
       "      <td>NaN</td>\n",
       "    </tr>\n",
       "    <tr>\n",
       "      <th>404</th>\n",
       "      <td>404</td>\n",
       "      <td>Nunca vi pornografía</td>\n",
       "      <td>NaN</td>\n",
       "      <td>No.</td>\n",
       "      <td>NaN</td>\n",
       "      <td>NaN</td>\n",
       "      <td>No</td>\n",
       "      <td>NaN</td>\n",
       "      <td>No</td>\n",
       "      <td>NaN</td>\n",
       "    </tr>\n",
       "    <tr>\n",
       "      <th>407</th>\n",
       "      <td>407</td>\n",
       "      <td>Nunca he visto</td>\n",
       "      <td>Intencionada</td>\n",
       "      <td>No.</td>\n",
       "      <td>NaN</td>\n",
       "      <td>NaN</td>\n",
       "      <td>Sí</td>\n",
       "      <td>Hombre</td>\n",
       "      <td>Sí</td>\n",
       "      <td>Hombre</td>\n",
       "    </tr>\n",
       "    <tr>\n",
       "      <th>427</th>\n",
       "      <td>427</td>\n",
       "      <td>No recuerdo</td>\n",
       "      <td>NaN</td>\n",
       "      <td>No.</td>\n",
       "      <td>NaN</td>\n",
       "      <td>NaN</td>\n",
       "      <td>Sí</td>\n",
       "      <td>Hombre</td>\n",
       "      <td>Sí</td>\n",
       "      <td>Hombre</td>\n",
       "    </tr>\n",
       "  </tbody>\n",
       "</table>\n",
       "</div>"
      ],
      "text/plain": [
       "      Id                                         edad_porno  \\\n",
       "1      1                                               e4tr   \n",
       "5      5                                              Nunca   \n",
       "29    29                               Nunca he visto porno   \n",
       "43    43                                       No recuerdo    \n",
       "45    45                                              Nunca   \n",
       "51    51                                     Nunca he visto   \n",
       "70    70                                     no suelo verla   \n",
       "82    82                                          No lo sé    \n",
       "111  111                                              nunca   \n",
       "119  119                                              Nunca   \n",
       "133  133                                              Nunca   \n",
       "135  135                                           nunca vi   \n",
       "140  140                                              nunca   \n",
       "143  143                                              Nunca   \n",
       "153  153                                        No recuerdo   \n",
       "181  181                                      No recuerdo.    \n",
       "187  187                                              nunca   \n",
       "195  195                                              Nunca   \n",
       "213  213                                        no recuerdo   \n",
       "224  224                                        No recuerdo   \n",
       "284  284                                  Nunca la he visto   \n",
       "311  311                                           No lo se   \n",
       "322  322                              Con mi inició en rrss   \n",
       "333  333             No veo pornografía. Me parece misögina   \n",
       "345  345                                    No lo recuerdo    \n",
       "372  372                 Ni idea, pero seguro que muy joven   \n",
       "377  377                                              Nunca   \n",
       "382  382  No me acuerdo, solo recuerdo anuncios en webs ...   \n",
       "400  400                                              Nunca   \n",
       "404  404                               Nunca vi pornografía   \n",
       "407  407                                     Nunca he visto   \n",
       "427  427                                       No recuerdo    \n",
       "\n",
       "    intencionalidad_porno              ver_porno           frec_ver_porno  \\\n",
       "1         No intencionada  Sí, intencionalmente.  Varias veces por semana   \n",
       "5                     NaN                    No.                      NaN   \n",
       "29                    NaN                    No.                      NaN   \n",
       "43           Intencionada                    No.                      NaN   \n",
       "45                    NaN                    No.                      NaN   \n",
       "51                    NaN                    No.                      NaN   \n",
       "70        No intencionada                    No.                      NaN   \n",
       "82        No intencionada                    No.                      NaN   \n",
       "111       No intencionada                    No.                      NaN   \n",
       "119                   NaN                    No.                      NaN   \n",
       "133       No intencionada                    No.                      NaN   \n",
       "135                   NaN                    No.                      NaN   \n",
       "140       No intencionada                    No.                      NaN   \n",
       "143                   NaN                    No.                      NaN   \n",
       "153       No intencionada                    No.                      NaN   \n",
       "181       No intencionada                    No.                      NaN   \n",
       "187                   NaN                    NaN                      NaN   \n",
       "195       No intencionada                    No.                      NaN   \n",
       "213       No intencionada  Sí, intencionalmente.  Varias veces por semana   \n",
       "224       No intencionada                    No.                      NaN   \n",
       "284                   NaN                    No.                      NaN   \n",
       "311       No intencionada                    No.                      NaN   \n",
       "322       No intencionada                    No.                      NaN   \n",
       "333       No intencionada                    No.                      NaN   \n",
       "345       No intencionada  Sí, intencionalmente.      Varias veces al mes   \n",
       "372       No intencionada                    No.                      NaN   \n",
       "377                   NaN                    No.                      NaN   \n",
       "382       No intencionada                    No.                      NaN   \n",
       "400                   NaN                    No.                      NaN   \n",
       "404                   NaN                    No.                      NaN   \n",
       "407          Intencionada                    No.                      NaN   \n",
       "427                   NaN                    No.                      NaN   \n",
       "\n",
       "       tipo_porno porno_enviado porno_enviado_genero porno_solicitado  \\\n",
       "1             NaN            No               Hombre              NaN   \n",
       "5             NaN            No                  NaN               No   \n",
       "29            NaN            No                  NaN               No   \n",
       "43            NaN            Sí               Hombre               Sí   \n",
       "45            NaN            Sí               Hombre               Sí   \n",
       "51            NaN            Sí               Hombre               Sí   \n",
       "70            NaN            No                  NaN               No   \n",
       "82            NaN            Sí               Hombre               Sí   \n",
       "111           NaN            Sí               Hombre               Sí   \n",
       "119           NaN            No                  NaN               No   \n",
       "133           NaN            Sí               Hombre               Sí   \n",
       "135           NaN            Sí               Hombre               Sí   \n",
       "140           NaN            Sí               Hombre               Sí   \n",
       "143           NaN            No                  NaN               No   \n",
       "153           NaN            Sí               Hombre               No   \n",
       "181           NaN            No                  NaN               Sí   \n",
       "187           NaN            No                  NaN               Sí   \n",
       "195           NaN            No                  NaN               No   \n",
       "213           NaN            No                  NaN               Sí   \n",
       "224           NaN            Sí               Hombre               Sí   \n",
       "284           NaN            Sí               Hombre               No   \n",
       "311           NaN            Sí               Hombre               No   \n",
       "322           NaN            No                  NaN               No   \n",
       "333           NaN            No                  NaN               No   \n",
       "345  Heterosexual            Sí                Mujer               Sí   \n",
       "372           NaN            Sí               Hombre               No   \n",
       "377           NaN            No                  NaN               No   \n",
       "382           NaN            No                  NaN               No   \n",
       "400           NaN            No                  NaN               No   \n",
       "404           NaN            No                  NaN               No   \n",
       "407           NaN            Sí               Hombre               Sí   \n",
       "427           NaN            Sí               Hombre               Sí   \n",
       "\n",
       "    porno_solicitado_genero  \n",
       "1                       NaN  \n",
       "5                       NaN  \n",
       "29                      NaN  \n",
       "43                    Mujer  \n",
       "45             Hombre;Mujer  \n",
       "51                   Hombre  \n",
       "70                      NaN  \n",
       "82                   Hombre  \n",
       "111                  Hombre  \n",
       "119                     NaN  \n",
       "133                  Hombre  \n",
       "135                  Hombre  \n",
       "140                  Hombre  \n",
       "143                     NaN  \n",
       "153                     NaN  \n",
       "181                  Hombre  \n",
       "187                  Hombre  \n",
       "195                     NaN  \n",
       "213            Hombre;Mujer  \n",
       "224                  Hombre  \n",
       "284                     NaN  \n",
       "311                     NaN  \n",
       "322                     NaN  \n",
       "333                     NaN  \n",
       "345                  Hombre  \n",
       "372                     NaN  \n",
       "377                     NaN  \n",
       "382                     NaN  \n",
       "400                     NaN  \n",
       "404                     NaN  \n",
       "407                  Hombre  \n",
       "427                  Hombre  "
      ]
     },
     "execution_count": 31,
     "metadata": {},
     "output_type": "execute_result"
    }
   ],
   "source": [
    "to_drop =porno[(porno.edad_porno=='e4tr')|(porno.edad_porno=='Nunca')|\n",
    "              (porno.edad_porno=='Nunca he visto porno')|(porno.edad_porno=='No recuerdo ')|\n",
    "              (porno.edad_porno=='Nunca he visto')|(porno.edad_porno=='no suelo verla')|\n",
    "              (porno.edad_porno=='No lo sé ')|(porno.edad_porno=='nunca')|\n",
    "              (porno.edad_porno=='nunca vi')|(porno.edad_porno=='No recuerdo')|\n",
    "              (porno.edad_porno=='No recuerdo. ')|(porno.edad_porno=='no recuerdo')|\n",
    "              (porno.edad_porno=='Nunca la he visto')|(porno.edad_porno=='No lo se')|\n",
    "              (porno.edad_porno=='Con mi inició en rrss')|(porno.edad_porno=='No veo pornografía. Me parece misögina')|\n",
    "              (porno.edad_porno=='No lo recuerdo ')|(porno.edad_porno=='Ni idea, pero seguro que muy joven')|\n",
    "              (porno.edad_porno=='No me acuerdo, solo recuerdo anuncios en webs cuando era pequeña')|(porno.edad_porno=='Nunca vi pornografía')]\n",
    "to_drop"
   ]
  },
  {
   "cell_type": "code",
   "execution_count": 32,
   "id": "prospective-bracket",
   "metadata": {},
   "outputs": [],
   "source": [
    "porno = porno.drop(porno.Id[1])\n",
    "porno = porno.drop(porno.Id[5])\n",
    "porno = porno.drop(porno.Id[29])\n",
    "porno = porno.drop(porno.Id[43])\n",
    "porno = porno.drop(porno.Id[45])\n",
    "porno = porno.drop(porno.Id[51])\n",
    "porno = porno.drop(porno.Id[70])\n",
    "porno = porno.drop(porno.Id[82])\n",
    "porno = porno.drop(porno.Id[111])\n",
    "porno = porno.drop(porno.Id[119])\n",
    "porno = porno.drop(porno.Id[133])\n",
    "porno = porno.drop(porno.Id[135])\n",
    "porno = porno.drop(porno.Id[140])\n",
    "porno = porno.drop(porno.Id[143])\n",
    "porno = porno.drop(porno.Id[153])\n",
    "porno = porno.drop(porno.Id[181])\n",
    "porno = porno.drop(porno.Id[187])\n",
    "porno = porno.drop(porno.Id[195])\n",
    "porno = porno.drop(porno.Id[224])\n",
    "porno = porno.drop(porno.Id[284])\n",
    "porno = porno.drop(porno.Id[311])\n",
    "porno = porno.drop(porno.Id[322])\n",
    "porno = porno.drop(porno.Id[333])\n",
    "porno = porno.drop(porno.Id[372])\n",
    "porno = porno.drop(porno.Id[377])\n",
    "porno = porno.drop(porno.Id[382])\n",
    "porno = porno.drop(porno.Id[400])\n",
    "porno = porno.drop(porno.Id[404])\n",
    "porno = porno.drop(porno.Id[407])\n",
    "porno = porno.drop(porno.Id[427])"
   ]
  },
  {
   "cell_type": "code",
   "execution_count": 33,
   "id": "surprised-parameter",
   "metadata": {},
   "outputs": [
    {
     "data": {
      "text/html": [
       "<div>\n",
       "<style scoped>\n",
       "    .dataframe tbody tr th:only-of-type {\n",
       "        vertical-align: middle;\n",
       "    }\n",
       "\n",
       "    .dataframe tbody tr th {\n",
       "        vertical-align: top;\n",
       "    }\n",
       "\n",
       "    .dataframe thead th {\n",
       "        text-align: right;\n",
       "    }\n",
       "</style>\n",
       "<table border=\"1\" class=\"dataframe\">\n",
       "  <thead>\n",
       "    <tr style=\"text-align: right;\">\n",
       "      <th></th>\n",
       "      <th>Id</th>\n",
       "      <th>edad_porno</th>\n",
       "      <th>intencionalidad_porno</th>\n",
       "      <th>ver_porno</th>\n",
       "      <th>frec_ver_porno</th>\n",
       "      <th>tipo_porno</th>\n",
       "      <th>porno_enviado</th>\n",
       "      <th>porno_enviado_genero</th>\n",
       "      <th>porno_solicitado</th>\n",
       "      <th>porno_solicitado_genero</th>\n",
       "    </tr>\n",
       "  </thead>\n",
       "  <tbody>\n",
       "    <tr>\n",
       "      <th>213</th>\n",
       "      <td>213</td>\n",
       "      <td>no recuerdo</td>\n",
       "      <td>No intencionada</td>\n",
       "      <td>Sí, intencionalmente.</td>\n",
       "      <td>Varias veces por semana</td>\n",
       "      <td>NaN</td>\n",
       "      <td>No</td>\n",
       "      <td>NaN</td>\n",
       "      <td>Sí</td>\n",
       "      <td>Hombre;Mujer</td>\n",
       "    </tr>\n",
       "    <tr>\n",
       "      <th>345</th>\n",
       "      <td>345</td>\n",
       "      <td>No lo recuerdo</td>\n",
       "      <td>No intencionada</td>\n",
       "      <td>Sí, intencionalmente.</td>\n",
       "      <td>Varias veces al mes</td>\n",
       "      <td>Heterosexual</td>\n",
       "      <td>Sí</td>\n",
       "      <td>Mujer</td>\n",
       "      <td>Sí</td>\n",
       "      <td>Hombre</td>\n",
       "    </tr>\n",
       "  </tbody>\n",
       "</table>\n",
       "</div>"
      ],
      "text/plain": [
       "      Id       edad_porno intencionalidad_porno              ver_porno  \\\n",
       "213  213      no recuerdo       No intencionada  Sí, intencionalmente.   \n",
       "345  345  No lo recuerdo        No intencionada  Sí, intencionalmente.   \n",
       "\n",
       "              frec_ver_porno    tipo_porno porno_enviado porno_enviado_genero  \\\n",
       "213  Varias veces por semana           NaN            No                  NaN   \n",
       "345      Varias veces al mes  Heterosexual            Sí                Mujer   \n",
       "\n",
       "    porno_solicitado porno_solicitado_genero  \n",
       "213               Sí            Hombre;Mujer  \n",
       "345               Sí                  Hombre  "
      ]
     },
     "execution_count": 33,
     "metadata": {},
     "output_type": "execute_result"
    }
   ],
   "source": [
    "to_check = porno[(porno.Id==213)|(porno.Id==345)]\n",
    "to_check"
   ]
  },
  {
   "cell_type": "code",
   "execution_count": 34,
   "id": "living-steal",
   "metadata": {},
   "outputs": [],
   "source": [
    "porno.loc[213,'edad_porno']=14\n",
    "porno.loc[345,'edad_porno']=13"
   ]
  },
  {
   "cell_type": "code",
   "execution_count": 35,
   "id": "optimum-reading",
   "metadata": {},
   "outputs": [],
   "source": [
    "porno.edad_porno=porno.edad_porno.astype('float')"
   ]
  },
  {
   "cell_type": "code",
   "execution_count": 36,
   "id": "annoying-dayton",
   "metadata": {},
   "outputs": [
    {
     "name": "stdout",
     "output_type": "stream",
     "text": [
      "<class 'pandas.core.frame.DataFrame'>\n",
      "Int64Index: 404 entries, 0 to 433\n",
      "Data columns (total 10 columns):\n",
      " #   Column                   Non-Null Count  Dtype  \n",
      "---  ------                   --------------  -----  \n",
      " 0   Id                       404 non-null    int64  \n",
      " 1   edad_porno               387 non-null    float64\n",
      " 2   intencionalidad_porno    395 non-null    object \n",
      " 3   ver_porno                399 non-null    object \n",
      " 4   frec_ver_porno           78 non-null     object \n",
      " 5   tipo_porno               58 non-null     object \n",
      " 6   porno_enviado            401 non-null    object \n",
      " 7   porno_enviado_genero     274 non-null    object \n",
      " 8   porno_solicitado         398 non-null    object \n",
      " 9   porno_solicitado_genero  266 non-null    object \n",
      "dtypes: float64(1), int64(1), object(8)\n",
      "memory usage: 50.9+ KB\n"
     ]
    }
   ],
   "source": [
    "porno.info()"
   ]
  },
  {
   "cell_type": "code",
   "execution_count": 37,
   "id": "instructional-district",
   "metadata": {},
   "outputs": [
    {
     "data": {
      "text/plain": [
       "No.                                 321\n",
       "Sí, intencionalmente.                71\n",
       "Sí, pero no por voluntad propia.      7\n",
       "Name: ver_porno, dtype: int64"
      ]
     },
     "execution_count": 37,
     "metadata": {},
     "output_type": "execute_result"
    }
   ],
   "source": [
    "porno.ver_porno.value_counts()"
   ]
  },
  {
   "cell_type": "code",
   "execution_count": 38,
   "id": "light-language",
   "metadata": {},
   "outputs": [],
   "source": [
    "ven_porno = porno[(porno.ver_porno=='Sí, intencionalmente.')|(porno.ver_porno=='Sí, pero no por voluntad propia.')]"
   ]
  },
  {
   "cell_type": "code",
   "execution_count": 39,
   "id": "resident-psychology",
   "metadata": {},
   "outputs": [],
   "source": [
    "#ven_porno.to_csv('mujeres_ven_porno.csv')"
   ]
  },
  {
   "cell_type": "code",
   "execution_count": 40,
   "id": "worth-infection",
   "metadata": {},
   "outputs": [
    {
     "name": "stdout",
     "output_type": "stream",
     "text": [
      "<class 'pandas.core.frame.DataFrame'>\n",
      "Int64Index: 78 entries, 3 to 430\n",
      "Data columns (total 10 columns):\n",
      " #   Column                   Non-Null Count  Dtype  \n",
      "---  ------                   --------------  -----  \n",
      " 0   Id                       78 non-null     int64  \n",
      " 1   edad_porno               76 non-null     float64\n",
      " 2   intencionalidad_porno    78 non-null     object \n",
      " 3   ver_porno                78 non-null     object \n",
      " 4   frec_ver_porno           78 non-null     object \n",
      " 5   tipo_porno               58 non-null     object \n",
      " 6   porno_enviado            78 non-null     object \n",
      " 7   porno_enviado_genero     44 non-null     object \n",
      " 8   porno_solicitado         77 non-null     object \n",
      " 9   porno_solicitado_genero  55 non-null     object \n",
      "dtypes: float64(1), int64(1), object(8)\n",
      "memory usage: 6.7+ KB\n"
     ]
    }
   ],
   "source": [
    "ven_porno.info()"
   ]
  },
  {
   "cell_type": "code",
   "execution_count": 41,
   "id": "valued-community",
   "metadata": {},
   "outputs": [],
   "source": [
    "porno.loc[porno.intencionalidad_porno=='No intencionada','intencionalidad_porno']=0\n",
    "porno.loc[porno.intencionalidad_porno=='Intencionada','intencionalidad_porno']=1"
   ]
  },
  {
   "cell_type": "code",
   "execution_count": 42,
   "id": "filled-scholar",
   "metadata": {},
   "outputs": [
    {
     "data": {
      "text/plain": [
       "0    225\n",
       "1    170\n",
       "Name: intencionalidad_porno, dtype: int64"
      ]
     },
     "execution_count": 42,
     "metadata": {},
     "output_type": "execute_result"
    }
   ],
   "source": [
    "porno.intencionalidad_porno.value_counts()"
   ]
  },
  {
   "cell_type": "code",
   "execution_count": 43,
   "id": "successful-trader",
   "metadata": {},
   "outputs": [],
   "source": [
    "porno.loc[porno.ver_porno=='No.','ver_porno']=0\n",
    "porno.loc[porno.ver_porno=='Sí, intencionalmente.','ver_porno']=1\n",
    "porno.loc[porno.ver_porno=='Sí, pero no por voluntad propia.','ver_porno']=1"
   ]
  },
  {
   "cell_type": "code",
   "execution_count": 44,
   "id": "statistical-bicycle",
   "metadata": {},
   "outputs": [
    {
     "data": {
      "text/plain": [
       "0    321\n",
       "1     78\n",
       "Name: ver_porno, dtype: int64"
      ]
     },
     "execution_count": 44,
     "metadata": {},
     "output_type": "execute_result"
    }
   ],
   "source": [
    "porno.ver_porno.value_counts()"
   ]
  },
  {
   "cell_type": "code",
   "execution_count": 45,
   "id": "purple-madrid",
   "metadata": {},
   "outputs": [],
   "source": [
    "porno.ver_porno = porno.ver_porno.astype('float')"
   ]
  },
  {
   "cell_type": "code",
   "execution_count": 46,
   "id": "sweet-league",
   "metadata": {},
   "outputs": [
    {
     "data": {
      "text/html": [
       "<div>\n",
       "<style scoped>\n",
       "    .dataframe tbody tr th:only-of-type {\n",
       "        vertical-align: middle;\n",
       "    }\n",
       "\n",
       "    .dataframe tbody tr th {\n",
       "        vertical-align: top;\n",
       "    }\n",
       "\n",
       "    .dataframe thead th {\n",
       "        text-align: right;\n",
       "    }\n",
       "</style>\n",
       "<table border=\"1\" class=\"dataframe\">\n",
       "  <thead>\n",
       "    <tr style=\"text-align: right;\">\n",
       "      <th></th>\n",
       "      <th>Id</th>\n",
       "      <th>edad_porno</th>\n",
       "      <th>intencionalidad_porno</th>\n",
       "      <th>ver_porno</th>\n",
       "      <th>frec_ver_porno</th>\n",
       "      <th>tipo_porno</th>\n",
       "      <th>porno_enviado</th>\n",
       "      <th>porno_enviado_genero</th>\n",
       "      <th>porno_solicitado</th>\n",
       "      <th>porno_solicitado_genero</th>\n",
       "    </tr>\n",
       "  </thead>\n",
       "  <tbody>\n",
       "    <tr>\n",
       "      <th>0</th>\n",
       "      <td>0</td>\n",
       "      <td>12.0</td>\n",
       "      <td>1</td>\n",
       "      <td>0.0</td>\n",
       "      <td>NaN</td>\n",
       "      <td>NaN</td>\n",
       "      <td>Sí</td>\n",
       "      <td>Hombre</td>\n",
       "      <td>Sí</td>\n",
       "      <td>Hombre</td>\n",
       "    </tr>\n",
       "    <tr>\n",
       "      <th>2</th>\n",
       "      <td>2</td>\n",
       "      <td>15.0</td>\n",
       "      <td>1</td>\n",
       "      <td>0.0</td>\n",
       "      <td>NaN</td>\n",
       "      <td>NaN</td>\n",
       "      <td>Sí</td>\n",
       "      <td>Hombre</td>\n",
       "      <td>Sí</td>\n",
       "      <td>Hombre</td>\n",
       "    </tr>\n",
       "    <tr>\n",
       "      <th>3</th>\n",
       "      <td>3</td>\n",
       "      <td>16.0</td>\n",
       "      <td>0</td>\n",
       "      <td>1.0</td>\n",
       "      <td>Menos de una vez al mes</td>\n",
       "      <td>Lesbianas</td>\n",
       "      <td>Sí</td>\n",
       "      <td>Hombre</td>\n",
       "      <td>Sí</td>\n",
       "      <td>Hombre</td>\n",
       "    </tr>\n",
       "    <tr>\n",
       "      <th>4</th>\n",
       "      <td>4</td>\n",
       "      <td>12.0</td>\n",
       "      <td>1</td>\n",
       "      <td>0.0</td>\n",
       "      <td>NaN</td>\n",
       "      <td>NaN</td>\n",
       "      <td>Sí</td>\n",
       "      <td>Hombre</td>\n",
       "      <td>Sí</td>\n",
       "      <td>Hombre</td>\n",
       "    </tr>\n",
       "    <tr>\n",
       "      <th>6</th>\n",
       "      <td>6</td>\n",
       "      <td>14.0</td>\n",
       "      <td>0</td>\n",
       "      <td>0.0</td>\n",
       "      <td>NaN</td>\n",
       "      <td>NaN</td>\n",
       "      <td>No</td>\n",
       "      <td>NaN</td>\n",
       "      <td>Sí</td>\n",
       "      <td>Hombre;Mujer</td>\n",
       "    </tr>\n",
       "  </tbody>\n",
       "</table>\n",
       "</div>"
      ],
      "text/plain": [
       "   Id  edad_porno intencionalidad_porno  ver_porno           frec_ver_porno  \\\n",
       "0   0        12.0                     1        0.0                      NaN   \n",
       "2   2        15.0                     1        0.0                      NaN   \n",
       "3   3        16.0                     0        1.0  Menos de una vez al mes   \n",
       "4   4        12.0                     1        0.0                      NaN   \n",
       "6   6        14.0                     0        0.0                      NaN   \n",
       "\n",
       "  tipo_porno porno_enviado porno_enviado_genero porno_solicitado  \\\n",
       "0        NaN            Sí               Hombre               Sí   \n",
       "2        NaN            Sí               Hombre               Sí   \n",
       "3  Lesbianas            Sí               Hombre               Sí   \n",
       "4        NaN            Sí               Hombre               Sí   \n",
       "6        NaN            No                  NaN               Sí   \n",
       "\n",
       "  porno_solicitado_genero  \n",
       "0                  Hombre  \n",
       "2                  Hombre  \n",
       "3                  Hombre  \n",
       "4                  Hombre  \n",
       "6            Hombre;Mujer  "
      ]
     },
     "execution_count": 46,
     "metadata": {},
     "output_type": "execute_result"
    }
   ],
   "source": [
    "porno.head()"
   ]
  },
  {
   "cell_type": "code",
   "execution_count": 47,
   "id": "southwest-arizona",
   "metadata": {},
   "outputs": [],
   "source": [
    "porno = porno.drop(['frec_ver_porno','tipo_porno'],axis=1)"
   ]
  },
  {
   "cell_type": "code",
   "execution_count": 48,
   "id": "constant-rabbit",
   "metadata": {},
   "outputs": [
    {
     "data": {
      "text/plain": [
       "Sí    269\n",
       "No    132\n",
       "Name: porno_enviado, dtype: int64"
      ]
     },
     "execution_count": 48,
     "metadata": {},
     "output_type": "execute_result"
    }
   ],
   "source": [
    "porno.porno_enviado.value_counts()"
   ]
  },
  {
   "cell_type": "code",
   "execution_count": 49,
   "id": "lovely-locator",
   "metadata": {},
   "outputs": [],
   "source": [
    "replace_map_porno ={'Mujer':1,'Hombre':2,'Hombre;Mujer':3}\n",
    "replace_map_porno2 ={'Sí':1,'No':0}"
   ]
  },
  {
   "cell_type": "code",
   "execution_count": 50,
   "id": "friendly-prefix",
   "metadata": {},
   "outputs": [],
   "source": [
    "porno.porno_enviado.replace(replace_map_porno2,inplace=True)"
   ]
  },
  {
   "cell_type": "code",
   "execution_count": 51,
   "id": "exclusive-consortium",
   "metadata": {},
   "outputs": [],
   "source": [
    "porno.porno_solicitado.replace(replace_map_porno2,inplace=True)"
   ]
  },
  {
   "cell_type": "code",
   "execution_count": 52,
   "id": "humanitarian-expense",
   "metadata": {},
   "outputs": [],
   "source": [
    "porno.porno_enviado_genero.replace(replace_map_porno,inplace=True)"
   ]
  },
  {
   "cell_type": "code",
   "execution_count": 53,
   "id": "martial-prince",
   "metadata": {},
   "outputs": [],
   "source": [
    "porno.porno_enviado_genero=porno.porno_enviado_genero.fillna(0)"
   ]
  },
  {
   "cell_type": "code",
   "execution_count": 54,
   "id": "mechanical-contrary",
   "metadata": {},
   "outputs": [],
   "source": [
    "porno.porno_solicitado_genero.replace(replace_map_porno,inplace=True)"
   ]
  },
  {
   "cell_type": "code",
   "execution_count": 55,
   "id": "emotional-kentucky",
   "metadata": {},
   "outputs": [],
   "source": [
    "porno.porno_solicitado_genero=porno.porno_solicitado_genero.fillna(0)"
   ]
  },
  {
   "cell_type": "code",
   "execution_count": 56,
   "id": "robust-identity",
   "metadata": {},
   "outputs": [
    {
     "data": {
      "text/plain": [
       "0"
      ]
     },
     "execution_count": 56,
     "metadata": {},
     "output_type": "execute_result"
    }
   ],
   "source": [
    "porno.porno_solicitado_genero.isnull().sum()"
   ]
  },
  {
   "cell_type": "code",
   "execution_count": 57,
   "id": "perfect-recipe",
   "metadata": {},
   "outputs": [
    {
     "data": {
      "text/plain": [
       "2.0    254\n",
       "0.0    138\n",
       "3.0     11\n",
       "1.0      1\n",
       "Name: porno_solicitado_genero, dtype: int64"
      ]
     },
     "execution_count": 57,
     "metadata": {},
     "output_type": "execute_result"
    }
   ],
   "source": [
    "porno.porno_solicitado_genero.value_counts()"
   ]
  },
  {
   "cell_type": "code",
   "execution_count": 61,
   "id": "upper-antique",
   "metadata": {},
   "outputs": [],
   "source": [
    "porno=porno.dropna()"
   ]
  },
  {
   "cell_type": "code",
   "execution_count": 187,
   "id": "chubby-mainland",
   "metadata": {},
   "outputs": [],
   "source": [
    "#porno.to_csv('porno.csv')"
   ]
  },
  {
   "cell_type": "markdown",
   "id": "horizontal-subsection",
   "metadata": {},
   "source": [
    "- subset de mujeres que consumen porno actualmente"
   ]
  },
  {
   "cell_type": "code",
   "execution_count": 196,
   "id": "valid-third",
   "metadata": {},
   "outputs": [],
   "source": [
    "ven_porno = pd.read_csv('/Users/dpagniez/Desktop/mujeres_ven_porno.csv')"
   ]
  },
  {
   "cell_type": "code",
   "execution_count": 232,
   "id": "otherwise-transfer",
   "metadata": {},
   "outputs": [
    {
     "name": "stdout",
     "output_type": "stream",
     "text": [
      "<class 'pandas.core.frame.DataFrame'>\n",
      "RangeIndex: 78 entries, 0 to 77\n",
      "Data columns (total 10 columns):\n",
      " #   Column                   Non-Null Count  Dtype  \n",
      "---  ------                   --------------  -----  \n",
      " 0   Id                       78 non-null     int64  \n",
      " 1   edad_porno               76 non-null     float64\n",
      " 2   intencionalidad_porno    78 non-null     float64\n",
      " 3   ver_porno                78 non-null     float64\n",
      " 4   frec_ver_porno           78 non-null     int64  \n",
      " 5   tipo_porno               58 non-null     object \n",
      " 6   porno_enviado            78 non-null     int64  \n",
      " 7   porno_enviado_genero     78 non-null     float64\n",
      " 8   porno_solicitado         77 non-null     float64\n",
      " 9   porno_solicitado_genero  78 non-null     float64\n",
      "dtypes: float64(6), int64(3), object(1)\n",
      "memory usage: 6.2+ KB\n"
     ]
    }
   ],
   "source": [
    "ven_porno.info()"
   ]
  },
  {
   "cell_type": "code",
   "execution_count": 231,
   "id": "extra-qatar",
   "metadata": {},
   "outputs": [],
   "source": [
    "ven_porno=ven_porno.drop('Unnamed: 0',axis=1)"
   ]
  },
  {
   "cell_type": "code",
   "execution_count": 198,
   "id": "incorrect-branch",
   "metadata": {},
   "outputs": [],
   "source": [
    "ven_porno.loc[ven_porno.intencionalidad_porno=='No intencionada','intencionalidad_porno']=0\n",
    "ven_porno.loc[ven_porno.intencionalidad_porno=='Intencionada','intencionalidad_porno']=1"
   ]
  },
  {
   "cell_type": "code",
   "execution_count": 199,
   "id": "future-activation",
   "metadata": {},
   "outputs": [],
   "source": [
    "ven_porno.intencionalidad_porno=ven_porno.intencionalidad_porno.astype(float)"
   ]
  },
  {
   "cell_type": "code",
   "execution_count": 200,
   "id": "posted-advance",
   "metadata": {},
   "outputs": [],
   "source": [
    "\n",
    "ven_porno.loc[ven_porno.ver_porno=='Sí, intencionalmente.','ver_porno']=2\n",
    "ven_porno.loc[ven_porno.ver_porno=='Sí, pero no por voluntad propia.','ver_porno']=1"
   ]
  },
  {
   "cell_type": "code",
   "execution_count": 201,
   "id": "acquired-exemption",
   "metadata": {},
   "outputs": [
    {
     "data": {
      "text/plain": [
       "2    71\n",
       "1     7\n",
       "Name: ver_porno, dtype: int64"
      ]
     },
     "execution_count": 201,
     "metadata": {},
     "output_type": "execute_result"
    }
   ],
   "source": [
    "ven_porno.ver_porno.value_counts()"
   ]
  },
  {
   "cell_type": "code",
   "execution_count": 204,
   "id": "skilled-convert",
   "metadata": {},
   "outputs": [],
   "source": [
    "ven_porno.ver_porno = ven_porno.ver_porno.astype('float')"
   ]
  },
  {
   "cell_type": "code",
   "execution_count": 206,
   "id": "engaged-doctor",
   "metadata": {},
   "outputs": [
    {
     "data": {
      "text/plain": [
       "Menos de una vez al mes    27\n",
       "Una o dos veces al mes     18\n",
       "Varias veces al mes        13\n",
       "Varias veces por semana    10\n",
       "Una vez por semana          7\n",
       "Diariamente                 3\n",
       "Name: frec_ver_porno, dtype: int64"
      ]
     },
     "execution_count": 206,
     "metadata": {},
     "output_type": "execute_result"
    }
   ],
   "source": [
    "ven_porno.frec_ver_porno.value_counts()"
   ]
  },
  {
   "cell_type": "code",
   "execution_count": 208,
   "id": "interested-plaintiff",
   "metadata": {},
   "outputs": [],
   "source": [
    "replace_map_ven_porno = {'Diariamente':6,'Varias veces por semana':5,'Una vez por semana':4,\n",
    "                        'Varias veces al mes':3,'Una o dos veces al mes':2,'Menos de una vez al mes':1}"
   ]
  },
  {
   "cell_type": "code",
   "execution_count": 209,
   "id": "auburn-queen",
   "metadata": {},
   "outputs": [],
   "source": [
    "ven_porno.frec_ver_porno.replace(replace_map_ven_porno,inplace=True)"
   ]
  },
  {
   "cell_type": "code",
   "execution_count": 212,
   "id": "objective-sponsorship",
   "metadata": {},
   "outputs": [
    {
     "data": {
      "text/plain": [
       "52"
      ]
     },
     "execution_count": 212,
     "metadata": {},
     "output_type": "execute_result"
    }
   ],
   "source": [
    "ven_porno.tipo_porno.nunique()"
   ]
  },
  {
   "cell_type": "code",
   "execution_count": 214,
   "id": "progressive-sweet",
   "metadata": {},
   "outputs": [],
   "source": [
    "tipo_porno_consumido = ven_porno[['Id','tipo_porno']]"
   ]
  },
  {
   "cell_type": "code",
   "execution_count": 216,
   "id": "common-accident",
   "metadata": {},
   "outputs": [],
   "source": [
    "#tipo_porno_consumido.to_csv('tipo_porno_consumido.csv')"
   ]
  },
  {
   "cell_type": "code",
   "execution_count": 217,
   "id": "statistical-guyana",
   "metadata": {},
   "outputs": [],
   "source": [
    "replace_map_porno ={'Mujer':1,'Hombre':2,'Hombre;Mujer':3}\n",
    "replace_map_porno2 ={'Sí':1,'No':0}"
   ]
  },
  {
   "cell_type": "code",
   "execution_count": 218,
   "id": "bizarre-chuck",
   "metadata": {},
   "outputs": [],
   "source": [
    "ven_porno.porno_enviado.replace(replace_map_porno2,inplace=True)"
   ]
  },
  {
   "cell_type": "code",
   "execution_count": 219,
   "id": "conditional-orleans",
   "metadata": {},
   "outputs": [],
   "source": [
    "ven_porno.porno_solicitado.replace(replace_map_porno2,inplace=True)"
   ]
  },
  {
   "cell_type": "code",
   "execution_count": 220,
   "id": "facial-practitioner",
   "metadata": {},
   "outputs": [],
   "source": [
    "ven_porno.porno_enviado_genero.replace(replace_map_porno,inplace=True)"
   ]
  },
  {
   "cell_type": "code",
   "execution_count": 221,
   "id": "pending-account",
   "metadata": {},
   "outputs": [],
   "source": [
    "ven_porno.porno_enviado_genero=ven_porno.porno_enviado_genero.fillna(0)"
   ]
  },
  {
   "cell_type": "code",
   "execution_count": 224,
   "id": "standard-shoulder",
   "metadata": {},
   "outputs": [],
   "source": [
    "ven_porno.porno_solicitado_genero.replace(replace_map_porno,inplace=True)"
   ]
  },
  {
   "cell_type": "code",
   "execution_count": 225,
   "id": "golden-sacrifice",
   "metadata": {},
   "outputs": [],
   "source": [
    "ven_porno.porno_solicitado_genero=ven_porno.porno_solicitado_genero.fillna(0)"
   ]
  },
  {
   "cell_type": "code",
   "execution_count": 226,
   "id": "voluntary-carol",
   "metadata": {},
   "outputs": [
    {
     "data": {
      "text/plain": [
       "0"
      ]
     },
     "execution_count": 226,
     "metadata": {},
     "output_type": "execute_result"
    }
   ],
   "source": [
    "ven_porno.porno_solicitado_genero.isnull().sum()"
   ]
  },
  {
   "cell_type": "code",
   "execution_count": 229,
   "id": "everyday-utilization",
   "metadata": {},
   "outputs": [
    {
     "data": {
      "text/plain": [
       "2.0    39\n",
       "0.0    34\n",
       "1.0     3\n",
       "3.0     2\n",
       "Name: porno_enviado_genero, dtype: int64"
      ]
     },
     "execution_count": 229,
     "metadata": {},
     "output_type": "execute_result"
    }
   ],
   "source": [
    "ven_porno.porno_enviado_genero.value_counts()"
   ]
  },
  {
   "cell_type": "code",
   "execution_count": 234,
   "id": "concrete-charity",
   "metadata": {},
   "outputs": [
    {
     "name": "stdout",
     "output_type": "stream",
     "text": [
      "<class 'pandas.core.frame.DataFrame'>\n",
      "RangeIndex: 78 entries, 0 to 77\n",
      "Data columns (total 10 columns):\n",
      " #   Column                   Non-Null Count  Dtype  \n",
      "---  ------                   --------------  -----  \n",
      " 0   Id                       78 non-null     int64  \n",
      " 1   edad_porno               76 non-null     float64\n",
      " 2   intencionalidad_porno    78 non-null     float64\n",
      " 3   ver_porno                78 non-null     float64\n",
      " 4   frec_ver_porno           78 non-null     int64  \n",
      " 5   tipo_porno               58 non-null     object \n",
      " 6   porno_enviado            78 non-null     int64  \n",
      " 7   porno_enviado_genero     78 non-null     float64\n",
      " 8   porno_solicitado         77 non-null     float64\n",
      " 9   porno_solicitado_genero  78 non-null     float64\n",
      "dtypes: float64(6), int64(3), object(1)\n",
      "memory usage: 6.2+ KB\n"
     ]
    }
   ],
   "source": [
    "ven_porno.info()"
   ]
  },
  {
   "cell_type": "code",
   "execution_count": 233,
   "id": "northern-thread",
   "metadata": {},
   "outputs": [],
   "source": [
    "ven_porno.to_csv('mujeres_ven_porno.csv')"
   ]
  },
  {
   "cell_type": "markdown",
   "id": "black-whale",
   "metadata": {},
   "source": [
    "## opinion"
   ]
  },
  {
   "cell_type": "code",
   "execution_count": 237,
   "id": "fresh-apache",
   "metadata": {},
   "outputs": [
    {
     "data": {
      "text/plain": [
       "Index(['Id',\n",
       "       '¿Crees que algo del contenido que ves por TikTok o Instagram se parece a la pornografía?',\n",
       "       '¿Crees que algunas mujeres intentan imitar lo que ven en la pornografía a la hora de subir fotos o vídeos a estas redes sociales?',\n",
       "       '¿Crees que la pornografía influye en lo que se comparte en redes sociales?',\n",
       "       '¿Crees que lo que se comparte en redes sociales distorsiona la realidad?',\n",
       "       '¿Crees que lo que consumes en las redes sociales afecta tu autoestima?'],\n",
       "      dtype='object')"
      ]
     },
     "execution_count": 237,
     "metadata": {},
     "output_type": "execute_result"
    }
   ],
   "source": [
    "opinion.columns"
   ]
  },
  {
   "cell_type": "code",
   "execution_count": 238,
   "id": "genetic-swimming",
   "metadata": {},
   "outputs": [],
   "source": [
    "opinion.rename(columns={'Id': 'Id', \n",
    "                           '¿Crees que algo del contenido que ves por TikTok o Instagram se parece a la pornografía?': 'similitudes_rrss_porno',\n",
    "                           '¿Crees que algunas mujeres intentan imitar lo que ven en la pornografía a la hora de subir fotos o vídeos a estas redes sociales?':'imitacion_porno_rrss',\n",
    "                           '¿Crees que la pornografía influye en lo que se comparte en redes sociales?':'influencia_porno_rrss',\n",
    "                            '¿Crees que lo que se comparte en redes sociales distorsiona la realidad?':'rrss_realidad',\n",
    "                            '¿Crees que lo que consumes en las redes sociales afecta tu autoestima?':'rrss_autoestima',         \n",
    "                           }, inplace=True)"
   ]
  },
  {
   "cell_type": "code",
   "execution_count": 241,
   "id": "answering-silence",
   "metadata": {},
   "outputs": [],
   "source": [
    "opinion = opinion.dropna()"
   ]
  },
  {
   "cell_type": "code",
   "execution_count": 243,
   "id": "romance-wells",
   "metadata": {},
   "outputs": [
    {
     "name": "stdout",
     "output_type": "stream",
     "text": [
      "<class 'pandas.core.frame.DataFrame'>\n",
      "Int64Index: 416 entries, 0 to 433\n",
      "Data columns (total 6 columns):\n",
      " #   Column                  Non-Null Count  Dtype \n",
      "---  ------                  --------------  ----- \n",
      " 0   Id                      416 non-null    int64 \n",
      " 1   similitudes_rrss_porno  416 non-null    object\n",
      " 2   imitacion_porno_rrss    416 non-null    object\n",
      " 3   influencia_porno_rrss   416 non-null    object\n",
      " 4   rrss_realidad           416 non-null    object\n",
      " 5   rrss_autoestima         416 non-null    object\n",
      "dtypes: int64(1), object(5)\n",
      "memory usage: 38.9+ KB\n"
     ]
    }
   ],
   "source": [
    "opinion.info()"
   ]
  },
  {
   "cell_type": "code",
   "execution_count": 242,
   "id": "logical-federation",
   "metadata": {},
   "outputs": [],
   "source": [
    "replace_map_opinion = {'No':0,'Sí':1,'No tengo dichas redes sociales':0}"
   ]
  },
  {
   "cell_type": "code",
   "execution_count": 244,
   "id": "secure-colonial",
   "metadata": {},
   "outputs": [],
   "source": [
    "opinion.replace(replace_map_opinion,inplace=True)"
   ]
  },
  {
   "cell_type": "code",
   "execution_count": 245,
   "id": "clinical-typing",
   "metadata": {},
   "outputs": [
    {
     "data": {
      "text/html": [
       "<div>\n",
       "<style scoped>\n",
       "    .dataframe tbody tr th:only-of-type {\n",
       "        vertical-align: middle;\n",
       "    }\n",
       "\n",
       "    .dataframe tbody tr th {\n",
       "        vertical-align: top;\n",
       "    }\n",
       "\n",
       "    .dataframe thead th {\n",
       "        text-align: right;\n",
       "    }\n",
       "</style>\n",
       "<table border=\"1\" class=\"dataframe\">\n",
       "  <thead>\n",
       "    <tr style=\"text-align: right;\">\n",
       "      <th></th>\n",
       "      <th>Id</th>\n",
       "      <th>similitudes_rrss_porno</th>\n",
       "      <th>imitacion_porno_rrss</th>\n",
       "      <th>influencia_porno_rrss</th>\n",
       "      <th>rrss_realidad</th>\n",
       "      <th>rrss_autoestima</th>\n",
       "    </tr>\n",
       "  </thead>\n",
       "  <tbody>\n",
       "    <tr>\n",
       "      <th>0</th>\n",
       "      <td>0</td>\n",
       "      <td>1</td>\n",
       "      <td>1</td>\n",
       "      <td>1</td>\n",
       "      <td>1</td>\n",
       "      <td>1</td>\n",
       "    </tr>\n",
       "    <tr>\n",
       "      <th>2</th>\n",
       "      <td>2</td>\n",
       "      <td>1</td>\n",
       "      <td>1</td>\n",
       "      <td>1</td>\n",
       "      <td>1</td>\n",
       "      <td>1</td>\n",
       "    </tr>\n",
       "    <tr>\n",
       "      <th>3</th>\n",
       "      <td>3</td>\n",
       "      <td>1</td>\n",
       "      <td>1</td>\n",
       "      <td>1</td>\n",
       "      <td>1</td>\n",
       "      <td>1</td>\n",
       "    </tr>\n",
       "    <tr>\n",
       "      <th>4</th>\n",
       "      <td>4</td>\n",
       "      <td>0</td>\n",
       "      <td>1</td>\n",
       "      <td>1</td>\n",
       "      <td>1</td>\n",
       "      <td>1</td>\n",
       "    </tr>\n",
       "    <tr>\n",
       "      <th>5</th>\n",
       "      <td>5</td>\n",
       "      <td>1</td>\n",
       "      <td>1</td>\n",
       "      <td>1</td>\n",
       "      <td>1</td>\n",
       "      <td>1</td>\n",
       "    </tr>\n",
       "  </tbody>\n",
       "</table>\n",
       "</div>"
      ],
      "text/plain": [
       "   Id  similitudes_rrss_porno  imitacion_porno_rrss  influencia_porno_rrss  \\\n",
       "0   0                       1                     1                      1   \n",
       "2   2                       1                     1                      1   \n",
       "3   3                       1                     1                      1   \n",
       "4   4                       0                     1                      1   \n",
       "5   5                       1                     1                      1   \n",
       "\n",
       "   rrss_realidad  rrss_autoestima  \n",
       "0              1                1  \n",
       "2              1                1  \n",
       "3              1                1  \n",
       "4              1                1  \n",
       "5              1                1  "
      ]
     },
     "execution_count": 245,
     "metadata": {},
     "output_type": "execute_result"
    }
   ],
   "source": [
    "opinion.head()"
   ]
  },
  {
   "cell_type": "code",
   "execution_count": 252,
   "id": "european-desperate",
   "metadata": {},
   "outputs": [],
   "source": [
    "opinion.to_csv('opinion.csv')"
   ]
  },
  {
   "cell_type": "code",
   "execution_count": null,
   "id": "educational-jewel",
   "metadata": {},
   "outputs": [],
   "source": []
  }
 ],
 "metadata": {
  "kernelspec": {
   "display_name": "Python 3",
   "language": "python",
   "name": "python3"
  },
  "language_info": {
   "codemirror_mode": {
    "name": "ipython",
    "version": 3
   },
   "file_extension": ".py",
   "mimetype": "text/x-python",
   "name": "python",
   "nbconvert_exporter": "python",
   "pygments_lexer": "ipython3",
   "version": "3.7.9"
  },
  "toc": {
   "base_numbering": 1,
   "nav_menu": {},
   "number_sections": true,
   "sideBar": true,
   "skip_h1_title": false,
   "title_cell": "Table of Contents",
   "title_sidebar": "Contents",
   "toc_cell": false,
   "toc_position": {
    "height": "calc(100% - 180px)",
    "left": "10px",
    "top": "150px",
    "width": "201.6px"
   },
   "toc_section_display": true,
   "toc_window_display": true
  },
  "varInspector": {
   "cols": {
    "lenName": 16,
    "lenType": 16,
    "lenVar": 40
   },
   "kernels_config": {
    "python": {
     "delete_cmd_postfix": "",
     "delete_cmd_prefix": "del ",
     "library": "var_list.py",
     "varRefreshCmd": "print(var_dic_list())"
    },
    "r": {
     "delete_cmd_postfix": ") ",
     "delete_cmd_prefix": "rm(",
     "library": "var_list.r",
     "varRefreshCmd": "cat(var_dic_list()) "
    }
   },
   "types_to_exclude": [
    "module",
    "function",
    "builtin_function_or_method",
    "instance",
    "_Feature"
   ],
   "window_display": false
  }
 },
 "nbformat": 4,
 "nbformat_minor": 5
}
