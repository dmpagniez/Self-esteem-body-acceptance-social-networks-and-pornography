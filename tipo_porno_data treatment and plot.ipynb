{
 "cells": [
  {
   "cell_type": "markdown",
   "id": "incident-launch",
   "metadata": {},
   "source": [
    "# Import libraries and dataset"
   ]
  },
  {
   "cell_type": "code",
   "execution_count": 3,
   "id": "increasing-standing",
   "metadata": {},
   "outputs": [],
   "source": [
    "import pandas as pd\n",
    "import numpy as np"
   ]
  },
  {
   "cell_type": "code",
   "execution_count": 4,
   "id": "ideal-jamaica",
   "metadata": {},
   "outputs": [
    {
     "data": {
      "text/html": [
       "<div>\n",
       "<style scoped>\n",
       "    .dataframe tbody tr th:only-of-type {\n",
       "        vertical-align: middle;\n",
       "    }\n",
       "\n",
       "    .dataframe tbody tr th {\n",
       "        vertical-align: top;\n",
       "    }\n",
       "\n",
       "    .dataframe thead th {\n",
       "        text-align: right;\n",
       "    }\n",
       "</style>\n",
       "<table border=\"1\" class=\"dataframe\">\n",
       "  <thead>\n",
       "    <tr style=\"text-align: right;\">\n",
       "      <th></th>\n",
       "      <th>Id</th>\n",
       "      <th>tipo_porno</th>\n",
       "    </tr>\n",
       "  </thead>\n",
       "  <tbody>\n",
       "    <tr>\n",
       "      <th>0</th>\n",
       "      <td>3</td>\n",
       "      <td>Lesbianas</td>\n",
       "    </tr>\n",
       "    <tr>\n",
       "      <th>1</th>\n",
       "      <td>8</td>\n",
       "      <td>Propia o sexo oral</td>\n",
       "    </tr>\n",
       "  </tbody>\n",
       "</table>\n",
       "</div>"
      ],
      "text/plain": [
       "   Id          tipo_porno\n",
       "0   3           Lesbianas\n",
       "1   8  Propia o sexo oral"
      ]
     },
     "execution_count": 4,
     "metadata": {},
     "output_type": "execute_result"
    }
   ],
   "source": [
    "data = pd.read_csv('../datasets/tipo_porno_consumido.csv', index_col =0)\n",
    "data.dropna(inplace=True)\n",
    "data.head(2)"
   ]
  },
  {
   "cell_type": "markdown",
   "id": "social-zoning",
   "metadata": {},
   "source": [
    "## Data cleaning"
   ]
  },
  {
   "cell_type": "code",
   "execution_count": 5,
   "id": "given-lighting",
   "metadata": {},
   "outputs": [],
   "source": [
    "data.tipo_porno = data.tipo_porno.str.lower()"
   ]
  },
  {
   "cell_type": "code",
   "execution_count": 6,
   "id": "listed-divorce",
   "metadata": {},
   "outputs": [],
   "source": [
    "# Creamos un backup\n",
    "data_raw = data.copy()"
   ]
  },
  {
   "cell_type": "code",
   "execution_count": 7,
   "id": "continuing-employee",
   "metadata": {},
   "outputs": [
    {
     "data": {
      "text/html": [
       "<div>\n",
       "<style scoped>\n",
       "    .dataframe tbody tr th:only-of-type {\n",
       "        vertical-align: middle;\n",
       "    }\n",
       "\n",
       "    .dataframe tbody tr th {\n",
       "        vertical-align: top;\n",
       "    }\n",
       "\n",
       "    .dataframe thead th {\n",
       "        text-align: right;\n",
       "    }\n",
       "</style>\n",
       "<table border=\"1\" class=\"dataframe\">\n",
       "  <thead>\n",
       "    <tr style=\"text-align: right;\">\n",
       "      <th></th>\n",
       "      <th>Id</th>\n",
       "      <th>tipo_porno</th>\n",
       "    </tr>\n",
       "  </thead>\n",
       "  <tbody>\n",
       "    <tr>\n",
       "      <th>0</th>\n",
       "      <td>3</td>\n",
       "      <td>lesbianas;</td>\n",
       "    </tr>\n",
       "    <tr>\n",
       "      <th>1</th>\n",
       "      <td>8</td>\n",
       "      <td>propia o sexo oral;</td>\n",
       "    </tr>\n",
       "  </tbody>\n",
       "</table>\n",
       "</div>"
      ],
      "text/plain": [
       "   Id           tipo_porno\n",
       "0   3           lesbianas;\n",
       "1   8  propia o sexo oral;"
      ]
     },
     "execution_count": 7,
     "metadata": {},
     "output_type": "execute_result"
    }
   ],
   "source": [
    "# Añadimos ; al final de cada respuesta para poder después facilitar el cleaning\n",
    "data.tipo_porno = data.tipo_porno + ';'\n",
    "data.head(2)"
   ]
  },
  {
   "cell_type": "code",
   "execution_count": 8,
   "id": "ultimate-institute",
   "metadata": {},
   "outputs": [],
   "source": [
    "# Transformamos la columna tipo_porno en un string todo unido\n",
    "text_ = \" \".join(data.tipo_porno)"
   ]
  },
  {
   "cell_type": "code",
   "execution_count": 9,
   "id": "wicked-publisher",
   "metadata": {},
   "outputs": [
    {
     "data": {
      "text/plain": [
       "'lesbianas; propia o sexo oral; oldies, violaciones y negros; lésbico ; lesbica ; videos; depende más por curiosidad sobre temas de actualidad y que es; violento; hetero, lesbianas, amateur, tríos ; normal; lesbianas, sexo oral hetero; amateur; homosexual, asiático, lésbico (muy poco) y todo amateur; webs; tríos / orgías / lésbico ; lesbianas; no es concreta; lésbico; amateur/teen/creampie; autogestivo/personas que generan contenido; donde haya solo mujeres y que parezca al menos que lo estan pasando bien; tradicional por llamarla así; erika lust; generalmente gifs de sexo oral; lésbica; lo más visto ; -; amateur / parejas reales ; hardcore; erika lust y videos de ese estilo; gay o videos más realistas; lésbica; mujeres; suave; lesbico; porno lesbico; lesbianas; lesbica; bdsm; ... ; lesbiana; intento buscar penes y hombres que no salgan cortados y que giman rollo macho , en transportes públicos , hombres más mayores , mejor con pelo ; lésbico ; parejas y con orgasmo femenino ; heterosexual; lésbico; trios; gratuita, pero muchas veces dejo de mirarla pk no me gusta ep contenido; masajes; peliculas; anal, publico; gay (hombres) ; muy dura, me intento esforzar para que me pongan otras cosas pero no lo consigo.; erotico; lesbianas; ahora ya ni llego a abrir los vídeos.; lésbico; lesbico ;'"
      ]
     },
     "execution_count": 9,
     "metadata": {},
     "output_type": "execute_result"
    }
   ],
   "source": [
    "# Lo convertimos a lower case todo\n",
    "text_  = text_.lower()\n",
    "text_"
   ]
  },
  {
   "cell_type": "code",
   "execution_count": 10,
   "id": "arabic-blame",
   "metadata": {},
   "outputs": [
    {
     "data": {
      "text/plain": [
       "['lesbianas',\n",
       " ' propia',\n",
       " 'sexo oral',\n",
       " ' oldies',\n",
       " ' violaciones y negros',\n",
       " ' lésbico ',\n",
       " ' lesbica ',\n",
       " ' videos',\n",
       " ' depende más por curiosidad sobre temas de actualidad y que es',\n",
       " ' violento',\n",
       " ' hetero',\n",
       " ' lesbianas',\n",
       " ' amateur',\n",
       " ' tríos ',\n",
       " ' normal',\n",
       " ' lesbianas',\n",
       " ' sexo oral hetero',\n",
       " ' amateur',\n",
       " ' homosexual',\n",
       " ' asiático',\n",
       " ' lésbico (muy poco) y todo amateur',\n",
       " ' webs',\n",
       " ' tríos ',\n",
       " ' orgías ',\n",
       " ' lésbico ',\n",
       " ' lesbianas',\n",
       " ' no es concreta',\n",
       " ' lésbico',\n",
       " ' amateur',\n",
       " 'teen',\n",
       " 'creampie',\n",
       " ' autogestivo',\n",
       " 'personas que generan contenido',\n",
       " ' donde haya solo mujeres y que parezca al menos que lo estan pasando bien',\n",
       " ' tradicional por llamarla así',\n",
       " ' erika lust',\n",
       " ' generalmente gifs de sexo oral',\n",
       " ' lésbica',\n",
       " ' lo más visto ',\n",
       " ' -',\n",
       " ' amateur ',\n",
       " ' parejas reales ',\n",
       " ' hardcore',\n",
       " ' erika lust y videos de ese estilo',\n",
       " ' gay',\n",
       " 'videos más realistas',\n",
       " ' lésbica',\n",
       " ' mujeres',\n",
       " ' suave',\n",
       " ' lesbico',\n",
       " ' porno lesbico',\n",
       " ' lesbianas',\n",
       " ' lesbica',\n",
       " ' bdsm',\n",
       " ' ... ',\n",
       " ' lesbiana',\n",
       " ' intento buscar penes y hombres que no salgan cortados y que giman rollo macho ',\n",
       " ' en transportes públicos ',\n",
       " ' hombres más mayores ',\n",
       " ' mejor con pelo ',\n",
       " ' lésbico ',\n",
       " ' parejas y con orgasmo femenino ',\n",
       " ' heterosexual',\n",
       " ' lésbico',\n",
       " ' trios',\n",
       " ' gratuita',\n",
       " ' pero muchas veces dejo de mirarla pk no me gusta ep contenido',\n",
       " ' masajes',\n",
       " ' peliculas',\n",
       " ' anal',\n",
       " ' publico',\n",
       " ' gay (hombres) ',\n",
       " ' muy dura',\n",
       " ' me intento esforzar para que me pongan otras cosas pero no lo consigo.',\n",
       " ' erotico',\n",
       " ' lesbianas',\n",
       " ' ahora ya ni llego a abrir los vídeos.',\n",
       " ' lésbico',\n",
       " ' lesbico ',\n",
       " '']"
      ]
     },
     "execution_count": 10,
     "metadata": {},
     "output_type": "execute_result"
    }
   ],
   "source": [
    "# Aplicamos una regular expression para split el texto en función de: ';', ',' , '/' y ' o '\n",
    "import re\n",
    "clean_text  = re.split(';|,|/| o |\\+', text_)\n",
    "clean_text"
   ]
  },
  {
   "cell_type": "markdown",
   "id": "experienced-strip",
   "metadata": {},
   "source": [
    "    Aquí ya tenemos nuestro tokens limpios, utilizamos el Counter para crear el value_counts"
   ]
  },
  {
   "cell_type": "code",
   "execution_count": 11,
   "id": "mature-hampshire",
   "metadata": {},
   "outputs": [
    {
     "data": {
      "text/plain": [
       "{'lesbianas': 1,\n",
       " ' propia': 1,\n",
       " 'sexo oral': 1,\n",
       " ' oldies': 1,\n",
       " ' violaciones y negros': 1,\n",
       " ' lésbico ': 3,\n",
       " ' lesbica ': 1,\n",
       " ' videos': 1,\n",
       " ' depende más por curiosidad sobre temas de actualidad y que es': 1,\n",
       " ' violento': 1,\n",
       " ' hetero': 1,\n",
       " ' lesbianas': 5,\n",
       " ' amateur': 3,\n",
       " ' tríos ': 2,\n",
       " ' normal': 1,\n",
       " ' sexo oral hetero': 1,\n",
       " ' homosexual': 1,\n",
       " ' asiático': 1,\n",
       " ' lésbico (muy poco) y todo amateur': 1,\n",
       " ' webs': 1,\n",
       " ' orgías ': 1,\n",
       " ' no es concreta': 1,\n",
       " ' lésbico': 3,\n",
       " 'teen': 1,\n",
       " 'creampie': 1,\n",
       " ' autogestivo': 1,\n",
       " 'personas que generan contenido': 1,\n",
       " ' donde haya solo mujeres y que parezca al menos que lo estan pasando bien': 1,\n",
       " ' tradicional por llamarla así': 1,\n",
       " ' erika lust': 1,\n",
       " ' generalmente gifs de sexo oral': 1,\n",
       " ' lésbica': 2,\n",
       " ' lo más visto ': 1,\n",
       " ' -': 1,\n",
       " ' amateur ': 1,\n",
       " ' parejas reales ': 1,\n",
       " ' hardcore': 1,\n",
       " ' erika lust y videos de ese estilo': 1,\n",
       " ' gay': 1,\n",
       " 'videos más realistas': 1,\n",
       " ' mujeres': 1,\n",
       " ' suave': 1,\n",
       " ' lesbico': 1,\n",
       " ' porno lesbico': 1,\n",
       " ' lesbica': 1,\n",
       " ' bdsm': 1,\n",
       " ' ... ': 1,\n",
       " ' lesbiana': 1,\n",
       " ' intento buscar penes y hombres que no salgan cortados y que giman rollo macho ': 1,\n",
       " ' en transportes públicos ': 1,\n",
       " ' hombres más mayores ': 1,\n",
       " ' mejor con pelo ': 1,\n",
       " ' parejas y con orgasmo femenino ': 1,\n",
       " ' heterosexual': 1,\n",
       " ' trios': 1,\n",
       " ' gratuita': 1,\n",
       " ' pero muchas veces dejo de mirarla pk no me gusta ep contenido': 1,\n",
       " ' masajes': 1,\n",
       " ' peliculas': 1,\n",
       " ' anal': 1,\n",
       " ' publico': 1,\n",
       " ' gay (hombres) ': 1,\n",
       " ' muy dura': 1,\n",
       " ' me intento esforzar para que me pongan otras cosas pero no lo consigo.': 1,\n",
       " ' erotico': 1,\n",
       " ' ahora ya ni llego a abrir los vídeos.': 1,\n",
       " ' lesbico ': 1,\n",
       " '': 1}"
      ]
     },
     "execution_count": 11,
     "metadata": {},
     "output_type": "execute_result"
    }
   ],
   "source": [
    "from collections import Counter\n",
    "dict(Counter(clean_text))"
   ]
  },
  {
   "cell_type": "markdown",
   "id": "strong-borough",
   "metadata": {},
   "source": [
    "# Replace the similar items by one specific word\n",
    "## Data-arrengement of the 'clean_text' "
   ]
  },
  {
   "cell_type": "code",
   "execution_count": 12,
   "id": "right-annex",
   "metadata": {},
   "outputs": [],
   "source": [
    "clean_text = pd.DataFrame(clean_text).reset_index()"
   ]
  },
  {
   "cell_type": "code",
   "execution_count": 13,
   "id": "affecting-seafood",
   "metadata": {},
   "outputs": [],
   "source": [
    "clean_text.columns  = ['index', 'tipo_porno']"
   ]
  },
  {
   "cell_type": "code",
   "execution_count": 14,
   "id": "dominant-albany",
   "metadata": {},
   "outputs": [
    {
     "data": {
      "text/plain": [
       "array(['lesbianas', ' propia', 'sexo oral', ' oldies',\n",
       "       ' violaciones y negros', ' lésbico ', ' lesbica ', ' videos',\n",
       "       ' depende más por curiosidad sobre temas de actualidad y que es',\n",
       "       ' violento', ' hetero', ' lesbianas', ' amateur', ' tríos ',\n",
       "       ' normal', ' sexo oral hetero', ' homosexual', ' asiático',\n",
       "       ' lésbico (muy poco) y todo amateur', ' webs', ' orgías ',\n",
       "       ' no es concreta', ' lésbico', 'teen', 'creampie', ' autogestivo',\n",
       "       'personas que generan contenido',\n",
       "       ' donde haya solo mujeres y que parezca al menos que lo estan pasando bien',\n",
       "       ' tradicional por llamarla así', ' erika lust',\n",
       "       ' generalmente gifs de sexo oral', ' lésbica', ' lo más visto ',\n",
       "       ' -', ' amateur ', ' parejas reales ', ' hardcore',\n",
       "       ' erika lust y videos de ese estilo', ' gay',\n",
       "       'videos más realistas', ' mujeres', ' suave', ' lesbico',\n",
       "       ' porno lesbico', ' lesbica', ' bdsm', ' ... ', ' lesbiana',\n",
       "       ' intento buscar penes y hombres que no salgan cortados y que giman rollo macho ',\n",
       "       ' en transportes públicos ', ' hombres más mayores ',\n",
       "       ' mejor con pelo ', ' parejas y con orgasmo femenino ',\n",
       "       ' heterosexual', ' trios', ' gratuita',\n",
       "       ' pero muchas veces dejo de mirarla pk no me gusta ep contenido',\n",
       "       ' masajes', ' peliculas', ' anal', ' publico', ' gay (hombres) ',\n",
       "       ' muy dura',\n",
       "       ' me intento esforzar para que me pongan otras cosas pero no lo consigo.',\n",
       "       ' erotico', ' ahora ya ni llego a abrir los vídeos.', ' lesbico ',\n",
       "       ''], dtype=object)"
      ]
     },
     "execution_count": 14,
     "metadata": {},
     "output_type": "execute_result"
    }
   ],
   "source": [
    "clean_text.tipo_porno.unique()"
   ]
  },
  {
   "cell_type": "code",
   "execution_count": 15,
   "id": "plain-ensemble",
   "metadata": {},
   "outputs": [],
   "source": [
    "#Remove spaces in the BEGINNING of a string:\n",
    "clean_text.tipo_porno = clean_text.tipo_porno.str.lstrip()\n",
    "#Remove spaces in the END of a string:\n",
    "clean_text.tipo_porno = clean_text.tipo_porno.str.rstrip()"
   ]
  },
  {
   "cell_type": "markdown",
   "id": "developmental-milan",
   "metadata": {},
   "source": [
    "## Reemplazamos los valores"
   ]
  },
  {
   "cell_type": "code",
   "execution_count": 16,
   "id": "otherwise-programming",
   "metadata": {},
   "outputs": [],
   "source": [
    "clean_text.tipo_porno.replace(['lésbico', 'lesbianas',\n",
    "                                    'lesbianas', 'porno lesbico', \n",
    "                                    'lesbico','lésbica','lesbiana',\n",
    "                              'lesbica','donde haya solo mujeres y que parezca al menos que lo estan pasando bien'], \n",
    "                              'lésbico',\n",
    "                              inplace=True)"
   ]
  },
  {
   "cell_type": "code",
   "execution_count": 17,
   "id": "different-superior",
   "metadata": {},
   "outputs": [],
   "source": [
    "clean_text.tipo_porno.replace(['propia','lésbico (muy poco) y todo amateur',\n",
    "                               'autogestivo','personas que generan contenido','parejas reales'\n",
    "                              'videos más realistas','videos'],'amateur', inplace=True)"
   ]
  },
  {
   "cell_type": "code",
   "execution_count": 18,
   "id": "olympic-discrimination",
   "metadata": {},
   "outputs": [],
   "source": [
    "tipo_porno_replace_map = {'sexo oral hetero':'sexo oral',\n",
    "                         'depende más por curiosidad sobre temas de actualidad y que es':'no es concreta',\n",
    "                         'generalmente gifs de sexo oral':'sexo oral','violaciones y negros':'violaciones',\n",
    "                         'videos':'no es concreta', 'hetero':'heterosexual','hardcore':'violento',\n",
    "                         'erika lust y videos de ese estilo':'erika lust','gay':'homosexual','hombres más mayores':'oldies',\n",
    "                         'trios':'tríos','publico':'espacios públicos', 'gay (hombres)':'homosexual','en transportes públicos':'espacios públicos',\n",
    "                         'tradicional por llamarla así':'normal','lo más visto':'otros', '-':'ns/nc',\n",
    "                         'videos más realistas':'parejas reales','mujeres':'lésbico','...':'ns/nc',\n",
    "                          'intento buscar penes y hombres que no salgan cortados y que giman rollo macho':'otros',\n",
    "                          'mejor con pelo':'otros','parejas y con orgasmo femenino':'parejas reales',\n",
    "                          'pero muchas veces dejo de mirarla pk no me gusta ep contenido':'no es concreta',\n",
    "                          'muy dura':'violento','me intento esforzar para que me pongan otras cosas pero no lo consigo.':'violaciones',\n",
    "                          'erotico':'erika lust','ahora ya ni llego a abrir los vídeos.':'otros','':'ns/nc'\n",
    "                         }"
   ]
  },
  {
   "cell_type": "code",
   "execution_count": 19,
   "id": "impaired-texas",
   "metadata": {},
   "outputs": [],
   "source": [
    "clean_text.tipo_porno.replace(tipo_porno_replace_map,inplace=True)"
   ]
  },
  {
   "cell_type": "code",
   "execution_count": 20,
   "id": "flying-minutes",
   "metadata": {},
   "outputs": [],
   "source": [
    "clean_text.tipo_porno.replace(['violaciones','violento'],'violento/violaciones',inplace=True)"
   ]
  },
  {
   "cell_type": "code",
   "execution_count": 21,
   "id": "short-hartford",
   "metadata": {},
   "outputs": [],
   "source": [
    "clean_text.tipo_porno.replace(['tríos','orgías'],'tríos/orgías',inplace=True)"
   ]
  },
  {
   "cell_type": "code",
   "execution_count": 22,
   "id": "assured-circular",
   "metadata": {},
   "outputs": [],
   "source": [
    "clean_text.tipo_porno.replace(['amateur','parejas reales'],'amateur/parejas reales',inplace=True)"
   ]
  },
  {
   "cell_type": "code",
   "execution_count": 23,
   "id": "prerequisite-chair",
   "metadata": {},
   "outputs": [
    {
     "data": {
      "text/plain": [
       "array(['lésbico', 'amateur/parejas reales', 'sexo oral', 'oldies',\n",
       "       'violento/violaciones', 'no es concreta', 'heterosexual',\n",
       "       'tríos/orgías', 'normal', 'homosexual', 'asiático', 'webs', 'teen',\n",
       "       'creampie', 'erika lust', 'otros', 'ns/nc', 'suave', 'bdsm',\n",
       "       'espacios públicos', 'gratuita', 'masajes', 'peliculas', 'anal'],\n",
       "      dtype=object)"
      ]
     },
     "execution_count": 23,
     "metadata": {},
     "output_type": "execute_result"
    }
   ],
   "source": [
    "clean_text.tipo_porno.unique()"
   ]
  },
  {
   "cell_type": "code",
   "execution_count": 24,
   "id": "rubber-gasoline",
   "metadata": {},
   "outputs": [
    {
     "data": {
      "text/plain": [
       "lésbico                   22\n",
       "amateur/parejas reales    12\n",
       "violento/violaciones       5\n",
       "tríos/orgías               4\n",
       "otros                      4\n",
       "no es concreta             3\n",
       "sexo oral                  3\n",
       "homosexual                 3\n",
       "erika lust                 3\n",
       "ns/nc                      3\n",
       "normal                     2\n",
       "heterosexual               2\n",
       "oldies                     2\n",
       "espacios públicos          2\n",
       "peliculas                  1\n",
       "masajes                    1\n",
       "webs                       1\n",
       "creampie                   1\n",
       "teen                       1\n",
       "asiático                   1\n",
       "gratuita                   1\n",
       "suave                      1\n",
       "bdsm                       1\n",
       "anal                       1\n",
       "Name: tipo_porno, dtype: int64"
      ]
     },
     "execution_count": 24,
     "metadata": {},
     "output_type": "execute_result"
    }
   ],
   "source": [
    "clean_text.tipo_porno.value_counts()"
   ]
  },
  {
   "cell_type": "markdown",
   "id": "marine-correspondence",
   "metadata": {},
   "source": [
    "# Plot "
   ]
  },
  {
   "cell_type": "code",
   "execution_count": 25,
   "id": "matched-jesus",
   "metadata": {},
   "outputs": [],
   "source": [
    "porno_plot = pd.DataFrame(clean_text.tipo_porno.value_counts())"
   ]
  },
  {
   "cell_type": "code",
   "execution_count": 26,
   "id": "chief-gibraltar",
   "metadata": {},
   "outputs": [],
   "source": [
    "porno_plot=porno_plot.reset_index()"
   ]
  },
  {
   "cell_type": "code",
   "execution_count": 27,
   "id": "conceptual-peter",
   "metadata": {},
   "outputs": [],
   "source": [
    "porno_plot.columns = ['name', 'value']"
   ]
  },
  {
   "cell_type": "code",
   "execution_count": null,
   "id": "golden-fishing",
   "metadata": {},
   "outputs": [],
   "source": []
  },
  {
   "cell_type": "code",
   "execution_count": 28,
   "id": "dynamic-judgment",
   "metadata": {},
   "outputs": [],
   "source": [
    "#pip install circlify"
   ]
  },
  {
   "cell_type": "code",
   "execution_count": 29,
   "id": "neither-sustainability",
   "metadata": {},
   "outputs": [],
   "source": [
    "# import the circlify library\n",
    "import circlify\n",
    "\n",
    "# compute circle positions:\n",
    "circles = circlify.circlify(\n",
    "    porno_plot['value'].tolist(), \n",
    "    show_enclosure=False, \n",
    "    target_enclosure=circlify.Circle(x=0, y=0, r=1))"
   ]
  },
  {
   "cell_type": "code",
   "execution_count": 30,
   "id": "limiting-sheffield",
   "metadata": {},
   "outputs": [
    {
     "data": {
      "text/plain": [
       "list"
      ]
     },
     "execution_count": 30,
     "metadata": {},
     "output_type": "execute_result"
    }
   ],
   "source": [
    "type(circles) #check the type"
   ]
  },
  {
   "cell_type": "code",
   "execution_count": 31,
   "id": "foreign-prototype",
   "metadata": {},
   "outputs": [
    {
     "name": "stdout",
     "output_type": "stream",
     "text": [
      "[Circle(x=0.49146420832168425, y=0.10964195027812307, r=0.09238907323486119, level=1, ex={'datum': 1}), Circle(x=0.4107941916262531, y=0.42643778893250095, r=0.09238907323486119, level=1, ex={'datum': 1}), Circle(x=0.5346392973325601, y=0.2893051771824876, r=0.09238907323486119, level=1, ex={'datum': 1}), Circle(x=-0.4176482388979396, y=0.7571226768988442, r=0.09238907323486119, level=1, ex={'datum': 1}), Circle(x=-0.15530772194678297, y=0.8427884377705486, r=0.09238907323486119, level=1, ex={'datum': 1}), Circle(x=0.23796006368450784, y=0.7489742922428234, r=0.09238907323486119, level=1, ex={'datum': 1}), Circle(x=0.4187213182664694, y=0.6110458171328375, r=0.09238907323486119, level=1, ex={'datum': 1}), Circle(x=0.5914770699422265, y=0.46512449073352524, r=0.09238907323486119, level=1, ex={'datum': 1}), Circle(x=0.6686446714521898, y=0.16208283983623245, r=0.09238907323486119, level=1, ex={'datum': 1}), Circle(x=0.12921631556210106, y=0.8983655927160331, r=0.09238907323486119, level=1, ex={'datum': 1}), Circle(x=-0.2320806087533549, y=0.6333705126305063, r=0.1306578803838218, level=1, ex={'datum': 2}), Circle(x=0.2119318471440341, y=0.5274512111377223, r=0.1306578803838218, level=1, ex={'datum': 2}), Circle(x=-0.5674462812753511, y=0.5918638192891224, r=0.1306578803838218, level=1, ex={'datum': 2}), Circle(x=0.01945434110309292, y=0.704194913978395, r=0.1306578803838218, level=1, ex={'datum': 2}), Circle(x=-0.48439825292334937, y=0.07870498757290009, r=0.16002256890698147, level=1, ex={'datum': 3}), Circle(x=-0.05184381384503912, y=0.4053138938686709, r=0.16002256890698147, level=1, ex={'datum': 3}), Circle(x=-0.37071074639412854, y=0.37787724747934115, r=0.16002256890698147, level=1, ex={'datum': 3}), Circle(x=-0.7654204440070576, y=-0.07444663127871579, r=0.16002256890698147, level=1, ex={'datum': 3}), Circle(x=-0.6866452768453175, y=0.32674738627333494, r=0.16002256890698147, level=1, ex={'datum': 3}), Circle(x=-0.11606290886595722, y=-0.8069176362299401, r=0.18477814646972238, level=1, ex={'datum': 4}), Circle(x=0.23421047586083119, y=0.21280291583064598, r=0.18477814646972238, level=1, ex={'datum': 4}), Circle(x=-0.11934281311226105, y=0.044970479515860626, r=0.206588248131356, level=1, ex={'datum': 5}), Circle(x=-0.4083202519858532, y=-0.39529621581129104, r=0.32004513781396293, level=1, ex={'datum': 12}), Circle(x=0.3450680509643837, y=-0.39529621581129104, r=0.4333431651362739, level=1, ex={'datum': 22})]\n"
     ]
    }
   ],
   "source": [
    "print(circles) #check that each circle have x, y and r"
   ]
  },
  {
   "cell_type": "code",
   "execution_count": 32,
   "id": "stock-graham",
   "metadata": {},
   "outputs": [
    {
     "data": {
      "image/png": "[encoded data removed]",
      "text/plain": [
       "<Figure size 720x720 with 1 Axes>"
      ]
     },
     "metadata": {
      "needs_background": "light"
     },
     "output_type": "display_data"
    }
   ],
   "source": [
    " # import libraries\n",
    "import matplotlib.pyplot as plt\n",
    "\n",
    "# Create just a figure and only one subplot\n",
    "fig, ax = plt.subplots(figsize=(10,10))\n",
    "\n",
    "# Title\n",
    "ax.set_title('Types of porn viewed')\n",
    "\n",
    "# Remove axes\n",
    "ax.axis('off')\n",
    "\n",
    "# Find axis boundaries\n",
    "lim = max(max(abs(circle.x) + circle.r, abs(circle.y) + circle.r,)for circle in circles)\n",
    "plt.xlim(-lim, lim)\n",
    "plt.ylim(-lim, lim)\n",
    "\n",
    "# list of labels\n",
    "porno_plot = porno_plot.sort_values(by='value', ascending=True)\n",
    "labels = porno_plot['name']\n",
    "\n",
    "# print circles\n",
    "for circle, label in zip(circles, labels):\n",
    "    x, y, r = circle\n",
    "    if r> 0.4:\n",
    "        ax.add_patch(plt.Circle((x, y), r, color= 'BlueViolet', linewidth=2))\n",
    "        plt.annotate(\n",
    "              label, \n",
    "              (x,y ) ,\n",
    "              va='center',\n",
    "              ha='center',fontsize=25\n",
    "         )\n",
    "    elif r>0.3:\n",
    "        ax.add_patch(plt.Circle((x, y), r, color= 'BlueViolet',alpha=0.90, linewidth=2))\n",
    "        plt.annotate(\n",
    "              label, \n",
    "              (x,y ) ,\n",
    "              va='center',\n",
    "              ha='center',fontsize=15\n",
    "         )\n",
    "    elif r>0.2:\n",
    "        ax.add_patch(plt.Circle((x, y), r, color= 'BlueViolet',alpha=0.80, linewidth=2))\n",
    "        plt.annotate(\n",
    "              label, \n",
    "              (x,y ) ,\n",
    "              va='center',\n",
    "              ha='center',fontsize=12.5\n",
    "         )\n",
    "    elif r<0.1:\n",
    "        ax.add_patch(plt.Circle((x, y), r, color= 'BlueViolet',alpha=0.4, linewidth=2))\n",
    "        plt.annotate(\n",
    "              label, \n",
    "              (x,y ) ,\n",
    "              va='center',\n",
    "              ha='center',fontsize=9\n",
    "         )\n",
    "    else:\n",
    "        ax.add_patch(plt.Circle((x, y), r, color= 'BlueViolet',alpha=0.6, linewidth=2))\n",
    "        plt.annotate(\n",
    "              label, \n",
    "              (x,y ) ,\n",
    "              va='center',\n",
    "              ha='center',fontsize=11\n",
    "         )\n",
    "\n"
   ]
  },
  {
   "cell_type": "code",
   "execution_count": 33,
   "id": "intermediate-montgomery",
   "metadata": {},
   "outputs": [],
   "source": [
    "fig.savefig(\"tipo_porno_buble.png\", dpi=150)"
   ]
  },
  {
   "cell_type": "code",
   "execution_count": null,
   "id": "closed-tractor",
   "metadata": {},
   "outputs": [],
   "source": []
  }
 ],
 "metadata": {
  "hide_input": false,
  "kernelspec": {
   "display_name": "Python 3",
   "language": "python",
   "name": "python3"
  },
  "language_info": {
   "codemirror_mode": {
    "name": "ipython",
    "version": 3
   },
   "file_extension": ".py",
   "mimetype": "text/x-python",
   "name": "python",
   "nbconvert_exporter": "python",
   "pygments_lexer": "ipython3",
   "version": "3.7.9"
  },
  "toc": {
   "base_numbering": 1,
   "nav_menu": {},
   "number_sections": true,
   "sideBar": true,
   "skip_h1_title": false,
   "title_cell": "Table of Contents",
   "title_sidebar": "Contents",
   "toc_cell": false,
   "toc_position": {
    "height": "calc(100% - 180px)",
    "left": "10px",
    "top": "150px",
    "width": "202.558px"
   },
   "toc_section_display": true,
   "toc_window_display": true
  },
  "varInspector": {
   "cols": {
    "lenName": 16,
    "lenType": 16,
    "lenVar": 40
   },
   "kernels_config": {
    "python": {
     "delete_cmd_postfix": "",
     "delete_cmd_prefix": "del ",
     "library": "var_list.py",
     "varRefreshCmd": "print(var_dic_list())"
    },
    "r": {
     "delete_cmd_postfix": ") ",
     "delete_cmd_prefix": "rm(",
     "library": "var_list.r",
     "varRefreshCmd": "cat(var_dic_list()) "
    }
   },
   "types_to_exclude": [
    "module",
    "function",
    "builtin_function_or_method",
    "instance",
    "_Feature"
   ],
   "window_display": false
  }
 },
 "nbformat": 4,
 "nbformat_minor": 5
}
