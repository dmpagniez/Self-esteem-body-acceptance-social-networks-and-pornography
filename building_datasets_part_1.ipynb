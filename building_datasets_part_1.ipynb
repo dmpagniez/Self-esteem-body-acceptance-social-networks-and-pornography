{
 "cells": [
  {
   "cell_type": "markdown",
   "id": "crucial-gnome",
   "metadata": {},
   "source": [
    "# Import libraries and data"
   ]
  },
  {
   "cell_type": "code",
   "execution_count": 1,
   "id": "defensive-creator",
   "metadata": {},
   "outputs": [],
   "source": [
    "import numpy as np\n",
    "import math\n",
    "import pandas as pd\n",
    "from datetime import datetime\n",
    "import warnings\n",
    "warnings.filterwarnings('ignore')\n",
    "from matplotlib import pyplot as plt\n",
    "import seaborn as sns"
   ]
  },
  {
   "cell_type": "code",
   "execution_count": 2,
   "id": "guided-father",
   "metadata": {},
   "outputs": [
    {
     "data": {
      "text/html": [
       "        <script type=\"text/javascript\">\n",
       "        window.PlotlyConfig = {MathJaxConfig: 'local'};\n",
       "        if (window.MathJax) {MathJax.Hub.Config({SVG: {font: \"STIX-Web\"}});}\n",
       "        if (typeof require !== 'undefined') {\n",
       "        require.undef(\"plotly\");\n",
       "        requirejs.config({\n",
       "            paths: {\n",
       "                'plotly': ['https://cdn.plot.ly/plotly-latest.min']\n",
       "            }\n",
       "        });\n",
       "        require(['plotly'], function(Plotly) {\n",
       "            window._Plotly = Plotly;\n",
       "        });\n",
       "        }\n",
       "        </script>\n",
       "        "
      ]
     },
     "metadata": {},
     "output_type": "display_data"
    }
   ],
   "source": [
    "import sys\n",
    "sys.path.insert(0, '/Users/dpagniez/Desktop/Functions')\n",
    "\n",
    "from My_functions_EDA import *"
   ]
  },
  {
   "cell_type": "code",
   "execution_count": 3,
   "id": "suspended-checkout",
   "metadata": {},
   "outputs": [],
   "source": [
    "data = pd.read_csv('/Users/dpagniez/Desktop/DS_bootcamp/FINAL PROJECT/ES_Final project questionnaire .csv')"
   ]
  },
  {
   "cell_type": "code",
   "execution_count": 4,
   "id": "joint-monroe",
   "metadata": {},
   "outputs": [],
   "source": [
    "test = data.copy()"
   ]
  },
  {
   "cell_type": "code",
   "execution_count": 5,
   "id": "fallen-advisory",
   "metadata": {
    "scrolled": true
   },
   "outputs": [
    {
     "name": "stdout",
     "output_type": "stream",
     "text": [
      "<class 'pandas.core.frame.DataFrame'>\n",
      "RangeIndex: 434 entries, 0 to 433\n",
      "Columns: 103 entries, Marca temporal to Una vez realizada la investigación, si deseas recibir una copia de la presentación con las conclusiones, introduce tu mail aquí: \n",
      "dtypes: float64(3), object(100)\n",
      "memory usage: 349.4+ KB\n"
     ]
    }
   ],
   "source": [
    "test.info()"
   ]
  },
  {
   "cell_type": "code",
   "execution_count": 6,
   "id": "loaded-desktop",
   "metadata": {},
   "outputs": [
    {
     "data": {
      "text/plain": [
       "Index(['Marca temporal', '¿Deseas participar?', '¿Cuántos años tienes?',\n",
       "       '¿Cuál es tu país de nacimiento?',\n",
       "       '¿Cuál es tu país de residencia actual? ',\n",
       "       'Considerando los últimos tres meses: ¿Qué tan de acuerdo estas con las siguientes afirmaciones? [Me siento una persona tan valiosa como las otras]',\n",
       "       'Considerando los últimos tres meses: ¿Qué tan de acuerdo estas con las siguientes afirmaciones? [Generalmente me inclino a pensar que soy un fracaso]',\n",
       "       'Considerando los últimos tres meses: ¿Qué tan de acuerdo estas con las siguientes afirmaciones? [Creo que tengo algunas cualidades buenas]',\n",
       "       'Considerando los últimos tres meses: ¿Qué tan de acuerdo estas con las siguientes afirmaciones? [Soy capaz de hacer las cosas tan bien como los demás]',\n",
       "       'Considerando los últimos tres meses: ¿Qué tan de acuerdo estas con las siguientes afirmaciones? [Creo que no tengo mucho de lo que estar orgullosa]',\n",
       "       ...\n",
       "       '¿Alguna vez te han mandado material pornográfico sin haberlo solicitado por una red social?',\n",
       "       '¿Cuál era el sexo de la/s persona/s que te enviaron este material?',\n",
       "       '¿Alguna vez te han pedido fotos pornográficas, de genitales o desnudos por una red social?',\n",
       "       '¿Cuál era el sexo de la persona que te pidió este material?',\n",
       "       '¿Crees que algo del contenido que ves por TikTok o Instagram se parece a la pornografía?',\n",
       "       '¿Crees que algunas mujeres intentan imitar lo que ven en la pornografía a la hora de subir fotos o vídeos a estas redes sociales?',\n",
       "       '¿Crees que la pornografía influye en lo que se comparte en redes sociales?',\n",
       "       '¿Crees que lo que se comparte en redes sociales distorsiona la realidad?',\n",
       "       '¿Crees que lo que consumes en las redes sociales afecta tu autoestima?',\n",
       "       'Una vez realizada la investigación, si deseas recibir una copia de la presentación con las conclusiones, introduce tu mail aquí: '],\n",
       "      dtype='object', length=103)"
      ]
     },
     "execution_count": 6,
     "metadata": {},
     "output_type": "execute_result"
    }
   ],
   "source": [
    "test.columns"
   ]
  },
  {
   "cell_type": "code",
   "execution_count": 7,
   "id": "strategic-arkansas",
   "metadata": {},
   "outputs": [
    {
     "data": {
      "text/html": [
       "<div>\n",
       "<style scoped>\n",
       "    .dataframe tbody tr th:only-of-type {\n",
       "        vertical-align: middle;\n",
       "    }\n",
       "\n",
       "    .dataframe tbody tr th {\n",
       "        vertical-align: top;\n",
       "    }\n",
       "\n",
       "    .dataframe thead th {\n",
       "        text-align: right;\n",
       "    }\n",
       "</style>\n",
       "<table border=\"1\" class=\"dataframe\">\n",
       "  <thead>\n",
       "    <tr style=\"text-align: right;\">\n",
       "      <th></th>\n",
       "      <th>Marca temporal</th>\n",
       "      <th>¿Deseas participar?</th>\n",
       "      <th>¿Cuántos años tienes?</th>\n",
       "      <th>¿Cuál es tu país de nacimiento?</th>\n",
       "      <th>¿Cuál es tu país de residencia actual?</th>\n",
       "      <th>Considerando los últimos tres meses: ¿Qué tan de acuerdo estas con las siguientes afirmaciones? [Me siento una persona tan valiosa como las otras]</th>\n",
       "      <th>Considerando los últimos tres meses: ¿Qué tan de acuerdo estas con las siguientes afirmaciones? [Generalmente me inclino a pensar que soy un fracaso]</th>\n",
       "      <th>Considerando los últimos tres meses: ¿Qué tan de acuerdo estas con las siguientes afirmaciones? [Creo que tengo algunas cualidades buenas]</th>\n",
       "      <th>Considerando los últimos tres meses: ¿Qué tan de acuerdo estas con las siguientes afirmaciones? [Soy capaz de hacer las cosas tan bien como los demás]</th>\n",
       "      <th>Considerando los últimos tres meses: ¿Qué tan de acuerdo estas con las siguientes afirmaciones? [Creo que no tengo mucho de lo que estar orgullosa]</th>\n",
       "      <th>...</th>\n",
       "      <th>¿Alguna vez te han mandado material pornográfico sin haberlo solicitado por una red social?</th>\n",
       "      <th>¿Cuál era el sexo de la/s persona/s que te enviaron este material?</th>\n",
       "      <th>¿Alguna vez te han pedido fotos pornográficas, de genitales o desnudos por una red social?</th>\n",
       "      <th>¿Cuál era el sexo de la persona que te pidió este material?</th>\n",
       "      <th>¿Crees que algo del contenido que ves por TikTok o Instagram se parece a la pornografía?</th>\n",
       "      <th>¿Crees que algunas mujeres intentan imitar lo que ven en la pornografía a la hora de subir fotos o vídeos a estas redes sociales?</th>\n",
       "      <th>¿Crees que la pornografía influye en lo que se comparte en redes sociales?</th>\n",
       "      <th>¿Crees que lo que se comparte en redes sociales distorsiona la realidad?</th>\n",
       "      <th>¿Crees que lo que consumes en las redes sociales afecta tu autoestima?</th>\n",
       "      <th>Una vez realizada la investigación, si deseas recibir una copia de la presentación con las conclusiones, introduce tu mail aquí:</th>\n",
       "    </tr>\n",
       "  </thead>\n",
       "  <tbody>\n",
       "    <tr>\n",
       "      <th>0</th>\n",
       "      <td>2021/03/25 7:25:11 p. m. EET</td>\n",
       "      <td>Aceptar</td>\n",
       "      <td>30</td>\n",
       "      <td>España</td>\n",
       "      <td>España</td>\n",
       "      <td>De acuerdo</td>\n",
       "      <td>En desacuerdo</td>\n",
       "      <td>Muy de acuerdo</td>\n",
       "      <td>Muy de acuerdo</td>\n",
       "      <td>En desacuerdo</td>\n",
       "      <td>...</td>\n",
       "      <td>Sí</td>\n",
       "      <td>Hombre</td>\n",
       "      <td>Sí</td>\n",
       "      <td>Hombre</td>\n",
       "      <td>Sí</td>\n",
       "      <td>Sí</td>\n",
       "      <td>Sí</td>\n",
       "      <td>Sí</td>\n",
       "      <td>Sí</td>\n",
       "      <td>apaniaguavilloria@gmail.com</td>\n",
       "    </tr>\n",
       "    <tr>\n",
       "      <th>1</th>\n",
       "      <td>2021/03/25 11:18:02 p. m. EET</td>\n",
       "      <td>Aceptar</td>\n",
       "      <td>cxz</td>\n",
       "      <td>sdc</td>\n",
       "      <td>dcs</td>\n",
       "      <td>Muy en desacuerdo</td>\n",
       "      <td>Muy en desacuerdo</td>\n",
       "      <td>Muy en desacuerdo</td>\n",
       "      <td>Muy en desacuerdo</td>\n",
       "      <td>Muy en desacuerdo</td>\n",
       "      <td>...</td>\n",
       "      <td>No</td>\n",
       "      <td>Hombre</td>\n",
       "      <td>NaN</td>\n",
       "      <td>NaN</td>\n",
       "      <td>No tengo dichas redes sociales</td>\n",
       "      <td>NaN</td>\n",
       "      <td>NaN</td>\n",
       "      <td>NaN</td>\n",
       "      <td>NaN</td>\n",
       "      <td>NaN</td>\n",
       "    </tr>\n",
       "    <tr>\n",
       "      <th>2</th>\n",
       "      <td>2021/03/26 12:02:08 a. m. EET</td>\n",
       "      <td>Aceptar</td>\n",
       "      <td>25</td>\n",
       "      <td>España</td>\n",
       "      <td>España</td>\n",
       "      <td>De acuerdo</td>\n",
       "      <td>En desacuerdo</td>\n",
       "      <td>Muy de acuerdo</td>\n",
       "      <td>Muy de acuerdo</td>\n",
       "      <td>En desacuerdo</td>\n",
       "      <td>...</td>\n",
       "      <td>Sí</td>\n",
       "      <td>Hombre</td>\n",
       "      <td>Sí</td>\n",
       "      <td>Hombre</td>\n",
       "      <td>Sí</td>\n",
       "      <td>Sí</td>\n",
       "      <td>Sí</td>\n",
       "      <td>Sí</td>\n",
       "      <td>Sí</td>\n",
       "      <td>NaN</td>\n",
       "    </tr>\n",
       "    <tr>\n",
       "      <th>3</th>\n",
       "      <td>2021/03/26 12:11:49 a. m. EET</td>\n",
       "      <td>Aceptar</td>\n",
       "      <td>30</td>\n",
       "      <td>España</td>\n",
       "      <td>España</td>\n",
       "      <td>Muy en desacuerdo</td>\n",
       "      <td>Muy de acuerdo</td>\n",
       "      <td>De acuerdo</td>\n",
       "      <td>En desacuerdo</td>\n",
       "      <td>De acuerdo</td>\n",
       "      <td>...</td>\n",
       "      <td>Sí</td>\n",
       "      <td>Hombre</td>\n",
       "      <td>Sí</td>\n",
       "      <td>Hombre</td>\n",
       "      <td>Sí</td>\n",
       "      <td>Sí</td>\n",
       "      <td>Sí</td>\n",
       "      <td>Sí</td>\n",
       "      <td>Sí</td>\n",
       "      <td>NaN</td>\n",
       "    </tr>\n",
       "    <tr>\n",
       "      <th>4</th>\n",
       "      <td>2021/03/26 12:15:23 a. m. EET</td>\n",
       "      <td>Aceptar</td>\n",
       "      <td>29</td>\n",
       "      <td>España</td>\n",
       "      <td>España</td>\n",
       "      <td>En desacuerdo</td>\n",
       "      <td>En desacuerdo</td>\n",
       "      <td>Muy en desacuerdo</td>\n",
       "      <td>Muy en desacuerdo</td>\n",
       "      <td>En desacuerdo</td>\n",
       "      <td>...</td>\n",
       "      <td>Sí</td>\n",
       "      <td>Hombre</td>\n",
       "      <td>Sí</td>\n",
       "      <td>Hombre</td>\n",
       "      <td>No tengo dichas redes sociales</td>\n",
       "      <td>Sí</td>\n",
       "      <td>Sí</td>\n",
       "      <td>Sí</td>\n",
       "      <td>Sí</td>\n",
       "      <td>NaN</td>\n",
       "    </tr>\n",
       "    <tr>\n",
       "      <th>5</th>\n",
       "      <td>2021/03/26 12:16:33 a. m. EET</td>\n",
       "      <td>Aceptar</td>\n",
       "      <td>46</td>\n",
       "      <td>España</td>\n",
       "      <td>España</td>\n",
       "      <td>De acuerdo</td>\n",
       "      <td>En desacuerdo</td>\n",
       "      <td>Muy de acuerdo</td>\n",
       "      <td>Muy de acuerdo</td>\n",
       "      <td>En desacuerdo</td>\n",
       "      <td>...</td>\n",
       "      <td>No</td>\n",
       "      <td>NaN</td>\n",
       "      <td>No</td>\n",
       "      <td>NaN</td>\n",
       "      <td>Sí</td>\n",
       "      <td>Sí</td>\n",
       "      <td>Sí</td>\n",
       "      <td>Sí</td>\n",
       "      <td>Sí</td>\n",
       "      <td>NaN</td>\n",
       "    </tr>\n",
       "    <tr>\n",
       "      <th>6</th>\n",
       "      <td>2021/03/26 12:20:53 a. m. EET</td>\n",
       "      <td>Aceptar</td>\n",
       "      <td>35</td>\n",
       "      <td>España</td>\n",
       "      <td>España</td>\n",
       "      <td>De acuerdo</td>\n",
       "      <td>En desacuerdo</td>\n",
       "      <td>De acuerdo</td>\n",
       "      <td>De acuerdo</td>\n",
       "      <td>En desacuerdo</td>\n",
       "      <td>...</td>\n",
       "      <td>No</td>\n",
       "      <td>NaN</td>\n",
       "      <td>Sí</td>\n",
       "      <td>Hombre;Mujer</td>\n",
       "      <td>Sí</td>\n",
       "      <td>Sí</td>\n",
       "      <td>Sí</td>\n",
       "      <td>Sí</td>\n",
       "      <td>Sí</td>\n",
       "      <td>dolma.mlc@gmail.com</td>\n",
       "    </tr>\n",
       "    <tr>\n",
       "      <th>7</th>\n",
       "      <td>2021/03/26 12:22:23 a. m. EET</td>\n",
       "      <td>Aceptar</td>\n",
       "      <td>25</td>\n",
       "      <td>España</td>\n",
       "      <td>España</td>\n",
       "      <td>Muy de acuerdo</td>\n",
       "      <td>De acuerdo</td>\n",
       "      <td>Muy de acuerdo</td>\n",
       "      <td>Muy de acuerdo</td>\n",
       "      <td>De acuerdo</td>\n",
       "      <td>...</td>\n",
       "      <td>Sí</td>\n",
       "      <td>Hombre</td>\n",
       "      <td>Sí</td>\n",
       "      <td>Hombre</td>\n",
       "      <td>No</td>\n",
       "      <td>Sí</td>\n",
       "      <td>Sí</td>\n",
       "      <td>Sí</td>\n",
       "      <td>Sí</td>\n",
       "      <td>cloestein@outlook.com</td>\n",
       "    </tr>\n",
       "    <tr>\n",
       "      <th>8</th>\n",
       "      <td>2021/03/26 12:24:59 a. m. EET</td>\n",
       "      <td>Aceptar</td>\n",
       "      <td>21</td>\n",
       "      <td>España</td>\n",
       "      <td>España</td>\n",
       "      <td>Muy de acuerdo</td>\n",
       "      <td>De acuerdo</td>\n",
       "      <td>En desacuerdo</td>\n",
       "      <td>Muy de acuerdo</td>\n",
       "      <td>En desacuerdo</td>\n",
       "      <td>...</td>\n",
       "      <td>No</td>\n",
       "      <td>NaN</td>\n",
       "      <td>Sí</td>\n",
       "      <td>Hombre</td>\n",
       "      <td>Sí</td>\n",
       "      <td>Sí</td>\n",
       "      <td>Sí</td>\n",
       "      <td>Sí</td>\n",
       "      <td>Sí</td>\n",
       "      <td>NaN</td>\n",
       "    </tr>\n",
       "    <tr>\n",
       "      <th>9</th>\n",
       "      <td>2021/03/26 12:43:02 a. m. EET</td>\n",
       "      <td>Aceptar</td>\n",
       "      <td>30</td>\n",
       "      <td>España</td>\n",
       "      <td>España</td>\n",
       "      <td>Muy de acuerdo</td>\n",
       "      <td>En desacuerdo</td>\n",
       "      <td>De acuerdo</td>\n",
       "      <td>En desacuerdo</td>\n",
       "      <td>De acuerdo</td>\n",
       "      <td>...</td>\n",
       "      <td>Sí</td>\n",
       "      <td>Hombre</td>\n",
       "      <td>Sí</td>\n",
       "      <td>Hombre</td>\n",
       "      <td>Sí</td>\n",
       "      <td>Sí</td>\n",
       "      <td>Sí</td>\n",
       "      <td>Sí</td>\n",
       "      <td>Sí</td>\n",
       "      <td>NaN</td>\n",
       "    </tr>\n",
       "  </tbody>\n",
       "</table>\n",
       "<p>10 rows × 103 columns</p>\n",
       "</div>"
      ],
      "text/plain": [
       "                  Marca temporal ¿Deseas participar? ¿Cuántos años tienes?  \\\n",
       "0   2021/03/25 7:25:11 p. m. EET             Aceptar                    30   \n",
       "1  2021/03/25 11:18:02 p. m. EET             Aceptar                   cxz   \n",
       "2  2021/03/26 12:02:08 a. m. EET             Aceptar                    25   \n",
       "3  2021/03/26 12:11:49 a. m. EET             Aceptar                    30   \n",
       "4  2021/03/26 12:15:23 a. m. EET             Aceptar                    29   \n",
       "5  2021/03/26 12:16:33 a. m. EET             Aceptar                    46   \n",
       "6  2021/03/26 12:20:53 a. m. EET             Aceptar                    35   \n",
       "7  2021/03/26 12:22:23 a. m. EET             Aceptar                    25   \n",
       "8  2021/03/26 12:24:59 a. m. EET             Aceptar                    21   \n",
       "9  2021/03/26 12:43:02 a. m. EET             Aceptar                    30   \n",
       "\n",
       "  ¿Cuál es tu país de nacimiento? ¿Cuál es tu país de residencia actual?   \\\n",
       "0                          España                                  España   \n",
       "1                             sdc                                     dcs   \n",
       "2                          España                                  España   \n",
       "3                          España                                  España   \n",
       "4                          España                                  España   \n",
       "5                          España                                  España   \n",
       "6                         España                                  España    \n",
       "7                          España                                  España   \n",
       "8                          España                                  España   \n",
       "9                         España                                  España    \n",
       "\n",
       "  Considerando los últimos tres meses: ¿Qué tan de acuerdo estas con las siguientes afirmaciones? [Me siento una persona tan valiosa como las otras]  \\\n",
       "0                                         De acuerdo                                                                                                   \n",
       "1                                  Muy en desacuerdo                                                                                                   \n",
       "2                                         De acuerdo                                                                                                   \n",
       "3                                  Muy en desacuerdo                                                                                                   \n",
       "4                                      En desacuerdo                                                                                                   \n",
       "5                                         De acuerdo                                                                                                   \n",
       "6                                         De acuerdo                                                                                                   \n",
       "7                                     Muy de acuerdo                                                                                                   \n",
       "8                                     Muy de acuerdo                                                                                                   \n",
       "9                                     Muy de acuerdo                                                                                                   \n",
       "\n",
       "  Considerando los últimos tres meses: ¿Qué tan de acuerdo estas con las siguientes afirmaciones? [Generalmente me inclino a pensar que soy un fracaso]  \\\n",
       "0                                      En desacuerdo                                                                                                      \n",
       "1                                  Muy en desacuerdo                                                                                                      \n",
       "2                                      En desacuerdo                                                                                                      \n",
       "3                                     Muy de acuerdo                                                                                                      \n",
       "4                                      En desacuerdo                                                                                                      \n",
       "5                                      En desacuerdo                                                                                                      \n",
       "6                                      En desacuerdo                                                                                                      \n",
       "7                                         De acuerdo                                                                                                      \n",
       "8                                         De acuerdo                                                                                                      \n",
       "9                                      En desacuerdo                                                                                                      \n",
       "\n",
       "  Considerando los últimos tres meses: ¿Qué tan de acuerdo estas con las siguientes afirmaciones? [Creo que tengo algunas cualidades buenas]  \\\n",
       "0                                     Muy de acuerdo                                                                                           \n",
       "1                                  Muy en desacuerdo                                                                                           \n",
       "2                                     Muy de acuerdo                                                                                           \n",
       "3                                         De acuerdo                                                                                           \n",
       "4                                  Muy en desacuerdo                                                                                           \n",
       "5                                     Muy de acuerdo                                                                                           \n",
       "6                                         De acuerdo                                                                                           \n",
       "7                                     Muy de acuerdo                                                                                           \n",
       "8                                      En desacuerdo                                                                                           \n",
       "9                                         De acuerdo                                                                                           \n",
       "\n",
       "  Considerando los últimos tres meses: ¿Qué tan de acuerdo estas con las siguientes afirmaciones? [Soy capaz de hacer las cosas tan bien como los demás]  \\\n",
       "0                                     Muy de acuerdo                                                                                                       \n",
       "1                                  Muy en desacuerdo                                                                                                       \n",
       "2                                     Muy de acuerdo                                                                                                       \n",
       "3                                      En desacuerdo                                                                                                       \n",
       "4                                  Muy en desacuerdo                                                                                                       \n",
       "5                                     Muy de acuerdo                                                                                                       \n",
       "6                                         De acuerdo                                                                                                       \n",
       "7                                     Muy de acuerdo                                                                                                       \n",
       "8                                     Muy de acuerdo                                                                                                       \n",
       "9                                      En desacuerdo                                                                                                       \n",
       "\n",
       "  Considerando los últimos tres meses: ¿Qué tan de acuerdo estas con las siguientes afirmaciones? [Creo que no tengo mucho de lo que estar orgullosa]  \\\n",
       "0                                      En desacuerdo                                                                                                    \n",
       "1                                  Muy en desacuerdo                                                                                                    \n",
       "2                                      En desacuerdo                                                                                                    \n",
       "3                                         De acuerdo                                                                                                    \n",
       "4                                      En desacuerdo                                                                                                    \n",
       "5                                      En desacuerdo                                                                                                    \n",
       "6                                      En desacuerdo                                                                                                    \n",
       "7                                         De acuerdo                                                                                                    \n",
       "8                                      En desacuerdo                                                                                                    \n",
       "9                                         De acuerdo                                                                                                    \n",
       "\n",
       "   ...  \\\n",
       "0  ...   \n",
       "1  ...   \n",
       "2  ...   \n",
       "3  ...   \n",
       "4  ...   \n",
       "5  ...   \n",
       "6  ...   \n",
       "7  ...   \n",
       "8  ...   \n",
       "9  ...   \n",
       "\n",
       "  ¿Alguna vez te han mandado material pornográfico sin haberlo solicitado por una red social?  \\\n",
       "0                                                 Sí                                            \n",
       "1                                                 No                                            \n",
       "2                                                 Sí                                            \n",
       "3                                                 Sí                                            \n",
       "4                                                 Sí                                            \n",
       "5                                                 No                                            \n",
       "6                                                 No                                            \n",
       "7                                                 Sí                                            \n",
       "8                                                 No                                            \n",
       "9                                                 Sí                                            \n",
       "\n",
       "  ¿Cuál era el sexo de la/s persona/s que te enviaron este material?  \\\n",
       "0                                             Hombre                   \n",
       "1                                             Hombre                   \n",
       "2                                             Hombre                   \n",
       "3                                             Hombre                   \n",
       "4                                             Hombre                   \n",
       "5                                                NaN                   \n",
       "6                                                NaN                   \n",
       "7                                             Hombre                   \n",
       "8                                                NaN                   \n",
       "9                                             Hombre                   \n",
       "\n",
       "  ¿Alguna vez te han pedido fotos pornográficas, de genitales o desnudos por una red social?  \\\n",
       "0                                                 Sí                                           \n",
       "1                                                NaN                                           \n",
       "2                                                 Sí                                           \n",
       "3                                                 Sí                                           \n",
       "4                                                 Sí                                           \n",
       "5                                                 No                                           \n",
       "6                                                 Sí                                           \n",
       "7                                                 Sí                                           \n",
       "8                                                 Sí                                           \n",
       "9                                                 Sí                                           \n",
       "\n",
       "  ¿Cuál era el sexo de la persona que te pidió este material?  \\\n",
       "0                                             Hombre            \n",
       "1                                                NaN            \n",
       "2                                             Hombre            \n",
       "3                                             Hombre            \n",
       "4                                             Hombre            \n",
       "5                                                NaN            \n",
       "6                                       Hombre;Mujer            \n",
       "7                                             Hombre            \n",
       "8                                             Hombre            \n",
       "9                                             Hombre            \n",
       "\n",
       "  ¿Crees que algo del contenido que ves por TikTok o Instagram se parece a la pornografía?  \\\n",
       "0                                                 Sí                                         \n",
       "1                     No tengo dichas redes sociales                                         \n",
       "2                                                 Sí                                         \n",
       "3                                                 Sí                                         \n",
       "4                     No tengo dichas redes sociales                                         \n",
       "5                                                 Sí                                         \n",
       "6                                                 Sí                                         \n",
       "7                                                 No                                         \n",
       "8                                                 Sí                                         \n",
       "9                                                 Sí                                         \n",
       "\n",
       "  ¿Crees que algunas mujeres intentan imitar lo que ven en la pornografía a la hora de subir fotos o vídeos a estas redes sociales?  \\\n",
       "0                                                 Sí                                                                                  \n",
       "1                                                NaN                                                                                  \n",
       "2                                                 Sí                                                                                  \n",
       "3                                                 Sí                                                                                  \n",
       "4                                                 Sí                                                                                  \n",
       "5                                                 Sí                                                                                  \n",
       "6                                                 Sí                                                                                  \n",
       "7                                                 Sí                                                                                  \n",
       "8                                                 Sí                                                                                  \n",
       "9                                                 Sí                                                                                  \n",
       "\n",
       "  ¿Crees que la pornografía influye en lo que se comparte en redes sociales?  \\\n",
       "0                                                 Sí                           \n",
       "1                                                NaN                           \n",
       "2                                                 Sí                           \n",
       "3                                                 Sí                           \n",
       "4                                                 Sí                           \n",
       "5                                                 Sí                           \n",
       "6                                                 Sí                           \n",
       "7                                                 Sí                           \n",
       "8                                                 Sí                           \n",
       "9                                                 Sí                           \n",
       "\n",
       "  ¿Crees que lo que se comparte en redes sociales distorsiona la realidad?  \\\n",
       "0                                                 Sí                         \n",
       "1                                                NaN                         \n",
       "2                                                 Sí                         \n",
       "3                                                 Sí                         \n",
       "4                                                 Sí                         \n",
       "5                                                 Sí                         \n",
       "6                                                 Sí                         \n",
       "7                                                 Sí                         \n",
       "8                                                 Sí                         \n",
       "9                                                 Sí                         \n",
       "\n",
       "  ¿Crees que lo que consumes en las redes sociales afecta tu autoestima?  \\\n",
       "0                                                 Sí                       \n",
       "1                                                NaN                       \n",
       "2                                                 Sí                       \n",
       "3                                                 Sí                       \n",
       "4                                                 Sí                       \n",
       "5                                                 Sí                       \n",
       "6                                                 Sí                       \n",
       "7                                                 Sí                       \n",
       "8                                                 Sí                       \n",
       "9                                                 Sí                       \n",
       "\n",
       "  Una vez realizada la investigación, si deseas recibir una copia de la presentación con las conclusiones, introduce tu mail aquí:   \n",
       "0                       apaniaguavilloria@gmail.com                                                                                  \n",
       "1                                                NaN                                                                                 \n",
       "2                                                NaN                                                                                 \n",
       "3                                                NaN                                                                                 \n",
       "4                                                NaN                                                                                 \n",
       "5                                                NaN                                                                                 \n",
       "6                                dolma.mlc@gmail.com                                                                                 \n",
       "7                              cloestein@outlook.com                                                                                 \n",
       "8                                                NaN                                                                                 \n",
       "9                                                NaN                                                                                 \n",
       "\n",
       "[10 rows x 103 columns]"
      ]
     },
     "execution_count": 7,
     "metadata": {},
     "output_type": "execute_result"
    }
   ],
   "source": [
    "test.head(10)"
   ]
  },
  {
   "cell_type": "code",
   "execution_count": 8,
   "id": "junior-population",
   "metadata": {},
   "outputs": [],
   "source": [
    "\n",
    "test= test.reset_index()\n",
    "test=test.rename(columns={'index': 'Id'})"
   ]
  },
  {
   "cell_type": "code",
   "execution_count": 9,
   "id": "pending-jacket",
   "metadata": {},
   "outputs": [
    {
     "data": {
      "text/html": [
       "<div>\n",
       "<style scoped>\n",
       "    .dataframe tbody tr th:only-of-type {\n",
       "        vertical-align: middle;\n",
       "    }\n",
       "\n",
       "    .dataframe tbody tr th {\n",
       "        vertical-align: top;\n",
       "    }\n",
       "\n",
       "    .dataframe thead th {\n",
       "        text-align: right;\n",
       "    }\n",
       "</style>\n",
       "<table border=\"1\" class=\"dataframe\">\n",
       "  <thead>\n",
       "    <tr style=\"text-align: right;\">\n",
       "      <th></th>\n",
       "      <th>Id</th>\n",
       "      <th>Marca temporal</th>\n",
       "      <th>¿Deseas participar?</th>\n",
       "      <th>¿Cuántos años tienes?</th>\n",
       "      <th>¿Cuál es tu país de nacimiento?</th>\n",
       "      <th>¿Cuál es tu país de residencia actual?</th>\n",
       "      <th>Considerando los últimos tres meses: ¿Qué tan de acuerdo estas con las siguientes afirmaciones? [Me siento una persona tan valiosa como las otras]</th>\n",
       "      <th>Considerando los últimos tres meses: ¿Qué tan de acuerdo estas con las siguientes afirmaciones? [Generalmente me inclino a pensar que soy un fracaso]</th>\n",
       "      <th>Considerando los últimos tres meses: ¿Qué tan de acuerdo estas con las siguientes afirmaciones? [Creo que tengo algunas cualidades buenas]</th>\n",
       "      <th>Considerando los últimos tres meses: ¿Qué tan de acuerdo estas con las siguientes afirmaciones? [Soy capaz de hacer las cosas tan bien como los demás]</th>\n",
       "      <th>...</th>\n",
       "      <th>¿Alguna vez te han mandado material pornográfico sin haberlo solicitado por una red social?</th>\n",
       "      <th>¿Cuál era el sexo de la/s persona/s que te enviaron este material?</th>\n",
       "      <th>¿Alguna vez te han pedido fotos pornográficas, de genitales o desnudos por una red social?</th>\n",
       "      <th>¿Cuál era el sexo de la persona que te pidió este material?</th>\n",
       "      <th>¿Crees que algo del contenido que ves por TikTok o Instagram se parece a la pornografía?</th>\n",
       "      <th>¿Crees que algunas mujeres intentan imitar lo que ven en la pornografía a la hora de subir fotos o vídeos a estas redes sociales?</th>\n",
       "      <th>¿Crees que la pornografía influye en lo que se comparte en redes sociales?</th>\n",
       "      <th>¿Crees que lo que se comparte en redes sociales distorsiona la realidad?</th>\n",
       "      <th>¿Crees que lo que consumes en las redes sociales afecta tu autoestima?</th>\n",
       "      <th>Una vez realizada la investigación, si deseas recibir una copia de la presentación con las conclusiones, introduce tu mail aquí:</th>\n",
       "    </tr>\n",
       "  </thead>\n",
       "  <tbody>\n",
       "    <tr>\n",
       "      <th>0</th>\n",
       "      <td>0</td>\n",
       "      <td>2021/03/25 7:25:11 p. m. EET</td>\n",
       "      <td>Aceptar</td>\n",
       "      <td>30</td>\n",
       "      <td>España</td>\n",
       "      <td>España</td>\n",
       "      <td>De acuerdo</td>\n",
       "      <td>En desacuerdo</td>\n",
       "      <td>Muy de acuerdo</td>\n",
       "      <td>Muy de acuerdo</td>\n",
       "      <td>...</td>\n",
       "      <td>Sí</td>\n",
       "      <td>Hombre</td>\n",
       "      <td>Sí</td>\n",
       "      <td>Hombre</td>\n",
       "      <td>Sí</td>\n",
       "      <td>Sí</td>\n",
       "      <td>Sí</td>\n",
       "      <td>Sí</td>\n",
       "      <td>Sí</td>\n",
       "      <td>apaniaguavilloria@gmail.com</td>\n",
       "    </tr>\n",
       "    <tr>\n",
       "      <th>1</th>\n",
       "      <td>1</td>\n",
       "      <td>2021/03/25 11:18:02 p. m. EET</td>\n",
       "      <td>Aceptar</td>\n",
       "      <td>cxz</td>\n",
       "      <td>sdc</td>\n",
       "      <td>dcs</td>\n",
       "      <td>Muy en desacuerdo</td>\n",
       "      <td>Muy en desacuerdo</td>\n",
       "      <td>Muy en desacuerdo</td>\n",
       "      <td>Muy en desacuerdo</td>\n",
       "      <td>...</td>\n",
       "      <td>No</td>\n",
       "      <td>Hombre</td>\n",
       "      <td>NaN</td>\n",
       "      <td>NaN</td>\n",
       "      <td>No tengo dichas redes sociales</td>\n",
       "      <td>NaN</td>\n",
       "      <td>NaN</td>\n",
       "      <td>NaN</td>\n",
       "      <td>NaN</td>\n",
       "      <td>NaN</td>\n",
       "    </tr>\n",
       "    <tr>\n",
       "      <th>2</th>\n",
       "      <td>2</td>\n",
       "      <td>2021/03/26 12:02:08 a. m. EET</td>\n",
       "      <td>Aceptar</td>\n",
       "      <td>25</td>\n",
       "      <td>España</td>\n",
       "      <td>España</td>\n",
       "      <td>De acuerdo</td>\n",
       "      <td>En desacuerdo</td>\n",
       "      <td>Muy de acuerdo</td>\n",
       "      <td>Muy de acuerdo</td>\n",
       "      <td>...</td>\n",
       "      <td>Sí</td>\n",
       "      <td>Hombre</td>\n",
       "      <td>Sí</td>\n",
       "      <td>Hombre</td>\n",
       "      <td>Sí</td>\n",
       "      <td>Sí</td>\n",
       "      <td>Sí</td>\n",
       "      <td>Sí</td>\n",
       "      <td>Sí</td>\n",
       "      <td>NaN</td>\n",
       "    </tr>\n",
       "    <tr>\n",
       "      <th>3</th>\n",
       "      <td>3</td>\n",
       "      <td>2021/03/26 12:11:49 a. m. EET</td>\n",
       "      <td>Aceptar</td>\n",
       "      <td>30</td>\n",
       "      <td>España</td>\n",
       "      <td>España</td>\n",
       "      <td>Muy en desacuerdo</td>\n",
       "      <td>Muy de acuerdo</td>\n",
       "      <td>De acuerdo</td>\n",
       "      <td>En desacuerdo</td>\n",
       "      <td>...</td>\n",
       "      <td>Sí</td>\n",
       "      <td>Hombre</td>\n",
       "      <td>Sí</td>\n",
       "      <td>Hombre</td>\n",
       "      <td>Sí</td>\n",
       "      <td>Sí</td>\n",
       "      <td>Sí</td>\n",
       "      <td>Sí</td>\n",
       "      <td>Sí</td>\n",
       "      <td>NaN</td>\n",
       "    </tr>\n",
       "    <tr>\n",
       "      <th>4</th>\n",
       "      <td>4</td>\n",
       "      <td>2021/03/26 12:15:23 a. m. EET</td>\n",
       "      <td>Aceptar</td>\n",
       "      <td>29</td>\n",
       "      <td>España</td>\n",
       "      <td>España</td>\n",
       "      <td>En desacuerdo</td>\n",
       "      <td>En desacuerdo</td>\n",
       "      <td>Muy en desacuerdo</td>\n",
       "      <td>Muy en desacuerdo</td>\n",
       "      <td>...</td>\n",
       "      <td>Sí</td>\n",
       "      <td>Hombre</td>\n",
       "      <td>Sí</td>\n",
       "      <td>Hombre</td>\n",
       "      <td>No tengo dichas redes sociales</td>\n",
       "      <td>Sí</td>\n",
       "      <td>Sí</td>\n",
       "      <td>Sí</td>\n",
       "      <td>Sí</td>\n",
       "      <td>NaN</td>\n",
       "    </tr>\n",
       "  </tbody>\n",
       "</table>\n",
       "<p>5 rows × 104 columns</p>\n",
       "</div>"
      ],
      "text/plain": [
       "   Id                 Marca temporal ¿Deseas participar?  \\\n",
       "0   0   2021/03/25 7:25:11 p. m. EET             Aceptar   \n",
       "1   1  2021/03/25 11:18:02 p. m. EET             Aceptar   \n",
       "2   2  2021/03/26 12:02:08 a. m. EET             Aceptar   \n",
       "3   3  2021/03/26 12:11:49 a. m. EET             Aceptar   \n",
       "4   4  2021/03/26 12:15:23 a. m. EET             Aceptar   \n",
       "\n",
       "  ¿Cuántos años tienes? ¿Cuál es tu país de nacimiento?  \\\n",
       "0                    30                          España   \n",
       "1                   cxz                             sdc   \n",
       "2                    25                          España   \n",
       "3                    30                          España   \n",
       "4                    29                          España   \n",
       "\n",
       "  ¿Cuál es tu país de residencia actual?   \\\n",
       "0                                  España   \n",
       "1                                     dcs   \n",
       "2                                  España   \n",
       "3                                  España   \n",
       "4                                  España   \n",
       "\n",
       "  Considerando los últimos tres meses: ¿Qué tan de acuerdo estas con las siguientes afirmaciones? [Me siento una persona tan valiosa como las otras]  \\\n",
       "0                                         De acuerdo                                                                                                   \n",
       "1                                  Muy en desacuerdo                                                                                                   \n",
       "2                                         De acuerdo                                                                                                   \n",
       "3                                  Muy en desacuerdo                                                                                                   \n",
       "4                                      En desacuerdo                                                                                                   \n",
       "\n",
       "  Considerando los últimos tres meses: ¿Qué tan de acuerdo estas con las siguientes afirmaciones? [Generalmente me inclino a pensar que soy un fracaso]  \\\n",
       "0                                      En desacuerdo                                                                                                      \n",
       "1                                  Muy en desacuerdo                                                                                                      \n",
       "2                                      En desacuerdo                                                                                                      \n",
       "3                                     Muy de acuerdo                                                                                                      \n",
       "4                                      En desacuerdo                                                                                                      \n",
       "\n",
       "  Considerando los últimos tres meses: ¿Qué tan de acuerdo estas con las siguientes afirmaciones? [Creo que tengo algunas cualidades buenas]  \\\n",
       "0                                     Muy de acuerdo                                                                                           \n",
       "1                                  Muy en desacuerdo                                                                                           \n",
       "2                                     Muy de acuerdo                                                                                           \n",
       "3                                         De acuerdo                                                                                           \n",
       "4                                  Muy en desacuerdo                                                                                           \n",
       "\n",
       "  Considerando los últimos tres meses: ¿Qué tan de acuerdo estas con las siguientes afirmaciones? [Soy capaz de hacer las cosas tan bien como los demás]  \\\n",
       "0                                     Muy de acuerdo                                                                                                       \n",
       "1                                  Muy en desacuerdo                                                                                                       \n",
       "2                                     Muy de acuerdo                                                                                                       \n",
       "3                                      En desacuerdo                                                                                                       \n",
       "4                                  Muy en desacuerdo                                                                                                       \n",
       "\n",
       "   ...  \\\n",
       "0  ...   \n",
       "1  ...   \n",
       "2  ...   \n",
       "3  ...   \n",
       "4  ...   \n",
       "\n",
       "  ¿Alguna vez te han mandado material pornográfico sin haberlo solicitado por una red social?  \\\n",
       "0                                                 Sí                                            \n",
       "1                                                 No                                            \n",
       "2                                                 Sí                                            \n",
       "3                                                 Sí                                            \n",
       "4                                                 Sí                                            \n",
       "\n",
       "  ¿Cuál era el sexo de la/s persona/s que te enviaron este material?  \\\n",
       "0                                             Hombre                   \n",
       "1                                             Hombre                   \n",
       "2                                             Hombre                   \n",
       "3                                             Hombre                   \n",
       "4                                             Hombre                   \n",
       "\n",
       "  ¿Alguna vez te han pedido fotos pornográficas, de genitales o desnudos por una red social?  \\\n",
       "0                                                 Sí                                           \n",
       "1                                                NaN                                           \n",
       "2                                                 Sí                                           \n",
       "3                                                 Sí                                           \n",
       "4                                                 Sí                                           \n",
       "\n",
       "  ¿Cuál era el sexo de la persona que te pidió este material?  \\\n",
       "0                                             Hombre            \n",
       "1                                                NaN            \n",
       "2                                             Hombre            \n",
       "3                                             Hombre            \n",
       "4                                             Hombre            \n",
       "\n",
       "  ¿Crees que algo del contenido que ves por TikTok o Instagram se parece a la pornografía?  \\\n",
       "0                                                 Sí                                         \n",
       "1                     No tengo dichas redes sociales                                         \n",
       "2                                                 Sí                                         \n",
       "3                                                 Sí                                         \n",
       "4                     No tengo dichas redes sociales                                         \n",
       "\n",
       "  ¿Crees que algunas mujeres intentan imitar lo que ven en la pornografía a la hora de subir fotos o vídeos a estas redes sociales?  \\\n",
       "0                                                 Sí                                                                                  \n",
       "1                                                NaN                                                                                  \n",
       "2                                                 Sí                                                                                  \n",
       "3                                                 Sí                                                                                  \n",
       "4                                                 Sí                                                                                  \n",
       "\n",
       "  ¿Crees que la pornografía influye en lo que se comparte en redes sociales?  \\\n",
       "0                                                 Sí                           \n",
       "1                                                NaN                           \n",
       "2                                                 Sí                           \n",
       "3                                                 Sí                           \n",
       "4                                                 Sí                           \n",
       "\n",
       "  ¿Crees que lo que se comparte en redes sociales distorsiona la realidad?  \\\n",
       "0                                                 Sí                         \n",
       "1                                                NaN                         \n",
       "2                                                 Sí                         \n",
       "3                                                 Sí                         \n",
       "4                                                 Sí                         \n",
       "\n",
       "  ¿Crees que lo que consumes en las redes sociales afecta tu autoestima?  \\\n",
       "0                                                 Sí                       \n",
       "1                                                NaN                       \n",
       "2                                                 Sí                       \n",
       "3                                                 Sí                       \n",
       "4                                                 Sí                       \n",
       "\n",
       "  Una vez realizada la investigación, si deseas recibir una copia de la presentación con las conclusiones, introduce tu mail aquí:   \n",
       "0                       apaniaguavilloria@gmail.com                                                                                  \n",
       "1                                                NaN                                                                                 \n",
       "2                                                NaN                                                                                 \n",
       "3                                                NaN                                                                                 \n",
       "4                                                NaN                                                                                 \n",
       "\n",
       "[5 rows x 104 columns]"
      ]
     },
     "execution_count": 9,
     "metadata": {},
     "output_type": "execute_result"
    }
   ],
   "source": [
    "test.head()"
   ]
  },
  {
   "cell_type": "markdown",
   "id": "administrative-american",
   "metadata": {},
   "source": [
    "# Meet the data - keys information"
   ]
  },
  {
   "cell_type": "markdown",
   "id": "finished-graduate",
   "metadata": {},
   "source": [
    "\n",
    "\n",
    "- `basic_info`: Dataset who contains the temporal mark, country borned, country of residence and age of the volunteers\n",
    "    \n",
    "- `selfsteem`: Dataset who contains the temporal mark and the questions of the rosenberg questionare and the final puntuation of the volunteers\n",
    "    \n",
    "- `body_bsq`: Dataset who contains the temporal mark, the questions of the reduced version of the body shape questionnare and the final puntuations of the volunteers\n",
    "    \n",
    "- `body_figures`: Dataset who contains the temporal mark, the questions and the results of the Collin's image analysis of the volunteers\n",
    "    \n",
    "- `body_acceptance`: Dataset who contains the temporal mark, the questions and the results of the acceptance of the different parts of the body of the volunteers\n",
    "\n",
    "- `social_pression`: Dataset who contains the temporal mark, and some questions considering the social feedback that the volunteers recieve for her esthetic habits\n",
    "    \n",
    "- `body_opinion`: Dataset who contains the temporal mark, and the free reflection about their bodys that some of the volunteers did \n",
    "    \n",
    "- `instagram`: Dataset who contains the temporal mark, and all the information regarding instagram \n",
    "    \n",
    "- `tiktok`: Dataset who contains the temporal mark, and all the information regarding Tik-Tok \n",
    "    "
   ]
  },
  {
   "cell_type": "code",
   "execution_count": 10,
   "id": "bearing-light",
   "metadata": {},
   "outputs": [],
   "source": [
    "basic_info = test.iloc[:,0:6]"
   ]
  },
  {
   "cell_type": "code",
   "execution_count": 11,
   "id": "postal-glucose",
   "metadata": {},
   "outputs": [
    {
     "data": {
      "text/html": [
       "<div>\n",
       "<style scoped>\n",
       "    .dataframe tbody tr th:only-of-type {\n",
       "        vertical-align: middle;\n",
       "    }\n",
       "\n",
       "    .dataframe tbody tr th {\n",
       "        vertical-align: top;\n",
       "    }\n",
       "\n",
       "    .dataframe thead th {\n",
       "        text-align: right;\n",
       "    }\n",
       "</style>\n",
       "<table border=\"1\" class=\"dataframe\">\n",
       "  <thead>\n",
       "    <tr style=\"text-align: right;\">\n",
       "      <th></th>\n",
       "      <th>Id</th>\n",
       "      <th>Marca temporal</th>\n",
       "      <th>¿Deseas participar?</th>\n",
       "      <th>¿Cuántos años tienes?</th>\n",
       "      <th>¿Cuál es tu país de nacimiento?</th>\n",
       "      <th>¿Cuál es tu país de residencia actual?</th>\n",
       "    </tr>\n",
       "  </thead>\n",
       "  <tbody>\n",
       "    <tr>\n",
       "      <th>0</th>\n",
       "      <td>0</td>\n",
       "      <td>2021/03/25 7:25:11 p. m. EET</td>\n",
       "      <td>Aceptar</td>\n",
       "      <td>30</td>\n",
       "      <td>España</td>\n",
       "      <td>España</td>\n",
       "    </tr>\n",
       "    <tr>\n",
       "      <th>1</th>\n",
       "      <td>1</td>\n",
       "      <td>2021/03/25 11:18:02 p. m. EET</td>\n",
       "      <td>Aceptar</td>\n",
       "      <td>cxz</td>\n",
       "      <td>sdc</td>\n",
       "      <td>dcs</td>\n",
       "    </tr>\n",
       "    <tr>\n",
       "      <th>2</th>\n",
       "      <td>2</td>\n",
       "      <td>2021/03/26 12:02:08 a. m. EET</td>\n",
       "      <td>Aceptar</td>\n",
       "      <td>25</td>\n",
       "      <td>España</td>\n",
       "      <td>España</td>\n",
       "    </tr>\n",
       "    <tr>\n",
       "      <th>3</th>\n",
       "      <td>3</td>\n",
       "      <td>2021/03/26 12:11:49 a. m. EET</td>\n",
       "      <td>Aceptar</td>\n",
       "      <td>30</td>\n",
       "      <td>España</td>\n",
       "      <td>España</td>\n",
       "    </tr>\n",
       "    <tr>\n",
       "      <th>4</th>\n",
       "      <td>4</td>\n",
       "      <td>2021/03/26 12:15:23 a. m. EET</td>\n",
       "      <td>Aceptar</td>\n",
       "      <td>29</td>\n",
       "      <td>España</td>\n",
       "      <td>España</td>\n",
       "    </tr>\n",
       "  </tbody>\n",
       "</table>\n",
       "</div>"
      ],
      "text/plain": [
       "   Id                 Marca temporal ¿Deseas participar?  \\\n",
       "0   0   2021/03/25 7:25:11 p. m. EET             Aceptar   \n",
       "1   1  2021/03/25 11:18:02 p. m. EET             Aceptar   \n",
       "2   2  2021/03/26 12:02:08 a. m. EET             Aceptar   \n",
       "3   3  2021/03/26 12:11:49 a. m. EET             Aceptar   \n",
       "4   4  2021/03/26 12:15:23 a. m. EET             Aceptar   \n",
       "\n",
       "  ¿Cuántos años tienes? ¿Cuál es tu país de nacimiento?  \\\n",
       "0                    30                          España   \n",
       "1                   cxz                             sdc   \n",
       "2                    25                          España   \n",
       "3                    30                          España   \n",
       "4                    29                          España   \n",
       "\n",
       "  ¿Cuál es tu país de residencia actual?   \n",
       "0                                  España  \n",
       "1                                     dcs  \n",
       "2                                  España  \n",
       "3                                  España  \n",
       "4                                  España  "
      ]
     },
     "execution_count": 11,
     "metadata": {},
     "output_type": "execute_result"
    }
   ],
   "source": [
    "basic_info.head()"
   ]
  },
  {
   "cell_type": "markdown",
   "id": "greenhouse-isolation",
   "metadata": {},
   "source": [
    "- BASIC INFO"
   ]
  },
  {
   "cell_type": "code",
   "execution_count": 12,
   "id": "grand-rolling",
   "metadata": {},
   "outputs": [],
   "source": [
    "basic_info['mail']=test['Una vez realizada la investigación, si deseas recibir una copia de la presentación con las conclusiones, introduce tu mail aquí: ']"
   ]
  },
  {
   "cell_type": "code",
   "execution_count": 13,
   "id": "generous-uzbekistan",
   "metadata": {},
   "outputs": [
    {
     "data": {
      "text/html": [
       "<div>\n",
       "<style scoped>\n",
       "    .dataframe tbody tr th:only-of-type {\n",
       "        vertical-align: middle;\n",
       "    }\n",
       "\n",
       "    .dataframe tbody tr th {\n",
       "        vertical-align: top;\n",
       "    }\n",
       "\n",
       "    .dataframe thead th {\n",
       "        text-align: right;\n",
       "    }\n",
       "</style>\n",
       "<table border=\"1\" class=\"dataframe\">\n",
       "  <thead>\n",
       "    <tr style=\"text-align: right;\">\n",
       "      <th></th>\n",
       "      <th>Id</th>\n",
       "      <th>Marca temporal</th>\n",
       "      <th>¿Deseas participar?</th>\n",
       "      <th>¿Cuántos años tienes?</th>\n",
       "      <th>¿Cuál es tu país de nacimiento?</th>\n",
       "      <th>¿Cuál es tu país de residencia actual?</th>\n",
       "      <th>mail</th>\n",
       "    </tr>\n",
       "  </thead>\n",
       "  <tbody>\n",
       "    <tr>\n",
       "      <th>0</th>\n",
       "      <td>0</td>\n",
       "      <td>2021/03/25 7:25:11 p. m. EET</td>\n",
       "      <td>Aceptar</td>\n",
       "      <td>30</td>\n",
       "      <td>España</td>\n",
       "      <td>España</td>\n",
       "      <td>apaniaguavilloria@gmail.com</td>\n",
       "    </tr>\n",
       "    <tr>\n",
       "      <th>1</th>\n",
       "      <td>1</td>\n",
       "      <td>2021/03/25 11:18:02 p. m. EET</td>\n",
       "      <td>Aceptar</td>\n",
       "      <td>cxz</td>\n",
       "      <td>sdc</td>\n",
       "      <td>dcs</td>\n",
       "      <td>NaN</td>\n",
       "    </tr>\n",
       "    <tr>\n",
       "      <th>2</th>\n",
       "      <td>2</td>\n",
       "      <td>2021/03/26 12:02:08 a. m. EET</td>\n",
       "      <td>Aceptar</td>\n",
       "      <td>25</td>\n",
       "      <td>España</td>\n",
       "      <td>España</td>\n",
       "      <td>NaN</td>\n",
       "    </tr>\n",
       "    <tr>\n",
       "      <th>3</th>\n",
       "      <td>3</td>\n",
       "      <td>2021/03/26 12:11:49 a. m. EET</td>\n",
       "      <td>Aceptar</td>\n",
       "      <td>30</td>\n",
       "      <td>España</td>\n",
       "      <td>España</td>\n",
       "      <td>NaN</td>\n",
       "    </tr>\n",
       "    <tr>\n",
       "      <th>4</th>\n",
       "      <td>4</td>\n",
       "      <td>2021/03/26 12:15:23 a. m. EET</td>\n",
       "      <td>Aceptar</td>\n",
       "      <td>29</td>\n",
       "      <td>España</td>\n",
       "      <td>España</td>\n",
       "      <td>NaN</td>\n",
       "    </tr>\n",
       "  </tbody>\n",
       "</table>\n",
       "</div>"
      ],
      "text/plain": [
       "   Id                 Marca temporal ¿Deseas participar?  \\\n",
       "0   0   2021/03/25 7:25:11 p. m. EET             Aceptar   \n",
       "1   1  2021/03/25 11:18:02 p. m. EET             Aceptar   \n",
       "2   2  2021/03/26 12:02:08 a. m. EET             Aceptar   \n",
       "3   3  2021/03/26 12:11:49 a. m. EET             Aceptar   \n",
       "4   4  2021/03/26 12:15:23 a. m. EET             Aceptar   \n",
       "\n",
       "  ¿Cuántos años tienes? ¿Cuál es tu país de nacimiento?  \\\n",
       "0                    30                          España   \n",
       "1                   cxz                             sdc   \n",
       "2                    25                          España   \n",
       "3                    30                          España   \n",
       "4                    29                          España   \n",
       "\n",
       "  ¿Cuál es tu país de residencia actual?                           mail  \n",
       "0                                  España  apaniaguavilloria@gmail.com   \n",
       "1                                     dcs                           NaN  \n",
       "2                                  España                           NaN  \n",
       "3                                  España                           NaN  \n",
       "4                                  España                           NaN  "
      ]
     },
     "execution_count": 13,
     "metadata": {},
     "output_type": "execute_result"
    }
   ],
   "source": [
    "basic_info.head()"
   ]
  },
  {
   "cell_type": "markdown",
   "id": "gross-darkness",
   "metadata": {},
   "source": [
    "- SELFSTEEM"
   ]
  },
  {
   "cell_type": "code",
   "execution_count": 14,
   "id": "artificial-verse",
   "metadata": {},
   "outputs": [],
   "source": [
    "selfsteem = test.iloc[:,6:16]"
   ]
  },
  {
   "cell_type": "code",
   "execution_count": 15,
   "id": "guided-humor",
   "metadata": {},
   "outputs": [
    {
     "name": "stdout",
     "output_type": "stream",
     "text": [
      "<class 'pandas.core.frame.DataFrame'>\n",
      "RangeIndex: 434 entries, 0 to 433\n",
      "Data columns (total 10 columns):\n",
      " #   Column                                                                                                                                                  Non-Null Count  Dtype \n",
      "---  ------                                                                                                                                                  --------------  ----- \n",
      " 0   Considerando los últimos tres meses: ¿Qué tan de acuerdo estas con las siguientes afirmaciones? [Me siento una persona tan valiosa como las otras]      429 non-null    object\n",
      " 1   Considerando los últimos tres meses: ¿Qué tan de acuerdo estas con las siguientes afirmaciones? [Generalmente me inclino a pensar que soy un fracaso]   430 non-null    object\n",
      " 2   Considerando los últimos tres meses: ¿Qué tan de acuerdo estas con las siguientes afirmaciones? [Creo que tengo algunas cualidades buenas]              427 non-null    object\n",
      " 3   Considerando los últimos tres meses: ¿Qué tan de acuerdo estas con las siguientes afirmaciones? [Soy capaz de hacer las cosas tan bien como los demás]  429 non-null    object\n",
      " 4   Considerando los últimos tres meses: ¿Qué tan de acuerdo estas con las siguientes afirmaciones? [Creo que no tengo mucho de lo que estar orgullosa]     428 non-null    object\n",
      " 5   Considerando los últimos tres meses: ¿Qué tan de acuerdo estas con las siguientes afirmaciones? [Tengo una actitud positiva hacia mi misma]             427 non-null    object\n",
      " 6   Considerando los últimos tres meses: ¿Qué tan de acuerdo estas con las siguientes afirmaciones? [En general me siento satisfecha conmigo misma]         430 non-null    object\n",
      " 7   Considerando los últimos tres meses: ¿Qué tan de acuerdo estas con las siguientes afirmaciones? [Me gustaría tener más respeto por mi misma]            430 non-null    object\n",
      " 8   Considerando los últimos tres meses: ¿Qué tan de acuerdo estas con las siguientes afirmaciones? [Realmente me siento inútil en algunas situaciones]     430 non-null    object\n",
      " 9   Considerando los últimos tres meses: ¿Qué tan de acuerdo estas con las siguientes afirmaciones? [A veces pienso que no sirvo para nada]                 430 non-null    object\n",
      "dtypes: object(10)\n",
      "memory usage: 34.0+ KB\n"
     ]
    }
   ],
   "source": [
    "selfsteem.info()"
   ]
  },
  {
   "cell_type": "markdown",
   "id": "reserved-hamilton",
   "metadata": {},
   "source": [
    "- BODY BSQ"
   ]
  },
  {
   "cell_type": "code",
   "execution_count": 161,
   "id": "inner-magnitude",
   "metadata": {},
   "outputs": [],
   "source": [
    "body_bsq = test.iloc[:,16:23]"
   ]
  },
  {
   "cell_type": "code",
   "execution_count": 162,
   "id": "utility-currency",
   "metadata": {},
   "outputs": [
    {
     "name": "stdout",
     "output_type": "stream",
     "text": [
      "<class 'pandas.core.frame.DataFrame'>\n",
      "RangeIndex: 434 entries, 0 to 433\n",
      "Data columns (total 7 columns):\n",
      " #   Column                                                                                                                                 Non-Null Count  Dtype \n",
      "---  ------                                                                                                                                 --------------  ----- \n",
      " 0   Considerando los últimos tres meses:  [¿ Te ha preocupado que otra gente vea michelines/rollitos alrededor de tu cintura o estómago?]  432 non-null    object\n",
      " 1   Considerando los últimos tres meses:  [Verte reflejada/o en un espejo o en un escaparate, ¿te ha hecho sentirte mal por tu figura?]    432 non-null    object\n",
      " 2   Considerando los últimos tres meses:  [¿Te ha preocupado que tus muslos se ensanchen cuando te sientas ?]                              433 non-null    object\n",
      " 3   Considerando los últimos tres meses:  [¿Te has sentido acomplejado/a por tu cuerpo?]                                                   433 non-null    object\n",
      " 4   Considerando los últimos tres meses:  [¿Te has pellizcado zonas de tu cuerpo para ver cuánta grasa tenías?]                            433 non-null    object\n",
      " 5   Considerando los últimos tres meses:  [¿ Has evitado llevar ropa que marque tu figura ?]                                               432 non-null    object\n",
      " 6   Considerando los últimos tres meses:  [¿Te ha preocupado que tu carne tenga aspecto de piel de naranja (celulitis)?]                   433 non-null    object\n",
      "dtypes: object(7)\n",
      "memory usage: 23.9+ KB\n"
     ]
    }
   ],
   "source": [
    "body_bsq.info()"
   ]
  },
  {
   "cell_type": "markdown",
   "id": "isolated-gallery",
   "metadata": {},
   "source": [
    "- BODY FIGURES"
   ]
  },
  {
   "cell_type": "code",
   "execution_count": 18,
   "id": "harmful-block",
   "metadata": {},
   "outputs": [],
   "source": [
    "body_figures = test.iloc[:,23:26]"
   ]
  },
  {
   "cell_type": "code",
   "execution_count": 19,
   "id": "suffering-termination",
   "metadata": {},
   "outputs": [],
   "source": [
    "body_figures = body_figures.reset_index()\n",
    "body_figures = body_figures.rename(columns={'index': 'Id'})"
   ]
  },
  {
   "cell_type": "code",
   "execution_count": 20,
   "id": "affecting-bhutan",
   "metadata": {},
   "outputs": [
    {
     "name": "stdout",
     "output_type": "stream",
     "text": [
      "<class 'pandas.core.frame.DataFrame'>\n",
      "RangeIndex: 434 entries, 0 to 433\n",
      "Data columns (total 4 columns):\n",
      " #   Column                                                                                             Non-Null Count  Dtype  \n",
      "---  ------                                                                                             --------------  -----  \n",
      " 0   Id                                                                                                 434 non-null    int64  \n",
      " 1   Observa las siguientes figuras:  [¿Cuál se parece más a tu cuerpo actualmente?]                    433 non-null    float64\n",
      " 2   Observa las siguientes figuras:  [¿Cuál se parece más al cuerpo que desearías tener?]              431 non-null    float64\n",
      " 3   Observa las siguientes figuras:  [¿Cuál crees que es la más atractiva para el sexo que te atrae?]  418 non-null    float64\n",
      "dtypes: float64(3), int64(1)\n",
      "memory usage: 13.7 KB\n"
     ]
    }
   ],
   "source": [
    "body_figures.info()"
   ]
  },
  {
   "cell_type": "markdown",
   "id": "material-nickname",
   "metadata": {},
   "source": [
    "- BODY ACCEPTANCE"
   ]
  },
  {
   "cell_type": "code",
   "execution_count": 21,
   "id": "above-worthy",
   "metadata": {},
   "outputs": [],
   "source": [
    "body_acceptance = test.iloc[:,26:37]"
   ]
  },
  {
   "cell_type": "code",
   "execution_count": 22,
   "id": "accurate-offense",
   "metadata": {},
   "outputs": [
    {
     "name": "stdout",
     "output_type": "stream",
     "text": [
      "<class 'pandas.core.frame.DataFrame'>\n",
      "RangeIndex: 434 entries, 0 to 433\n",
      "Data columns (total 11 columns):\n",
      " #   Column                                                                             Non-Null Count  Dtype \n",
      "---  ------                                                                             --------------  ----- \n",
      " 0   ¿Cómo te sientes respecto a las siguientes partes de tu cuerpo? [Cara]             432 non-null    object\n",
      " 1   ¿Cómo te sientes respecto a las siguientes partes de tu cuerpo? [Espalda/hombros]  412 non-null    object\n",
      " 2   ¿Cómo te sientes respecto a las siguientes partes de tu cuerpo? [Brazos]           411 non-null    object\n",
      " 3   ¿Cómo te sientes respecto a las siguientes partes de tu cuerpo? [Pechos]           432 non-null    object\n",
      " 4   ¿Cómo te sientes respecto a las siguientes partes de tu cuerpo? [Estómago]         430 non-null    object\n",
      " 5   ¿Cómo te sientes respecto a las siguientes partes de tu cuerpo? [Nalgas]           433 non-null    object\n",
      " 6   ¿Cómo te sientes respecto a las siguientes partes de tu cuerpo? [Cadera]           432 non-null    object\n",
      " 7   ¿Cómo te sientes respecto a las siguientes partes de tu cuerpo? [Cintura]          431 non-null    object\n",
      " 8   ¿Cómo te sientes respecto a las siguientes partes de tu cuerpo? [Piernas]          430 non-null    object\n",
      " 9   ¿Cómo te sientes respecto a las siguientes partes de tu cuerpo? [Muslos]           432 non-null    object\n",
      " 10  ¿Cómo te sientes respecto a las siguientes partes de tu cuerpo? [Pantorrillas]     433 non-null    object\n",
      "dtypes: object(11)\n",
      "memory usage: 37.4+ KB\n"
     ]
    }
   ],
   "source": [
    "body_acceptance.info()"
   ]
  },
  {
   "cell_type": "markdown",
   "id": "infrared-handle",
   "metadata": {},
   "source": [
    "- SOCIAL PRESSION"
   ]
  },
  {
   "cell_type": "code",
   "execution_count": 23,
   "id": "liked-extraction",
   "metadata": {},
   "outputs": [],
   "source": [
    "social_pression = test.iloc[:,37:43]"
   ]
  },
  {
   "cell_type": "code",
   "execution_count": 24,
   "id": "fiscal-policy",
   "metadata": {},
   "outputs": [],
   "source": [
    "social_pression = social_pression.reset_index()\n",
    "social_pression = social_pression.rename(columns={'index': 'Id'})"
   ]
  },
  {
   "cell_type": "code",
   "execution_count": 25,
   "id": "caring-cover",
   "metadata": {},
   "outputs": [
    {
     "name": "stdout",
     "output_type": "stream",
     "text": [
      "<class 'pandas.core.frame.DataFrame'>\n",
      "RangeIndex: 434 entries, 0 to 433\n",
      "Data columns (total 7 columns):\n",
      " #   Column                                                                                                          Non-Null Count  Dtype \n",
      "---  ------                                                                                                          --------------  ----- \n",
      " 0   Id                                                                                                              434 non-null    int64 \n",
      " 1   Considerando los últimos tres meses:  [¿Te has sentido observada y/o juzgada por no ir maquillada?]             433 non-null    object\n",
      " 2   Considerando los últimos tres meses:  [¿Esto te ha hecho sentir mal?]                                           421 non-null    object\n",
      " 3   Considerando los últimos tres meses:  [¿Te has sentido observada y/o juzgada por no ir depilada?]               430 non-null    object\n",
      " 4   Considerando los últimos tres meses:  [¿Esto te ha hecho sentir mal? ]                                          427 non-null    object\n",
      " 5   Considerando los últimos tres meses:  [¿Te has sentido observada y/o juzgada por no llevar el pelo arreglado?]  431 non-null    object\n",
      " 6   Considerando los últimos tres meses:  [¿Esto te ha hecho sentir mal?  ]                                         427 non-null    object\n",
      "dtypes: int64(1), object(6)\n",
      "memory usage: 23.9+ KB\n"
     ]
    }
   ],
   "source": [
    "social_pression.info()"
   ]
  },
  {
   "cell_type": "markdown",
   "id": "useful-aerospace",
   "metadata": {},
   "source": [
    "- BODY MODIF"
   ]
  },
  {
   "cell_type": "code",
   "execution_count": 26,
   "id": "other-meter",
   "metadata": {},
   "outputs": [],
   "source": [
    "body_modif = test.iloc[:,43:51]"
   ]
  },
  {
   "cell_type": "code",
   "execution_count": 27,
   "id": "recorded-arkansas",
   "metadata": {},
   "outputs": [],
   "source": [
    "body_modif = body_modif.reset_index()\n",
    "body_modif = body_modif.rename(columns={'index': 'Id'})"
   ]
  },
  {
   "cell_type": "code",
   "execution_count": 28,
   "id": "elder-anger",
   "metadata": {},
   "outputs": [
    {
     "name": "stdout",
     "output_type": "stream",
     "text": [
      "<class 'pandas.core.frame.DataFrame'>\n",
      "RangeIndex: 434 entries, 0 to 433\n",
      "Data columns (total 9 columns):\n",
      " #   Column                                                                                                                           Non-Null Count  Dtype \n",
      "---  ------                                                                                                                           --------------  ----- \n",
      " 0   Id                                                                                                                               434 non-null    int64 \n",
      " 1   ¿Has utilizado alguno de los siguientes métodos controlar o modificar tu apariencia física? [Ejercicio]                          433 non-null    object\n",
      " 2   ¿Has utilizado alguno de los siguientes métodos controlar o modificar tu apariencia física? [Ayuno intermitente]                 429 non-null    object\n",
      " 3   ¿Has utilizado alguno de los siguientes métodos controlar o modificar tu apariencia física? [Dieta]                              428 non-null    object\n",
      " 4   ¿Has utilizado alguno de los siguientes métodos controlar o modificar tu apariencia física? [Laxantes y/o Diureticos]            426 non-null    object\n",
      " 5   ¿Has utilizado alguno de los siguientes métodos controlar o modificar tu apariencia física? [Restricción de ingesta calorica]    431 non-null    object\n",
      " 6   ¿Has utilizado alguno de los siguientes métodos controlar o modificar tu apariencia física? [Vómito auto-inducido]               426 non-null    object\n",
      " 7   ¿Has utilizado alguno de los siguientes métodos controlar o modificar tu apariencia física? [Tratamientos estéticos reductores]  428 non-null    object\n",
      " 8   ¿Has utilizado alguno de los siguientes métodos controlar o modificar tu apariencia física? [Cirugía estética]                   427 non-null    object\n",
      "dtypes: int64(1), object(8)\n",
      "memory usage: 30.6+ KB\n"
     ]
    }
   ],
   "source": [
    "body_modif.info()"
   ]
  },
  {
   "cell_type": "markdown",
   "id": "tight-proposition",
   "metadata": {},
   "source": [
    "- BODY OPINION"
   ]
  },
  {
   "cell_type": "code",
   "execution_count": 29,
   "id": "corresponding-trauma",
   "metadata": {},
   "outputs": [],
   "source": [
    "body_opinion = test.iloc[:,51:52]"
   ]
  },
  {
   "cell_type": "code",
   "execution_count": 30,
   "id": "present-delivery",
   "metadata": {},
   "outputs": [],
   "source": [
    "body_opinion = body_opinion.reset_index()\n",
    "body_opinion = body_opinion.rename(columns={'index': 'Id'})"
   ]
  },
  {
   "cell_type": "code",
   "execution_count": 31,
   "id": "olympic-fight",
   "metadata": {},
   "outputs": [
    {
     "name": "stdout",
     "output_type": "stream",
     "text": [
      "<class 'pandas.core.frame.DataFrame'>\n",
      "RangeIndex: 434 entries, 0 to 433\n",
      "Data columns (total 2 columns):\n",
      " #   Column                                                                  Non-Null Count  Dtype \n",
      "---  ------                                                                  --------------  ----- \n",
      " 0   Id                                                                      434 non-null    int64 \n",
      " 1   Haz una breve reflexión libre acerca de como te sientes con tu cuerpo.  341 non-null    object\n",
      "dtypes: int64(1), object(1)\n",
      "memory usage: 6.9+ KB\n"
     ]
    }
   ],
   "source": [
    "body_opinion.info()"
   ]
  },
  {
   "cell_type": "markdown",
   "id": "requested-elite",
   "metadata": {},
   "source": [
    "- INSTAGRAM"
   ]
  },
  {
   "cell_type": "code",
   "execution_count": 405,
   "id": "eligible-registrar",
   "metadata": {},
   "outputs": [],
   "source": [
    "instagram = test.iloc[:,52:66]"
   ]
  },
  {
   "cell_type": "code",
   "execution_count": 406,
   "id": "natural-romantic",
   "metadata": {},
   "outputs": [],
   "source": [
    "instagram = instagram.reset_index()\n",
    "instagram = instagram.rename(columns={'index': 'Id'})"
   ]
  },
  {
   "cell_type": "code",
   "execution_count": 407,
   "id": "amino-concern",
   "metadata": {},
   "outputs": [
    {
     "name": "stdout",
     "output_type": "stream",
     "text": [
      "<class 'pandas.core.frame.DataFrame'>\n",
      "RangeIndex: 434 entries, 0 to 433\n",
      "Data columns (total 15 columns):\n",
      " #   Column                                                                                                                Non-Null Count  Dtype \n",
      "---  ------                                                                                                                --------------  ----- \n",
      " 0   Id                                                                                                                    434 non-null    int64 \n",
      " 1   ¿Tienes Instagram?                                                                                                    433 non-null    object\n",
      " 2   ¿A qué edad te hiciste el perfil en Instagram?                                                                        414 non-null    object\n",
      " 3   ¿Cuántas horas al día crees que pasas en la aplicación?                                                               420 non-null    object\n",
      " 4   ¿Cuántas veces al día dirías que entras a la aplicación por aburrimiento?                                             418 non-null    object\n",
      " 5   ¿Cuántas veces al día estas mirando el teléfono por alguna otra razón y terminas entrando en Instagram?               416 non-null    object\n",
      " 6   ¿Cada vez que entras a Instagram, cuánto tiempo dirías en promedio que permaneces en la aplicación?                   420 non-null    object\n",
      " 7   Semanalmente: [¿Cuántas fotografías subes?]                                                                           419 non-null    object\n",
      " 8   Semanalmente: [¿En cuántas de ellas apareces?]                                                                        413 non-null    object\n",
      " 9   Semanalmente: [De las que apareces, ¿Cuántas llevan algún filtro? ]                                                   394 non-null    object\n",
      " 10  Semanalmente: [¿Cuántas historias subes?]                                                                             418 non-null    object\n",
      " 11  Semanalmente: [¿En cuántas de ellas apareces? ]                                                                       418 non-null    object\n",
      " 12  Semanalmente: [De las que apareces, ¿Cuántas llevan algún filtro?]                                                    396 non-null    object\n",
      " 13  Semanalmente: [¿Cuántas veces repites una foto o historia en la que apareces porque no te gusta como sales en ella?]  414 non-null    object\n",
      " 14  Semanalmente: [¿Cuántas veces desistes de subir contenido en el que apareces porque no te gusta como sales?]          417 non-null    object\n",
      "dtypes: int64(1), object(14)\n",
      "memory usage: 51.0+ KB\n"
     ]
    }
   ],
   "source": [
    "instagram.info()"
   ]
  },
  {
   "cell_type": "markdown",
   "id": "statewide-jacksonville",
   "metadata": {},
   "source": [
    "- TIKTOK"
   ]
  },
  {
   "cell_type": "code",
   "execution_count": 511,
   "id": "serious-writer",
   "metadata": {},
   "outputs": [],
   "source": [
    "tiktok = test.iloc[:,66:76]"
   ]
  },
  {
   "cell_type": "code",
   "execution_count": 512,
   "id": "incorporate-frank",
   "metadata": {},
   "outputs": [],
   "source": [
    "tiktok = tiktok.reset_index()\n",
    "tiktok = tiktok.rename(columns={'index': 'Id'})"
   ]
  },
  {
   "cell_type": "code",
   "execution_count": 513,
   "id": "boolean-kingston",
   "metadata": {},
   "outputs": [
    {
     "name": "stdout",
     "output_type": "stream",
     "text": [
      "<class 'pandas.core.frame.DataFrame'>\n",
      "RangeIndex: 434 entries, 0 to 433\n",
      "Data columns (total 11 columns):\n",
      " #   Column                                                                                                          Non-Null Count  Dtype \n",
      "---  ------                                                                                                          --------------  ----- \n",
      " 0   Id                                                                                                              434 non-null    int64 \n",
      " 1   ¿Tienes Tik-Tok?                                                                                                433 non-null    object\n",
      " 2   ¿A qué edad te hiciste el perfil en Tik-Tok?                                                                    122 non-null    object\n",
      " 3   ¿Cuántas horas al día crees que pasas en Tik-Tok?                                                               122 non-null    object\n",
      " 4   ¿Cuántas veces al día dirías que entras por aburrimiento?                                                       112 non-null    object\n",
      " 5   ¿Cuántas veces al día estas mirando el teléfono por alguna otra razón y terminas entrando a Tik-Tok?            112 non-null    object\n",
      " 6   ¿Cada vez que entras a Tik-Tok, cuánto tiempo dirías en promedio que en la aplicación?                          122 non-null    object\n",
      " 7   Semanalmente... [¿Cuántos videos en los que apareces subes?]                                                    113 non-null    object\n",
      " 8   Semanalmente... [¿Cuántos de ellos llevan filtros?]                                                             101 non-null    object\n",
      " 9   Semanalmente... [¿Cuántas veces repites un video en el que apareces porque no te gusta como sales en ella?]     106 non-null    object\n",
      " 10  Semanalmente... [¿Cuántas veces desistes de subir contenido en el que apareces porque no te gusta como sales?]  109 non-null    object\n",
      "dtypes: int64(1), object(10)\n",
      "memory usage: 37.4+ KB\n"
     ]
    }
   ],
   "source": [
    "tiktok.info()"
   ]
  },
  {
   "cell_type": "markdown",
   "id": "junior-accountability",
   "metadata": {},
   "source": [
    "- CONTENT"
   ]
  },
  {
   "cell_type": "code",
   "execution_count": 38,
   "id": "detected-delight",
   "metadata": {},
   "outputs": [],
   "source": [
    "content = test.iloc[:,76:83]"
   ]
  },
  {
   "cell_type": "code",
   "execution_count": 39,
   "id": "corrected-newspaper",
   "metadata": {},
   "outputs": [],
   "source": [
    "content = content.reset_index()\n",
    "content = content.rename(columns={'index': 'Id'})"
   ]
  },
  {
   "cell_type": "code",
   "execution_count": 40,
   "id": "recorded-kansas",
   "metadata": {},
   "outputs": [
    {
     "name": "stdout",
     "output_type": "stream",
     "text": [
      "<class 'pandas.core.frame.DataFrame'>\n",
      "RangeIndex: 434 entries, 0 to 433\n",
      "Data columns (total 8 columns):\n",
      " #   Column                                                                                                                                       Non-Null Count  Dtype \n",
      "---  ------                                                                                                                                       --------------  ----- \n",
      " 0   Id                                                                                                                                           434 non-null    int64 \n",
      " 1   ¿Que clase de cuentas sigues en Instagram?                                                                                                   291 non-null    object\n",
      " 2   ¿Dirías que sigues mas cuentas de hombres o de mujeres?                                                                                      288 non-null    object\n",
      " 3   Considerando el contenido que publicas: [¿Con qué frecuencia dirías que utilizas filtros?]                                                   288 non-null    object\n",
      " 4   Considerando el contenido que publicas: [¿Con qué frecuencia dirías que editas dicho contenido antes de subirlo?]                            287 non-null    object\n",
      " 5   Considerando el contenido que publicas: [¿Contemplas los “me gusta” que recibes en lo que subes como referencia para adaptar tu contenido?]  286 non-null    object\n",
      " 6   Considerando el contenido que publicas: [Antes de hacer la foto/video ¿Tienes en mente cómo crees que debes salir?]                          290 non-null    object\n",
      " 7   Considerando el contenido que publicas: [¿Adoptas determinadas posturas antes de hacerte una foto/vídeo?]                                    289 non-null    object\n",
      "dtypes: int64(1), object(7)\n",
      "memory usage: 27.2+ KB\n"
     ]
    }
   ],
   "source": [
    "content.info()"
   ]
  },
  {
   "cell_type": "code",
   "execution_count": 41,
   "id": "respiratory-laugh",
   "metadata": {},
   "outputs": [],
   "source": [
    "content = content.append(test.iloc[:,85:89])"
   ]
  },
  {
   "cell_type": "code",
   "execution_count": 42,
   "id": "compatible-boards",
   "metadata": {},
   "outputs": [
    {
     "name": "stdout",
     "output_type": "stream",
     "text": [
      "<class 'pandas.core.frame.DataFrame'>\n",
      "Int64Index: 868 entries, 0 to 433\n",
      "Data columns (total 12 columns):\n",
      " #   Column                                                                                                                                                                     Non-Null Count  Dtype  \n",
      "---  ------                                                                                                                                                                     --------------  -----  \n",
      " 0   Id                                                                                                                                                                         434 non-null    float64\n",
      " 1   ¿Que clase de cuentas sigues en Instagram?                                                                                                                                 291 non-null    object \n",
      " 2   ¿Dirías que sigues mas cuentas de hombres o de mujeres?                                                                                                                    288 non-null    object \n",
      " 3   Considerando el contenido que publicas: [¿Con qué frecuencia dirías que utilizas filtros?]                                                                                 288 non-null    object \n",
      " 4   Considerando el contenido que publicas: [¿Con qué frecuencia dirías que editas dicho contenido antes de subirlo?]                                                          287 non-null    object \n",
      " 5   Considerando el contenido que publicas: [¿Contemplas los “me gusta” que recibes en lo que subes como referencia para adaptar tu contenido?]                                286 non-null    object \n",
      " 6   Considerando el contenido que publicas: [Antes de hacer la foto/video ¿Tienes en mente cómo crees que debes salir?]                                                        290 non-null    object \n",
      " 7   Considerando el contenido que publicas: [¿Adoptas determinadas posturas antes de hacerte una foto/vídeo?]                                                                  289 non-null    object \n",
      " 8   ¿Crees que compartes contenido diferente en función de si el público que va a verlo es masculino o femenino?                                                               281 non-null    object \n",
      " 9   En función de los likes que recibes ¿Crees que tu contenido es mas consumido por hombres o por mujeres?                                                                    259 non-null    object \n",
      " 10  Considerando el contenido que compartes:  [¿Hay alguna parte de tu cuerpo que intentas evitar o esconder mediante posturas, filtros o ángulos de la foto/video? ¿Cuáles?]  274 non-null    object \n",
      " 11  Considerando el contenido que compartes:  [¿Hay alguna parte de tu cuerpo en la que enfatices mediante posturas, filtros o ángulos de la foto/video? ¿Cuáles]              270 non-null    object \n",
      "dtypes: float64(1), object(11)\n",
      "memory usage: 88.2+ KB\n"
     ]
    }
   ],
   "source": [
    "content.info()"
   ]
  },
  {
   "cell_type": "markdown",
   "id": "least-marking",
   "metadata": {},
   "source": [
    "- LOT LIKES"
   ]
  },
  {
   "cell_type": "code",
   "execution_count": 43,
   "id": "encouraging-window",
   "metadata": {},
   "outputs": [],
   "source": [
    "lot_likes = test.iloc[:,83:84]"
   ]
  },
  {
   "cell_type": "code",
   "execution_count": 44,
   "id": "recorded-siemens",
   "metadata": {},
   "outputs": [],
   "source": [
    "lot_likes = lot_likes.reset_index()\n",
    "lot_likes = lot_likes.rename(columns={'index': 'Id'})"
   ]
  },
  {
   "cell_type": "code",
   "execution_count": 45,
   "id": "accredited-marine",
   "metadata": {},
   "outputs": [
    {
     "name": "stdout",
     "output_type": "stream",
     "text": [
      "<class 'pandas.core.frame.DataFrame'>\n",
      "RangeIndex: 434 entries, 0 to 433\n",
      "Data columns (total 2 columns):\n",
      " #   Column                                                         Non-Null Count  Dtype \n",
      "---  ------                                                         --------------  ----- \n",
      " 0   Id                                                             434 non-null    int64 \n",
      " 1   ¿Qué emociones te genera recibir muchos me gusta/comentarios?  250 non-null    object\n",
      "dtypes: int64(1), object(1)\n",
      "memory usage: 6.9+ KB\n"
     ]
    }
   ],
   "source": [
    "lot_likes.info()"
   ]
  },
  {
   "cell_type": "markdown",
   "id": "outdoor-airfare",
   "metadata": {},
   "source": [
    "- MANY LIKES"
   ]
  },
  {
   "cell_type": "code",
   "execution_count": 46,
   "id": "purple-detector",
   "metadata": {},
   "outputs": [],
   "source": [
    "many_likes = test.iloc[:,84:85]"
   ]
  },
  {
   "cell_type": "code",
   "execution_count": 47,
   "id": "progressive-classic",
   "metadata": {},
   "outputs": [],
   "source": [
    "many_likes = many_likes.reset_index()\n",
    "many_likes = many_likes.rename(columns={'index': 'Id'})"
   ]
  },
  {
   "cell_type": "code",
   "execution_count": 48,
   "id": "boring-percentage",
   "metadata": {},
   "outputs": [
    {
     "name": "stdout",
     "output_type": "stream",
     "text": [
      "<class 'pandas.core.frame.DataFrame'>\n",
      "RangeIndex: 434 entries, 0 to 433\n",
      "Data columns (total 2 columns):\n",
      " #   Column                                                        Non-Null Count  Dtype \n",
      "---  ------                                                        --------------  ----- \n",
      " 0   Id                                                            434 non-null    int64 \n",
      " 1   ¿Qué emociones te genera recibir pocos me gusta/comentarios?  248 non-null    object\n",
      "dtypes: int64(1), object(1)\n",
      "memory usage: 6.9+ KB\n"
     ]
    }
   ],
   "source": [
    "many_likes.info()"
   ]
  },
  {
   "cell_type": "markdown",
   "id": "excessive-abraham",
   "metadata": {},
   "source": [
    "- PORNO"
   ]
  },
  {
   "cell_type": "code",
   "execution_count": 49,
   "id": "least-secondary",
   "metadata": {},
   "outputs": [],
   "source": [
    "porno = test.iloc[:,89:98]"
   ]
  },
  {
   "cell_type": "code",
   "execution_count": 50,
   "id": "focal-paraguay",
   "metadata": {},
   "outputs": [],
   "source": [
    "porno = porno.reset_index()\n",
    "porno = porno.rename(columns={'index': 'Id'})"
   ]
  },
  {
   "cell_type": "code",
   "execution_count": 51,
   "id": "useful-ending",
   "metadata": {},
   "outputs": [
    {
     "name": "stdout",
     "output_type": "stream",
     "text": [
      "<class 'pandas.core.frame.DataFrame'>\n",
      "RangeIndex: 434 entries, 0 to 433\n",
      "Data columns (total 10 columns):\n",
      " #   Column                                                                                       Non-Null Count  Dtype \n",
      "---  ------                                                                                       --------------  ----- \n",
      " 0   Id                                                                                           434 non-null    int64 \n",
      " 1   ¿A qué edad viste pornografía por primera vez?                                               417 non-null    object\n",
      " 2   ¿Fue de manera intencionada o no intencionada?                                               412 non-null    object\n",
      " 3   Actualmente, ¿Consumes pornografía?                                                          428 non-null    object\n",
      " 4   ¿Con qué frecuencia?                                                                         79 non-null     object\n",
      " 5   ¿Qué tipo/categoría de pornografía consumes?                                                 58 non-null     object\n",
      " 6   ¿Alguna vez te han mandado material pornográfico sin haberlo solicitado por una red social?  431 non-null    object\n",
      " 7   ¿Cuál era el sexo de la/s persona/s que te enviaron este material?                           290 non-null    object\n",
      " 8   ¿Alguna vez te han pedido fotos pornográficas, de genitales o desnudos por una red social?   427 non-null    object\n",
      " 9   ¿Cuál era el sexo de la persona que te pidió este material?                                  279 non-null    object\n",
      "dtypes: int64(1), object(9)\n",
      "memory usage: 34.0+ KB\n"
     ]
    }
   ],
   "source": [
    "porno.info()"
   ]
  },
  {
   "cell_type": "markdown",
   "id": "offensive-needle",
   "metadata": {},
   "source": [
    "- OPINION"
   ]
  },
  {
   "cell_type": "code",
   "execution_count": 52,
   "id": "asian-grade",
   "metadata": {},
   "outputs": [],
   "source": [
    "opinion = test.iloc[:,98:103]"
   ]
  },
  {
   "cell_type": "code",
   "execution_count": 53,
   "id": "focused-input",
   "metadata": {},
   "outputs": [],
   "source": [
    "opinion = opinion.reset_index()\n",
    "opinion = opinion.rename(columns={'index': 'Id'})"
   ]
  },
  {
   "cell_type": "code",
   "execution_count": 54,
   "id": "abstract-method",
   "metadata": {},
   "outputs": [
    {
     "name": "stdout",
     "output_type": "stream",
     "text": [
      "<class 'pandas.core.frame.DataFrame'>\n",
      "RangeIndex: 434 entries, 0 to 433\n",
      "Data columns (total 6 columns):\n",
      " #   Column                                                                                                                             Non-Null Count  Dtype \n",
      "---  ------                                                                                                                             --------------  ----- \n",
      " 0   Id                                                                                                                                 434 non-null    int64 \n",
      " 1   ¿Crees que algo del contenido que ves por TikTok o Instagram se parece a la pornografía?                                           425 non-null    object\n",
      " 2   ¿Crees que algunas mujeres intentan imitar lo que ven en la pornografía a la hora de subir fotos o vídeos a estas redes sociales?  428 non-null    object\n",
      " 3   ¿Crees que la pornografía influye en lo que se comparte en redes sociales?                                                         427 non-null    object\n",
      " 4   ¿Crees que lo que se comparte en redes sociales distorsiona la realidad?                                                           428 non-null    object\n",
      " 5   ¿Crees que lo que consumes en las redes sociales afecta tu autoestima?                                                             427 non-null    object\n",
      "dtypes: int64(1), object(5)\n",
      "memory usage: 20.5+ KB\n"
     ]
    }
   ],
   "source": [
    "opinion.info()"
   ]
  },
  {
   "cell_type": "markdown",
   "id": "through-invite",
   "metadata": {},
   "source": [
    "# Basic_info"
   ]
  },
  {
   "cell_type": "markdown",
   "id": "enabling-yugoslavia",
   "metadata": {},
   "source": [
    "## EDA and Data Cleaning\n"
   ]
  },
  {
   "cell_type": "markdown",
   "id": "federal-dominant",
   "metadata": {},
   "source": [
    "### a) Check missing values:"
   ]
  },
  {
   "cell_type": "code",
   "execution_count": 55,
   "id": "graduate-mercy",
   "metadata": {},
   "outputs": [
    {
     "name": "stdout",
     "output_type": "stream",
     "text": [
      "<class 'pandas.core.frame.DataFrame'>\n",
      "RangeIndex: 434 entries, 0 to 433\n",
      "Data columns (total 7 columns):\n",
      " #   Column                                   Non-Null Count  Dtype \n",
      "---  ------                                   --------------  ----- \n",
      " 0   Id                                       434 non-null    int64 \n",
      " 1   Marca temporal                           434 non-null    object\n",
      " 2   ¿Deseas participar?                      434 non-null    object\n",
      " 3   ¿Cuántos años tienes?                    433 non-null    object\n",
      " 4   ¿Cuál es tu país de nacimiento?          433 non-null    object\n",
      " 5   ¿Cuál es tu país de residencia actual?   433 non-null    object\n",
      " 6   mail                                     285 non-null    object\n",
      "dtypes: int64(1), object(6)\n",
      "memory usage: 23.9+ KB\n"
     ]
    }
   ],
   "source": [
    "basic_info.info()"
   ]
  },
  {
   "cell_type": "code",
   "execution_count": 56,
   "id": "surprising-fitting",
   "metadata": {},
   "outputs": [],
   "source": [
    "basic_info.rename(columns={'Id': 'Id', \n",
    "                           'Marca temporal': 'hora_rta',\n",
    "                            '¿Deseas participar?':'consentimiento',\n",
    "                            '¿Cuántos años tienes?':'edad',\n",
    "                            '¿Cuál es tu país de nacimiento?':'pais_origen',\n",
    "                            '¿Cuál es tu país de residencia actual? ':'pais_residencia',\n",
    "                            'mail':'mail'\n",
    "                            \n",
    "                           }, inplace=True)"
   ]
  },
  {
   "cell_type": "code",
   "execution_count": 57,
   "id": "proper-zambia",
   "metadata": {},
   "outputs": [
    {
     "data": {
      "text/plain": [
       "Id                   0\n",
       "hora_rta             0\n",
       "consentimiento       0\n",
       "edad                 1\n",
       "pais_origen          1\n",
       "pais_residencia      1\n",
       "mail               149\n",
       "dtype: int64"
      ]
     },
     "execution_count": 57,
     "metadata": {},
     "output_type": "execute_result"
    }
   ],
   "source": [
    "basic_info.isnull().sum()"
   ]
  },
  {
   "cell_type": "markdown",
   "id": "figured-purchase",
   "metadata": {},
   "source": [
    "#### Consentimiento"
   ]
  },
  {
   "cell_type": "code",
   "execution_count": 58,
   "id": "compound-hopkins",
   "metadata": {},
   "outputs": [
    {
     "data": {
      "text/plain": [
       "Aceptar     433\n",
       "Rechazar      1\n",
       "Name: consentimiento, dtype: int64"
      ]
     },
     "execution_count": 58,
     "metadata": {},
     "output_type": "execute_result"
    }
   ],
   "source": [
    "basic_info.consentimiento.value_counts()"
   ]
  },
  {
   "cell_type": "code",
   "execution_count": 59,
   "id": "genuine-blond",
   "metadata": {},
   "outputs": [],
   "source": [
    "basic_info = basic_info[basic_info.consentimiento == 'Aceptar']"
   ]
  },
  {
   "cell_type": "code",
   "execution_count": 60,
   "id": "efficient-intake",
   "metadata": {},
   "outputs": [
    {
     "data": {
      "text/plain": [
       "Id                   0\n",
       "hora_rta             0\n",
       "consentimiento       0\n",
       "edad                 0\n",
       "pais_origen          0\n",
       "pais_residencia      0\n",
       "mail               148\n",
       "dtype: int64"
      ]
     },
     "execution_count": 60,
     "metadata": {},
     "output_type": "execute_result"
    }
   ],
   "source": [
    "basic_info.isnull().sum()"
   ]
  },
  {
   "cell_type": "markdown",
   "id": "spread-enforcement",
   "metadata": {},
   "source": [
    "### c) Dealing with numerical variables\n"
   ]
  },
  {
   "cell_type": "markdown",
   "id": "coastal-texas",
   "metadata": {},
   "source": [
    "#### Edad"
   ]
  },
  {
   "cell_type": "code",
   "execution_count": 61,
   "id": "developed-chicken",
   "metadata": {},
   "outputs": [
    {
     "data": {
      "text/plain": [
       "array(['30', 'cxz', '25', '29', '46', '35', '21', '28', '27', '31', '23',\n",
       "       '22', '19', '37', '33', '40', '39', '44', '24', '26', '42', '34',\n",
       "       '47', '18', '20', '41', '51', '67', '15', '32', '14', '38',\n",
       "       'dieciséis', '36', '48', '16', '17', '13', '45', '53', 'España',\n",
       "       '43', '54', '50', '63', '68', '66', '49'], dtype=object)"
      ]
     },
     "execution_count": 61,
     "metadata": {},
     "output_type": "execute_result"
    }
   ],
   "source": [
    "basic_info.edad.unique()"
   ]
  },
  {
   "cell_type": "code",
   "execution_count": 62,
   "id": "brutal-sarah",
   "metadata": {},
   "outputs": [],
   "source": [
    "basic_info.edad.replace('dieciséis',16,inplace=True)"
   ]
  },
  {
   "cell_type": "code",
   "execution_count": 63,
   "id": "collected-thanksgiving",
   "metadata": {},
   "outputs": [
    {
     "data": {
      "text/html": [
       "<div>\n",
       "<style scoped>\n",
       "    .dataframe tbody tr th:only-of-type {\n",
       "        vertical-align: middle;\n",
       "    }\n",
       "\n",
       "    .dataframe tbody tr th {\n",
       "        vertical-align: top;\n",
       "    }\n",
       "\n",
       "    .dataframe thead th {\n",
       "        text-align: right;\n",
       "    }\n",
       "</style>\n",
       "<table border=\"1\" class=\"dataframe\">\n",
       "  <thead>\n",
       "    <tr style=\"text-align: right;\">\n",
       "      <th></th>\n",
       "      <th>Id</th>\n",
       "      <th>hora_rta</th>\n",
       "      <th>consentimiento</th>\n",
       "      <th>edad</th>\n",
       "      <th>pais_origen</th>\n",
       "      <th>pais_residencia</th>\n",
       "      <th>mail</th>\n",
       "    </tr>\n",
       "  </thead>\n",
       "  <tbody>\n",
       "    <tr>\n",
       "      <th>1</th>\n",
       "      <td>1</td>\n",
       "      <td>2021/03/25 11:18:02 p. m. EET</td>\n",
       "      <td>Aceptar</td>\n",
       "      <td>cxz</td>\n",
       "      <td>sdc</td>\n",
       "      <td>dcs</td>\n",
       "      <td>NaN</td>\n",
       "    </tr>\n",
       "    <tr>\n",
       "      <th>234</th>\n",
       "      <td>234</td>\n",
       "      <td>2021/03/27 12:28:25 a. m. EET</td>\n",
       "      <td>Aceptar</td>\n",
       "      <td>España</td>\n",
       "      <td>España</td>\n",
       "      <td>España</td>\n",
       "      <td>delantal@gmail.com</td>\n",
       "    </tr>\n",
       "  </tbody>\n",
       "</table>\n",
       "</div>"
      ],
      "text/plain": [
       "      Id                       hora_rta consentimiento    edad pais_origen  \\\n",
       "1      1  2021/03/25 11:18:02 p. m. EET        Aceptar     cxz         sdc   \n",
       "234  234  2021/03/27 12:28:25 a. m. EET        Aceptar  España      España   \n",
       "\n",
       "    pais_residencia                mail  \n",
       "1               dcs                 NaN  \n",
       "234          España  delantal@gmail.com  "
      ]
     },
     "execution_count": 63,
     "metadata": {},
     "output_type": "execute_result"
    }
   ],
   "source": [
    "to_drop = basic_info[(basic_info.edad=='cxz')|(basic_info.edad=='España')]\n",
    "to_drop"
   ]
  },
  {
   "cell_type": "code",
   "execution_count": 64,
   "id": "mexican-adams",
   "metadata": {},
   "outputs": [],
   "source": [
    "basic_info = basic_info.drop(basic_info.Id[1])"
   ]
  },
  {
   "cell_type": "code",
   "execution_count": 65,
   "id": "recovered-purchase",
   "metadata": {},
   "outputs": [],
   "source": [
    "basic_info = basic_info.drop(basic_info.Id[234])"
   ]
  },
  {
   "cell_type": "code",
   "execution_count": 66,
   "id": "infinite-hawaii",
   "metadata": {},
   "outputs": [
    {
     "name": "stdout",
     "output_type": "stream",
     "text": [
      "<class 'pandas.core.frame.DataFrame'>\n",
      "Int64Index: 431 entries, 0 to 433\n",
      "Data columns (total 7 columns):\n",
      " #   Column           Non-Null Count  Dtype \n",
      "---  ------           --------------  ----- \n",
      " 0   Id               431 non-null    int64 \n",
      " 1   hora_rta         431 non-null    object\n",
      " 2   consentimiento   431 non-null    object\n",
      " 3   edad             431 non-null    object\n",
      " 4   pais_origen      431 non-null    object\n",
      " 5   pais_residencia  431 non-null    object\n",
      " 6   mail             284 non-null    object\n",
      "dtypes: int64(1), object(6)\n",
      "memory usage: 26.9+ KB\n"
     ]
    }
   ],
   "source": [
    "basic_info.info()"
   ]
  },
  {
   "cell_type": "code",
   "execution_count": 67,
   "id": "concerned-lafayette",
   "metadata": {},
   "outputs": [],
   "source": [
    "basic_info.edad = basic_info.edad.astype('int')"
   ]
  },
  {
   "cell_type": "code",
   "execution_count": 68,
   "id": "complicated-quebec",
   "metadata": {},
   "outputs": [
    {
     "name": "stdout",
     "output_type": "stream",
     "text": [
      "<class 'pandas.core.frame.DataFrame'>\n",
      "Int64Index: 431 entries, 0 to 433\n",
      "Data columns (total 7 columns):\n",
      " #   Column           Non-Null Count  Dtype \n",
      "---  ------           --------------  ----- \n",
      " 0   Id               431 non-null    int64 \n",
      " 1   hora_rta         431 non-null    object\n",
      " 2   consentimiento   431 non-null    object\n",
      " 3   edad             431 non-null    int64 \n",
      " 4   pais_origen      431 non-null    object\n",
      " 5   pais_residencia  431 non-null    object\n",
      " 6   mail             284 non-null    object\n",
      "dtypes: int64(2), object(5)\n",
      "memory usage: 26.9+ KB\n"
     ]
    }
   ],
   "source": [
    "basic_info.info()"
   ]
  },
  {
   "cell_type": "markdown",
   "id": "occupied-degree",
   "metadata": {},
   "source": [
    "#### hora_rta"
   ]
  },
  {
   "cell_type": "code",
   "execution_count": 69,
   "id": "negative-hazard",
   "metadata": {
    "scrolled": true
   },
   "outputs": [],
   "source": [
    "basic_info.hora_rta=pd.to_datetime(basic_info.hora_rta)"
   ]
  },
  {
   "cell_type": "code",
   "execution_count": 70,
   "id": "synthetic-sheet",
   "metadata": {},
   "outputs": [
    {
     "name": "stdout",
     "output_type": "stream",
     "text": [
      "<class 'pandas.core.frame.DataFrame'>\n",
      "Int64Index: 431 entries, 0 to 433\n",
      "Data columns (total 7 columns):\n",
      " #   Column           Non-Null Count  Dtype         \n",
      "---  ------           --------------  -----         \n",
      " 0   Id               431 non-null    int64         \n",
      " 1   hora_rta         431 non-null    datetime64[ns]\n",
      " 2   consentimiento   431 non-null    object        \n",
      " 3   edad             431 non-null    int64         \n",
      " 4   pais_origen      431 non-null    object        \n",
      " 5   pais_residencia  431 non-null    object        \n",
      " 6   mail             284 non-null    object        \n",
      "dtypes: datetime64[ns](1), int64(2), object(4)\n",
      "memory usage: 26.9+ KB\n"
     ]
    }
   ],
   "source": [
    "basic_info.info()"
   ]
  },
  {
   "cell_type": "markdown",
   "id": "fewer-conference",
   "metadata": {},
   "source": [
    "### b) Dealing with categorical variables\n"
   ]
  },
  {
   "cell_type": "markdown",
   "id": "upset-completion",
   "metadata": {},
   "source": [
    "#### país_origen"
   ]
  },
  {
   "cell_type": "code",
   "execution_count": 71,
   "id": "fresh-solomon",
   "metadata": {},
   "outputs": [
    {
     "data": {
      "text/plain": [
       "array(['España', 'España ', 'Argentina', 'Brasil', 'Brasil ',\n",
       "       '21/04/1980', 'Rumanía', 'Italia', 'Colombia', 'Polonia',\n",
       "       'Bulgaria', 'Irlanda', 'Luxembourg', 'Luxemburgo', 'Rumania ',\n",
       "       'España.', 'Bolivia ', 'ESPAÑA', 'argentina', 'Chile', 'Venezuela',\n",
       "       'Spain', 'República Dominicana ', 'México ', 'México', 'españa',\n",
       "       'Guatemala', 'Portugal', 'Argentina ', 'Inglaterra', 'Perú',\n",
       "       'Francia', 'Jordania', 'Bolivia', 'Espanya', 'Mexico', 'Uruguay ',\n",
       "       'Rumanía ', 'Mexico ', 'Colombia ', 'Sevilla ', 'Filipinas',\n",
       "       'Catalunya', 'Perú ', 'Espana', 'colombia', 'ecuador',\n",
       "       'España. Origen japones. ', 'Espanha', 'Espala'], dtype=object)"
      ]
     },
     "execution_count": 71,
     "metadata": {},
     "output_type": "execute_result"
    }
   ],
   "source": [
    "basic_info.pais_origen.unique()"
   ]
  },
  {
   "cell_type": "code",
   "execution_count": 72,
   "id": "conservative-shooting",
   "metadata": {},
   "outputs": [],
   "source": [
    "replace_map = {'España ':'España', 'Brasil ':'Brasil',\n",
    "               'Luxembourg':'Luxemburgo','Rumania ':'Rumania',\n",
    "              'Rumanía':'Rumania','España.':'España',\n",
    "              'Bolivia ':'Bolivia','ESPAÑA':'España',\n",
    "              'argentina':'Argentina','Spain':'España',\n",
    "              'República Dominicana ':'República Dominicana',\n",
    "              'México ':'México','españa':'España',\n",
    "              'Argentina ':'Argentina','Espanya':'España',\n",
    "              'Mexico':'México','Rumanía ':'Rumania',\n",
    "              'Mexico ':'México','Colombia ':'Colombia',\n",
    "              'Sevilla ':'España','Catalunya':'España',\n",
    "              'Perú ':'Perú','Espana':'España',\n",
    "              'colombia':'Colombia','ecuador':'Ecuador',\n",
    "              'España. Origen japones. ':'España',\n",
    "              'Espanha':'España','Espala':'España'}"
   ]
  },
  {
   "cell_type": "code",
   "execution_count": 73,
   "id": "connected-cleanup",
   "metadata": {},
   "outputs": [],
   "source": [
    "basic_info.pais_origen.replace(replace_map, inplace=True)"
   ]
  },
  {
   "cell_type": "code",
   "execution_count": 74,
   "id": "equipped-arrest",
   "metadata": {},
   "outputs": [
    {
     "data": {
      "text/plain": [
       "España                  317\n",
       "Argentina                50\n",
       "México                   12\n",
       "Brasil                    9\n",
       "Venezuela                 6\n",
       "Colombia                  5\n",
       "Chile                     5\n",
       "Perú                      4\n",
       "Bolivia                   3\n",
       "Rumania                   3\n",
       "Luxemburgo                2\n",
       "Uruguay                   2\n",
       "21/04/1980                1\n",
       "República Dominicana      1\n",
       "Italia                    1\n",
       "Irlanda                   1\n",
       "Ecuador                   1\n",
       "Inglaterra                1\n",
       "Portugal                  1\n",
       "Guatemala                 1\n",
       "Francia                   1\n",
       "Filipinas                 1\n",
       "Bulgaria                  1\n",
       "Jordania                  1\n",
       "Polonia                   1\n",
       "Name: pais_origen, dtype: int64"
      ]
     },
     "execution_count": 74,
     "metadata": {},
     "output_type": "execute_result"
    }
   ],
   "source": [
    "basic_info.pais_origen.value_counts()"
   ]
  },
  {
   "cell_type": "code",
   "execution_count": 75,
   "id": "liquid-arcade",
   "metadata": {},
   "outputs": [],
   "source": [
    "to_drop = basic_info[(basic_info.pais_origen=='21/04/1980')]"
   ]
  },
  {
   "cell_type": "code",
   "execution_count": 76,
   "id": "electrical-likelihood",
   "metadata": {},
   "outputs": [
    {
     "data": {
      "text/html": [
       "<div>\n",
       "<style scoped>\n",
       "    .dataframe tbody tr th:only-of-type {\n",
       "        vertical-align: middle;\n",
       "    }\n",
       "\n",
       "    .dataframe tbody tr th {\n",
       "        vertical-align: top;\n",
       "    }\n",
       "\n",
       "    .dataframe thead th {\n",
       "        text-align: right;\n",
       "    }\n",
       "</style>\n",
       "<table border=\"1\" class=\"dataframe\">\n",
       "  <thead>\n",
       "    <tr style=\"text-align: right;\">\n",
       "      <th></th>\n",
       "      <th>Id</th>\n",
       "      <th>hora_rta</th>\n",
       "      <th>consentimiento</th>\n",
       "      <th>edad</th>\n",
       "      <th>pais_origen</th>\n",
       "      <th>pais_residencia</th>\n",
       "      <th>mail</th>\n",
       "    </tr>\n",
       "  </thead>\n",
       "  <tbody>\n",
       "    <tr>\n",
       "      <th>31</th>\n",
       "      <td>31</td>\n",
       "      <td>2021-03-26 03:21:11</td>\n",
       "      <td>Aceptar</td>\n",
       "      <td>40</td>\n",
       "      <td>21/04/1980</td>\n",
       "      <td>Brasil</td>\n",
       "      <td>lulubonfim1917@gmail.com</td>\n",
       "    </tr>\n",
       "  </tbody>\n",
       "</table>\n",
       "</div>"
      ],
      "text/plain": [
       "    Id            hora_rta consentimiento  edad pais_origen pais_residencia  \\\n",
       "31  31 2021-03-26 03:21:11        Aceptar    40  21/04/1980          Brasil   \n",
       "\n",
       "                        mail  \n",
       "31  lulubonfim1917@gmail.com  "
      ]
     },
     "execution_count": 76,
     "metadata": {},
     "output_type": "execute_result"
    }
   ],
   "source": [
    "to_drop"
   ]
  },
  {
   "cell_type": "code",
   "execution_count": 77,
   "id": "suburban-landscape",
   "metadata": {},
   "outputs": [],
   "source": [
    "basic_info = basic_info.drop(basic_info.Id[31])"
   ]
  },
  {
   "cell_type": "code",
   "execution_count": 78,
   "id": "voluntary-poetry",
   "metadata": {},
   "outputs": [
    {
     "name": "stdout",
     "output_type": "stream",
     "text": [
      "<class 'pandas.core.frame.DataFrame'>\n",
      "Int64Index: 430 entries, 0 to 433\n",
      "Data columns (total 7 columns):\n",
      " #   Column           Non-Null Count  Dtype         \n",
      "---  ------           --------------  -----         \n",
      " 0   Id               430 non-null    int64         \n",
      " 1   hora_rta         430 non-null    datetime64[ns]\n",
      " 2   consentimiento   430 non-null    object        \n",
      " 3   edad             430 non-null    int64         \n",
      " 4   pais_origen      430 non-null    object        \n",
      " 5   pais_residencia  430 non-null    object        \n",
      " 6   mail             283 non-null    object        \n",
      "dtypes: datetime64[ns](1), int64(2), object(4)\n",
      "memory usage: 26.9+ KB\n"
     ]
    }
   ],
   "source": [
    "basic_info.info()"
   ]
  },
  {
   "cell_type": "markdown",
   "id": "supposed-shoot",
   "metadata": {},
   "source": [
    "#### país_residencia"
   ]
  },
  {
   "cell_type": "code",
   "execution_count": 79,
   "id": "processed-speaking",
   "metadata": {},
   "outputs": [
    {
     "data": {
      "text/plain": [
       "array(['España', 'España ', 'Argentina', 'Brasil', 'Brasil ', 'Bélgica',\n",
       "       'UK', 'China', 'Argentina.', 'Bolivia ', 'Portugal', 'argentina',\n",
       "       'Eapaña', 'Chile', 'Espana', 'Spain', 'República Dominicana ',\n",
       "       'México ', 'México', 'españa', 'Argentina ', 'Portugal ',\n",
       "       'Espanya', 'Uruguay ', 'Inglaterra ', 'Colombia', 'Países Bajos ',\n",
       "       'Lituania ', 'Mexico ', 'Colombia ', 'Cataluña, España.',\n",
       "       'Barcelona', 'Alemania', 'España hay', 'Inglaterra', 'València',\n",
       "       'Catalunya', 'Francia', 'Perú ', 'colombia', 'ecuador ',\n",
       "       'Australia', 'Espanha', 'Euskal Herria'], dtype=object)"
      ]
     },
     "execution_count": 79,
     "metadata": {},
     "output_type": "execute_result"
    }
   ],
   "source": [
    "basic_info.pais_residencia.unique()"
   ]
  },
  {
   "cell_type": "code",
   "execution_count": 80,
   "id": "integral-remedy",
   "metadata": {},
   "outputs": [],
   "source": [
    "replace_map2 = {'España ':'España', 'Brasil ':'Brasil',\n",
    "               'UK':'Inglaterra','Argentina.':'Argentina',\n",
    "               'argentina':'Argentina','Eapaña':'España',\n",
    "               'Espana':'España','Spain':'España',\n",
    "               'República Dominicana ':'República Dominicana',\n",
    "               'México ':'México','españa':'España',\n",
    "              'Cataluña, España.':'España',\n",
    "              'Bolivia ':'Bolivia','ESPAÑA':'España',\n",
    "              'Argentina ':'Argentina','Portugal ':'Portugal',\n",
    "               'Espanya':'España', 'Inglaterra ':'Inglaterra',\n",
    "               'Países Bajos ':'Holanda','Lituania ':'Lituania',\n",
    "               'Mexico ':'México','Colombia ':'Colombia',\n",
    "               'Barcelona':'España','España hay':'España',\n",
    "               'València':'España','Catalunya':'España',\n",
    "               'Perú ':'Perú','colombia':'Colombia',\n",
    "               'ecuador ':'Ecuador',\n",
    "               'Espanha':'España','Euskal Herria':'España'}\n",
    "              "
   ]
  },
  {
   "cell_type": "code",
   "execution_count": 81,
   "id": "lasting-bruce",
   "metadata": {},
   "outputs": [],
   "source": [
    "basic_info.pais_residencia.replace(replace_map2, inplace=True)"
   ]
  },
  {
   "cell_type": "code",
   "execution_count": 82,
   "id": "bibliographic-pipeline",
   "metadata": {},
   "outputs": [
    {
     "data": {
      "text/plain": [
       "España                  342\n",
       "Argentina                40\n",
       "México                   12\n",
       "Brasil                    9\n",
       "Chile                     6\n",
       "Colombia                  3\n",
       "Inglaterra                3\n",
       "Portugal                  2\n",
       "Bélgica                   2\n",
       "Lituania                  1\n",
       "Alemania                  1\n",
       "China                     1\n",
       "República Dominicana      1\n",
       "Holanda                   1\n",
       "Uruguay                   1\n",
       "Perú                      1\n",
       "Ecuador                   1\n",
       "Australia                 1\n",
       "Francia                   1\n",
       "Bolivia                   1\n",
       "Name: pais_residencia, dtype: int64"
      ]
     },
     "execution_count": 82,
     "metadata": {},
     "output_type": "execute_result"
    }
   ],
   "source": [
    "basic_info.pais_residencia.value_counts()"
   ]
  },
  {
   "cell_type": "markdown",
   "id": "settled-width",
   "metadata": {},
   "source": [
    "#### mail"
   ]
  },
  {
   "cell_type": "code",
   "execution_count": 83,
   "id": "entire-converter",
   "metadata": {},
   "outputs": [],
   "source": [
    "contactos = basic_info[['Id','mail']]"
   ]
  },
  {
   "cell_type": "code",
   "execution_count": 84,
   "id": "generous-mistress",
   "metadata": {},
   "outputs": [],
   "source": [
    "contactos = contactos.dropna()"
   ]
  },
  {
   "cell_type": "code",
   "execution_count": 85,
   "id": "conscious-violin",
   "metadata": {},
   "outputs": [
    {
     "name": "stdout",
     "output_type": "stream",
     "text": [
      "<class 'pandas.core.frame.DataFrame'>\n",
      "Int64Index: 283 entries, 0 to 433\n",
      "Data columns (total 2 columns):\n",
      " #   Column  Non-Null Count  Dtype \n",
      "---  ------  --------------  ----- \n",
      " 0   Id      283 non-null    int64 \n",
      " 1   mail    283 non-null    object\n",
      "dtypes: int64(1), object(1)\n",
      "memory usage: 6.6+ KB\n"
     ]
    }
   ],
   "source": [
    "contactos.info()"
   ]
  },
  {
   "cell_type": "markdown",
   "id": "employed-ivory",
   "metadata": {},
   "source": [
    "### d) Drop duplicates"
   ]
  },
  {
   "cell_type": "code",
   "execution_count": 86,
   "id": "sealed-costume",
   "metadata": {},
   "outputs": [
    {
     "data": {
      "text/plain": [
       "0"
      ]
     },
     "execution_count": 86,
     "metadata": {},
     "output_type": "execute_result"
    }
   ],
   "source": [
    "basic_info.duplicated().sum()"
   ]
  },
  {
   "cell_type": "markdown",
   "id": "several-blood",
   "metadata": {},
   "source": [
    "##  Feature engineering \n"
   ]
  },
  {
   "cell_type": "code",
   "execution_count": 87,
   "id": "electronic-reservation",
   "metadata": {},
   "outputs": [
    {
     "name": "stdout",
     "output_type": "stream",
     "text": [
      "<class 'pandas.core.frame.DataFrame'>\n",
      "Int64Index: 430 entries, 0 to 433\n",
      "Data columns (total 7 columns):\n",
      " #   Column           Non-Null Count  Dtype         \n",
      "---  ------           --------------  -----         \n",
      " 0   Id               430 non-null    int64         \n",
      " 1   hora_rta         430 non-null    datetime64[ns]\n",
      " 2   consentimiento   430 non-null    object        \n",
      " 3   edad             430 non-null    int64         \n",
      " 4   pais_origen      430 non-null    object        \n",
      " 5   pais_residencia  430 non-null    object        \n",
      " 6   mail             283 non-null    object        \n",
      "dtypes: datetime64[ns](1), int64(2), object(4)\n",
      "memory usage: 26.9+ KB\n"
     ]
    }
   ],
   "source": [
    "basic_info.info()"
   ]
  },
  {
   "cell_type": "code",
   "execution_count": null,
   "id": "handed-thompson",
   "metadata": {},
   "outputs": [],
   "source": []
  },
  {
   "cell_type": "markdown",
   "id": "injured-picnic",
   "metadata": {},
   "source": [
    "### b) Feature selection\n"
   ]
  },
  {
   "cell_type": "code",
   "execution_count": 88,
   "id": "ranking-enlargement",
   "metadata": {},
   "outputs": [],
   "source": [
    "basic_info_clean = basic_info[['Id','hora_rta','edad','pais_origen','pais_residencia']]"
   ]
  },
  {
   "cell_type": "code",
   "execution_count": 89,
   "id": "received-pendant",
   "metadata": {},
   "outputs": [
    {
     "data": {
      "text/html": [
       "<div>\n",
       "<style scoped>\n",
       "    .dataframe tbody tr th:only-of-type {\n",
       "        vertical-align: middle;\n",
       "    }\n",
       "\n",
       "    .dataframe tbody tr th {\n",
       "        vertical-align: top;\n",
       "    }\n",
       "\n",
       "    .dataframe thead th {\n",
       "        text-align: right;\n",
       "    }\n",
       "</style>\n",
       "<table border=\"1\" class=\"dataframe\">\n",
       "  <thead>\n",
       "    <tr style=\"text-align: right;\">\n",
       "      <th></th>\n",
       "      <th>Id</th>\n",
       "      <th>hora_rta</th>\n",
       "      <th>edad</th>\n",
       "      <th>pais_origen</th>\n",
       "      <th>pais_residencia</th>\n",
       "    </tr>\n",
       "  </thead>\n",
       "  <tbody>\n",
       "    <tr>\n",
       "      <th>0</th>\n",
       "      <td>0</td>\n",
       "      <td>2021-03-25 19:25:11</td>\n",
       "      <td>30</td>\n",
       "      <td>España</td>\n",
       "      <td>España</td>\n",
       "    </tr>\n",
       "    <tr>\n",
       "      <th>2</th>\n",
       "      <td>2</td>\n",
       "      <td>2021-03-26 00:02:08</td>\n",
       "      <td>25</td>\n",
       "      <td>España</td>\n",
       "      <td>España</td>\n",
       "    </tr>\n",
       "    <tr>\n",
       "      <th>3</th>\n",
       "      <td>3</td>\n",
       "      <td>2021-03-26 00:11:49</td>\n",
       "      <td>30</td>\n",
       "      <td>España</td>\n",
       "      <td>España</td>\n",
       "    </tr>\n",
       "    <tr>\n",
       "      <th>4</th>\n",
       "      <td>4</td>\n",
       "      <td>2021-03-26 00:15:23</td>\n",
       "      <td>29</td>\n",
       "      <td>España</td>\n",
       "      <td>España</td>\n",
       "    </tr>\n",
       "    <tr>\n",
       "      <th>5</th>\n",
       "      <td>5</td>\n",
       "      <td>2021-03-26 00:16:33</td>\n",
       "      <td>46</td>\n",
       "      <td>España</td>\n",
       "      <td>España</td>\n",
       "    </tr>\n",
       "  </tbody>\n",
       "</table>\n",
       "</div>"
      ],
      "text/plain": [
       "   Id            hora_rta  edad pais_origen pais_residencia\n",
       "0   0 2021-03-25 19:25:11    30      España          España\n",
       "2   2 2021-03-26 00:02:08    25      España          España\n",
       "3   3 2021-03-26 00:11:49    30      España          España\n",
       "4   4 2021-03-26 00:15:23    29      España          España\n",
       "5   5 2021-03-26 00:16:33    46      España          España"
      ]
     },
     "execution_count": 89,
     "metadata": {},
     "output_type": "execute_result"
    }
   ],
   "source": [
    "basic_info_clean.head()"
   ]
  },
  {
   "cell_type": "markdown",
   "id": "wired-mainland",
   "metadata": {},
   "source": [
    "### a) Save the data clean\n"
   ]
  },
  {
   "cell_type": "code",
   "execution_count": 90,
   "id": "legitimate-boost",
   "metadata": {},
   "outputs": [],
   "source": [
    "#contactos.to_csv('contactos.csv')"
   ]
  },
  {
   "cell_type": "code",
   "execution_count": 91,
   "id": "interested-illustration",
   "metadata": {},
   "outputs": [],
   "source": [
    "#basic_info_clean.to_csv('basic_info.csv')"
   ]
  },
  {
   "cell_type": "code",
   "execution_count": null,
   "id": "boxed-throat",
   "metadata": {},
   "outputs": [],
   "source": [
    "# Import libraries and data\n",
    "\n",
    "import numpy as np\n",
    "import math\n",
    "import pandas as pd\n",
    "from datetime import datetime\n",
    "import warnings\n",
    "warnings.filterwarnings('ignore')\n",
    "from matplotlib import pyplot as plt\n",
    "import seaborn as sns\n",
    "\n",
    "import sys\n",
    "sys.path.insert(0, '/Users/dpagniez/Desktop/Functions')\n",
    "\n",
    "from My_functions_EDA import *\n",
    "\n",
    "data = pd.read_csv('/Users/dpagniez/Desktop/DS_bootcamp/FINAL PROJECT/ES_Final project questionnaire .csv')\n",
    "\n",
    "test = data.copy()\n",
    "\n",
    "test.info()\n",
    "\n",
    "test.columns\n",
    "\n",
    "test.head(10)\n",
    "\n",
    "\n",
    "test= test.reset_index()\n",
    "test=test.rename(columns={'index': 'Id'})\n",
    "\n",
    "test.head()\n",
    "\n",
    "# Meet the data - keys information\n",
    "\n",
    "\n",
    "\n",
    "- `basic_info`: Dataset who contains the temporal mark, country borned, country of residence and age of the volunteers\n",
    "    \n",
    "- `selfsteem`: Dataset who contains the temporal mark and the questions of the rosenberg questionare and the final puntuation of the volunteers\n",
    "    \n",
    "- `body_bsq`: Dataset who contains the temporal mark, the questions of the reduced version of the body shape questionnare and the final puntuations of the volunteers\n",
    "    \n",
    "- `body_figures`: Dataset who contains the temporal mark, the questions and the results of the Collin's image analysis of the volunteers\n",
    "    \n",
    "- `body_acceptance`: Dataset who contains the temporal mark, the questions and the results of the acceptance of the different parts of the body of the volunteers\n",
    "\n",
    "- `social_pression`: Dataset who contains the temporal mark, and some questions considering the social feedback that the volunteers recieve for her esthetic habits\n",
    "    \n",
    "- `body_modif`: Dataset who contains the temporal mark, the questions and the results of the modifications of the body that the volunteers do/done in therms of frequency\n",
    "    \n",
    "- `body_opinion`: Dataset who contains the temporal mark, and the free reflection about their bodys that some of the volunteers did \n",
    "    \n",
    "- `instagram`: Dataset who contains the temporal mark, and all the information regarding instagram \n",
    "    \n",
    "- `tiktok`: Dataset who contains the temporal mark, and all the information regarding Tik-Tok \n",
    "    \n",
    "- `content`: Dataset who contains the temporal mark and information regadring the content that the volunteers consume and publish in both social networks \n",
    "    \n",
    "- `lot_likes`: Dataset who contains the temporal mark, and the feelings/emotions that the volunteers say if they recieve a lot of likes\n",
    "    \n",
    "- `many_likes`: Dataset who contains the temporal mark, and the feelings/emotions that the volunteers say if they recieve a lot of likes\n",
    "    \n",
    "- `porno`: Dataset who contains the temporal mark, and the information about how the volunteers are exposed to pornography\n",
    "    \n",
    "- `opinion`: Dataset who contains the temporal mark, and some closed final questions to see what the volunteers think about the studied variables\n",
    "    \n",
    "\n",
    "basic_info = test.iloc[:,0:6]\n",
    "\n",
    "basic_info.head()\n",
    "\n",
    "- BASIC INFO\n",
    "\n",
    "basic_info['mail']=test['Una vez realizada la investigación, si deseas recibir una copia de la presentación con las conclusiones, introduce tu mail aquí: ']\n",
    "\n",
    "basic_info.head()\n",
    "\n",
    "- SELFSTEEM\n",
    "\n",
    "selfsteem = test.iloc[:,6:16]\n",
    "\n",
    "selfsteem.info()\n",
    "\n",
    "- BODY BSQ\n",
    "\n",
    "body_bsq = test.iloc[:,16:23]\n",
    "\n",
    "body_bsq.info()\n",
    "\n",
    "- BODY FIGURES\n",
    "\n",
    "body_figures = test.iloc[:,23:26]\n",
    "\n",
    "body_figures = body_figures.reset_index()\n",
    "body_figures = body_figures.rename(columns={'index': 'Id'})\n",
    "\n",
    "body_figures.info()\n",
    "\n",
    "- BODY ACCEPTANCE\n",
    "\n",
    "body_acceptance = test.iloc[:,26:37]\n",
    "\n",
    "body_acceptance.info()\n",
    "\n",
    "- SOCIAL PRESSION\n",
    "\n",
    "social_pression = test.iloc[:,37:43]\n",
    "\n",
    "social_pression = social_pression.reset_index()\n",
    "social_pression = social_pression.rename(columns={'index': 'Id'})\n",
    "\n",
    "social_pression.info()\n",
    "\n",
    "- BODY MODIF\n",
    "\n",
    "body_modif = test.iloc[:,43:51]\n",
    "\n",
    "body_modif = body_modif.reset_index()\n",
    "body_modif = body_modif.rename(columns={'index': 'Id'})\n",
    "\n",
    "body_modif.info()\n",
    "\n",
    "- BODY OPINION\n",
    "\n",
    "body_opinion = test.iloc[:,51:52]\n",
    "\n",
    "body_opinion = body_opinion.reset_index()\n",
    "body_opinion = body_opinion.rename(columns={'index': 'Id'})\n",
    "\n",
    "body_opinion.info()\n",
    "\n",
    "- INSTAGRAM\n",
    "\n",
    "instagram = test.iloc[:,52:66]\n",
    "\n",
    "instagram = instagram.reset_index()\n",
    "instagram = instagram.rename(columns={'index': 'Id'})\n",
    "\n",
    "instagram.info()\n",
    "\n",
    "- TIKTOK\n",
    "\n",
    "tiktok = test.iloc[:,66:76]\n",
    "\n",
    "tiktok = tiktok.reset_index()\n",
    "tiktok = tiktok.rename(columns={'index': 'Id'})\n",
    "\n",
    "tiktok.info()\n",
    "\n",
    "- CONTENT\n",
    "\n",
    "content = test.iloc[:,76:83]\n",
    "\n",
    "content = content.reset_index()\n",
    "content = content.rename(columns={'index': 'Id'})\n",
    "\n",
    "content.info()\n",
    "\n",
    "content = content.append(test.iloc[:,85:89])\n",
    "\n",
    "content.info()\n",
    "\n",
    "- LOT LIKES\n",
    "\n",
    "lot_likes = test.iloc[:,83:84]\n",
    "\n",
    "lot_likes = lot_likes.reset_index()\n",
    "lot_likes = lot_likes.rename(columns={'index': 'Id'})\n",
    "\n",
    "lot_likes.info()\n",
    "\n",
    "- MANY LIKES\n",
    "\n",
    "many_likes = test.iloc[:,84:85]\n",
    "\n",
    "many_likes = many_likes.reset_index()\n",
    "many_likes = many_likes.rename(columns={'index': 'Id'})\n",
    "\n",
    "many_likes.info()\n",
    "\n",
    "- PORNO\n",
    "\n",
    "porno = test.iloc[:,89:98]\n",
    "\n",
    "porno = porno.reset_index()\n",
    "porno = porno.rename(columns={'index': 'Id'})\n",
    "\n",
    "porno.info()\n",
    "\n",
    "- OPINION\n",
    "\n",
    "opinion = test.iloc[:,98:103]\n",
    "\n",
    "opinion = opinion.reset_index()\n",
    "opinion = opinion.rename(columns={'index': 'Id'})\n",
    "\n",
    "opinion.info()\n",
    "\n",
    "# Basic_info\n",
    "\n",
    "## EDA and Data Cleaning\n",
    "\n",
    "\n",
    "### a) Check missing values:\n",
    "\n",
    "basic_info.info()\n",
    "\n",
    "basic_info.rename(columns={'Id': 'Id', \n",
    "                           'Marca temporal': 'hora_rta',\n",
    "                            '¿Deseas participar?':'consentimiento',\n",
    "                            '¿Cuántos años tienes?':'edad',\n",
    "                            '¿Cuál es tu país de nacimiento?':'pais_origen',\n",
    "                            '¿Cuál es tu país de residencia actual? ':'pais_residencia',\n",
    "                            'mail':'mail'\n",
    "                            \n",
    "                           }, inplace=True)\n",
    "\n",
    "basic_info.isnull().sum()\n",
    "\n",
    "#### Consentimiento\n",
    "\n",
    "basic_info.consentimiento.value_counts()\n",
    "\n",
    "basic_info = basic_info[basic_info.consentimiento == 'Aceptar']\n",
    "\n",
    "basic_info.isnull().sum()\n",
    "\n",
    "### c) Dealing with numerical variables\n",
    "\n",
    "\n",
    "#### Edad\n",
    "\n",
    "basic_info.edad.unique()\n",
    "\n",
    "basic_info.edad.replace('dieciséis',16,inplace=True)\n",
    "\n",
    "to_drop = basic_info[(basic_info.edad=='cxz')|(basic_info.edad=='España')]\n",
    "to_drop\n",
    "\n",
    "basic_info = basic_info.drop(basic_info.Id[1])\n",
    "\n",
    "basic_info = basic_info.drop(basic_info.Id[234])\n",
    "\n",
    "basic_info.info()\n",
    "\n",
    "basic_info.edad = basic_info.edad.astype('int')\n",
    "\n",
    "basic_info.info()\n",
    "\n",
    "#### hora_rta\n",
    "\n",
    "basic_info.hora_rta=pd.to_datetime(basic_info.hora_rta)\n",
    "\n",
    "basic_info.info()\n",
    "\n",
    "### b) Dealing with categorical variables\n",
    "\n",
    "\n",
    "#### país_origen\n",
    "\n",
    "basic_info.pais_origen.unique()\n",
    "\n",
    "replace_map = {'España ':'España', 'Brasil ':'Brasil',\n",
    "               'Luxembourg':'Luxemburgo','Rumania ':'Rumania',\n",
    "              'Rumanía':'Rumania','España.':'España',\n",
    "              'Bolivia ':'Bolivia','ESPAÑA':'España',\n",
    "              'argentina':'Argentina','Spain':'España',\n",
    "              'República Dominicana ':'República Dominicana',\n",
    "              'México ':'México','españa':'España',\n",
    "              'Argentina ':'Argentina','Espanya':'España',\n",
    "              'Mexico':'México','Rumanía ':'Rumania',\n",
    "              'Mexico ':'México','Colombia ':'Colombia',\n",
    "              'Sevilla ':'España','Catalunya':'España',\n",
    "              'Perú ':'Perú','Espana':'España',\n",
    "              'colombia':'Colombia','ecuador':'Ecuador',\n",
    "              'España. Origen japones. ':'España',\n",
    "              'Espanha':'España','Espala':'España'}\n",
    "\n",
    "basic_info.pais_origen.replace(replace_map, inplace=True)\n",
    "\n",
    "basic_info.pais_origen.value_counts()\n",
    "\n",
    "to_drop = basic_info[(basic_info.pais_origen=='21/04/1980')]\n",
    "\n",
    "to_drop\n",
    "\n",
    "basic_info = basic_info.drop(basic_info.Id[31])\n",
    "\n",
    "basic_info.info()\n",
    "\n",
    "#### país_residencia\n",
    "\n",
    "basic_info.pais_residencia.unique()\n",
    "\n",
    "replace_map2 = {'España ':'España', 'Brasil ':'Brasil',\n",
    "               'UK':'Inglaterra','Argentina.':'Argentina',\n",
    "               'argentina':'Argentina','Eapaña':'España',\n",
    "               'Espana':'España','Spain':'España',\n",
    "               'República Dominicana ':'República Dominicana',\n",
    "               'México ':'México','españa':'España',\n",
    "              'Cataluña, España.':'España',\n",
    "              'Bolivia ':'Bolivia','ESPAÑA':'España',\n",
    "              'Argentina ':'Argentina','Portugal ':'Portugal',\n",
    "               'Espanya':'España', 'Inglaterra ':'Inglaterra',\n",
    "               'Países Bajos ':'Holanda','Lituania ':'Lituania',\n",
    "               'Mexico ':'México','Colombia ':'Colombia',\n",
    "               'Barcelona':'España','España hay':'España',\n",
    "               'València':'España','Catalunya':'España',\n",
    "               'Perú ':'Perú','colombia':'Colombia',\n",
    "               'ecuador ':'Ecuador',\n",
    "               'Espanha':'España','Euskal Herria':'España'}\n",
    "              \n",
    "\n",
    "basic_info.pais_residencia.replace(replace_map2, inplace=True)\n",
    "\n",
    "basic_info.pais_residencia.value_counts()\n",
    "\n",
    "#### mail\n",
    "\n",
    "contactos = basic_info[['Id','mail']]\n",
    "\n",
    "contactos = contactos.dropna()\n",
    "\n",
    "contactos.info()\n",
    "\n",
    "### d) Drop duplicates\n",
    "\n",
    "basic_info.duplicated().sum()\n",
    "\n",
    "##  Feature engineering \n",
    "\n",
    "\n",
    "basic_info.info()\n",
    "\n",
    "\n",
    "\n",
    "### b) Feature selection\n",
    "\n",
    "\n",
    "basic_info_clean = basic_info[['Id','hora_rta','edad','pais_origen','pais_residencia']]\n",
    "\n",
    "basic_info_clean.head()\n",
    "\n",
    "### a) Save the data clean\n",
    "\n",
    "\n",
    "#contactos.to_csv('contactos.csv')\n",
    "\n",
    "#basic_info_clean.to_csv('basic_info.csv')"
   ]
  },
  {
   "cell_type": "markdown",
   "id": "enhanced-friend",
   "metadata": {},
   "source": [
    "# selfsteem"
   ]
  },
  {
   "cell_type": "markdown",
   "id": "young-peter",
   "metadata": {},
   "source": [
    "## EDA and Data Cleaning\n"
   ]
  },
  {
   "cell_type": "code",
   "execution_count": 92,
   "id": "satisfactory-vienna",
   "metadata": {},
   "outputs": [
    {
     "data": {
      "text/plain": [
       "Index(['Considerando los últimos tres meses: ¿Qué tan de acuerdo estas con las siguientes afirmaciones? [Me siento una persona tan valiosa como las otras]',\n",
       "       'Considerando los últimos tres meses: ¿Qué tan de acuerdo estas con las siguientes afirmaciones? [Generalmente me inclino a pensar que soy un fracaso]',\n",
       "       'Considerando los últimos tres meses: ¿Qué tan de acuerdo estas con las siguientes afirmaciones? [Creo que tengo algunas cualidades buenas]',\n",
       "       'Considerando los últimos tres meses: ¿Qué tan de acuerdo estas con las siguientes afirmaciones? [Soy capaz de hacer las cosas tan bien como los demás]',\n",
       "       'Considerando los últimos tres meses: ¿Qué tan de acuerdo estas con las siguientes afirmaciones? [Creo que no tengo mucho de lo que estar orgullosa]',\n",
       "       'Considerando los últimos tres meses: ¿Qué tan de acuerdo estas con las siguientes afirmaciones? [Tengo una actitud positiva hacia mi misma]',\n",
       "       'Considerando los últimos tres meses: ¿Qué tan de acuerdo estas con las siguientes afirmaciones? [En general me siento satisfecha conmigo misma]',\n",
       "       'Considerando los últimos tres meses: ¿Qué tan de acuerdo estas con las siguientes afirmaciones? [Me gustaría tener más respeto por mi misma]',\n",
       "       'Considerando los últimos tres meses: ¿Qué tan de acuerdo estas con las siguientes afirmaciones? [Realmente me siento inútil en algunas situaciones]',\n",
       "       'Considerando los últimos tres meses: ¿Qué tan de acuerdo estas con las siguientes afirmaciones? [A veces pienso que no sirvo para nada]'],\n",
       "      dtype='object')"
      ]
     },
     "execution_count": 92,
     "metadata": {},
     "output_type": "execute_result"
    }
   ],
   "source": [
    "selfsteem.columns\n"
   ]
  },
  {
   "cell_type": "code",
   "execution_count": 93,
   "id": "deluxe-italic",
   "metadata": {},
   "outputs": [],
   "source": [
    "selfsteem.rename(columns={\n",
    "                           'Considerando los últimos tres meses: ¿Qué tan de acuerdo estas con las siguientes afirmaciones? [Me siento una persona tan valiosa como las otras]': '1',\n",
    "                            'Considerando los últimos tres meses: ¿Qué tan de acuerdo estas con las siguientes afirmaciones? [Generalmente me inclino a pensar que soy un fracaso]':'2',\n",
    "                            'Considerando los últimos tres meses: ¿Qué tan de acuerdo estas con las siguientes afirmaciones? [Creo que tengo algunas cualidades buenas]':'3',\n",
    "                            'Considerando los últimos tres meses: ¿Qué tan de acuerdo estas con las siguientes afirmaciones? [Soy capaz de hacer las cosas tan bien como los demás]':'4',\n",
    "                             'Considerando los últimos tres meses: ¿Qué tan de acuerdo estas con las siguientes afirmaciones? [Creo que no tengo mucho de lo que estar orgullosa]':'5',\n",
    "                            'Considerando los últimos tres meses: ¿Qué tan de acuerdo estas con las siguientes afirmaciones? [Tengo una actitud positiva hacia mi misma]':'6',\n",
    "                            'Considerando los últimos tres meses: ¿Qué tan de acuerdo estas con las siguientes afirmaciones? [En general me siento satisfecha conmigo misma]':'7',\n",
    "                             'Considerando los últimos tres meses: ¿Qué tan de acuerdo estas con las siguientes afirmaciones? [Me gustaría tener más respeto por mi misma]' :'8',\n",
    "                             'Considerando los últimos tres meses: ¿Qué tan de acuerdo estas con las siguientes afirmaciones? [Realmente me siento inútil en algunas situaciones]' :'9',\n",
    "                             'Considerando los últimos tres meses: ¿Qué tan de acuerdo estas con las siguientes afirmaciones? [A veces pienso que no sirvo para nada]' :'10'\n",
    "                            \n",
    "                           }, inplace=True)"
   ]
  },
  {
   "cell_type": "code",
   "execution_count": 94,
   "id": "elegant-facial",
   "metadata": {},
   "outputs": [
    {
     "name": "stdout",
     "output_type": "stream",
     "text": [
      "<class 'pandas.core.frame.DataFrame'>\n",
      "RangeIndex: 434 entries, 0 to 433\n",
      "Data columns (total 10 columns):\n",
      " #   Column  Non-Null Count  Dtype \n",
      "---  ------  --------------  ----- \n",
      " 0   1       429 non-null    object\n",
      " 1   2       430 non-null    object\n",
      " 2   3       427 non-null    object\n",
      " 3   4       429 non-null    object\n",
      " 4   5       428 non-null    object\n",
      " 5   6       427 non-null    object\n",
      " 6   7       430 non-null    object\n",
      " 7   8       430 non-null    object\n",
      " 8   9       430 non-null    object\n",
      " 9   10      430 non-null    object\n",
      "dtypes: object(10)\n",
      "memory usage: 34.0+ KB\n"
     ]
    }
   ],
   "source": [
    "selfsteem.info()"
   ]
  },
  {
   "cell_type": "code",
   "execution_count": 95,
   "id": "distant-bidder",
   "metadata": {},
   "outputs": [],
   "source": [
    "selfsteem=selfsteem.dropna()"
   ]
  },
  {
   "cell_type": "code",
   "execution_count": 96,
   "id": "secret-nation",
   "metadata": {},
   "outputs": [
    {
     "name": "stdout",
     "output_type": "stream",
     "text": [
      "<class 'pandas.core.frame.DataFrame'>\n",
      "Int64Index: 421 entries, 0 to 433\n",
      "Data columns (total 10 columns):\n",
      " #   Column  Non-Null Count  Dtype \n",
      "---  ------  --------------  ----- \n",
      " 0   1       421 non-null    object\n",
      " 1   2       421 non-null    object\n",
      " 2   3       421 non-null    object\n",
      " 3   4       421 non-null    object\n",
      " 4   5       421 non-null    object\n",
      " 5   6       421 non-null    object\n",
      " 6   7       421 non-null    object\n",
      " 7   8       421 non-null    object\n",
      " 8   9       421 non-null    object\n",
      " 9   10      421 non-null    object\n",
      "dtypes: object(10)\n",
      "memory usage: 36.2+ KB\n"
     ]
    }
   ],
   "source": [
    "selfsteem.info()"
   ]
  },
  {
   "cell_type": "markdown",
   "id": "designing-flush",
   "metadata": {},
   "source": [
    "### a) Check missing values:"
   ]
  },
  {
   "cell_type": "code",
   "execution_count": 97,
   "id": "impaired-vampire",
   "metadata": {},
   "outputs": [
    {
     "name": "stdout",
     "output_type": "stream",
     "text": [
      "<class 'pandas.core.frame.DataFrame'>\n",
      "Int64Index: 421 entries, 0 to 433\n",
      "Data columns (total 10 columns):\n",
      " #   Column  Non-Null Count  Dtype \n",
      "---  ------  --------------  ----- \n",
      " 0   1       421 non-null    object\n",
      " 1   2       421 non-null    object\n",
      " 2   3       421 non-null    object\n",
      " 3   4       421 non-null    object\n",
      " 4   5       421 non-null    object\n",
      " 5   6       421 non-null    object\n",
      " 6   7       421 non-null    object\n",
      " 7   8       421 non-null    object\n",
      " 8   9       421 non-null    object\n",
      " 9   10      421 non-null    object\n",
      "dtypes: object(10)\n",
      "memory usage: 36.2+ KB\n"
     ]
    }
   ],
   "source": [
    "selfsteem.info()"
   ]
  },
  {
   "cell_type": "markdown",
   "id": "level-serum",
   "metadata": {},
   "source": [
    "### b) Dealing with categorical variables\n"
   ]
  },
  {
   "cell_type": "code",
   "execution_count": 98,
   "id": "accessory-forest",
   "metadata": {
    "scrolled": false
   },
   "outputs": [
    {
     "data": {
      "text/plain": [
       "De acuerdo           191\n",
       "Muy de acuerdo       108\n",
       "En desacuerdo         95\n",
       "Muy en desacuerdo     27\n",
       "Name: 1, dtype: int64"
      ]
     },
     "execution_count": 98,
     "metadata": {},
     "output_type": "execute_result"
    }
   ],
   "source": [
    "selfsteem['1'].value_counts()"
   ]
  },
  {
   "cell_type": "code",
   "execution_count": 99,
   "id": "removable-clarity",
   "metadata": {},
   "outputs": [],
   "source": [
    "replace_map_positive = {'Muy en desacuerdo':1,\n",
    "               'En desacuerdo':2,\n",
    "              'De acuerdo':3,\n",
    "              'Muy de acuerdo':4}"
   ]
  },
  {
   "cell_type": "code",
   "execution_count": 100,
   "id": "documented-questionnaire",
   "metadata": {},
   "outputs": [],
   "source": [
    "replace_map_negative = {'Muy en desacuerdo':4,\n",
    "               'En desacuerdo':3,\n",
    "              'De acuerdo':2,\n",
    "              'Muy de acuerdo':1}"
   ]
  },
  {
   "cell_type": "code",
   "execution_count": 101,
   "id": "higher-greensboro",
   "metadata": {},
   "outputs": [],
   "source": [
    "selfsteem['1'].replace(replace_map_positive, inplace=True)\n",
    "selfsteem['3'].replace(replace_map_positive, inplace=True)\n",
    "selfsteem['4'].replace(replace_map_positive, inplace=True)\n",
    "selfsteem['6'].replace(replace_map_positive, inplace=True)\n",
    "selfsteem['7'].replace(replace_map_positive, inplace=True)\n"
   ]
  },
  {
   "cell_type": "code",
   "execution_count": 102,
   "id": "figured-protocol",
   "metadata": {},
   "outputs": [],
   "source": [
    "selfsteem['2'].replace(replace_map_negative, inplace=True)\n",
    "selfsteem['5'].replace(replace_map_negative, inplace=True)\n",
    "selfsteem['8'].replace(replace_map_negative, inplace=True)\n",
    "selfsteem['9'].replace(replace_map_negative, inplace=True)\n",
    "selfsteem['10'].replace(replace_map_negative, inplace=True)"
   ]
  },
  {
   "cell_type": "code",
   "execution_count": 103,
   "id": "different-meditation",
   "metadata": {},
   "outputs": [
    {
     "name": "stdout",
     "output_type": "stream",
     "text": [
      "<class 'pandas.core.frame.DataFrame'>\n",
      "Int64Index: 421 entries, 0 to 433\n",
      "Data columns (total 10 columns):\n",
      " #   Column  Non-Null Count  Dtype\n",
      "---  ------  --------------  -----\n",
      " 0   1       421 non-null    int64\n",
      " 1   2       421 non-null    int64\n",
      " 2   3       421 non-null    int64\n",
      " 3   4       421 non-null    int64\n",
      " 4   5       421 non-null    int64\n",
      " 5   6       421 non-null    int64\n",
      " 6   7       421 non-null    int64\n",
      " 7   8       421 non-null    int64\n",
      " 8   9       421 non-null    int64\n",
      " 9   10      421 non-null    int64\n",
      "dtypes: int64(10)\n",
      "memory usage: 36.2 KB\n"
     ]
    }
   ],
   "source": [
    "selfsteem.info()"
   ]
  },
  {
   "cell_type": "code",
   "execution_count": 104,
   "id": "prostate-marks",
   "metadata": {},
   "outputs": [],
   "source": [
    "selfsteem['total'] = selfsteem.sum(axis=1)"
   ]
  },
  {
   "cell_type": "code",
   "execution_count": 105,
   "id": "reasonable-editor",
   "metadata": {},
   "outputs": [
    {
     "data": {
      "text/html": [
       "<div>\n",
       "<style scoped>\n",
       "    .dataframe tbody tr th:only-of-type {\n",
       "        vertical-align: middle;\n",
       "    }\n",
       "\n",
       "    .dataframe tbody tr th {\n",
       "        vertical-align: top;\n",
       "    }\n",
       "\n",
       "    .dataframe thead th {\n",
       "        text-align: right;\n",
       "    }\n",
       "</style>\n",
       "<table border=\"1\" class=\"dataframe\">\n",
       "  <thead>\n",
       "    <tr style=\"text-align: right;\">\n",
       "      <th></th>\n",
       "      <th>1</th>\n",
       "      <th>2</th>\n",
       "      <th>3</th>\n",
       "      <th>4</th>\n",
       "      <th>5</th>\n",
       "      <th>6</th>\n",
       "      <th>7</th>\n",
       "      <th>8</th>\n",
       "      <th>9</th>\n",
       "      <th>10</th>\n",
       "      <th>total</th>\n",
       "    </tr>\n",
       "  </thead>\n",
       "  <tbody>\n",
       "    <tr>\n",
       "      <th>0</th>\n",
       "      <td>3</td>\n",
       "      <td>3</td>\n",
       "      <td>4</td>\n",
       "      <td>4</td>\n",
       "      <td>3</td>\n",
       "      <td>3</td>\n",
       "      <td>4</td>\n",
       "      <td>1</td>\n",
       "      <td>2</td>\n",
       "      <td>3</td>\n",
       "      <td>30</td>\n",
       "    </tr>\n",
       "    <tr>\n",
       "      <th>1</th>\n",
       "      <td>1</td>\n",
       "      <td>4</td>\n",
       "      <td>1</td>\n",
       "      <td>1</td>\n",
       "      <td>4</td>\n",
       "      <td>1</td>\n",
       "      <td>1</td>\n",
       "      <td>4</td>\n",
       "      <td>4</td>\n",
       "      <td>4</td>\n",
       "      <td>25</td>\n",
       "    </tr>\n",
       "    <tr>\n",
       "      <th>2</th>\n",
       "      <td>3</td>\n",
       "      <td>3</td>\n",
       "      <td>4</td>\n",
       "      <td>4</td>\n",
       "      <td>3</td>\n",
       "      <td>3</td>\n",
       "      <td>4</td>\n",
       "      <td>1</td>\n",
       "      <td>2</td>\n",
       "      <td>3</td>\n",
       "      <td>30</td>\n",
       "    </tr>\n",
       "    <tr>\n",
       "      <th>3</th>\n",
       "      <td>1</td>\n",
       "      <td>1</td>\n",
       "      <td>3</td>\n",
       "      <td>2</td>\n",
       "      <td>2</td>\n",
       "      <td>2</td>\n",
       "      <td>1</td>\n",
       "      <td>1</td>\n",
       "      <td>4</td>\n",
       "      <td>2</td>\n",
       "      <td>19</td>\n",
       "    </tr>\n",
       "    <tr>\n",
       "      <th>4</th>\n",
       "      <td>2</td>\n",
       "      <td>3</td>\n",
       "      <td>1</td>\n",
       "      <td>1</td>\n",
       "      <td>3</td>\n",
       "      <td>2</td>\n",
       "      <td>2</td>\n",
       "      <td>3</td>\n",
       "      <td>3</td>\n",
       "      <td>3</td>\n",
       "      <td>23</td>\n",
       "    </tr>\n",
       "    <tr>\n",
       "      <th>...</th>\n",
       "      <td>...</td>\n",
       "      <td>...</td>\n",
       "      <td>...</td>\n",
       "      <td>...</td>\n",
       "      <td>...</td>\n",
       "      <td>...</td>\n",
       "      <td>...</td>\n",
       "      <td>...</td>\n",
       "      <td>...</td>\n",
       "      <td>...</td>\n",
       "      <td>...</td>\n",
       "    </tr>\n",
       "    <tr>\n",
       "      <th>429</th>\n",
       "      <td>2</td>\n",
       "      <td>2</td>\n",
       "      <td>4</td>\n",
       "      <td>2</td>\n",
       "      <td>2</td>\n",
       "      <td>2</td>\n",
       "      <td>3</td>\n",
       "      <td>1</td>\n",
       "      <td>2</td>\n",
       "      <td>1</td>\n",
       "      <td>21</td>\n",
       "    </tr>\n",
       "    <tr>\n",
       "      <th>430</th>\n",
       "      <td>3</td>\n",
       "      <td>3</td>\n",
       "      <td>3</td>\n",
       "      <td>3</td>\n",
       "      <td>3</td>\n",
       "      <td>1</td>\n",
       "      <td>2</td>\n",
       "      <td>1</td>\n",
       "      <td>2</td>\n",
       "      <td>3</td>\n",
       "      <td>24</td>\n",
       "    </tr>\n",
       "    <tr>\n",
       "      <th>431</th>\n",
       "      <td>2</td>\n",
       "      <td>2</td>\n",
       "      <td>3</td>\n",
       "      <td>3</td>\n",
       "      <td>2</td>\n",
       "      <td>2</td>\n",
       "      <td>2</td>\n",
       "      <td>1</td>\n",
       "      <td>2</td>\n",
       "      <td>2</td>\n",
       "      <td>21</td>\n",
       "    </tr>\n",
       "    <tr>\n",
       "      <th>432</th>\n",
       "      <td>3</td>\n",
       "      <td>2</td>\n",
       "      <td>3</td>\n",
       "      <td>2</td>\n",
       "      <td>2</td>\n",
       "      <td>2</td>\n",
       "      <td>2</td>\n",
       "      <td>2</td>\n",
       "      <td>2</td>\n",
       "      <td>3</td>\n",
       "      <td>23</td>\n",
       "    </tr>\n",
       "    <tr>\n",
       "      <th>433</th>\n",
       "      <td>4</td>\n",
       "      <td>4</td>\n",
       "      <td>4</td>\n",
       "      <td>3</td>\n",
       "      <td>4</td>\n",
       "      <td>4</td>\n",
       "      <td>4</td>\n",
       "      <td>1</td>\n",
       "      <td>1</td>\n",
       "      <td>3</td>\n",
       "      <td>32</td>\n",
       "    </tr>\n",
       "  </tbody>\n",
       "</table>\n",
       "<p>421 rows × 11 columns</p>\n",
       "</div>"
      ],
      "text/plain": [
       "     1  2  3  4  5  6  7  8  9  10  total\n",
       "0    3  3  4  4  3  3  4  1  2   3     30\n",
       "1    1  4  1  1  4  1  1  4  4   4     25\n",
       "2    3  3  4  4  3  3  4  1  2   3     30\n",
       "3    1  1  3  2  2  2  1  1  4   2     19\n",
       "4    2  3  1  1  3  2  2  3  3   3     23\n",
       "..  .. .. .. .. .. .. .. .. ..  ..    ...\n",
       "429  2  2  4  2  2  2  3  1  2   1     21\n",
       "430  3  3  3  3  3  1  2  1  2   3     24\n",
       "431  2  2  3  3  2  2  2  1  2   2     21\n",
       "432  3  2  3  2  2  2  2  2  2   3     23\n",
       "433  4  4  4  3  4  4  4  1  1   3     32\n",
       "\n",
       "[421 rows x 11 columns]"
      ]
     },
     "execution_count": 105,
     "metadata": {},
     "output_type": "execute_result"
    }
   ],
   "source": [
    "selfsteem"
   ]
  },
  {
   "cell_type": "code",
   "execution_count": 106,
   "id": "respected-story",
   "metadata": {},
   "outputs": [],
   "source": [
    "\n",
    "selfsteem= selfsteem.reset_index()\n",
    "selfsteem=selfsteem.rename(columns={'index': 'Id'})"
   ]
  },
  {
   "cell_type": "code",
   "execution_count": 107,
   "id": "external-arabic",
   "metadata": {},
   "outputs": [
    {
     "data": {
      "text/html": [
       "<div>\n",
       "<style scoped>\n",
       "    .dataframe tbody tr th:only-of-type {\n",
       "        vertical-align: middle;\n",
       "    }\n",
       "\n",
       "    .dataframe tbody tr th {\n",
       "        vertical-align: top;\n",
       "    }\n",
       "\n",
       "    .dataframe thead th {\n",
       "        text-align: right;\n",
       "    }\n",
       "</style>\n",
       "<table border=\"1\" class=\"dataframe\">\n",
       "  <thead>\n",
       "    <tr style=\"text-align: right;\">\n",
       "      <th></th>\n",
       "      <th>Id</th>\n",
       "      <th>1</th>\n",
       "      <th>2</th>\n",
       "      <th>3</th>\n",
       "      <th>4</th>\n",
       "      <th>5</th>\n",
       "      <th>6</th>\n",
       "      <th>7</th>\n",
       "      <th>8</th>\n",
       "      <th>9</th>\n",
       "      <th>10</th>\n",
       "      <th>total</th>\n",
       "    </tr>\n",
       "  </thead>\n",
       "  <tbody>\n",
       "    <tr>\n",
       "      <th>0</th>\n",
       "      <td>0</td>\n",
       "      <td>3</td>\n",
       "      <td>3</td>\n",
       "      <td>4</td>\n",
       "      <td>4</td>\n",
       "      <td>3</td>\n",
       "      <td>3</td>\n",
       "      <td>4</td>\n",
       "      <td>1</td>\n",
       "      <td>2</td>\n",
       "      <td>3</td>\n",
       "      <td>30</td>\n",
       "    </tr>\n",
       "    <tr>\n",
       "      <th>1</th>\n",
       "      <td>1</td>\n",
       "      <td>1</td>\n",
       "      <td>4</td>\n",
       "      <td>1</td>\n",
       "      <td>1</td>\n",
       "      <td>4</td>\n",
       "      <td>1</td>\n",
       "      <td>1</td>\n",
       "      <td>4</td>\n",
       "      <td>4</td>\n",
       "      <td>4</td>\n",
       "      <td>25</td>\n",
       "    </tr>\n",
       "    <tr>\n",
       "      <th>2</th>\n",
       "      <td>2</td>\n",
       "      <td>3</td>\n",
       "      <td>3</td>\n",
       "      <td>4</td>\n",
       "      <td>4</td>\n",
       "      <td>3</td>\n",
       "      <td>3</td>\n",
       "      <td>4</td>\n",
       "      <td>1</td>\n",
       "      <td>2</td>\n",
       "      <td>3</td>\n",
       "      <td>30</td>\n",
       "    </tr>\n",
       "    <tr>\n",
       "      <th>3</th>\n",
       "      <td>3</td>\n",
       "      <td>1</td>\n",
       "      <td>1</td>\n",
       "      <td>3</td>\n",
       "      <td>2</td>\n",
       "      <td>2</td>\n",
       "      <td>2</td>\n",
       "      <td>1</td>\n",
       "      <td>1</td>\n",
       "      <td>4</td>\n",
       "      <td>2</td>\n",
       "      <td>19</td>\n",
       "    </tr>\n",
       "    <tr>\n",
       "      <th>4</th>\n",
       "      <td>4</td>\n",
       "      <td>2</td>\n",
       "      <td>3</td>\n",
       "      <td>1</td>\n",
       "      <td>1</td>\n",
       "      <td>3</td>\n",
       "      <td>2</td>\n",
       "      <td>2</td>\n",
       "      <td>3</td>\n",
       "      <td>3</td>\n",
       "      <td>3</td>\n",
       "      <td>23</td>\n",
       "    </tr>\n",
       "    <tr>\n",
       "      <th>5</th>\n",
       "      <td>5</td>\n",
       "      <td>3</td>\n",
       "      <td>3</td>\n",
       "      <td>4</td>\n",
       "      <td>4</td>\n",
       "      <td>3</td>\n",
       "      <td>4</td>\n",
       "      <td>3</td>\n",
       "      <td>1</td>\n",
       "      <td>4</td>\n",
       "      <td>4</td>\n",
       "      <td>33</td>\n",
       "    </tr>\n",
       "    <tr>\n",
       "      <th>6</th>\n",
       "      <td>6</td>\n",
       "      <td>3</td>\n",
       "      <td>3</td>\n",
       "      <td>3</td>\n",
       "      <td>3</td>\n",
       "      <td>3</td>\n",
       "      <td>3</td>\n",
       "      <td>3</td>\n",
       "      <td>2</td>\n",
       "      <td>2</td>\n",
       "      <td>3</td>\n",
       "      <td>28</td>\n",
       "    </tr>\n",
       "    <tr>\n",
       "      <th>7</th>\n",
       "      <td>7</td>\n",
       "      <td>4</td>\n",
       "      <td>2</td>\n",
       "      <td>4</td>\n",
       "      <td>4</td>\n",
       "      <td>2</td>\n",
       "      <td>2</td>\n",
       "      <td>1</td>\n",
       "      <td>1</td>\n",
       "      <td>2</td>\n",
       "      <td>2</td>\n",
       "      <td>24</td>\n",
       "    </tr>\n",
       "    <tr>\n",
       "      <th>8</th>\n",
       "      <td>8</td>\n",
       "      <td>4</td>\n",
       "      <td>2</td>\n",
       "      <td>2</td>\n",
       "      <td>4</td>\n",
       "      <td>3</td>\n",
       "      <td>3</td>\n",
       "      <td>3</td>\n",
       "      <td>2</td>\n",
       "      <td>2</td>\n",
       "      <td>2</td>\n",
       "      <td>27</td>\n",
       "    </tr>\n",
       "    <tr>\n",
       "      <th>9</th>\n",
       "      <td>9</td>\n",
       "      <td>4</td>\n",
       "      <td>3</td>\n",
       "      <td>3</td>\n",
       "      <td>2</td>\n",
       "      <td>2</td>\n",
       "      <td>2</td>\n",
       "      <td>3</td>\n",
       "      <td>1</td>\n",
       "      <td>2</td>\n",
       "      <td>3</td>\n",
       "      <td>25</td>\n",
       "    </tr>\n",
       "    <tr>\n",
       "      <th>10</th>\n",
       "      <td>10</td>\n",
       "      <td>4</td>\n",
       "      <td>4</td>\n",
       "      <td>4</td>\n",
       "      <td>4</td>\n",
       "      <td>4</td>\n",
       "      <td>3</td>\n",
       "      <td>4</td>\n",
       "      <td>4</td>\n",
       "      <td>3</td>\n",
       "      <td>4</td>\n",
       "      <td>38</td>\n",
       "    </tr>\n",
       "    <tr>\n",
       "      <th>11</th>\n",
       "      <td>11</td>\n",
       "      <td>2</td>\n",
       "      <td>3</td>\n",
       "      <td>3</td>\n",
       "      <td>3</td>\n",
       "      <td>3</td>\n",
       "      <td>2</td>\n",
       "      <td>2</td>\n",
       "      <td>2</td>\n",
       "      <td>2</td>\n",
       "      <td>2</td>\n",
       "      <td>24</td>\n",
       "    </tr>\n",
       "    <tr>\n",
       "      <th>12</th>\n",
       "      <td>12</td>\n",
       "      <td>3</td>\n",
       "      <td>3</td>\n",
       "      <td>3</td>\n",
       "      <td>2</td>\n",
       "      <td>3</td>\n",
       "      <td>2</td>\n",
       "      <td>3</td>\n",
       "      <td>2</td>\n",
       "      <td>2</td>\n",
       "      <td>2</td>\n",
       "      <td>25</td>\n",
       "    </tr>\n",
       "    <tr>\n",
       "      <th>13</th>\n",
       "      <td>13</td>\n",
       "      <td>4</td>\n",
       "      <td>3</td>\n",
       "      <td>4</td>\n",
       "      <td>3</td>\n",
       "      <td>4</td>\n",
       "      <td>3</td>\n",
       "      <td>4</td>\n",
       "      <td>3</td>\n",
       "      <td>2</td>\n",
       "      <td>3</td>\n",
       "      <td>33</td>\n",
       "    </tr>\n",
       "    <tr>\n",
       "      <th>14</th>\n",
       "      <td>14</td>\n",
       "      <td>3</td>\n",
       "      <td>4</td>\n",
       "      <td>3</td>\n",
       "      <td>3</td>\n",
       "      <td>2</td>\n",
       "      <td>3</td>\n",
       "      <td>3</td>\n",
       "      <td>4</td>\n",
       "      <td>4</td>\n",
       "      <td>4</td>\n",
       "      <td>33</td>\n",
       "    </tr>\n",
       "  </tbody>\n",
       "</table>\n",
       "</div>"
      ],
      "text/plain": [
       "    Id  1  2  3  4  5  6  7  8  9  10  total\n",
       "0    0  3  3  4  4  3  3  4  1  2   3     30\n",
       "1    1  1  4  1  1  4  1  1  4  4   4     25\n",
       "2    2  3  3  4  4  3  3  4  1  2   3     30\n",
       "3    3  1  1  3  2  2  2  1  1  4   2     19\n",
       "4    4  2  3  1  1  3  2  2  3  3   3     23\n",
       "5    5  3  3  4  4  3  4  3  1  4   4     33\n",
       "6    6  3  3  3  3  3  3  3  2  2   3     28\n",
       "7    7  4  2  4  4  2  2  1  1  2   2     24\n",
       "8    8  4  2  2  4  3  3  3  2  2   2     27\n",
       "9    9  4  3  3  2  2  2  3  1  2   3     25\n",
       "10  10  4  4  4  4  4  3  4  4  3   4     38\n",
       "11  11  2  3  3  3  3  2  2  2  2   2     24\n",
       "12  12  3  3  3  2  3  2  3  2  2   2     25\n",
       "13  13  4  3  4  3  4  3  4  3  2   3     33\n",
       "14  14  3  4  3  3  2  3  3  4  4   4     33"
      ]
     },
     "execution_count": 107,
     "metadata": {},
     "output_type": "execute_result"
    }
   ],
   "source": [
    "selfsteem.head(15)"
   ]
  },
  {
   "cell_type": "markdown",
   "id": "aquatic-review",
   "metadata": {},
   "source": [
    " - menos de 25 (inclusive) autoestima baja\n",
    " - entre 26 y 29 autoestima media\n",
    " - mas de 30 (inclusive) autoestima alta"
   ]
  },
  {
   "cell_type": "code",
   "execution_count": 108,
   "id": "southwest-birmingham",
   "metadata": {},
   "outputs": [],
   "source": [
    "low_selfsteem = selfsteem[selfsteem.total<=25]"
   ]
  },
  {
   "cell_type": "code",
   "execution_count": 109,
   "id": "domestic-maintenance",
   "metadata": {},
   "outputs": [
    {
     "data": {
      "text/plain": [
       "(208, 12)"
      ]
     },
     "execution_count": 109,
     "metadata": {},
     "output_type": "execute_result"
    }
   ],
   "source": [
    "low_selfsteem.shape"
   ]
  },
  {
   "cell_type": "code",
   "execution_count": 110,
   "id": "rocky-warrant",
   "metadata": {},
   "outputs": [],
   "source": [
    "med_selfsteem = selfsteem[(selfsteem.total>=26)&(selfsteem.total<=29)]"
   ]
  },
  {
   "cell_type": "code",
   "execution_count": 111,
   "id": "intelligent-folder",
   "metadata": {},
   "outputs": [
    {
     "data": {
      "text/plain": [
       "(98, 12)"
      ]
     },
     "execution_count": 111,
     "metadata": {},
     "output_type": "execute_result"
    }
   ],
   "source": [
    "med_selfsteem.shape"
   ]
  },
  {
   "cell_type": "code",
   "execution_count": 112,
   "id": "helpful-testament",
   "metadata": {},
   "outputs": [],
   "source": [
    "high_selfsteem = selfsteem[selfsteem.total>=30]"
   ]
  },
  {
   "cell_type": "code",
   "execution_count": 113,
   "id": "brave-processor",
   "metadata": {},
   "outputs": [
    {
     "data": {
      "text/plain": [
       "(115, 12)"
      ]
     },
     "execution_count": 113,
     "metadata": {},
     "output_type": "execute_result"
    }
   ],
   "source": [
    "high_selfsteem.shape"
   ]
  },
  {
   "cell_type": "markdown",
   "id": "upper-failure",
   "metadata": {},
   "source": [
    "### c) Adding the diagnose\n"
   ]
  },
  {
   "cell_type": "code",
   "execution_count": 114,
   "id": "interior-teacher",
   "metadata": {},
   "outputs": [],
   "source": [
    "selfsteem['tag_selfsteem']=0"
   ]
  },
  {
   "cell_type": "code",
   "execution_count": 115,
   "id": "thick-collectible",
   "metadata": {},
   "outputs": [],
   "source": [
    "selfsteem.loc[selfsteem.total >=30,'tag_selfsteem']=3"
   ]
  },
  {
   "cell_type": "code",
   "execution_count": 116,
   "id": "defined-sitting",
   "metadata": {},
   "outputs": [],
   "source": [
    "selfsteem.loc[selfsteem.total <=25,'tag_selfsteem']=1"
   ]
  },
  {
   "cell_type": "code",
   "execution_count": 117,
   "id": "congressional-attribute",
   "metadata": {},
   "outputs": [],
   "source": [
    "selfsteem.loc[(selfsteem.total>=26)&(selfsteem.total<=29),'tag_selfsteem']=2"
   ]
  },
  {
   "cell_type": "code",
   "execution_count": 118,
   "id": "early-arcade",
   "metadata": {},
   "outputs": [
    {
     "data": {
      "text/plain": [
       "1    208\n",
       "3    115\n",
       "2     98\n",
       "Name: tag_selfsteem, dtype: int64"
      ]
     },
     "execution_count": 118,
     "metadata": {},
     "output_type": "execute_result"
    }
   ],
   "source": [
    "selfsteem.tag_selfsteem.value_counts()"
   ]
  },
  {
   "cell_type": "markdown",
   "id": "given-outside",
   "metadata": {},
   "source": [
    "### d) Drop duplicates"
   ]
  },
  {
   "cell_type": "code",
   "execution_count": 119,
   "id": "focused-robertson",
   "metadata": {},
   "outputs": [
    {
     "data": {
      "text/plain": [
       "0"
      ]
     },
     "execution_count": 119,
     "metadata": {},
     "output_type": "execute_result"
    }
   ],
   "source": [
    "selfsteem.duplicated().sum()"
   ]
  },
  {
   "cell_type": "markdown",
   "id": "universal-karma",
   "metadata": {},
   "source": [
    "##  Feature engineering \n"
   ]
  },
  {
   "cell_type": "markdown",
   "id": "democratic-conditions",
   "metadata": {},
   "source": [
    "### a) Saving the data clean\n"
   ]
  },
  {
   "cell_type": "code",
   "execution_count": 488,
   "id": "mineral-librarian",
   "metadata": {},
   "outputs": [],
   "source": [
    "#selfsteem.to_csv('selfsteem.csv')"
   ]
  },
  {
   "cell_type": "markdown",
   "id": "continuous-botswana",
   "metadata": {},
   "source": [
    "### b) Feature selection\n"
   ]
  },
  {
   "cell_type": "code",
   "execution_count": null,
   "id": "favorite-maine",
   "metadata": {},
   "outputs": [],
   "source": []
  },
  {
   "cell_type": "markdown",
   "id": "hispanic-usage",
   "metadata": {},
   "source": [
    "# body_bsq"
   ]
  },
  {
   "cell_type": "markdown",
   "id": "preceding-catering",
   "metadata": {},
   "source": [
    "## EDA and Data Cleaning\n"
   ]
  },
  {
   "cell_type": "code",
   "execution_count": 163,
   "id": "pharmaceutical-gasoline",
   "metadata": {},
   "outputs": [
    {
     "data": {
      "text/html": [
       "<div>\n",
       "<style scoped>\n",
       "    .dataframe tbody tr th:only-of-type {\n",
       "        vertical-align: middle;\n",
       "    }\n",
       "\n",
       "    .dataframe tbody tr th {\n",
       "        vertical-align: top;\n",
       "    }\n",
       "\n",
       "    .dataframe thead th {\n",
       "        text-align: right;\n",
       "    }\n",
       "</style>\n",
       "<table border=\"1\" class=\"dataframe\">\n",
       "  <thead>\n",
       "    <tr style=\"text-align: right;\">\n",
       "      <th></th>\n",
       "      <th>Considerando los últimos tres meses:  [¿ Te ha preocupado que otra gente vea michelines/rollitos alrededor de tu cintura o estómago?]</th>\n",
       "      <th>Considerando los últimos tres meses:  [Verte reflejada/o en un espejo o en un escaparate, ¿te ha hecho sentirte mal por tu figura?]</th>\n",
       "      <th>Considerando los últimos tres meses:  [¿Te ha preocupado que tus muslos se ensanchen cuando te sientas ?]</th>\n",
       "      <th>Considerando los últimos tres meses:  [¿Te has sentido acomplejado/a por tu cuerpo?]</th>\n",
       "      <th>Considerando los últimos tres meses:  [¿Te has pellizcado zonas de tu cuerpo para ver cuánta grasa tenías?]</th>\n",
       "      <th>Considerando los últimos tres meses:  [¿ Has evitado llevar ropa que marque tu figura ?]</th>\n",
       "      <th>Considerando los últimos tres meses:  [¿Te ha preocupado que tu carne tenga aspecto de piel de naranja (celulitis)?]</th>\n",
       "    </tr>\n",
       "  </thead>\n",
       "  <tbody>\n",
       "    <tr>\n",
       "      <th>0</th>\n",
       "      <td>siempre</td>\n",
       "      <td>muy frecuentemente</td>\n",
       "      <td>muy frecuentemente</td>\n",
       "      <td>muy frecuentemente</td>\n",
       "      <td>muy frecuentemente</td>\n",
       "      <td>a veces</td>\n",
       "      <td>siempre</td>\n",
       "    </tr>\n",
       "    <tr>\n",
       "      <th>1</th>\n",
       "      <td>nunca</td>\n",
       "      <td>nunca</td>\n",
       "      <td>nunca</td>\n",
       "      <td>nunca</td>\n",
       "      <td>nunca</td>\n",
       "      <td>nunca</td>\n",
       "      <td>nunca</td>\n",
       "    </tr>\n",
       "    <tr>\n",
       "      <th>2</th>\n",
       "      <td>siempre</td>\n",
       "      <td>muy frecuentemente</td>\n",
       "      <td>muy frecuentemente</td>\n",
       "      <td>siempre</td>\n",
       "      <td>siempre</td>\n",
       "      <td>a veces</td>\n",
       "      <td>siempre</td>\n",
       "    </tr>\n",
       "    <tr>\n",
       "      <th>3</th>\n",
       "      <td>siempre</td>\n",
       "      <td>siempre</td>\n",
       "      <td>siempre</td>\n",
       "      <td>siempre</td>\n",
       "      <td>siempre</td>\n",
       "      <td>muy frecuentemente</td>\n",
       "      <td>siempre</td>\n",
       "    </tr>\n",
       "    <tr>\n",
       "      <th>4</th>\n",
       "      <td>nunca</td>\n",
       "      <td>con frecuencia</td>\n",
       "      <td>nunca</td>\n",
       "      <td>con frecuencia</td>\n",
       "      <td>nunca</td>\n",
       "      <td>rara vez o casi nunca</td>\n",
       "      <td>rara vez o casi nunca</td>\n",
       "    </tr>\n",
       "  </tbody>\n",
       "</table>\n",
       "</div>"
      ],
      "text/plain": [
       "  Considerando los últimos tres meses:  [¿ Te ha preocupado que otra gente vea michelines/rollitos alrededor de tu cintura o estómago?]  \\\n",
       "0                                            siempre                                                                                      \n",
       "1                                              nunca                                                                                      \n",
       "2                                            siempre                                                                                      \n",
       "3                                            siempre                                                                                      \n",
       "4                                              nunca                                                                                      \n",
       "\n",
       "  Considerando los últimos tres meses:  [Verte reflejada/o en un espejo o en un escaparate, ¿te ha hecho sentirte mal por tu figura?]  \\\n",
       "0                                 muy frecuentemente                                                                                    \n",
       "1                                              nunca                                                                                    \n",
       "2                                 muy frecuentemente                                                                                    \n",
       "3                                            siempre                                                                                    \n",
       "4                                     con frecuencia                                                                                    \n",
       "\n",
       "  Considerando los últimos tres meses:  [¿Te ha preocupado que tus muslos se ensanchen cuando te sientas ?]  \\\n",
       "0                                 muy frecuentemente                                                          \n",
       "1                                              nunca                                                          \n",
       "2                                 muy frecuentemente                                                          \n",
       "3                                            siempre                                                          \n",
       "4                                              nunca                                                          \n",
       "\n",
       "  Considerando los últimos tres meses:  [¿Te has sentido acomplejado/a por tu cuerpo?]  \\\n",
       "0                                 muy frecuentemente                                     \n",
       "1                                              nunca                                     \n",
       "2                                            siempre                                     \n",
       "3                                            siempre                                     \n",
       "4                                     con frecuencia                                     \n",
       "\n",
       "  Considerando los últimos tres meses:  [¿Te has pellizcado zonas de tu cuerpo para ver cuánta grasa tenías?]  \\\n",
       "0                                 muy frecuentemente                                                            \n",
       "1                                              nunca                                                            \n",
       "2                                            siempre                                                            \n",
       "3                                            siempre                                                            \n",
       "4                                              nunca                                                            \n",
       "\n",
       "  Considerando los últimos tres meses:  [¿ Has evitado llevar ropa que marque tu figura ?]  \\\n",
       "0                                            a veces                                         \n",
       "1                                              nunca                                         \n",
       "2                                            a veces                                         \n",
       "3                                 muy frecuentemente                                         \n",
       "4                              rara vez o casi nunca                                         \n",
       "\n",
       "  Considerando los últimos tres meses:  [¿Te ha preocupado que tu carne tenga aspecto de piel de naranja (celulitis)?]  \n",
       "0                                            siempre                                                                    \n",
       "1                                              nunca                                                                    \n",
       "2                                            siempre                                                                    \n",
       "3                                            siempre                                                                    \n",
       "4                              rara vez o casi nunca                                                                    "
      ]
     },
     "execution_count": 163,
     "metadata": {},
     "output_type": "execute_result"
    }
   ],
   "source": [
    "body_bsq.head()"
   ]
  },
  {
   "cell_type": "code",
   "execution_count": 164,
   "id": "medieval-midwest",
   "metadata": {},
   "outputs": [
    {
     "data": {
      "text/plain": [
       "Index(['Considerando los últimos tres meses:  [¿ Te ha preocupado que otra gente vea michelines/rollitos alrededor de tu cintura o estómago?]',\n",
       "       'Considerando los últimos tres meses:  [Verte reflejada/o en un espejo o en un escaparate, ¿te ha hecho sentirte mal por tu figura?]',\n",
       "       'Considerando los últimos tres meses:  [¿Te ha preocupado que tus muslos se ensanchen cuando te sientas ?]',\n",
       "       'Considerando los últimos tres meses:  [¿Te has sentido acomplejado/a por tu cuerpo?]',\n",
       "       'Considerando los últimos tres meses:  [¿Te has pellizcado zonas de tu cuerpo para ver cuánta grasa tenías?]',\n",
       "       'Considerando los últimos tres meses:  [¿ Has evitado llevar ropa que marque tu figura ?]',\n",
       "       'Considerando los últimos tres meses:  [¿Te ha preocupado que tu carne tenga aspecto de piel de naranja (celulitis)?]'],\n",
       "      dtype='object')"
      ]
     },
     "execution_count": 164,
     "metadata": {},
     "output_type": "execute_result"
    }
   ],
   "source": [
    "body_bsq.columns"
   ]
  },
  {
   "cell_type": "code",
   "execution_count": 165,
   "id": "composed-daisy",
   "metadata": {},
   "outputs": [],
   "source": [
    "body_bsq.rename(columns={\n",
    "    'Considerando los últimos tres meses:  [¿ Te ha preocupado que otra gente vea michelines/rollitos alrededor de tu cintura o estómago?]': '7',\n",
    "    'Considerando los últimos tres meses:  [Verte reflejada/o en un espejo o en un escaparate, ¿te ha hecho sentirte mal por tu figura?]':'6',\n",
    "    'Considerando los últimos tres meses:  [¿Te ha preocupado que tus muslos se ensanchen cuando te sientas ?]' :'5',\n",
    "    'Considerando los últimos tres meses:  [¿Te has sentido acomplejado/a por tu cuerpo?]':'4',\n",
    "    'Considerando los últimos tres meses:  [¿Te has pellizcado zonas de tu cuerpo para ver cuánta grasa tenías?]':'1',\n",
    "    'Considerando los últimos tres meses:  [¿ Has evitado llevar ropa que marque tu figura ?]':'2',\n",
    "    'Considerando los últimos tres meses:  [¿Te ha preocupado que tu carne tenga aspecto de piel de naranja (celulitis)?]':'3',\n",
    "     }, inplace=True)"
   ]
  },
  {
   "cell_type": "code",
   "execution_count": 166,
   "id": "recorded-seeker",
   "metadata": {},
   "outputs": [
    {
     "name": "stdout",
     "output_type": "stream",
     "text": [
      "<class 'pandas.core.frame.DataFrame'>\n",
      "RangeIndex: 434 entries, 0 to 433\n",
      "Data columns (total 7 columns):\n",
      " #   Column  Non-Null Count  Dtype \n",
      "---  ------  --------------  ----- \n",
      " 0   7       432 non-null    object\n",
      " 1   6       432 non-null    object\n",
      " 2   5       433 non-null    object\n",
      " 3   4       433 non-null    object\n",
      " 4   1       433 non-null    object\n",
      " 5   2       432 non-null    object\n",
      " 6   3       433 non-null    object\n",
      "dtypes: object(7)\n",
      "memory usage: 23.9+ KB\n"
     ]
    }
   ],
   "source": [
    "body_bsq.info()"
   ]
  },
  {
   "cell_type": "markdown",
   "id": "cosmetic-conflict",
   "metadata": {},
   "source": [
    "### a) Check missing values:"
   ]
  },
  {
   "cell_type": "code",
   "execution_count": 167,
   "id": "antique-instrument",
   "metadata": {},
   "outputs": [],
   "source": [
    "body_bsq=body_bsq.dropna()"
   ]
  },
  {
   "cell_type": "markdown",
   "id": "beneficial-replica",
   "metadata": {},
   "source": [
    "### b) Dealing with categorical variables\n"
   ]
  },
  {
   "cell_type": "markdown",
   "id": "static-reduction",
   "metadata": {},
   "source": [
    "nunca (1), rara vez o casi nunca (2), a veces (3), con frecuencia (4), muy\n",
    "frecuente (5) o siempre (6)"
   ]
  },
  {
   "cell_type": "code",
   "execution_count": 168,
   "id": "searching-donna",
   "metadata": {},
   "outputs": [
    {
     "data": {
      "text/plain": [
       "a veces                  95\n",
       "rara vez o casi nunca    82\n",
       "muy frecuentemente       77\n",
       "nunca                    67\n",
       "siempre                  58\n",
       "con frecuencia           51\n",
       "Name: 1, dtype: int64"
      ]
     },
     "execution_count": 168,
     "metadata": {},
     "output_type": "execute_result"
    }
   ],
   "source": [
    "body_bsq['1'].value_counts()"
   ]
  },
  {
   "cell_type": "code",
   "execution_count": 169,
   "id": "entertaining-kennedy",
   "metadata": {},
   "outputs": [],
   "source": [
    "replace_map_bsq = {'nunca':1,\n",
    "               'rara vez o casi nunca':2,\n",
    "               'a veces':3,\n",
    "               'con frecuencia':4,\n",
    "               'muy frecuentemente':5,\n",
    "               'siempre':6}"
   ]
  },
  {
   "cell_type": "code",
   "execution_count": 170,
   "id": "expensive-concentration",
   "metadata": {},
   "outputs": [],
   "source": [
    "body_bsq['1'].replace(replace_map_bsq, inplace=True)\n",
    "body_bsq['2'].replace(replace_map_bsq, inplace=True)\n",
    "body_bsq['3'].replace(replace_map_bsq, inplace=True)\n",
    "body_bsq['4'].replace(replace_map_bsq, inplace=True)\n",
    "body_bsq['5'].replace(replace_map_bsq, inplace=True)\n",
    "body_bsq['6'].replace(replace_map_bsq, inplace=True)\n",
    "body_bsq['7'].replace(replace_map_bsq, inplace=True)"
   ]
  },
  {
   "cell_type": "code",
   "execution_count": 171,
   "id": "collaborative-sucking",
   "metadata": {},
   "outputs": [
    {
     "data": {
      "text/html": [
       "<div>\n",
       "<style scoped>\n",
       "    .dataframe tbody tr th:only-of-type {\n",
       "        vertical-align: middle;\n",
       "    }\n",
       "\n",
       "    .dataframe tbody tr th {\n",
       "        vertical-align: top;\n",
       "    }\n",
       "\n",
       "    .dataframe thead th {\n",
       "        text-align: right;\n",
       "    }\n",
       "</style>\n",
       "<table border=\"1\" class=\"dataframe\">\n",
       "  <thead>\n",
       "    <tr style=\"text-align: right;\">\n",
       "      <th></th>\n",
       "      <th>7</th>\n",
       "      <th>6</th>\n",
       "      <th>5</th>\n",
       "      <th>4</th>\n",
       "      <th>1</th>\n",
       "      <th>2</th>\n",
       "      <th>3</th>\n",
       "    </tr>\n",
       "  </thead>\n",
       "  <tbody>\n",
       "    <tr>\n",
       "      <th>0</th>\n",
       "      <td>6</td>\n",
       "      <td>5</td>\n",
       "      <td>5</td>\n",
       "      <td>5</td>\n",
       "      <td>5</td>\n",
       "      <td>3</td>\n",
       "      <td>6</td>\n",
       "    </tr>\n",
       "    <tr>\n",
       "      <th>1</th>\n",
       "      <td>1</td>\n",
       "      <td>1</td>\n",
       "      <td>1</td>\n",
       "      <td>1</td>\n",
       "      <td>1</td>\n",
       "      <td>1</td>\n",
       "      <td>1</td>\n",
       "    </tr>\n",
       "    <tr>\n",
       "      <th>2</th>\n",
       "      <td>6</td>\n",
       "      <td>5</td>\n",
       "      <td>5</td>\n",
       "      <td>6</td>\n",
       "      <td>6</td>\n",
       "      <td>3</td>\n",
       "      <td>6</td>\n",
       "    </tr>\n",
       "    <tr>\n",
       "      <th>3</th>\n",
       "      <td>6</td>\n",
       "      <td>6</td>\n",
       "      <td>6</td>\n",
       "      <td>6</td>\n",
       "      <td>6</td>\n",
       "      <td>5</td>\n",
       "      <td>6</td>\n",
       "    </tr>\n",
       "    <tr>\n",
       "      <th>4</th>\n",
       "      <td>1</td>\n",
       "      <td>4</td>\n",
       "      <td>1</td>\n",
       "      <td>4</td>\n",
       "      <td>1</td>\n",
       "      <td>2</td>\n",
       "      <td>2</td>\n",
       "    </tr>\n",
       "    <tr>\n",
       "      <th>5</th>\n",
       "      <td>3</td>\n",
       "      <td>1</td>\n",
       "      <td>1</td>\n",
       "      <td>1</td>\n",
       "      <td>3</td>\n",
       "      <td>1</td>\n",
       "      <td>3</td>\n",
       "    </tr>\n",
       "    <tr>\n",
       "      <th>6</th>\n",
       "      <td>3</td>\n",
       "      <td>2</td>\n",
       "      <td>2</td>\n",
       "      <td>4</td>\n",
       "      <td>2</td>\n",
       "      <td>3</td>\n",
       "      <td>1</td>\n",
       "    </tr>\n",
       "    <tr>\n",
       "      <th>7</th>\n",
       "      <td>5</td>\n",
       "      <td>5</td>\n",
       "      <td>3</td>\n",
       "      <td>4</td>\n",
       "      <td>6</td>\n",
       "      <td>5</td>\n",
       "      <td>2</td>\n",
       "    </tr>\n",
       "    <tr>\n",
       "      <th>8</th>\n",
       "      <td>3</td>\n",
       "      <td>1</td>\n",
       "      <td>1</td>\n",
       "      <td>2</td>\n",
       "      <td>1</td>\n",
       "      <td>1</td>\n",
       "      <td>2</td>\n",
       "    </tr>\n",
       "    <tr>\n",
       "      <th>9</th>\n",
       "      <td>4</td>\n",
       "      <td>4</td>\n",
       "      <td>4</td>\n",
       "      <td>4</td>\n",
       "      <td>3</td>\n",
       "      <td>3</td>\n",
       "      <td>4</td>\n",
       "    </tr>\n",
       "  </tbody>\n",
       "</table>\n",
       "</div>"
      ],
      "text/plain": [
       "   7  6  5  4  1  2  3\n",
       "0  6  5  5  5  5  3  6\n",
       "1  1  1  1  1  1  1  1\n",
       "2  6  5  5  6  6  3  6\n",
       "3  6  6  6  6  6  5  6\n",
       "4  1  4  1  4  1  2  2\n",
       "5  3  1  1  1  3  1  3\n",
       "6  3  2  2  4  2  3  1\n",
       "7  5  5  3  4  6  5  2\n",
       "8  3  1  1  2  1  1  2\n",
       "9  4  4  4  4  3  3  4"
      ]
     },
     "execution_count": 171,
     "metadata": {},
     "output_type": "execute_result"
    }
   ],
   "source": [
    "body_bsq.head(10)"
   ]
  },
  {
   "cell_type": "code",
   "execution_count": 172,
   "id": "precise-shift",
   "metadata": {},
   "outputs": [],
   "source": [
    "body_bsq['total_bsq']=body_bsq.sum(axis=1)"
   ]
  },
  {
   "cell_type": "markdown",
   "id": "needed-brazilian",
   "metadata": {},
   "source": [
    "### c) Dealing with numerical variables\n"
   ]
  },
  {
   "cell_type": "code",
   "execution_count": 173,
   "id": "addressed-marking",
   "metadata": {},
   "outputs": [],
   "source": [
    "without_bsq = body_bsq[body_bsq.total_bsq<17]"
   ]
  },
  {
   "cell_type": "code",
   "execution_count": 174,
   "id": "acute-crest",
   "metadata": {},
   "outputs": [
    {
     "data": {
      "text/plain": [
       "(100, 8)"
      ]
     },
     "execution_count": 174,
     "metadata": {},
     "output_type": "execute_result"
    }
   ],
   "source": [
    "without_bsq.shape"
   ]
  },
  {
   "cell_type": "code",
   "execution_count": 175,
   "id": "cleared-ethics",
   "metadata": {},
   "outputs": [],
   "source": [
    "low_bsq = body_bsq[(body_bsq.total_bsq>=17)&(body_bsq.total_bsq<=22)]"
   ]
  },
  {
   "cell_type": "code",
   "execution_count": 176,
   "id": "interstate-offense",
   "metadata": {},
   "outputs": [
    {
     "data": {
      "text/plain": [
       "(100, 8)"
      ]
     },
     "execution_count": 176,
     "metadata": {},
     "output_type": "execute_result"
    }
   ],
   "source": [
    "low_bsq.shape"
   ]
  },
  {
   "cell_type": "code",
   "execution_count": 177,
   "id": "coastal-associate",
   "metadata": {},
   "outputs": [],
   "source": [
    "med_bsq = body_bsq[(body_bsq.total_bsq>=23)&(body_bsq.total_bsq<=29)]"
   ]
  },
  {
   "cell_type": "code",
   "execution_count": 178,
   "id": "committed-casting",
   "metadata": {},
   "outputs": [
    {
     "data": {
      "text/plain": [
       "(97, 8)"
      ]
     },
     "execution_count": 178,
     "metadata": {},
     "output_type": "execute_result"
    }
   ],
   "source": [
    "med_bsq.shape"
   ]
  },
  {
   "cell_type": "code",
   "execution_count": 179,
   "id": "unable-girlfriend",
   "metadata": {},
   "outputs": [],
   "source": [
    "high_bsq = body_bsq[body_bsq.total_bsq>=30]"
   ]
  },
  {
   "cell_type": "code",
   "execution_count": 180,
   "id": "creative-match",
   "metadata": {},
   "outputs": [
    {
     "data": {
      "text/plain": [
       "(133, 8)"
      ]
     },
     "execution_count": 180,
     "metadata": {},
     "output_type": "execute_result"
    }
   ],
   "source": [
    "high_bsq.shape"
   ]
  },
  {
   "cell_type": "code",
   "execution_count": 181,
   "id": "twelve-difference",
   "metadata": {},
   "outputs": [
    {
     "data": {
      "text/html": [
       "<div>\n",
       "<style scoped>\n",
       "    .dataframe tbody tr th:only-of-type {\n",
       "        vertical-align: middle;\n",
       "    }\n",
       "\n",
       "    .dataframe tbody tr th {\n",
       "        vertical-align: top;\n",
       "    }\n",
       "\n",
       "    .dataframe thead th {\n",
       "        text-align: right;\n",
       "    }\n",
       "</style>\n",
       "<table border=\"1\" class=\"dataframe\">\n",
       "  <thead>\n",
       "    <tr style=\"text-align: right;\">\n",
       "      <th></th>\n",
       "      <th>7</th>\n",
       "      <th>6</th>\n",
       "      <th>5</th>\n",
       "      <th>4</th>\n",
       "      <th>1</th>\n",
       "      <th>2</th>\n",
       "      <th>3</th>\n",
       "      <th>total_bsq</th>\n",
       "    </tr>\n",
       "  </thead>\n",
       "  <tbody>\n",
       "    <tr>\n",
       "      <th>0</th>\n",
       "      <td>6</td>\n",
       "      <td>5</td>\n",
       "      <td>5</td>\n",
       "      <td>5</td>\n",
       "      <td>5</td>\n",
       "      <td>3</td>\n",
       "      <td>6</td>\n",
       "      <td>35</td>\n",
       "    </tr>\n",
       "    <tr>\n",
       "      <th>1</th>\n",
       "      <td>1</td>\n",
       "      <td>1</td>\n",
       "      <td>1</td>\n",
       "      <td>1</td>\n",
       "      <td>1</td>\n",
       "      <td>1</td>\n",
       "      <td>1</td>\n",
       "      <td>7</td>\n",
       "    </tr>\n",
       "    <tr>\n",
       "      <th>2</th>\n",
       "      <td>6</td>\n",
       "      <td>5</td>\n",
       "      <td>5</td>\n",
       "      <td>6</td>\n",
       "      <td>6</td>\n",
       "      <td>3</td>\n",
       "      <td>6</td>\n",
       "      <td>37</td>\n",
       "    </tr>\n",
       "    <tr>\n",
       "      <th>3</th>\n",
       "      <td>6</td>\n",
       "      <td>6</td>\n",
       "      <td>6</td>\n",
       "      <td>6</td>\n",
       "      <td>6</td>\n",
       "      <td>5</td>\n",
       "      <td>6</td>\n",
       "      <td>41</td>\n",
       "    </tr>\n",
       "    <tr>\n",
       "      <th>4</th>\n",
       "      <td>1</td>\n",
       "      <td>4</td>\n",
       "      <td>1</td>\n",
       "      <td>4</td>\n",
       "      <td>1</td>\n",
       "      <td>2</td>\n",
       "      <td>2</td>\n",
       "      <td>15</td>\n",
       "    </tr>\n",
       "    <tr>\n",
       "      <th>5</th>\n",
       "      <td>3</td>\n",
       "      <td>1</td>\n",
       "      <td>1</td>\n",
       "      <td>1</td>\n",
       "      <td>3</td>\n",
       "      <td>1</td>\n",
       "      <td>3</td>\n",
       "      <td>13</td>\n",
       "    </tr>\n",
       "    <tr>\n",
       "      <th>6</th>\n",
       "      <td>3</td>\n",
       "      <td>2</td>\n",
       "      <td>2</td>\n",
       "      <td>4</td>\n",
       "      <td>2</td>\n",
       "      <td>3</td>\n",
       "      <td>1</td>\n",
       "      <td>17</td>\n",
       "    </tr>\n",
       "    <tr>\n",
       "      <th>7</th>\n",
       "      <td>5</td>\n",
       "      <td>5</td>\n",
       "      <td>3</td>\n",
       "      <td>4</td>\n",
       "      <td>6</td>\n",
       "      <td>5</td>\n",
       "      <td>2</td>\n",
       "      <td>30</td>\n",
       "    </tr>\n",
       "    <tr>\n",
       "      <th>8</th>\n",
       "      <td>3</td>\n",
       "      <td>1</td>\n",
       "      <td>1</td>\n",
       "      <td>2</td>\n",
       "      <td>1</td>\n",
       "      <td>1</td>\n",
       "      <td>2</td>\n",
       "      <td>11</td>\n",
       "    </tr>\n",
       "    <tr>\n",
       "      <th>9</th>\n",
       "      <td>4</td>\n",
       "      <td>4</td>\n",
       "      <td>4</td>\n",
       "      <td>4</td>\n",
       "      <td>3</td>\n",
       "      <td>3</td>\n",
       "      <td>4</td>\n",
       "      <td>26</td>\n",
       "    </tr>\n",
       "    <tr>\n",
       "      <th>10</th>\n",
       "      <td>6</td>\n",
       "      <td>3</td>\n",
       "      <td>3</td>\n",
       "      <td>6</td>\n",
       "      <td>5</td>\n",
       "      <td>3</td>\n",
       "      <td>4</td>\n",
       "      <td>30</td>\n",
       "    </tr>\n",
       "    <tr>\n",
       "      <th>11</th>\n",
       "      <td>5</td>\n",
       "      <td>5</td>\n",
       "      <td>1</td>\n",
       "      <td>6</td>\n",
       "      <td>6</td>\n",
       "      <td>6</td>\n",
       "      <td>3</td>\n",
       "      <td>32</td>\n",
       "    </tr>\n",
       "    <tr>\n",
       "      <th>12</th>\n",
       "      <td>5</td>\n",
       "      <td>3</td>\n",
       "      <td>2</td>\n",
       "      <td>4</td>\n",
       "      <td>5</td>\n",
       "      <td>5</td>\n",
       "      <td>2</td>\n",
       "      <td>26</td>\n",
       "    </tr>\n",
       "    <tr>\n",
       "      <th>13</th>\n",
       "      <td>2</td>\n",
       "      <td>1</td>\n",
       "      <td>1</td>\n",
       "      <td>2</td>\n",
       "      <td>1</td>\n",
       "      <td>1</td>\n",
       "      <td>1</td>\n",
       "      <td>9</td>\n",
       "    </tr>\n",
       "    <tr>\n",
       "      <th>14</th>\n",
       "      <td>1</td>\n",
       "      <td>1</td>\n",
       "      <td>1</td>\n",
       "      <td>1</td>\n",
       "      <td>1</td>\n",
       "      <td>1</td>\n",
       "      <td>2</td>\n",
       "      <td>8</td>\n",
       "    </tr>\n",
       "    <tr>\n",
       "      <th>15</th>\n",
       "      <td>5</td>\n",
       "      <td>6</td>\n",
       "      <td>6</td>\n",
       "      <td>5</td>\n",
       "      <td>5</td>\n",
       "      <td>5</td>\n",
       "      <td>6</td>\n",
       "      <td>38</td>\n",
       "    </tr>\n",
       "    <tr>\n",
       "      <th>16</th>\n",
       "      <td>1</td>\n",
       "      <td>1</td>\n",
       "      <td>1</td>\n",
       "      <td>2</td>\n",
       "      <td>1</td>\n",
       "      <td>2</td>\n",
       "      <td>2</td>\n",
       "      <td>10</td>\n",
       "    </tr>\n",
       "    <tr>\n",
       "      <th>17</th>\n",
       "      <td>6</td>\n",
       "      <td>6</td>\n",
       "      <td>5</td>\n",
       "      <td>5</td>\n",
       "      <td>5</td>\n",
       "      <td>1</td>\n",
       "      <td>1</td>\n",
       "      <td>29</td>\n",
       "    </tr>\n",
       "    <tr>\n",
       "      <th>18</th>\n",
       "      <td>5</td>\n",
       "      <td>3</td>\n",
       "      <td>3</td>\n",
       "      <td>5</td>\n",
       "      <td>2</td>\n",
       "      <td>5</td>\n",
       "      <td>4</td>\n",
       "      <td>27</td>\n",
       "    </tr>\n",
       "    <tr>\n",
       "      <th>19</th>\n",
       "      <td>6</td>\n",
       "      <td>6</td>\n",
       "      <td>6</td>\n",
       "      <td>6</td>\n",
       "      <td>6</td>\n",
       "      <td>6</td>\n",
       "      <td>6</td>\n",
       "      <td>42</td>\n",
       "    </tr>\n",
       "  </tbody>\n",
       "</table>\n",
       "</div>"
      ],
      "text/plain": [
       "    7  6  5  4  1  2  3  total_bsq\n",
       "0   6  5  5  5  5  3  6         35\n",
       "1   1  1  1  1  1  1  1          7\n",
       "2   6  5  5  6  6  3  6         37\n",
       "3   6  6  6  6  6  5  6         41\n",
       "4   1  4  1  4  1  2  2         15\n",
       "5   3  1  1  1  3  1  3         13\n",
       "6   3  2  2  4  2  3  1         17\n",
       "7   5  5  3  4  6  5  2         30\n",
       "8   3  1  1  2  1  1  2         11\n",
       "9   4  4  4  4  3  3  4         26\n",
       "10  6  3  3  6  5  3  4         30\n",
       "11  5  5  1  6  6  6  3         32\n",
       "12  5  3  2  4  5  5  2         26\n",
       "13  2  1  1  2  1  1  1          9\n",
       "14  1  1  1  1  1  1  2          8\n",
       "15  5  6  6  5  5  5  6         38\n",
       "16  1  1  1  2  1  2  2         10\n",
       "17  6  6  5  5  5  1  1         29\n",
       "18  5  3  3  5  2  5  4         27\n",
       "19  6  6  6  6  6  6  6         42"
      ]
     },
     "execution_count": 181,
     "metadata": {},
     "output_type": "execute_result"
    }
   ],
   "source": [
    "body_bsq.head(20)"
   ]
  },
  {
   "cell_type": "markdown",
   "id": "desperate-issue",
   "metadata": {},
   "source": [
    "### e) Adding the diagnose\n"
   ]
  },
  {
   "cell_type": "code",
   "execution_count": 182,
   "id": "subject-supplement",
   "metadata": {},
   "outputs": [],
   "source": [
    "body_bsq['tag_bsq']=1"
   ]
  },
  {
   "cell_type": "code",
   "execution_count": 183,
   "id": "informative-newark",
   "metadata": {},
   "outputs": [],
   "source": [
    "body_bsq.loc[(body_bsq.total_bsq>=17)&(body_bsq.total_bsq<=22),'tag_bsq']=2"
   ]
  },
  {
   "cell_type": "code",
   "execution_count": 184,
   "id": "obvious-nursing",
   "metadata": {},
   "outputs": [],
   "source": [
    "body_bsq.loc[(body_bsq.total_bsq>=23)&(body_bsq.total_bsq<=29),'tag_bsq']=3"
   ]
  },
  {
   "cell_type": "code",
   "execution_count": 185,
   "id": "accompanied-captain",
   "metadata": {},
   "outputs": [],
   "source": [
    "body_bsq.loc[body_bsq.total_bsq>=30,'tag_bsq']=4"
   ]
  },
  {
   "cell_type": "code",
   "execution_count": 186,
   "id": "balanced-theta",
   "metadata": {},
   "outputs": [],
   "source": [
    "body_bsq.loc[body_bsq.total_bsq<17,'tag_bsq']=1"
   ]
  },
  {
   "cell_type": "code",
   "execution_count": 187,
   "id": "behind-withdrawal",
   "metadata": {},
   "outputs": [
    {
     "data": {
      "text/plain": [
       "4    133\n",
       "1    100\n",
       "2    100\n",
       "3     97\n",
       "Name: tag_bsq, dtype: int64"
      ]
     },
     "execution_count": 187,
     "metadata": {},
     "output_type": "execute_result"
    }
   ],
   "source": [
    "body_bsq.tag_bsq.value_counts()"
   ]
  },
  {
   "cell_type": "markdown",
   "id": "systematic-rescue",
   "metadata": {},
   "source": [
    "- menos de 17, tag_bsq 1, sin preocupacion por la forma corporal\n",
    "- entre 17 y 22, tag_bsq 2, baja preocupacion por la forma corporal\n",
    "- entre 23 y 29, tag_bsq 3, moderada preocupacion por la forma corporal\n",
    "- mas de 30 puntos, tag_bsq 4, alta preocupacion por la forma corporal"
   ]
  },
  {
   "cell_type": "markdown",
   "id": "understanding-north",
   "metadata": {},
   "source": [
    "### d) Drop duplicates"
   ]
  },
  {
   "cell_type": "code",
   "execution_count": 188,
   "id": "republican-church",
   "metadata": {},
   "outputs": [
    {
     "data": {
      "text/plain": [
       "37"
      ]
     },
     "execution_count": 188,
     "metadata": {},
     "output_type": "execute_result"
    }
   ],
   "source": [
    "body_bsq.duplicated().sum()"
   ]
  },
  {
   "cell_type": "code",
   "execution_count": 191,
   "id": "characteristic-clothing",
   "metadata": {},
   "outputs": [
    {
     "data": {
      "text/html": [
       "<div>\n",
       "<style scoped>\n",
       "    .dataframe tbody tr th:only-of-type {\n",
       "        vertical-align: middle;\n",
       "    }\n",
       "\n",
       "    .dataframe tbody tr th {\n",
       "        vertical-align: top;\n",
       "    }\n",
       "\n",
       "    .dataframe thead th {\n",
       "        text-align: right;\n",
       "    }\n",
       "</style>\n",
       "<table border=\"1\" class=\"dataframe\">\n",
       "  <thead>\n",
       "    <tr style=\"text-align: right;\">\n",
       "      <th></th>\n",
       "      <th>Id</th>\n",
       "      <th>7</th>\n",
       "      <th>6</th>\n",
       "      <th>5</th>\n",
       "      <th>4</th>\n",
       "      <th>1</th>\n",
       "      <th>2</th>\n",
       "      <th>3</th>\n",
       "      <th>total_bsq</th>\n",
       "      <th>tag_bsq</th>\n",
       "    </tr>\n",
       "  </thead>\n",
       "  <tbody>\n",
       "    <tr>\n",
       "      <th>0</th>\n",
       "      <td>0</td>\n",
       "      <td>6</td>\n",
       "      <td>5</td>\n",
       "      <td>5</td>\n",
       "      <td>5</td>\n",
       "      <td>5</td>\n",
       "      <td>3</td>\n",
       "      <td>6</td>\n",
       "      <td>35</td>\n",
       "      <td>4</td>\n",
       "    </tr>\n",
       "    <tr>\n",
       "      <th>2</th>\n",
       "      <td>2</td>\n",
       "      <td>6</td>\n",
       "      <td>5</td>\n",
       "      <td>5</td>\n",
       "      <td>6</td>\n",
       "      <td>6</td>\n",
       "      <td>3</td>\n",
       "      <td>6</td>\n",
       "      <td>37</td>\n",
       "      <td>4</td>\n",
       "    </tr>\n",
       "    <tr>\n",
       "      <th>3</th>\n",
       "      <td>3</td>\n",
       "      <td>6</td>\n",
       "      <td>6</td>\n",
       "      <td>6</td>\n",
       "      <td>6</td>\n",
       "      <td>6</td>\n",
       "      <td>5</td>\n",
       "      <td>6</td>\n",
       "      <td>41</td>\n",
       "      <td>4</td>\n",
       "    </tr>\n",
       "    <tr>\n",
       "      <th>4</th>\n",
       "      <td>4</td>\n",
       "      <td>1</td>\n",
       "      <td>4</td>\n",
       "      <td>1</td>\n",
       "      <td>4</td>\n",
       "      <td>1</td>\n",
       "      <td>2</td>\n",
       "      <td>2</td>\n",
       "      <td>15</td>\n",
       "      <td>1</td>\n",
       "    </tr>\n",
       "    <tr>\n",
       "      <th>5</th>\n",
       "      <td>5</td>\n",
       "      <td>3</td>\n",
       "      <td>1</td>\n",
       "      <td>1</td>\n",
       "      <td>1</td>\n",
       "      <td>3</td>\n",
       "      <td>1</td>\n",
       "      <td>3</td>\n",
       "      <td>13</td>\n",
       "      <td>1</td>\n",
       "    </tr>\n",
       "  </tbody>\n",
       "</table>\n",
       "</div>"
      ],
      "text/plain": [
       "   Id  7  6  5  4  1  2  3  total_bsq  tag_bsq\n",
       "0   0  6  5  5  5  5  3  6         35        4\n",
       "2   2  6  5  5  6  6  3  6         37        4\n",
       "3   3  6  6  6  6  6  5  6         41        4\n",
       "4   4  1  4  1  4  1  2  2         15        1\n",
       "5   5  3  1  1  1  3  1  3         13        1"
      ]
     },
     "execution_count": 191,
     "metadata": {},
     "output_type": "execute_result"
    }
   ],
   "source": [
    "body_bsq.head()"
   ]
  },
  {
   "cell_type": "markdown",
   "id": "indirect-hardware",
   "metadata": {},
   "source": [
    "##  Feature engineering \n"
   ]
  },
  {
   "cell_type": "code",
   "execution_count": 189,
   "id": "knowing-tanzania",
   "metadata": {},
   "outputs": [],
   "source": [
    "\n",
    "body_bsq = body_bsq.reset_index()\n",
    "body_bsq = body_bsq.rename(columns={'index': 'Id'})"
   ]
  },
  {
   "cell_type": "code",
   "execution_count": 190,
   "id": "strategic-sally",
   "metadata": {},
   "outputs": [],
   "source": [
    "body_bsq = body_bsq.drop(body_bsq.Id[1])"
   ]
  },
  {
   "cell_type": "markdown",
   "id": "approximate-growing",
   "metadata": {},
   "source": [
    "### a) Encoding categorical variables\n"
   ]
  },
  {
   "cell_type": "code",
   "execution_count": null,
   "id": "warming-consideration",
   "metadata": {},
   "outputs": [],
   "source": [
    "## no hay variables categoricas en este test psicometrico"
   ]
  },
  {
   "cell_type": "markdown",
   "id": "defensive-sunday",
   "metadata": {},
   "source": [
    "### b) Saving the data clean\n",
    "\n"
   ]
  },
  {
   "cell_type": "code",
   "execution_count": 486,
   "id": "perfect-ferry",
   "metadata": {},
   "outputs": [],
   "source": [
    "#body_bsq.to_csv('body_bsq.csv')"
   ]
  },
  {
   "cell_type": "code",
   "execution_count": 485,
   "id": "subject-marathon",
   "metadata": {},
   "outputs": [
    {
     "data": {
      "text/html": [
       "<div>\n",
       "<style scoped>\n",
       "    .dataframe tbody tr th:only-of-type {\n",
       "        vertical-align: middle;\n",
       "    }\n",
       "\n",
       "    .dataframe tbody tr th {\n",
       "        vertical-align: top;\n",
       "    }\n",
       "\n",
       "    .dataframe thead th {\n",
       "        text-align: right;\n",
       "    }\n",
       "</style>\n",
       "<table border=\"1\" class=\"dataframe\">\n",
       "  <thead>\n",
       "    <tr style=\"text-align: right;\">\n",
       "      <th></th>\n",
       "      <th>Id</th>\n",
       "      <th>7</th>\n",
       "      <th>6</th>\n",
       "      <th>5</th>\n",
       "      <th>4</th>\n",
       "      <th>1</th>\n",
       "      <th>2</th>\n",
       "      <th>3</th>\n",
       "      <th>total_bsq</th>\n",
       "      <th>tag_bsq</th>\n",
       "    </tr>\n",
       "  </thead>\n",
       "  <tbody>\n",
       "    <tr>\n",
       "      <th>0</th>\n",
       "      <td>0</td>\n",
       "      <td>6</td>\n",
       "      <td>5</td>\n",
       "      <td>5</td>\n",
       "      <td>5</td>\n",
       "      <td>5</td>\n",
       "      <td>3</td>\n",
       "      <td>6</td>\n",
       "      <td>35</td>\n",
       "      <td>4</td>\n",
       "    </tr>\n",
       "    <tr>\n",
       "      <th>2</th>\n",
       "      <td>2</td>\n",
       "      <td>6</td>\n",
       "      <td>5</td>\n",
       "      <td>5</td>\n",
       "      <td>6</td>\n",
       "      <td>6</td>\n",
       "      <td>3</td>\n",
       "      <td>6</td>\n",
       "      <td>37</td>\n",
       "      <td>4</td>\n",
       "    </tr>\n",
       "    <tr>\n",
       "      <th>3</th>\n",
       "      <td>3</td>\n",
       "      <td>6</td>\n",
       "      <td>6</td>\n",
       "      <td>6</td>\n",
       "      <td>6</td>\n",
       "      <td>6</td>\n",
       "      <td>5</td>\n",
       "      <td>6</td>\n",
       "      <td>41</td>\n",
       "      <td>4</td>\n",
       "    </tr>\n",
       "    <tr>\n",
       "      <th>4</th>\n",
       "      <td>4</td>\n",
       "      <td>1</td>\n",
       "      <td>4</td>\n",
       "      <td>1</td>\n",
       "      <td>4</td>\n",
       "      <td>1</td>\n",
       "      <td>2</td>\n",
       "      <td>2</td>\n",
       "      <td>15</td>\n",
       "      <td>1</td>\n",
       "    </tr>\n",
       "    <tr>\n",
       "      <th>5</th>\n",
       "      <td>5</td>\n",
       "      <td>3</td>\n",
       "      <td>1</td>\n",
       "      <td>1</td>\n",
       "      <td>1</td>\n",
       "      <td>3</td>\n",
       "      <td>1</td>\n",
       "      <td>3</td>\n",
       "      <td>13</td>\n",
       "      <td>1</td>\n",
       "    </tr>\n",
       "    <tr>\n",
       "      <th>6</th>\n",
       "      <td>6</td>\n",
       "      <td>3</td>\n",
       "      <td>2</td>\n",
       "      <td>2</td>\n",
       "      <td>4</td>\n",
       "      <td>2</td>\n",
       "      <td>3</td>\n",
       "      <td>1</td>\n",
       "      <td>17</td>\n",
       "      <td>2</td>\n",
       "    </tr>\n",
       "    <tr>\n",
       "      <th>7</th>\n",
       "      <td>7</td>\n",
       "      <td>5</td>\n",
       "      <td>5</td>\n",
       "      <td>3</td>\n",
       "      <td>4</td>\n",
       "      <td>6</td>\n",
       "      <td>5</td>\n",
       "      <td>2</td>\n",
       "      <td>30</td>\n",
       "      <td>4</td>\n",
       "    </tr>\n",
       "    <tr>\n",
       "      <th>8</th>\n",
       "      <td>8</td>\n",
       "      <td>3</td>\n",
       "      <td>1</td>\n",
       "      <td>1</td>\n",
       "      <td>2</td>\n",
       "      <td>1</td>\n",
       "      <td>1</td>\n",
       "      <td>2</td>\n",
       "      <td>11</td>\n",
       "      <td>1</td>\n",
       "    </tr>\n",
       "    <tr>\n",
       "      <th>9</th>\n",
       "      <td>9</td>\n",
       "      <td>4</td>\n",
       "      <td>4</td>\n",
       "      <td>4</td>\n",
       "      <td>4</td>\n",
       "      <td>3</td>\n",
       "      <td>3</td>\n",
       "      <td>4</td>\n",
       "      <td>26</td>\n",
       "      <td>3</td>\n",
       "    </tr>\n",
       "    <tr>\n",
       "      <th>10</th>\n",
       "      <td>10</td>\n",
       "      <td>6</td>\n",
       "      <td>3</td>\n",
       "      <td>3</td>\n",
       "      <td>6</td>\n",
       "      <td>5</td>\n",
       "      <td>3</td>\n",
       "      <td>4</td>\n",
       "      <td>30</td>\n",
       "      <td>4</td>\n",
       "    </tr>\n",
       "    <tr>\n",
       "      <th>11</th>\n",
       "      <td>11</td>\n",
       "      <td>5</td>\n",
       "      <td>5</td>\n",
       "      <td>1</td>\n",
       "      <td>6</td>\n",
       "      <td>6</td>\n",
       "      <td>6</td>\n",
       "      <td>3</td>\n",
       "      <td>32</td>\n",
       "      <td>4</td>\n",
       "    </tr>\n",
       "    <tr>\n",
       "      <th>12</th>\n",
       "      <td>12</td>\n",
       "      <td>5</td>\n",
       "      <td>3</td>\n",
       "      <td>2</td>\n",
       "      <td>4</td>\n",
       "      <td>5</td>\n",
       "      <td>5</td>\n",
       "      <td>2</td>\n",
       "      <td>26</td>\n",
       "      <td>3</td>\n",
       "    </tr>\n",
       "    <tr>\n",
       "      <th>13</th>\n",
       "      <td>13</td>\n",
       "      <td>2</td>\n",
       "      <td>1</td>\n",
       "      <td>1</td>\n",
       "      <td>2</td>\n",
       "      <td>1</td>\n",
       "      <td>1</td>\n",
       "      <td>1</td>\n",
       "      <td>9</td>\n",
       "      <td>1</td>\n",
       "    </tr>\n",
       "    <tr>\n",
       "      <th>14</th>\n",
       "      <td>14</td>\n",
       "      <td>1</td>\n",
       "      <td>1</td>\n",
       "      <td>1</td>\n",
       "      <td>1</td>\n",
       "      <td>1</td>\n",
       "      <td>1</td>\n",
       "      <td>2</td>\n",
       "      <td>8</td>\n",
       "      <td>1</td>\n",
       "    </tr>\n",
       "    <tr>\n",
       "      <th>15</th>\n",
       "      <td>15</td>\n",
       "      <td>5</td>\n",
       "      <td>6</td>\n",
       "      <td>6</td>\n",
       "      <td>5</td>\n",
       "      <td>5</td>\n",
       "      <td>5</td>\n",
       "      <td>6</td>\n",
       "      <td>38</td>\n",
       "      <td>4</td>\n",
       "    </tr>\n",
       "    <tr>\n",
       "      <th>16</th>\n",
       "      <td>16</td>\n",
       "      <td>1</td>\n",
       "      <td>1</td>\n",
       "      <td>1</td>\n",
       "      <td>2</td>\n",
       "      <td>1</td>\n",
       "      <td>2</td>\n",
       "      <td>2</td>\n",
       "      <td>10</td>\n",
       "      <td>1</td>\n",
       "    </tr>\n",
       "    <tr>\n",
       "      <th>17</th>\n",
       "      <td>17</td>\n",
       "      <td>6</td>\n",
       "      <td>6</td>\n",
       "      <td>5</td>\n",
       "      <td>5</td>\n",
       "      <td>5</td>\n",
       "      <td>1</td>\n",
       "      <td>1</td>\n",
       "      <td>29</td>\n",
       "      <td>3</td>\n",
       "    </tr>\n",
       "    <tr>\n",
       "      <th>18</th>\n",
       "      <td>18</td>\n",
       "      <td>5</td>\n",
       "      <td>3</td>\n",
       "      <td>3</td>\n",
       "      <td>5</td>\n",
       "      <td>2</td>\n",
       "      <td>5</td>\n",
       "      <td>4</td>\n",
       "      <td>27</td>\n",
       "      <td>3</td>\n",
       "    </tr>\n",
       "    <tr>\n",
       "      <th>19</th>\n",
       "      <td>19</td>\n",
       "      <td>6</td>\n",
       "      <td>6</td>\n",
       "      <td>6</td>\n",
       "      <td>6</td>\n",
       "      <td>6</td>\n",
       "      <td>6</td>\n",
       "      <td>6</td>\n",
       "      <td>42</td>\n",
       "      <td>4</td>\n",
       "    </tr>\n",
       "    <tr>\n",
       "      <th>20</th>\n",
       "      <td>20</td>\n",
       "      <td>5</td>\n",
       "      <td>3</td>\n",
       "      <td>5</td>\n",
       "      <td>3</td>\n",
       "      <td>3</td>\n",
       "      <td>6</td>\n",
       "      <td>3</td>\n",
       "      <td>28</td>\n",
       "      <td>3</td>\n",
       "    </tr>\n",
       "  </tbody>\n",
       "</table>\n",
       "</div>"
      ],
      "text/plain": [
       "    Id  7  6  5  4  1  2  3  total_bsq  tag_bsq\n",
       "0    0  6  5  5  5  5  3  6         35        4\n",
       "2    2  6  5  5  6  6  3  6         37        4\n",
       "3    3  6  6  6  6  6  5  6         41        4\n",
       "4    4  1  4  1  4  1  2  2         15        1\n",
       "5    5  3  1  1  1  3  1  3         13        1\n",
       "6    6  3  2  2  4  2  3  1         17        2\n",
       "7    7  5  5  3  4  6  5  2         30        4\n",
       "8    8  3  1  1  2  1  1  2         11        1\n",
       "9    9  4  4  4  4  3  3  4         26        3\n",
       "10  10  6  3  3  6  5  3  4         30        4\n",
       "11  11  5  5  1  6  6  6  3         32        4\n",
       "12  12  5  3  2  4  5  5  2         26        3\n",
       "13  13  2  1  1  2  1  1  1          9        1\n",
       "14  14  1  1  1  1  1  1  2          8        1\n",
       "15  15  5  6  6  5  5  5  6         38        4\n",
       "16  16  1  1  1  2  1  2  2         10        1\n",
       "17  17  6  6  5  5  5  1  1         29        3\n",
       "18  18  5  3  3  5  2  5  4         27        3\n",
       "19  19  6  6  6  6  6  6  6         42        4\n",
       "20  20  5  3  5  3  3  6  3         28        3"
      ]
     },
     "execution_count": 485,
     "metadata": {},
     "output_type": "execute_result"
    }
   ],
   "source": [
    "body_bsq.head(20)"
   ]
  },
  {
   "cell_type": "markdown",
   "id": "tamil-crash",
   "metadata": {},
   "source": [
    "# body_figures"
   ]
  },
  {
   "cell_type": "markdown",
   "id": "developed-person",
   "metadata": {},
   "source": [
    "## EDA and Data Cleaning\n"
   ]
  },
  {
   "cell_type": "code",
   "execution_count": 192,
   "id": "pointed-perception",
   "metadata": {},
   "outputs": [
    {
     "data": {
      "text/html": [
       "<div>\n",
       "<style scoped>\n",
       "    .dataframe tbody tr th:only-of-type {\n",
       "        vertical-align: middle;\n",
       "    }\n",
       "\n",
       "    .dataframe tbody tr th {\n",
       "        vertical-align: top;\n",
       "    }\n",
       "\n",
       "    .dataframe thead th {\n",
       "        text-align: right;\n",
       "    }\n",
       "</style>\n",
       "<table border=\"1\" class=\"dataframe\">\n",
       "  <thead>\n",
       "    <tr style=\"text-align: right;\">\n",
       "      <th></th>\n",
       "      <th>Id</th>\n",
       "      <th>Observa las siguientes figuras:  [¿Cuál se parece más a tu cuerpo actualmente?]</th>\n",
       "      <th>Observa las siguientes figuras:  [¿Cuál se parece más al cuerpo que desearías tener?]</th>\n",
       "      <th>Observa las siguientes figuras:  [¿Cuál crees que es la más atractiva para el sexo que te atrae?]</th>\n",
       "    </tr>\n",
       "  </thead>\n",
       "  <tbody>\n",
       "    <tr>\n",
       "      <th>0</th>\n",
       "      <td>0</td>\n",
       "      <td>5.0</td>\n",
       "      <td>4.0</td>\n",
       "      <td>4.0</td>\n",
       "    </tr>\n",
       "    <tr>\n",
       "      <th>1</th>\n",
       "      <td>1</td>\n",
       "      <td>2.0</td>\n",
       "      <td>2.0</td>\n",
       "      <td>2.0</td>\n",
       "    </tr>\n",
       "    <tr>\n",
       "      <th>2</th>\n",
       "      <td>2</td>\n",
       "      <td>5.0</td>\n",
       "      <td>3.0</td>\n",
       "      <td>4.0</td>\n",
       "    </tr>\n",
       "    <tr>\n",
       "      <th>3</th>\n",
       "      <td>3</td>\n",
       "      <td>7.0</td>\n",
       "      <td>3.0</td>\n",
       "      <td>4.0</td>\n",
       "    </tr>\n",
       "    <tr>\n",
       "      <th>4</th>\n",
       "      <td>4</td>\n",
       "      <td>2.0</td>\n",
       "      <td>4.0</td>\n",
       "      <td>4.0</td>\n",
       "    </tr>\n",
       "  </tbody>\n",
       "</table>\n",
       "</div>"
      ],
      "text/plain": [
       "   Id  \\\n",
       "0   0   \n",
       "1   1   \n",
       "2   2   \n",
       "3   3   \n",
       "4   4   \n",
       "\n",
       "   Observa las siguientes figuras:  [¿Cuál se parece más a tu cuerpo actualmente?]  \\\n",
       "0                                                5.0                                 \n",
       "1                                                2.0                                 \n",
       "2                                                5.0                                 \n",
       "3                                                7.0                                 \n",
       "4                                                2.0                                 \n",
       "\n",
       "   Observa las siguientes figuras:  [¿Cuál se parece más al cuerpo que desearías tener?]  \\\n",
       "0                                                4.0                                       \n",
       "1                                                2.0                                       \n",
       "2                                                3.0                                       \n",
       "3                                                3.0                                       \n",
       "4                                                4.0                                       \n",
       "\n",
       "   Observa las siguientes figuras:  [¿Cuál crees que es la más atractiva para el sexo que te atrae?]  \n",
       "0                                                4.0                                                  \n",
       "1                                                2.0                                                  \n",
       "2                                                4.0                                                  \n",
       "3                                                4.0                                                  \n",
       "4                                                4.0                                                  "
      ]
     },
     "execution_count": 192,
     "metadata": {},
     "output_type": "execute_result"
    }
   ],
   "source": [
    "body_figures.head()"
   ]
  },
  {
   "cell_type": "code",
   "execution_count": 193,
   "id": "coastal-blocking",
   "metadata": {},
   "outputs": [
    {
     "data": {
      "text/plain": [
       "Index(['Id',\n",
       "       'Observa las siguientes figuras:  [¿Cuál se parece más a tu cuerpo actualmente?]',\n",
       "       'Observa las siguientes figuras:  [¿Cuál se parece más al cuerpo que desearías tener?]',\n",
       "       'Observa las siguientes figuras:  [¿Cuál crees que es la más atractiva para el sexo que te atrae?]'],\n",
       "      dtype='object')"
      ]
     },
     "execution_count": 193,
     "metadata": {},
     "output_type": "execute_result"
    }
   ],
   "source": [
    "body_figures.columns"
   ]
  },
  {
   "cell_type": "code",
   "execution_count": 194,
   "id": "taken-invalid",
   "metadata": {},
   "outputs": [],
   "source": [
    "body_figures.rename(columns={\n",
    "    'Observa las siguientes figuras:  [¿Cuál se parece más a tu cuerpo actualmente?]': 'cuerpo_real',\n",
    "    'Observa las siguientes figuras:  [¿Cuál se parece más al cuerpo que desearías tener?]':'cuerpo_deseado',\n",
    "    'Observa las siguientes figuras:  [¿Cuál crees que es la más atractiva para el sexo que te atrae?]':'cuerpo_atractivo',\n",
    "    }, inplace=True)"
   ]
  },
  {
   "cell_type": "code",
   "execution_count": 195,
   "id": "reflected-jewel",
   "metadata": {},
   "outputs": [
    {
     "name": "stdout",
     "output_type": "stream",
     "text": [
      "<class 'pandas.core.frame.DataFrame'>\n",
      "RangeIndex: 434 entries, 0 to 433\n",
      "Data columns (total 4 columns):\n",
      " #   Column            Non-Null Count  Dtype  \n",
      "---  ------            --------------  -----  \n",
      " 0   Id                434 non-null    int64  \n",
      " 1   cuerpo_real       433 non-null    float64\n",
      " 2   cuerpo_deseado    431 non-null    float64\n",
      " 3   cuerpo_atractivo  418 non-null    float64\n",
      "dtypes: float64(3), int64(1)\n",
      "memory usage: 13.7 KB\n"
     ]
    }
   ],
   "source": [
    "body_figures.info()"
   ]
  },
  {
   "cell_type": "markdown",
   "id": "pediatric-bedroom",
   "metadata": {},
   "source": [
    "### a) Check missing values:"
   ]
  },
  {
   "cell_type": "code",
   "execution_count": 196,
   "id": "lesbian-powell",
   "metadata": {},
   "outputs": [
    {
     "data": {
      "text/plain": [
       "Id                   0\n",
       "cuerpo_real          1\n",
       "cuerpo_deseado       3\n",
       "cuerpo_atractivo    16\n",
       "dtype: int64"
      ]
     },
     "execution_count": 196,
     "metadata": {},
     "output_type": "execute_result"
    }
   ],
   "source": [
    "body_figures.isnull().sum()"
   ]
  },
  {
   "cell_type": "code",
   "execution_count": 197,
   "id": "confused-buddy",
   "metadata": {},
   "outputs": [],
   "source": [
    "body_figures=body_figures.dropna()"
   ]
  },
  {
   "cell_type": "markdown",
   "id": "successful-maldives",
   "metadata": {},
   "source": [
    "### c) Dealing with numerical variables\n"
   ]
  },
  {
   "cell_type": "code",
   "execution_count": 198,
   "id": "flexible-niagara",
   "metadata": {},
   "outputs": [
    {
     "data": {
      "text/plain": [
       "4.0    117\n",
       "5.0    116\n",
       "3.0     59\n",
       "6.0     51\n",
       "2.0     44\n",
       "7.0     12\n",
       "1.0      9\n",
       "9.0      4\n",
       "8.0      4\n",
       "Name: cuerpo_real, dtype: int64"
      ]
     },
     "execution_count": 198,
     "metadata": {},
     "output_type": "execute_result"
    }
   ],
   "source": [
    "body_figures.cuerpo_real.value_counts()"
   ]
  },
  {
   "cell_type": "code",
   "execution_count": 199,
   "id": "skilled-leather",
   "metadata": {},
   "outputs": [
    {
     "data": {
      "text/plain": [
       "3.0    197\n",
       "4.0    135\n",
       "2.0     44\n",
       "5.0     25\n",
       "1.0     13\n",
       "6.0      2\n",
       "Name: cuerpo_deseado, dtype: int64"
      ]
     },
     "execution_count": 199,
     "metadata": {},
     "output_type": "execute_result"
    }
   ],
   "source": [
    "body_figures.cuerpo_deseado.value_counts()"
   ]
  },
  {
   "cell_type": "code",
   "execution_count": 200,
   "id": "fewer-florence",
   "metadata": {},
   "outputs": [
    {
     "data": {
      "text/plain": [
       "3.0    195\n",
       "4.0    115\n",
       "2.0     62\n",
       "5.0     28\n",
       "1.0     14\n",
       "6.0      2\n",
       "Name: cuerpo_atractivo, dtype: int64"
      ]
     },
     "execution_count": 200,
     "metadata": {},
     "output_type": "execute_result"
    }
   ],
   "source": [
    "body_figures.cuerpo_atractivo.value_counts()"
   ]
  },
  {
   "cell_type": "markdown",
   "id": "occasional-physics",
   "metadata": {},
   "source": [
    "### d) Drop duplicates"
   ]
  },
  {
   "cell_type": "code",
   "execution_count": 201,
   "id": "empirical-cambodia",
   "metadata": {},
   "outputs": [
    {
     "data": {
      "text/plain": [
       "0"
      ]
     },
     "execution_count": 201,
     "metadata": {},
     "output_type": "execute_result"
    }
   ],
   "source": [
    "body_figures.duplicated().sum()"
   ]
  },
  {
   "cell_type": "markdown",
   "id": "weird-newark",
   "metadata": {},
   "source": [
    "### e) Adding some diagnose\n"
   ]
  },
  {
   "cell_type": "code",
   "execution_count": 202,
   "id": "cultural-prefix",
   "metadata": {},
   "outputs": [],
   "source": [
    "body_figures['diferencia']= body_figures[\"cuerpo_real\"] - body_figures[\"cuerpo_deseado\"]"
   ]
  },
  {
   "cell_type": "code",
   "execution_count": 203,
   "id": "celtic-flower",
   "metadata": {},
   "outputs": [
    {
     "data": {
      "text/html": [
       "<div>\n",
       "<style scoped>\n",
       "    .dataframe tbody tr th:only-of-type {\n",
       "        vertical-align: middle;\n",
       "    }\n",
       "\n",
       "    .dataframe tbody tr th {\n",
       "        vertical-align: top;\n",
       "    }\n",
       "\n",
       "    .dataframe thead th {\n",
       "        text-align: right;\n",
       "    }\n",
       "</style>\n",
       "<table border=\"1\" class=\"dataframe\">\n",
       "  <thead>\n",
       "    <tr style=\"text-align: right;\">\n",
       "      <th></th>\n",
       "      <th>Id</th>\n",
       "      <th>cuerpo_real</th>\n",
       "      <th>cuerpo_deseado</th>\n",
       "      <th>cuerpo_atractivo</th>\n",
       "      <th>diferencia</th>\n",
       "    </tr>\n",
       "  </thead>\n",
       "  <tbody>\n",
       "    <tr>\n",
       "      <th>0</th>\n",
       "      <td>0</td>\n",
       "      <td>5.0</td>\n",
       "      <td>4.0</td>\n",
       "      <td>4.0</td>\n",
       "      <td>1.0</td>\n",
       "    </tr>\n",
       "    <tr>\n",
       "      <th>1</th>\n",
       "      <td>1</td>\n",
       "      <td>2.0</td>\n",
       "      <td>2.0</td>\n",
       "      <td>2.0</td>\n",
       "      <td>0.0</td>\n",
       "    </tr>\n",
       "    <tr>\n",
       "      <th>2</th>\n",
       "      <td>2</td>\n",
       "      <td>5.0</td>\n",
       "      <td>3.0</td>\n",
       "      <td>4.0</td>\n",
       "      <td>2.0</td>\n",
       "    </tr>\n",
       "    <tr>\n",
       "      <th>3</th>\n",
       "      <td>3</td>\n",
       "      <td>7.0</td>\n",
       "      <td>3.0</td>\n",
       "      <td>4.0</td>\n",
       "      <td>4.0</td>\n",
       "    </tr>\n",
       "    <tr>\n",
       "      <th>4</th>\n",
       "      <td>4</td>\n",
       "      <td>2.0</td>\n",
       "      <td>4.0</td>\n",
       "      <td>4.0</td>\n",
       "      <td>-2.0</td>\n",
       "    </tr>\n",
       "  </tbody>\n",
       "</table>\n",
       "</div>"
      ],
      "text/plain": [
       "   Id  cuerpo_real  cuerpo_deseado  cuerpo_atractivo  diferencia\n",
       "0   0          5.0             4.0               4.0         1.0\n",
       "1   1          2.0             2.0               2.0         0.0\n",
       "2   2          5.0             3.0               4.0         2.0\n",
       "3   3          7.0             3.0               4.0         4.0\n",
       "4   4          2.0             4.0               4.0        -2.0"
      ]
     },
     "execution_count": 203,
     "metadata": {},
     "output_type": "execute_result"
    }
   ],
   "source": [
    "body_figures.head()\n"
   ]
  },
  {
   "cell_type": "markdown",
   "id": "complete-optics",
   "metadata": {},
   "source": [
    "- Si diferencia es negativa: quieren un cuerpo mas robusto del que tienen\n",
    "- Si la diferencia es positiva: quieren un cuerpo mas delgado del que tienen\n",
    "- A mayor distancia de 0 en diferencia, mayor es el grado de disonancia entre el cuerpo real y el deseado\n",
    "- Diferencia = 0, el cuerpo real y el deseado coinciden"
   ]
  },
  {
   "cell_type": "code",
   "execution_count": 204,
   "id": "flush-heading",
   "metadata": {},
   "outputs": [
    {
     "data": {
      "text/plain": [
       " 1.0    156\n",
       " 2.0    110\n",
       " 0.0     77\n",
       "-1.0     30\n",
       " 3.0     18\n",
       "-2.0     13\n",
       " 4.0      5\n",
       "-3.0      3\n",
       " 6.0      3\n",
       " 8.0      1\n",
       "Name: diferencia, dtype: int64"
      ]
     },
     "execution_count": 204,
     "metadata": {},
     "output_type": "execute_result"
    }
   ],
   "source": [
    "body_figures.diferencia.value_counts()"
   ]
  },
  {
   "cell_type": "markdown",
   "id": "labeled-intake",
   "metadata": {},
   "source": [
    "##  Saving the data clean\n"
   ]
  },
  {
   "cell_type": "code",
   "execution_count": 484,
   "id": "ranging-indicator",
   "metadata": {},
   "outputs": [],
   "source": [
    "#body_figures.to_csv('body_figures.csv')"
   ]
  },
  {
   "cell_type": "markdown",
   "id": "surrounded-solid",
   "metadata": {},
   "source": [
    "# body_acceptance"
   ]
  },
  {
   "cell_type": "markdown",
   "id": "present-therapist",
   "metadata": {},
   "source": [
    "## EDA and Data Cleaning\n"
   ]
  },
  {
   "cell_type": "code",
   "execution_count": 205,
   "id": "positive-panic",
   "metadata": {},
   "outputs": [
    {
     "data": {
      "text/html": [
       "<div>\n",
       "<style scoped>\n",
       "    .dataframe tbody tr th:only-of-type {\n",
       "        vertical-align: middle;\n",
       "    }\n",
       "\n",
       "    .dataframe tbody tr th {\n",
       "        vertical-align: top;\n",
       "    }\n",
       "\n",
       "    .dataframe thead th {\n",
       "        text-align: right;\n",
       "    }\n",
       "</style>\n",
       "<table border=\"1\" class=\"dataframe\">\n",
       "  <thead>\n",
       "    <tr style=\"text-align: right;\">\n",
       "      <th></th>\n",
       "      <th>¿Cómo te sientes respecto a las siguientes partes de tu cuerpo? [Cara]</th>\n",
       "      <th>¿Cómo te sientes respecto a las siguientes partes de tu cuerpo? [Espalda/hombros]</th>\n",
       "      <th>¿Cómo te sientes respecto a las siguientes partes de tu cuerpo? [Brazos]</th>\n",
       "      <th>¿Cómo te sientes respecto a las siguientes partes de tu cuerpo? [Pechos]</th>\n",
       "      <th>¿Cómo te sientes respecto a las siguientes partes de tu cuerpo? [Estómago]</th>\n",
       "      <th>¿Cómo te sientes respecto a las siguientes partes de tu cuerpo? [Nalgas]</th>\n",
       "      <th>¿Cómo te sientes respecto a las siguientes partes de tu cuerpo? [Cadera]</th>\n",
       "      <th>¿Cómo te sientes respecto a las siguientes partes de tu cuerpo? [Cintura]</th>\n",
       "      <th>¿Cómo te sientes respecto a las siguientes partes de tu cuerpo? [Piernas]</th>\n",
       "      <th>¿Cómo te sientes respecto a las siguientes partes de tu cuerpo? [Muslos]</th>\n",
       "      <th>¿Cómo te sientes respecto a las siguientes partes de tu cuerpo? [Pantorrillas]</th>\n",
       "    </tr>\n",
       "  </thead>\n",
       "  <tbody>\n",
       "    <tr>\n",
       "      <th>0</th>\n",
       "      <td>Conforme</td>\n",
       "      <td>NaN</td>\n",
       "      <td>NaN</td>\n",
       "      <td>Disconforme</td>\n",
       "      <td>Disconforme</td>\n",
       "      <td>Conforme</td>\n",
       "      <td>Neutra</td>\n",
       "      <td>Neutra</td>\n",
       "      <td>Disconforme</td>\n",
       "      <td>Disconforme</td>\n",
       "      <td>Neutra</td>\n",
       "    </tr>\n",
       "    <tr>\n",
       "      <th>1</th>\n",
       "      <td>Orgullosa</td>\n",
       "      <td>NaN</td>\n",
       "      <td>NaN</td>\n",
       "      <td>Orgullosa</td>\n",
       "      <td>Orgullosa</td>\n",
       "      <td>Orgullosa</td>\n",
       "      <td>Orgullosa</td>\n",
       "      <td>Orgullosa</td>\n",
       "      <td>Orgullosa</td>\n",
       "      <td>Orgullosa</td>\n",
       "      <td>Orgullosa</td>\n",
       "    </tr>\n",
       "    <tr>\n",
       "      <th>2</th>\n",
       "      <td>Conforme</td>\n",
       "      <td>NaN</td>\n",
       "      <td>NaN</td>\n",
       "      <td>Disconforme</td>\n",
       "      <td>Disconforme</td>\n",
       "      <td>Neutra</td>\n",
       "      <td>Conforme</td>\n",
       "      <td>Neutra</td>\n",
       "      <td>Neutra</td>\n",
       "      <td>Neutra</td>\n",
       "      <td>Neutra</td>\n",
       "    </tr>\n",
       "    <tr>\n",
       "      <th>3</th>\n",
       "      <td>Conforme</td>\n",
       "      <td>NaN</td>\n",
       "      <td>NaN</td>\n",
       "      <td>Conforme</td>\n",
       "      <td>Disconforme</td>\n",
       "      <td>Conforme</td>\n",
       "      <td>Neutra</td>\n",
       "      <td>Conforme</td>\n",
       "      <td>Disconforme</td>\n",
       "      <td>Disconforme</td>\n",
       "      <td>Neutra</td>\n",
       "    </tr>\n",
       "    <tr>\n",
       "      <th>4</th>\n",
       "      <td>Disconforme</td>\n",
       "      <td>NaN</td>\n",
       "      <td>NaN</td>\n",
       "      <td>Conforme</td>\n",
       "      <td>Orgullosa</td>\n",
       "      <td>Orgullosa</td>\n",
       "      <td>Orgullosa</td>\n",
       "      <td>Orgullosa</td>\n",
       "      <td>Neutra</td>\n",
       "      <td>Neutra</td>\n",
       "      <td>Conforme</td>\n",
       "    </tr>\n",
       "  </tbody>\n",
       "</table>\n",
       "</div>"
      ],
      "text/plain": [
       "  ¿Cómo te sientes respecto a las siguientes partes de tu cuerpo? [Cara]  \\\n",
       "0                                           Conforme                       \n",
       "1                                          Orgullosa                       \n",
       "2                                           Conforme                       \n",
       "3                                           Conforme                       \n",
       "4                                        Disconforme                       \n",
       "\n",
       "  ¿Cómo te sientes respecto a las siguientes partes de tu cuerpo? [Espalda/hombros]  \\\n",
       "0                                                NaN                                  \n",
       "1                                                NaN                                  \n",
       "2                                                NaN                                  \n",
       "3                                                NaN                                  \n",
       "4                                                NaN                                  \n",
       "\n",
       "  ¿Cómo te sientes respecto a las siguientes partes de tu cuerpo? [Brazos]  \\\n",
       "0                                                NaN                         \n",
       "1                                                NaN                         \n",
       "2                                                NaN                         \n",
       "3                                                NaN                         \n",
       "4                                                NaN                         \n",
       "\n",
       "  ¿Cómo te sientes respecto a las siguientes partes de tu cuerpo? [Pechos]  \\\n",
       "0                                        Disconforme                         \n",
       "1                                          Orgullosa                         \n",
       "2                                        Disconforme                         \n",
       "3                                           Conforme                         \n",
       "4                                           Conforme                         \n",
       "\n",
       "  ¿Cómo te sientes respecto a las siguientes partes de tu cuerpo? [Estómago]  \\\n",
       "0                                        Disconforme                           \n",
       "1                                          Orgullosa                           \n",
       "2                                        Disconforme                           \n",
       "3                                        Disconforme                           \n",
       "4                                          Orgullosa                           \n",
       "\n",
       "  ¿Cómo te sientes respecto a las siguientes partes de tu cuerpo? [Nalgas]  \\\n",
       "0                                           Conforme                         \n",
       "1                                          Orgullosa                         \n",
       "2                                             Neutra                         \n",
       "3                                           Conforme                         \n",
       "4                                          Orgullosa                         \n",
       "\n",
       "  ¿Cómo te sientes respecto a las siguientes partes de tu cuerpo? [Cadera]  \\\n",
       "0                                             Neutra                         \n",
       "1                                          Orgullosa                         \n",
       "2                                           Conforme                         \n",
       "3                                             Neutra                         \n",
       "4                                          Orgullosa                         \n",
       "\n",
       "  ¿Cómo te sientes respecto a las siguientes partes de tu cuerpo? [Cintura]  \\\n",
       "0                                             Neutra                          \n",
       "1                                          Orgullosa                          \n",
       "2                                             Neutra                          \n",
       "3                                           Conforme                          \n",
       "4                                          Orgullosa                          \n",
       "\n",
       "  ¿Cómo te sientes respecto a las siguientes partes de tu cuerpo? [Piernas]  \\\n",
       "0                                        Disconforme                          \n",
       "1                                          Orgullosa                          \n",
       "2                                             Neutra                          \n",
       "3                                        Disconforme                          \n",
       "4                                             Neutra                          \n",
       "\n",
       "  ¿Cómo te sientes respecto a las siguientes partes de tu cuerpo? [Muslos]  \\\n",
       "0                                        Disconforme                         \n",
       "1                                          Orgullosa                         \n",
       "2                                             Neutra                         \n",
       "3                                        Disconforme                         \n",
       "4                                             Neutra                         \n",
       "\n",
       "  ¿Cómo te sientes respecto a las siguientes partes de tu cuerpo? [Pantorrillas]  \n",
       "0                                             Neutra                              \n",
       "1                                          Orgullosa                              \n",
       "2                                             Neutra                              \n",
       "3                                             Neutra                              \n",
       "4                                           Conforme                              "
      ]
     },
     "execution_count": 205,
     "metadata": {},
     "output_type": "execute_result"
    }
   ],
   "source": [
    "body_acceptance.head()"
   ]
  },
  {
   "cell_type": "code",
   "execution_count": 206,
   "id": "cooperative-millennium",
   "metadata": {},
   "outputs": [
    {
     "data": {
      "text/plain": [
       "Index(['¿Cómo te sientes respecto a las siguientes partes de tu cuerpo? [Cara]',\n",
       "       '¿Cómo te sientes respecto a las siguientes partes de tu cuerpo? [Espalda/hombros]',\n",
       "       '¿Cómo te sientes respecto a las siguientes partes de tu cuerpo? [Brazos]',\n",
       "       '¿Cómo te sientes respecto a las siguientes partes de tu cuerpo? [Pechos]',\n",
       "       '¿Cómo te sientes respecto a las siguientes partes de tu cuerpo? [Estómago]',\n",
       "       '¿Cómo te sientes respecto a las siguientes partes de tu cuerpo? [Nalgas]',\n",
       "       '¿Cómo te sientes respecto a las siguientes partes de tu cuerpo? [Cadera]',\n",
       "       '¿Cómo te sientes respecto a las siguientes partes de tu cuerpo? [Cintura]',\n",
       "       '¿Cómo te sientes respecto a las siguientes partes de tu cuerpo? [Piernas]',\n",
       "       '¿Cómo te sientes respecto a las siguientes partes de tu cuerpo? [Muslos]',\n",
       "       '¿Cómo te sientes respecto a las siguientes partes de tu cuerpo? [Pantorrillas]'],\n",
       "      dtype='object')"
      ]
     },
     "execution_count": 206,
     "metadata": {},
     "output_type": "execute_result"
    }
   ],
   "source": [
    "body_acceptance.columns"
   ]
  },
  {
   "cell_type": "code",
   "execution_count": 207,
   "id": "incomplete-failing",
   "metadata": {},
   "outputs": [],
   "source": [
    "body_acceptance.rename(columns={\n",
    "    '¿Cómo te sientes respecto a las siguientes partes de tu cuerpo? [Cara]': 'Cara',\n",
    "    '¿Cómo te sientes respecto a las siguientes partes de tu cuerpo? [Espalda/hombros]':'Espalda/hombros',\n",
    "    '¿Cómo te sientes respecto a las siguientes partes de tu cuerpo? [Brazos]' :'Brazos',\n",
    "    '¿Cómo te sientes respecto a las siguientes partes de tu cuerpo? [Pechos]':'Pechos',\n",
    "    '¿Cómo te sientes respecto a las siguientes partes de tu cuerpo? [Estómago]':'Estómago',\n",
    "    '¿Cómo te sientes respecto a las siguientes partes de tu cuerpo? [Nalgas]':'Nalgas',\n",
    "    '¿Cómo te sientes respecto a las siguientes partes de tu cuerpo? [Cadera]':'Caderas',\n",
    "    '¿Cómo te sientes respecto a las siguientes partes de tu cuerpo? [Cintura]':'Cintura',\n",
    "    '¿Cómo te sientes respecto a las siguientes partes de tu cuerpo? [Piernas]':'Piernas',\n",
    "    '¿Cómo te sientes respecto a las siguientes partes de tu cuerpo? [Muslos]':'Muslos',\n",
    "    '¿Cómo te sientes respecto a las siguientes partes de tu cuerpo? [Pantorrillas]':'Pantorrillas',\n",
    "     }, inplace=True)"
   ]
  },
  {
   "cell_type": "code",
   "execution_count": 208,
   "id": "fancy-extension",
   "metadata": {},
   "outputs": [
    {
     "name": "stdout",
     "output_type": "stream",
     "text": [
      "<class 'pandas.core.frame.DataFrame'>\n",
      "RangeIndex: 434 entries, 0 to 433\n",
      "Data columns (total 11 columns):\n",
      " #   Column           Non-Null Count  Dtype \n",
      "---  ------           --------------  ----- \n",
      " 0   Cara             432 non-null    object\n",
      " 1   Espalda/hombros  412 non-null    object\n",
      " 2   Brazos           411 non-null    object\n",
      " 3   Pechos           432 non-null    object\n",
      " 4   Estómago         430 non-null    object\n",
      " 5   Nalgas           433 non-null    object\n",
      " 6   Caderas          432 non-null    object\n",
      " 7   Cintura          431 non-null    object\n",
      " 8   Piernas          430 non-null    object\n",
      " 9   Muslos           432 non-null    object\n",
      " 10  Pantorrillas     433 non-null    object\n",
      "dtypes: object(11)\n",
      "memory usage: 37.4+ KB\n"
     ]
    }
   ],
   "source": [
    "body_acceptance.info()"
   ]
  },
  {
   "cell_type": "markdown",
   "id": "emerging-clarity",
   "metadata": {},
   "source": [
    "### a) Check missing values:"
   ]
  },
  {
   "cell_type": "code",
   "execution_count": 209,
   "id": "given-plant",
   "metadata": {},
   "outputs": [
    {
     "data": {
      "text/html": [
       "<div>\n",
       "<style scoped>\n",
       "    .dataframe tbody tr th:only-of-type {\n",
       "        vertical-align: middle;\n",
       "    }\n",
       "\n",
       "    .dataframe tbody tr th {\n",
       "        vertical-align: top;\n",
       "    }\n",
       "\n",
       "    .dataframe thead th {\n",
       "        text-align: right;\n",
       "    }\n",
       "</style>\n",
       "<table border=\"1\" class=\"dataframe\">\n",
       "  <thead>\n",
       "    <tr style=\"text-align: right;\">\n",
       "      <th></th>\n",
       "      <th>Percentage_NaN</th>\n",
       "    </tr>\n",
       "  </thead>\n",
       "  <tbody>\n",
       "    <tr>\n",
       "      <th>Brazos</th>\n",
       "      <td>5.3</td>\n",
       "    </tr>\n",
       "    <tr>\n",
       "      <th>Espalda/hombros</th>\n",
       "      <td>5.1</td>\n",
       "    </tr>\n",
       "    <tr>\n",
       "      <th>Estómago</th>\n",
       "      <td>0.9</td>\n",
       "    </tr>\n",
       "    <tr>\n",
       "      <th>Piernas</th>\n",
       "      <td>0.9</td>\n",
       "    </tr>\n",
       "    <tr>\n",
       "      <th>Cintura</th>\n",
       "      <td>0.7</td>\n",
       "    </tr>\n",
       "    <tr>\n",
       "      <th>Cara</th>\n",
       "      <td>0.5</td>\n",
       "    </tr>\n",
       "    <tr>\n",
       "      <th>Pechos</th>\n",
       "      <td>0.5</td>\n",
       "    </tr>\n",
       "    <tr>\n",
       "      <th>Caderas</th>\n",
       "      <td>0.5</td>\n",
       "    </tr>\n",
       "    <tr>\n",
       "      <th>Muslos</th>\n",
       "      <td>0.5</td>\n",
       "    </tr>\n",
       "    <tr>\n",
       "      <th>Nalgas</th>\n",
       "      <td>0.2</td>\n",
       "    </tr>\n",
       "    <tr>\n",
       "      <th>Pantorrillas</th>\n",
       "      <td>0.2</td>\n",
       "    </tr>\n",
       "  </tbody>\n",
       "</table>\n",
       "</div>"
      ],
      "text/plain": [
       "                 Percentage_NaN\n",
       "Brazos                      5.3\n",
       "Espalda/hombros             5.1\n",
       "Estómago                    0.9\n",
       "Piernas                     0.9\n",
       "Cintura                     0.7\n",
       "Cara                        0.5\n",
       "Pechos                      0.5\n",
       "Caderas                     0.5\n",
       "Muslos                      0.5\n",
       "Nalgas                      0.2\n",
       "Pantorrillas                0.2"
      ]
     },
     "execution_count": 209,
     "metadata": {},
     "output_type": "execute_result"
    }
   ],
   "source": [
    "percentage_nullValues(body_acceptance)"
   ]
  },
  {
   "cell_type": "code",
   "execution_count": 210,
   "id": "material-uzbekistan",
   "metadata": {},
   "outputs": [
    {
     "name": "stdout",
     "output_type": "stream",
     "text": [
      "Number of missing values on your dataset are\n",
      "\n",
      "Cara               0\n",
      "Espalda/hombros    0\n",
      "Brazos             0\n",
      "Pechos             0\n",
      "Estómago           0\n",
      "Nalgas             0\n",
      "Caderas            0\n",
      "Cintura            0\n",
      "Piernas            0\n",
      "Muslos             0\n",
      "Pantorrillas       0\n",
      "dtype: int64\n"
     ]
    },
    {
     "data": {
      "text/html": [
       "<div>\n",
       "<style scoped>\n",
       "    .dataframe tbody tr th:only-of-type {\n",
       "        vertical-align: middle;\n",
       "    }\n",
       "\n",
       "    .dataframe tbody tr th {\n",
       "        vertical-align: top;\n",
       "    }\n",
       "\n",
       "    .dataframe thead th {\n",
       "        text-align: right;\n",
       "    }\n",
       "</style>\n",
       "<table border=\"1\" class=\"dataframe\">\n",
       "  <thead>\n",
       "    <tr style=\"text-align: right;\">\n",
       "      <th></th>\n",
       "      <th>Cara</th>\n",
       "      <th>Espalda/hombros</th>\n",
       "      <th>Brazos</th>\n",
       "      <th>Pechos</th>\n",
       "      <th>Estómago</th>\n",
       "      <th>Nalgas</th>\n",
       "      <th>Caderas</th>\n",
       "      <th>Cintura</th>\n",
       "      <th>Piernas</th>\n",
       "      <th>Muslos</th>\n",
       "      <th>Pantorrillas</th>\n",
       "    </tr>\n",
       "  </thead>\n",
       "  <tbody>\n",
       "    <tr>\n",
       "      <th>0</th>\n",
       "      <td>Conforme</td>\n",
       "      <td>Conforme</td>\n",
       "      <td>Conforme</td>\n",
       "      <td>Disconforme</td>\n",
       "      <td>Disconforme</td>\n",
       "      <td>Conforme</td>\n",
       "      <td>Neutra</td>\n",
       "      <td>Neutra</td>\n",
       "      <td>Disconforme</td>\n",
       "      <td>Disconforme</td>\n",
       "      <td>Neutra</td>\n",
       "    </tr>\n",
       "    <tr>\n",
       "      <th>1</th>\n",
       "      <td>Orgullosa</td>\n",
       "      <td>Conforme</td>\n",
       "      <td>Conforme</td>\n",
       "      <td>Orgullosa</td>\n",
       "      <td>Orgullosa</td>\n",
       "      <td>Orgullosa</td>\n",
       "      <td>Orgullosa</td>\n",
       "      <td>Orgullosa</td>\n",
       "      <td>Orgullosa</td>\n",
       "      <td>Orgullosa</td>\n",
       "      <td>Orgullosa</td>\n",
       "    </tr>\n",
       "    <tr>\n",
       "      <th>2</th>\n",
       "      <td>Conforme</td>\n",
       "      <td>Conforme</td>\n",
       "      <td>Conforme</td>\n",
       "      <td>Disconforme</td>\n",
       "      <td>Disconforme</td>\n",
       "      <td>Neutra</td>\n",
       "      <td>Conforme</td>\n",
       "      <td>Neutra</td>\n",
       "      <td>Neutra</td>\n",
       "      <td>Neutra</td>\n",
       "      <td>Neutra</td>\n",
       "    </tr>\n",
       "    <tr>\n",
       "      <th>3</th>\n",
       "      <td>Conforme</td>\n",
       "      <td>Conforme</td>\n",
       "      <td>Conforme</td>\n",
       "      <td>Conforme</td>\n",
       "      <td>Disconforme</td>\n",
       "      <td>Conforme</td>\n",
       "      <td>Neutra</td>\n",
       "      <td>Conforme</td>\n",
       "      <td>Disconforme</td>\n",
       "      <td>Disconforme</td>\n",
       "      <td>Neutra</td>\n",
       "    </tr>\n",
       "    <tr>\n",
       "      <th>4</th>\n",
       "      <td>Disconforme</td>\n",
       "      <td>Conforme</td>\n",
       "      <td>Conforme</td>\n",
       "      <td>Conforme</td>\n",
       "      <td>Orgullosa</td>\n",
       "      <td>Orgullosa</td>\n",
       "      <td>Orgullosa</td>\n",
       "      <td>Orgullosa</td>\n",
       "      <td>Neutra</td>\n",
       "      <td>Neutra</td>\n",
       "      <td>Conforme</td>\n",
       "    </tr>\n",
       "    <tr>\n",
       "      <th>...</th>\n",
       "      <td>...</td>\n",
       "      <td>...</td>\n",
       "      <td>...</td>\n",
       "      <td>...</td>\n",
       "      <td>...</td>\n",
       "      <td>...</td>\n",
       "      <td>...</td>\n",
       "      <td>...</td>\n",
       "      <td>...</td>\n",
       "      <td>...</td>\n",
       "      <td>...</td>\n",
       "    </tr>\n",
       "    <tr>\n",
       "      <th>429</th>\n",
       "      <td>Neutra</td>\n",
       "      <td>Conforme</td>\n",
       "      <td>Conforme</td>\n",
       "      <td>Conforme</td>\n",
       "      <td>Conforme</td>\n",
       "      <td>Orgullosa</td>\n",
       "      <td>Orgullosa</td>\n",
       "      <td>Conforme</td>\n",
       "      <td>Conforme</td>\n",
       "      <td>Conforme</td>\n",
       "      <td>Conforme</td>\n",
       "    </tr>\n",
       "    <tr>\n",
       "      <th>430</th>\n",
       "      <td>Conforme</td>\n",
       "      <td>Conforme</td>\n",
       "      <td>Disconforme</td>\n",
       "      <td>Orgullosa</td>\n",
       "      <td>Disconforme</td>\n",
       "      <td>Neutra</td>\n",
       "      <td>Conforme</td>\n",
       "      <td>Orgullosa</td>\n",
       "      <td>Neutra</td>\n",
       "      <td>Neutra</td>\n",
       "      <td>Conforme</td>\n",
       "    </tr>\n",
       "    <tr>\n",
       "      <th>431</th>\n",
       "      <td>Disconforme</td>\n",
       "      <td>Neutra</td>\n",
       "      <td>Disconforme</td>\n",
       "      <td>Conforme</td>\n",
       "      <td>Disconforme</td>\n",
       "      <td>Disconforme</td>\n",
       "      <td>Disconforme</td>\n",
       "      <td>Disconforme</td>\n",
       "      <td>Disconforme</td>\n",
       "      <td>Disconforme</td>\n",
       "      <td>Disconforme</td>\n",
       "    </tr>\n",
       "    <tr>\n",
       "      <th>432</th>\n",
       "      <td>Neutra</td>\n",
       "      <td>Disconforme</td>\n",
       "      <td>Neutra</td>\n",
       "      <td>Neutra</td>\n",
       "      <td>Disconforme</td>\n",
       "      <td>Conforme</td>\n",
       "      <td>Conforme</td>\n",
       "      <td>Disconforme</td>\n",
       "      <td>Neutra</td>\n",
       "      <td>Neutra</td>\n",
       "      <td>Neutra</td>\n",
       "    </tr>\n",
       "    <tr>\n",
       "      <th>433</th>\n",
       "      <td>Conforme</td>\n",
       "      <td>Neutra</td>\n",
       "      <td>Neutra</td>\n",
       "      <td>Conforme</td>\n",
       "      <td>Disconforme</td>\n",
       "      <td>Conforme</td>\n",
       "      <td>Orgullosa</td>\n",
       "      <td>Neutra</td>\n",
       "      <td>Orgullosa</td>\n",
       "      <td>Disconforme</td>\n",
       "      <td>Conforme</td>\n",
       "    </tr>\n",
       "  </tbody>\n",
       "</table>\n",
       "<p>434 rows × 11 columns</p>\n",
       "</div>"
      ],
      "text/plain": [
       "            Cara Espalda/hombros       Brazos       Pechos     Estómago  \\\n",
       "0       Conforme        Conforme     Conforme  Disconforme  Disconforme   \n",
       "1      Orgullosa        Conforme     Conforme    Orgullosa    Orgullosa   \n",
       "2       Conforme        Conforme     Conforme  Disconforme  Disconforme   \n",
       "3       Conforme        Conforme     Conforme     Conforme  Disconforme   \n",
       "4    Disconforme        Conforme     Conforme     Conforme    Orgullosa   \n",
       "..           ...             ...          ...          ...          ...   \n",
       "429       Neutra        Conforme     Conforme     Conforme     Conforme   \n",
       "430     Conforme        Conforme  Disconforme    Orgullosa  Disconforme   \n",
       "431  Disconforme          Neutra  Disconforme     Conforme  Disconforme   \n",
       "432       Neutra     Disconforme       Neutra       Neutra  Disconforme   \n",
       "433     Conforme          Neutra       Neutra     Conforme  Disconforme   \n",
       "\n",
       "          Nalgas      Caderas      Cintura      Piernas       Muslos  \\\n",
       "0       Conforme       Neutra       Neutra  Disconforme  Disconforme   \n",
       "1      Orgullosa    Orgullosa    Orgullosa    Orgullosa    Orgullosa   \n",
       "2         Neutra     Conforme       Neutra       Neutra       Neutra   \n",
       "3       Conforme       Neutra     Conforme  Disconforme  Disconforme   \n",
       "4      Orgullosa    Orgullosa    Orgullosa       Neutra       Neutra   \n",
       "..           ...          ...          ...          ...          ...   \n",
       "429    Orgullosa    Orgullosa     Conforme     Conforme     Conforme   \n",
       "430       Neutra     Conforme    Orgullosa       Neutra       Neutra   \n",
       "431  Disconforme  Disconforme  Disconforme  Disconforme  Disconforme   \n",
       "432     Conforme     Conforme  Disconforme       Neutra       Neutra   \n",
       "433     Conforme    Orgullosa       Neutra    Orgullosa  Disconforme   \n",
       "\n",
       "    Pantorrillas  \n",
       "0         Neutra  \n",
       "1      Orgullosa  \n",
       "2         Neutra  \n",
       "3         Neutra  \n",
       "4       Conforme  \n",
       "..           ...  \n",
       "429     Conforme  \n",
       "430     Conforme  \n",
       "431  Disconforme  \n",
       "432       Neutra  \n",
       "433     Conforme  \n",
       "\n",
       "[434 rows x 11 columns]"
      ]
     },
     "execution_count": 210,
     "metadata": {},
     "output_type": "execute_result"
    }
   ],
   "source": [
    "fill_na(body_acceptance)"
   ]
  },
  {
   "cell_type": "markdown",
   "id": "cathedral-actress",
   "metadata": {},
   "source": [
    "- puntuacion rango entre 11 y 44 \n",
    "- Escala = Disconforme: 1 / Neutra: 2 / Conforme: 3 / Orgullosa: 4 \n",
    "- 11 a 22: Grado alto de disconformidad con el propio cuerpo\n",
    "- 23 a 33: Grado medio de conformidad con el cuerpo\n",
    "- 34 a 44: Grado alto de conformidad con el cuerpo"
   ]
  },
  {
   "cell_type": "markdown",
   "id": "hispanic-bicycle",
   "metadata": {},
   "source": [
    "### b) Dealing with categorical variables\n"
   ]
  },
  {
   "cell_type": "code",
   "execution_count": 211,
   "id": "contrary-visibility",
   "metadata": {},
   "outputs": [],
   "source": [
    "replace_map_acceptance = {'Disconforme':1,\n",
    "               'Neutra':2,\n",
    "              'Conforme':3,\n",
    "              'Orgullosa':4}"
   ]
  },
  {
   "cell_type": "code",
   "execution_count": 212,
   "id": "automated-emerald",
   "metadata": {},
   "outputs": [],
   "source": [
    "body_acceptance['Cara'].replace(replace_map_acceptance, inplace=True)\n",
    "body_acceptance['Espalda/hombros'].replace(replace_map_acceptance, inplace=True)\n",
    "body_acceptance['Brazos'].replace(replace_map_acceptance, inplace=True)\n",
    "body_acceptance['Pechos'].replace(replace_map_acceptance, inplace=True)\n",
    "body_acceptance['Estómago'].replace(replace_map_acceptance, inplace=True)\n",
    "body_acceptance['Nalgas'].replace(replace_map_acceptance, inplace=True)\n",
    "body_acceptance['Caderas'].replace(replace_map_acceptance, inplace=True)\n",
    "body_acceptance['Cintura'].replace(replace_map_acceptance, inplace=True)\n",
    "body_acceptance['Piernas'].replace(replace_map_acceptance, inplace=True)\n",
    "body_acceptance['Muslos'].replace(replace_map_acceptance, inplace=True)\n",
    "body_acceptance['Pantorrillas'].replace(replace_map_acceptance, inplace=True)"
   ]
  },
  {
   "cell_type": "code",
   "execution_count": 213,
   "id": "conceptual-surrey",
   "metadata": {},
   "outputs": [
    {
     "data": {
      "text/html": [
       "<div>\n",
       "<style scoped>\n",
       "    .dataframe tbody tr th:only-of-type {\n",
       "        vertical-align: middle;\n",
       "    }\n",
       "\n",
       "    .dataframe tbody tr th {\n",
       "        vertical-align: top;\n",
       "    }\n",
       "\n",
       "    .dataframe thead th {\n",
       "        text-align: right;\n",
       "    }\n",
       "</style>\n",
       "<table border=\"1\" class=\"dataframe\">\n",
       "  <thead>\n",
       "    <tr style=\"text-align: right;\">\n",
       "      <th></th>\n",
       "      <th>Cara</th>\n",
       "      <th>Espalda/hombros</th>\n",
       "      <th>Brazos</th>\n",
       "      <th>Pechos</th>\n",
       "      <th>Estómago</th>\n",
       "      <th>Nalgas</th>\n",
       "      <th>Caderas</th>\n",
       "      <th>Cintura</th>\n",
       "      <th>Piernas</th>\n",
       "      <th>Muslos</th>\n",
       "      <th>Pantorrillas</th>\n",
       "    </tr>\n",
       "  </thead>\n",
       "  <tbody>\n",
       "    <tr>\n",
       "      <th>0</th>\n",
       "      <td>3</td>\n",
       "      <td>3</td>\n",
       "      <td>3</td>\n",
       "      <td>1</td>\n",
       "      <td>1</td>\n",
       "      <td>3</td>\n",
       "      <td>2</td>\n",
       "      <td>2</td>\n",
       "      <td>1</td>\n",
       "      <td>1</td>\n",
       "      <td>2</td>\n",
       "    </tr>\n",
       "    <tr>\n",
       "      <th>1</th>\n",
       "      <td>4</td>\n",
       "      <td>3</td>\n",
       "      <td>3</td>\n",
       "      <td>4</td>\n",
       "      <td>4</td>\n",
       "      <td>4</td>\n",
       "      <td>4</td>\n",
       "      <td>4</td>\n",
       "      <td>4</td>\n",
       "      <td>4</td>\n",
       "      <td>4</td>\n",
       "    </tr>\n",
       "    <tr>\n",
       "      <th>2</th>\n",
       "      <td>3</td>\n",
       "      <td>3</td>\n",
       "      <td>3</td>\n",
       "      <td>1</td>\n",
       "      <td>1</td>\n",
       "      <td>2</td>\n",
       "      <td>3</td>\n",
       "      <td>2</td>\n",
       "      <td>2</td>\n",
       "      <td>2</td>\n",
       "      <td>2</td>\n",
       "    </tr>\n",
       "    <tr>\n",
       "      <th>3</th>\n",
       "      <td>3</td>\n",
       "      <td>3</td>\n",
       "      <td>3</td>\n",
       "      <td>3</td>\n",
       "      <td>1</td>\n",
       "      <td>3</td>\n",
       "      <td>2</td>\n",
       "      <td>3</td>\n",
       "      <td>1</td>\n",
       "      <td>1</td>\n",
       "      <td>2</td>\n",
       "    </tr>\n",
       "    <tr>\n",
       "      <th>4</th>\n",
       "      <td>1</td>\n",
       "      <td>3</td>\n",
       "      <td>3</td>\n",
       "      <td>3</td>\n",
       "      <td>4</td>\n",
       "      <td>4</td>\n",
       "      <td>4</td>\n",
       "      <td>4</td>\n",
       "      <td>2</td>\n",
       "      <td>2</td>\n",
       "      <td>3</td>\n",
       "    </tr>\n",
       "    <tr>\n",
       "      <th>5</th>\n",
       "      <td>3</td>\n",
       "      <td>3</td>\n",
       "      <td>3</td>\n",
       "      <td>3</td>\n",
       "      <td>3</td>\n",
       "      <td>3</td>\n",
       "      <td>3</td>\n",
       "      <td>3</td>\n",
       "      <td>3</td>\n",
       "      <td>3</td>\n",
       "      <td>3</td>\n",
       "    </tr>\n",
       "    <tr>\n",
       "      <th>6</th>\n",
       "      <td>1</td>\n",
       "      <td>3</td>\n",
       "      <td>3</td>\n",
       "      <td>2</td>\n",
       "      <td>1</td>\n",
       "      <td>3</td>\n",
       "      <td>4</td>\n",
       "      <td>3</td>\n",
       "      <td>3</td>\n",
       "      <td>3</td>\n",
       "      <td>3</td>\n",
       "    </tr>\n",
       "    <tr>\n",
       "      <th>7</th>\n",
       "      <td>4</td>\n",
       "      <td>3</td>\n",
       "      <td>3</td>\n",
       "      <td>1</td>\n",
       "      <td>1</td>\n",
       "      <td>1</td>\n",
       "      <td>1</td>\n",
       "      <td>1</td>\n",
       "      <td>3</td>\n",
       "      <td>3</td>\n",
       "      <td>3</td>\n",
       "    </tr>\n",
       "    <tr>\n",
       "      <th>8</th>\n",
       "      <td>2</td>\n",
       "      <td>3</td>\n",
       "      <td>3</td>\n",
       "      <td>4</td>\n",
       "      <td>4</td>\n",
       "      <td>3</td>\n",
       "      <td>3</td>\n",
       "      <td>4</td>\n",
       "      <td>4</td>\n",
       "      <td>4</td>\n",
       "      <td>2</td>\n",
       "    </tr>\n",
       "    <tr>\n",
       "      <th>9</th>\n",
       "      <td>2</td>\n",
       "      <td>3</td>\n",
       "      <td>3</td>\n",
       "      <td>2</td>\n",
       "      <td>1</td>\n",
       "      <td>2</td>\n",
       "      <td>1</td>\n",
       "      <td>1</td>\n",
       "      <td>1</td>\n",
       "      <td>1</td>\n",
       "      <td>2</td>\n",
       "    </tr>\n",
       "  </tbody>\n",
       "</table>\n",
       "</div>"
      ],
      "text/plain": [
       "   Cara  Espalda/hombros  Brazos  Pechos  Estómago  Nalgas  Caderas  Cintura  \\\n",
       "0     3                3       3       1         1       3        2        2   \n",
       "1     4                3       3       4         4       4        4        4   \n",
       "2     3                3       3       1         1       2        3        2   \n",
       "3     3                3       3       3         1       3        2        3   \n",
       "4     1                3       3       3         4       4        4        4   \n",
       "5     3                3       3       3         3       3        3        3   \n",
       "6     1                3       3       2         1       3        4        3   \n",
       "7     4                3       3       1         1       1        1        1   \n",
       "8     2                3       3       4         4       3        3        4   \n",
       "9     2                3       3       2         1       2        1        1   \n",
       "\n",
       "   Piernas  Muslos  Pantorrillas  \n",
       "0        1       1             2  \n",
       "1        4       4             4  \n",
       "2        2       2             2  \n",
       "3        1       1             2  \n",
       "4        2       2             3  \n",
       "5        3       3             3  \n",
       "6        3       3             3  \n",
       "7        3       3             3  \n",
       "8        4       4             2  \n",
       "9        1       1             2  "
      ]
     },
     "execution_count": 213,
     "metadata": {},
     "output_type": "execute_result"
    }
   ],
   "source": [
    "body_acceptance.head(10)"
   ]
  },
  {
   "cell_type": "markdown",
   "id": "dutch-sister",
   "metadata": {},
   "source": [
    "### c) Dealing with numerical variables\n"
   ]
  },
  {
   "cell_type": "code",
   "execution_count": 214,
   "id": "meaningful-vancouver",
   "metadata": {},
   "outputs": [],
   "source": [
    "body_acceptance['total_acceptance']=body_acceptance.sum(axis=1)"
   ]
  },
  {
   "cell_type": "code",
   "execution_count": 215,
   "id": "swiss-tribune",
   "metadata": {},
   "outputs": [
    {
     "data": {
      "text/html": [
       "<div>\n",
       "<style scoped>\n",
       "    .dataframe tbody tr th:only-of-type {\n",
       "        vertical-align: middle;\n",
       "    }\n",
       "\n",
       "    .dataframe tbody tr th {\n",
       "        vertical-align: top;\n",
       "    }\n",
       "\n",
       "    .dataframe thead th {\n",
       "        text-align: right;\n",
       "    }\n",
       "</style>\n",
       "<table border=\"1\" class=\"dataframe\">\n",
       "  <thead>\n",
       "    <tr style=\"text-align: right;\">\n",
       "      <th></th>\n",
       "      <th>Cara</th>\n",
       "      <th>Espalda/hombros</th>\n",
       "      <th>Brazos</th>\n",
       "      <th>Pechos</th>\n",
       "      <th>Estómago</th>\n",
       "      <th>Nalgas</th>\n",
       "      <th>Caderas</th>\n",
       "      <th>Cintura</th>\n",
       "      <th>Piernas</th>\n",
       "      <th>Muslos</th>\n",
       "      <th>Pantorrillas</th>\n",
       "      <th>total_acceptance</th>\n",
       "    </tr>\n",
       "  </thead>\n",
       "  <tbody>\n",
       "    <tr>\n",
       "      <th>0</th>\n",
       "      <td>3</td>\n",
       "      <td>3</td>\n",
       "      <td>3</td>\n",
       "      <td>1</td>\n",
       "      <td>1</td>\n",
       "      <td>3</td>\n",
       "      <td>2</td>\n",
       "      <td>2</td>\n",
       "      <td>1</td>\n",
       "      <td>1</td>\n",
       "      <td>2</td>\n",
       "      <td>22</td>\n",
       "    </tr>\n",
       "    <tr>\n",
       "      <th>1</th>\n",
       "      <td>4</td>\n",
       "      <td>3</td>\n",
       "      <td>3</td>\n",
       "      <td>4</td>\n",
       "      <td>4</td>\n",
       "      <td>4</td>\n",
       "      <td>4</td>\n",
       "      <td>4</td>\n",
       "      <td>4</td>\n",
       "      <td>4</td>\n",
       "      <td>4</td>\n",
       "      <td>42</td>\n",
       "    </tr>\n",
       "    <tr>\n",
       "      <th>2</th>\n",
       "      <td>3</td>\n",
       "      <td>3</td>\n",
       "      <td>3</td>\n",
       "      <td>1</td>\n",
       "      <td>1</td>\n",
       "      <td>2</td>\n",
       "      <td>3</td>\n",
       "      <td>2</td>\n",
       "      <td>2</td>\n",
       "      <td>2</td>\n",
       "      <td>2</td>\n",
       "      <td>24</td>\n",
       "    </tr>\n",
       "    <tr>\n",
       "      <th>3</th>\n",
       "      <td>3</td>\n",
       "      <td>3</td>\n",
       "      <td>3</td>\n",
       "      <td>3</td>\n",
       "      <td>1</td>\n",
       "      <td>3</td>\n",
       "      <td>2</td>\n",
       "      <td>3</td>\n",
       "      <td>1</td>\n",
       "      <td>1</td>\n",
       "      <td>2</td>\n",
       "      <td>25</td>\n",
       "    </tr>\n",
       "    <tr>\n",
       "      <th>4</th>\n",
       "      <td>1</td>\n",
       "      <td>3</td>\n",
       "      <td>3</td>\n",
       "      <td>3</td>\n",
       "      <td>4</td>\n",
       "      <td>4</td>\n",
       "      <td>4</td>\n",
       "      <td>4</td>\n",
       "      <td>2</td>\n",
       "      <td>2</td>\n",
       "      <td>3</td>\n",
       "      <td>33</td>\n",
       "    </tr>\n",
       "  </tbody>\n",
       "</table>\n",
       "</div>"
      ],
      "text/plain": [
       "   Cara  Espalda/hombros  Brazos  Pechos  Estómago  Nalgas  Caderas  Cintura  \\\n",
       "0     3                3       3       1         1       3        2        2   \n",
       "1     4                3       3       4         4       4        4        4   \n",
       "2     3                3       3       1         1       2        3        2   \n",
       "3     3                3       3       3         1       3        2        3   \n",
       "4     1                3       3       3         4       4        4        4   \n",
       "\n",
       "   Piernas  Muslos  Pantorrillas  total_acceptance  \n",
       "0        1       1             2                22  \n",
       "1        4       4             4                42  \n",
       "2        2       2             2                24  \n",
       "3        1       1             2                25  \n",
       "4        2       2             3                33  "
      ]
     },
     "execution_count": 215,
     "metadata": {},
     "output_type": "execute_result"
    }
   ],
   "source": [
    "body_acceptance.head()"
   ]
  },
  {
   "cell_type": "markdown",
   "id": "registered-arrow",
   "metadata": {},
   "source": [
    "### d) Drop duplicates"
   ]
  },
  {
   "cell_type": "code",
   "execution_count": 216,
   "id": "religious-appeal",
   "metadata": {},
   "outputs": [
    {
     "data": {
      "text/plain": [
       "23"
      ]
     },
     "execution_count": 216,
     "metadata": {},
     "output_type": "execute_result"
    }
   ],
   "source": [
    "body_acceptance.duplicated().sum()"
   ]
  },
  {
   "cell_type": "markdown",
   "id": "civilian-region",
   "metadata": {},
   "source": [
    "### e) Adding some diagnose\n"
   ]
  },
  {
   "cell_type": "markdown",
   "id": "lucky-transition",
   "metadata": {},
   "source": [
    "- puntuacion rango entre 11 y 44 \n",
    "- Escala = Disconforme: 1 / Neutra: 2 / Conforme: 3 / Orgullosa: 4 \n",
    "- 11 a 22: Grado alto de disconformidad con el propio cuerpo\n",
    "- 23 a 33: Grado medio de conformidad con el cuerpo\n",
    "- 34 a 44: Grado alto de conformidad con el cuerpo\n",
    "\n",
    "- tag_acceptance 1=bajo, 2=medio, 3=alto"
   ]
  },
  {
   "cell_type": "code",
   "execution_count": 217,
   "id": "indonesian-income",
   "metadata": {},
   "outputs": [
    {
     "data": {
      "text/plain": [
       "(180, 12)"
      ]
     },
     "execution_count": 217,
     "metadata": {},
     "output_type": "execute_result"
    }
   ],
   "source": [
    "low_acceptance = body_acceptance[body_acceptance.total_acceptance<=22]\n",
    "low_acceptance.shape"
   ]
  },
  {
   "cell_type": "code",
   "execution_count": 218,
   "id": "fallen-production",
   "metadata": {},
   "outputs": [
    {
     "data": {
      "text/plain": [
       "(194, 12)"
      ]
     },
     "execution_count": 218,
     "metadata": {},
     "output_type": "execute_result"
    }
   ],
   "source": [
    "med_acceptance = body_acceptance[(body_acceptance.total_acceptance>=23)&(body_acceptance.total_acceptance<=33)]\n",
    "med_acceptance.shape"
   ]
  },
  {
   "cell_type": "code",
   "execution_count": 219,
   "id": "quarterly-michigan",
   "metadata": {},
   "outputs": [
    {
     "data": {
      "text/plain": [
       "(60, 12)"
      ]
     },
     "execution_count": 219,
     "metadata": {},
     "output_type": "execute_result"
    }
   ],
   "source": [
    "high_acceptance = body_acceptance[body_acceptance.total_acceptance>=34]\n",
    "high_acceptance.shape"
   ]
  },
  {
   "cell_type": "code",
   "execution_count": 220,
   "id": "hydraulic-vertical",
   "metadata": {},
   "outputs": [],
   "source": [
    "body_acceptance.loc[body_acceptance.total_acceptance<=22,'tag_acceptance']=1"
   ]
  },
  {
   "cell_type": "code",
   "execution_count": 227,
   "id": "stuffed-board",
   "metadata": {},
   "outputs": [],
   "source": [
    "body_acceptance.loc[(body_acceptance.total_acceptance>=23)&(body_acceptance.total_acceptance<=33),'tag_acceptance']=2"
   ]
  },
  {
   "cell_type": "code",
   "execution_count": 228,
   "id": "lasting-channels",
   "metadata": {},
   "outputs": [],
   "source": [
    "body_acceptance.loc[body_acceptance.total_acceptance>=34,'tag_acceptance']=3"
   ]
  },
  {
   "cell_type": "code",
   "execution_count": 229,
   "id": "twenty-pulse",
   "metadata": {},
   "outputs": [
    {
     "data": {
      "text/html": [
       "<div>\n",
       "<style scoped>\n",
       "    .dataframe tbody tr th:only-of-type {\n",
       "        vertical-align: middle;\n",
       "    }\n",
       "\n",
       "    .dataframe tbody tr th {\n",
       "        vertical-align: top;\n",
       "    }\n",
       "\n",
       "    .dataframe thead th {\n",
       "        text-align: right;\n",
       "    }\n",
       "</style>\n",
       "<table border=\"1\" class=\"dataframe\">\n",
       "  <thead>\n",
       "    <tr style=\"text-align: right;\">\n",
       "      <th></th>\n",
       "      <th>Cara</th>\n",
       "      <th>Espalda/hombros</th>\n",
       "      <th>Brazos</th>\n",
       "      <th>Pechos</th>\n",
       "      <th>Estómago</th>\n",
       "      <th>Nalgas</th>\n",
       "      <th>Caderas</th>\n",
       "      <th>Cintura</th>\n",
       "      <th>Piernas</th>\n",
       "      <th>Muslos</th>\n",
       "      <th>Pantorrillas</th>\n",
       "      <th>total_acceptance</th>\n",
       "      <th>tag_acceptance</th>\n",
       "    </tr>\n",
       "  </thead>\n",
       "  <tbody>\n",
       "    <tr>\n",
       "      <th>0</th>\n",
       "      <td>3</td>\n",
       "      <td>3</td>\n",
       "      <td>3</td>\n",
       "      <td>1</td>\n",
       "      <td>1</td>\n",
       "      <td>3</td>\n",
       "      <td>2</td>\n",
       "      <td>2</td>\n",
       "      <td>1</td>\n",
       "      <td>1</td>\n",
       "      <td>2</td>\n",
       "      <td>22</td>\n",
       "      <td>1.0</td>\n",
       "    </tr>\n",
       "    <tr>\n",
       "      <th>1</th>\n",
       "      <td>4</td>\n",
       "      <td>3</td>\n",
       "      <td>3</td>\n",
       "      <td>4</td>\n",
       "      <td>4</td>\n",
       "      <td>4</td>\n",
       "      <td>4</td>\n",
       "      <td>4</td>\n",
       "      <td>4</td>\n",
       "      <td>4</td>\n",
       "      <td>4</td>\n",
       "      <td>42</td>\n",
       "      <td>3.0</td>\n",
       "    </tr>\n",
       "    <tr>\n",
       "      <th>2</th>\n",
       "      <td>3</td>\n",
       "      <td>3</td>\n",
       "      <td>3</td>\n",
       "      <td>1</td>\n",
       "      <td>1</td>\n",
       "      <td>2</td>\n",
       "      <td>3</td>\n",
       "      <td>2</td>\n",
       "      <td>2</td>\n",
       "      <td>2</td>\n",
       "      <td>2</td>\n",
       "      <td>24</td>\n",
       "      <td>2.0</td>\n",
       "    </tr>\n",
       "    <tr>\n",
       "      <th>3</th>\n",
       "      <td>3</td>\n",
       "      <td>3</td>\n",
       "      <td>3</td>\n",
       "      <td>3</td>\n",
       "      <td>1</td>\n",
       "      <td>3</td>\n",
       "      <td>2</td>\n",
       "      <td>3</td>\n",
       "      <td>1</td>\n",
       "      <td>1</td>\n",
       "      <td>2</td>\n",
       "      <td>25</td>\n",
       "      <td>2.0</td>\n",
       "    </tr>\n",
       "    <tr>\n",
       "      <th>4</th>\n",
       "      <td>1</td>\n",
       "      <td>3</td>\n",
       "      <td>3</td>\n",
       "      <td>3</td>\n",
       "      <td>4</td>\n",
       "      <td>4</td>\n",
       "      <td>4</td>\n",
       "      <td>4</td>\n",
       "      <td>2</td>\n",
       "      <td>2</td>\n",
       "      <td>3</td>\n",
       "      <td>33</td>\n",
       "      <td>2.0</td>\n",
       "    </tr>\n",
       "    <tr>\n",
       "      <th>5</th>\n",
       "      <td>3</td>\n",
       "      <td>3</td>\n",
       "      <td>3</td>\n",
       "      <td>3</td>\n",
       "      <td>3</td>\n",
       "      <td>3</td>\n",
       "      <td>3</td>\n",
       "      <td>3</td>\n",
       "      <td>3</td>\n",
       "      <td>3</td>\n",
       "      <td>3</td>\n",
       "      <td>33</td>\n",
       "      <td>2.0</td>\n",
       "    </tr>\n",
       "    <tr>\n",
       "      <th>6</th>\n",
       "      <td>1</td>\n",
       "      <td>3</td>\n",
       "      <td>3</td>\n",
       "      <td>2</td>\n",
       "      <td>1</td>\n",
       "      <td>3</td>\n",
       "      <td>4</td>\n",
       "      <td>3</td>\n",
       "      <td>3</td>\n",
       "      <td>3</td>\n",
       "      <td>3</td>\n",
       "      <td>29</td>\n",
       "      <td>2.0</td>\n",
       "    </tr>\n",
       "    <tr>\n",
       "      <th>7</th>\n",
       "      <td>4</td>\n",
       "      <td>3</td>\n",
       "      <td>3</td>\n",
       "      <td>1</td>\n",
       "      <td>1</td>\n",
       "      <td>1</td>\n",
       "      <td>1</td>\n",
       "      <td>1</td>\n",
       "      <td>3</td>\n",
       "      <td>3</td>\n",
       "      <td>3</td>\n",
       "      <td>24</td>\n",
       "      <td>2.0</td>\n",
       "    </tr>\n",
       "    <tr>\n",
       "      <th>8</th>\n",
       "      <td>2</td>\n",
       "      <td>3</td>\n",
       "      <td>3</td>\n",
       "      <td>4</td>\n",
       "      <td>4</td>\n",
       "      <td>3</td>\n",
       "      <td>3</td>\n",
       "      <td>4</td>\n",
       "      <td>4</td>\n",
       "      <td>4</td>\n",
       "      <td>2</td>\n",
       "      <td>36</td>\n",
       "      <td>3.0</td>\n",
       "    </tr>\n",
       "    <tr>\n",
       "      <th>9</th>\n",
       "      <td>2</td>\n",
       "      <td>3</td>\n",
       "      <td>3</td>\n",
       "      <td>2</td>\n",
       "      <td>1</td>\n",
       "      <td>2</td>\n",
       "      <td>1</td>\n",
       "      <td>1</td>\n",
       "      <td>1</td>\n",
       "      <td>1</td>\n",
       "      <td>2</td>\n",
       "      <td>19</td>\n",
       "      <td>1.0</td>\n",
       "    </tr>\n",
       "    <tr>\n",
       "      <th>10</th>\n",
       "      <td>4</td>\n",
       "      <td>3</td>\n",
       "      <td>3</td>\n",
       "      <td>3</td>\n",
       "      <td>1</td>\n",
       "      <td>3</td>\n",
       "      <td>3</td>\n",
       "      <td>3</td>\n",
       "      <td>4</td>\n",
       "      <td>1</td>\n",
       "      <td>4</td>\n",
       "      <td>32</td>\n",
       "      <td>2.0</td>\n",
       "    </tr>\n",
       "    <tr>\n",
       "      <th>11</th>\n",
       "      <td>2</td>\n",
       "      <td>3</td>\n",
       "      <td>3</td>\n",
       "      <td>1</td>\n",
       "      <td>1</td>\n",
       "      <td>2</td>\n",
       "      <td>2</td>\n",
       "      <td>2</td>\n",
       "      <td>3</td>\n",
       "      <td>3</td>\n",
       "      <td>3</td>\n",
       "      <td>25</td>\n",
       "      <td>2.0</td>\n",
       "    </tr>\n",
       "    <tr>\n",
       "      <th>12</th>\n",
       "      <td>4</td>\n",
       "      <td>3</td>\n",
       "      <td>3</td>\n",
       "      <td>2</td>\n",
       "      <td>1</td>\n",
       "      <td>1</td>\n",
       "      <td>1</td>\n",
       "      <td>1</td>\n",
       "      <td>4</td>\n",
       "      <td>3</td>\n",
       "      <td>2</td>\n",
       "      <td>25</td>\n",
       "      <td>2.0</td>\n",
       "    </tr>\n",
       "    <tr>\n",
       "      <th>13</th>\n",
       "      <td>3</td>\n",
       "      <td>3</td>\n",
       "      <td>3</td>\n",
       "      <td>3</td>\n",
       "      <td>3</td>\n",
       "      <td>3</td>\n",
       "      <td>3</td>\n",
       "      <td>3</td>\n",
       "      <td>3</td>\n",
       "      <td>3</td>\n",
       "      <td>3</td>\n",
       "      <td>33</td>\n",
       "      <td>2.0</td>\n",
       "    </tr>\n",
       "    <tr>\n",
       "      <th>14</th>\n",
       "      <td>4</td>\n",
       "      <td>3</td>\n",
       "      <td>3</td>\n",
       "      <td>4</td>\n",
       "      <td>4</td>\n",
       "      <td>4</td>\n",
       "      <td>4</td>\n",
       "      <td>4</td>\n",
       "      <td>4</td>\n",
       "      <td>4</td>\n",
       "      <td>4</td>\n",
       "      <td>42</td>\n",
       "      <td>3.0</td>\n",
       "    </tr>\n",
       "    <tr>\n",
       "      <th>15</th>\n",
       "      <td>3</td>\n",
       "      <td>3</td>\n",
       "      <td>3</td>\n",
       "      <td>3</td>\n",
       "      <td>1</td>\n",
       "      <td>1</td>\n",
       "      <td>1</td>\n",
       "      <td>3</td>\n",
       "      <td>1</td>\n",
       "      <td>1</td>\n",
       "      <td>1</td>\n",
       "      <td>21</td>\n",
       "      <td>1.0</td>\n",
       "    </tr>\n",
       "    <tr>\n",
       "      <th>16</th>\n",
       "      <td>4</td>\n",
       "      <td>3</td>\n",
       "      <td>3</td>\n",
       "      <td>4</td>\n",
       "      <td>4</td>\n",
       "      <td>4</td>\n",
       "      <td>4</td>\n",
       "      <td>4</td>\n",
       "      <td>4</td>\n",
       "      <td>4</td>\n",
       "      <td>4</td>\n",
       "      <td>42</td>\n",
       "      <td>3.0</td>\n",
       "    </tr>\n",
       "    <tr>\n",
       "      <th>17</th>\n",
       "      <td>4</td>\n",
       "      <td>3</td>\n",
       "      <td>3</td>\n",
       "      <td>4</td>\n",
       "      <td>1</td>\n",
       "      <td>1</td>\n",
       "      <td>1</td>\n",
       "      <td>1</td>\n",
       "      <td>1</td>\n",
       "      <td>1</td>\n",
       "      <td>1</td>\n",
       "      <td>21</td>\n",
       "      <td>1.0</td>\n",
       "    </tr>\n",
       "    <tr>\n",
       "      <th>18</th>\n",
       "      <td>1</td>\n",
       "      <td>3</td>\n",
       "      <td>3</td>\n",
       "      <td>4</td>\n",
       "      <td>1</td>\n",
       "      <td>2</td>\n",
       "      <td>3</td>\n",
       "      <td>2</td>\n",
       "      <td>1</td>\n",
       "      <td>1</td>\n",
       "      <td>1</td>\n",
       "      <td>22</td>\n",
       "      <td>1.0</td>\n",
       "    </tr>\n",
       "    <tr>\n",
       "      <th>19</th>\n",
       "      <td>1</td>\n",
       "      <td>3</td>\n",
       "      <td>3</td>\n",
       "      <td>1</td>\n",
       "      <td>1</td>\n",
       "      <td>2</td>\n",
       "      <td>2</td>\n",
       "      <td>1</td>\n",
       "      <td>1</td>\n",
       "      <td>1</td>\n",
       "      <td>1</td>\n",
       "      <td>17</td>\n",
       "      <td>1.0</td>\n",
       "    </tr>\n",
       "  </tbody>\n",
       "</table>\n",
       "</div>"
      ],
      "text/plain": [
       "    Cara  Espalda/hombros  Brazos  Pechos  Estómago  Nalgas  Caderas  Cintura  \\\n",
       "0      3                3       3       1         1       3        2        2   \n",
       "1      4                3       3       4         4       4        4        4   \n",
       "2      3                3       3       1         1       2        3        2   \n",
       "3      3                3       3       3         1       3        2        3   \n",
       "4      1                3       3       3         4       4        4        4   \n",
       "5      3                3       3       3         3       3        3        3   \n",
       "6      1                3       3       2         1       3        4        3   \n",
       "7      4                3       3       1         1       1        1        1   \n",
       "8      2                3       3       4         4       3        3        4   \n",
       "9      2                3       3       2         1       2        1        1   \n",
       "10     4                3       3       3         1       3        3        3   \n",
       "11     2                3       3       1         1       2        2        2   \n",
       "12     4                3       3       2         1       1        1        1   \n",
       "13     3                3       3       3         3       3        3        3   \n",
       "14     4                3       3       4         4       4        4        4   \n",
       "15     3                3       3       3         1       1        1        3   \n",
       "16     4                3       3       4         4       4        4        4   \n",
       "17     4                3       3       4         1       1        1        1   \n",
       "18     1                3       3       4         1       2        3        2   \n",
       "19     1                3       3       1         1       2        2        1   \n",
       "\n",
       "    Piernas  Muslos  Pantorrillas  total_acceptance  tag_acceptance  \n",
       "0         1       1             2                22             1.0  \n",
       "1         4       4             4                42             3.0  \n",
       "2         2       2             2                24             2.0  \n",
       "3         1       1             2                25             2.0  \n",
       "4         2       2             3                33             2.0  \n",
       "5         3       3             3                33             2.0  \n",
       "6         3       3             3                29             2.0  \n",
       "7         3       3             3                24             2.0  \n",
       "8         4       4             2                36             3.0  \n",
       "9         1       1             2                19             1.0  \n",
       "10        4       1             4                32             2.0  \n",
       "11        3       3             3                25             2.0  \n",
       "12        4       3             2                25             2.0  \n",
       "13        3       3             3                33             2.0  \n",
       "14        4       4             4                42             3.0  \n",
       "15        1       1             1                21             1.0  \n",
       "16        4       4             4                42             3.0  \n",
       "17        1       1             1                21             1.0  \n",
       "18        1       1             1                22             1.0  \n",
       "19        1       1             1                17             1.0  "
      ]
     },
     "execution_count": 229,
     "metadata": {},
     "output_type": "execute_result"
    }
   ],
   "source": [
    "body_acceptance.head()"
   ]
  },
  {
   "cell_type": "code",
   "execution_count": 230,
   "id": "natural-lighter",
   "metadata": {},
   "outputs": [
    {
     "data": {
      "text/plain": [
       "2.0    194\n",
       "1.0    180\n",
       "3.0     60\n",
       "Name: tag_acceptance, dtype: int64"
      ]
     },
     "execution_count": 230,
     "metadata": {},
     "output_type": "execute_result"
    }
   ],
   "source": [
    "body_acceptance.tag_acceptance.value_counts()"
   ]
  },
  {
   "cell_type": "code",
   "execution_count": null,
   "id": "polar-popularity",
   "metadata": {
    "collapsed": true
   },
   "outputs": [],
   "source": []
  },
  {
   "cell_type": "markdown",
   "id": "tutorial-dream",
   "metadata": {},
   "source": [
    "### e) Considering the different parts of the body \n"
   ]
  },
  {
   "cell_type": "code",
   "execution_count": 231,
   "id": "outside-possession",
   "metadata": {},
   "outputs": [
    {
     "data": {
      "text/plain": [
       "3    218\n",
       "4     74\n",
       "1     72\n",
       "2     70\n",
       "Name: Cara, dtype: int64"
      ]
     },
     "execution_count": 231,
     "metadata": {},
     "output_type": "execute_result"
    }
   ],
   "source": [
    "body_acceptance.Cara.value_counts()"
   ]
  },
  {
   "cell_type": "code",
   "execution_count": 232,
   "id": "postal-fellowship",
   "metadata": {},
   "outputs": [
    {
     "data": {
      "text/plain": [
       "3    184\n",
       "2    103\n",
       "1     86\n",
       "4     61\n",
       "Name: Espalda/hombros, dtype: int64"
      ]
     },
     "execution_count": 232,
     "metadata": {},
     "output_type": "execute_result"
    }
   ],
   "source": [
    "body_acceptance['Espalda/hombros'].value_counts()"
   ]
  },
  {
   "cell_type": "code",
   "execution_count": 233,
   "id": "advance-differential",
   "metadata": {},
   "outputs": [
    {
     "data": {
      "text/plain": [
       "3    168\n",
       "1    131\n",
       "2     97\n",
       "4     38\n",
       "Name: Brazos, dtype: int64"
      ]
     },
     "execution_count": 233,
     "metadata": {},
     "output_type": "execute_result"
    }
   ],
   "source": [
    "body_acceptance.Brazos.value_counts()"
   ]
  },
  {
   "cell_type": "code",
   "execution_count": 234,
   "id": "pregnant-darwin",
   "metadata": {},
   "outputs": [
    {
     "data": {
      "text/plain": [
       "3    161\n",
       "1    108\n",
       "2     85\n",
       "4     80\n",
       "Name: Pechos, dtype: int64"
      ]
     },
     "execution_count": 234,
     "metadata": {},
     "output_type": "execute_result"
    }
   ],
   "source": [
    "body_acceptance.Pechos.value_counts()"
   ]
  },
  {
   "cell_type": "code",
   "execution_count": 235,
   "id": "configured-absorption",
   "metadata": {},
   "outputs": [
    {
     "data": {
      "text/plain": [
       "1    235\n",
       "3     86\n",
       "2     68\n",
       "4     45\n",
       "Name: Estómago, dtype: int64"
      ]
     },
     "execution_count": 235,
     "metadata": {},
     "output_type": "execute_result"
    }
   ],
   "source": [
    "body_acceptance['Estómago'].value_counts()"
   ]
  },
  {
   "cell_type": "code",
   "execution_count": 236,
   "id": "brutal-canal",
   "metadata": {},
   "outputs": [
    {
     "data": {
      "text/plain": [
       "1    155\n",
       "2    115\n",
       "3    104\n",
       "4     60\n",
       "Name: Nalgas, dtype: int64"
      ]
     },
     "execution_count": 236,
     "metadata": {},
     "output_type": "execute_result"
    }
   ],
   "source": [
    "body_acceptance.Nalgas.value_counts()"
   ]
  },
  {
   "cell_type": "code",
   "execution_count": 237,
   "id": "regulation-heritage",
   "metadata": {},
   "outputs": [
    {
     "data": {
      "text/plain": [
       "1    135\n",
       "3    125\n",
       "2    113\n",
       "4     61\n",
       "Name: Caderas, dtype: int64"
      ]
     },
     "execution_count": 237,
     "metadata": {},
     "output_type": "execute_result"
    }
   ],
   "source": [
    "body_acceptance.Caderas.value_counts()"
   ]
  },
  {
   "cell_type": "code",
   "execution_count": 238,
   "id": "frozen-globe",
   "metadata": {},
   "outputs": [
    {
     "data": {
      "text/plain": [
       "1    147\n",
       "3    131\n",
       "2     94\n",
       "4     62\n",
       "Name: Cintura, dtype: int64"
      ]
     },
     "execution_count": 238,
     "metadata": {},
     "output_type": "execute_result"
    }
   ],
   "source": [
    "body_acceptance.Cintura.value_counts()"
   ]
  },
  {
   "cell_type": "code",
   "execution_count": 239,
   "id": "infinite-vietnam",
   "metadata": {},
   "outputs": [
    {
     "data": {
      "text/plain": [
       "1    146\n",
       "3    127\n",
       "2     95\n",
       "4     66\n",
       "Name: Piernas, dtype: int64"
      ]
     },
     "execution_count": 239,
     "metadata": {},
     "output_type": "execute_result"
    }
   ],
   "source": [
    "body_acceptance.Piernas.value_counts()"
   ]
  },
  {
   "cell_type": "code",
   "execution_count": 240,
   "id": "extraordinary-resolution",
   "metadata": {},
   "outputs": [
    {
     "data": {
      "text/plain": [
       "1    177\n",
       "3    116\n",
       "2     94\n",
       "4     47\n",
       "Name: Muslos, dtype: int64"
      ]
     },
     "execution_count": 240,
     "metadata": {},
     "output_type": "execute_result"
    }
   ],
   "source": [
    "body_acceptance.Muslos.value_counts()"
   ]
  },
  {
   "cell_type": "code",
   "execution_count": 241,
   "id": "handled-engagement",
   "metadata": {},
   "outputs": [
    {
     "data": {
      "text/plain": [
       "3    158\n",
       "2    117\n",
       "1    104\n",
       "4     55\n",
       "Name: Pantorrillas, dtype: int64"
      ]
     },
     "execution_count": 241,
     "metadata": {},
     "output_type": "execute_result"
    }
   ],
   "source": [
    "body_acceptance.Pantorrillas.value_counts()"
   ]
  },
  {
   "cell_type": "markdown",
   "id": "express-heath",
   "metadata": {},
   "source": [
    "##  Feature engineering \n"
   ]
  },
  {
   "cell_type": "markdown",
   "id": "trying-hobby",
   "metadata": {},
   "source": [
    "### b) Feature selection\n"
   ]
  },
  {
   "cell_type": "code",
   "execution_count": 242,
   "id": "regional-catholic",
   "metadata": {},
   "outputs": [],
   "source": [
    "body_acceptance = body_acceptance.reset_index()\n",
    "body_acceptance = body_acceptance.rename(columns={'index': 'Id'})"
   ]
  },
  {
   "cell_type": "code",
   "execution_count": null,
   "id": "shared-evans",
   "metadata": {},
   "outputs": [],
   "source": []
  },
  {
   "cell_type": "markdown",
   "id": "hidden-leone",
   "metadata": {},
   "source": [
    "### a) Saving the data clean\n"
   ]
  },
  {
   "cell_type": "code",
   "execution_count": 483,
   "id": "preceding-toilet",
   "metadata": {},
   "outputs": [],
   "source": [
    "#body_acceptance.to_csv('body_acceptance.csv')"
   ]
  },
  {
   "cell_type": "markdown",
   "id": "upset-candidate",
   "metadata": {},
   "source": [
    "# social_pression"
   ]
  },
  {
   "cell_type": "markdown",
   "id": "violent-blowing",
   "metadata": {},
   "source": [
    "## EDA and Data Cleaning\n"
   ]
  },
  {
   "cell_type": "code",
   "execution_count": 243,
   "id": "grand-parliament",
   "metadata": {},
   "outputs": [
    {
     "data": {
      "text/html": [
       "<div>\n",
       "<style scoped>\n",
       "    .dataframe tbody tr th:only-of-type {\n",
       "        vertical-align: middle;\n",
       "    }\n",
       "\n",
       "    .dataframe tbody tr th {\n",
       "        vertical-align: top;\n",
       "    }\n",
       "\n",
       "    .dataframe thead th {\n",
       "        text-align: right;\n",
       "    }\n",
       "</style>\n",
       "<table border=\"1\" class=\"dataframe\">\n",
       "  <thead>\n",
       "    <tr style=\"text-align: right;\">\n",
       "      <th></th>\n",
       "      <th>Id</th>\n",
       "      <th>Considerando los últimos tres meses:  [¿Te has sentido observada y/o juzgada por no ir maquillada?]</th>\n",
       "      <th>Considerando los últimos tres meses:  [¿Esto te ha hecho sentir mal?]</th>\n",
       "      <th>Considerando los últimos tres meses:  [¿Te has sentido observada y/o juzgada por no ir depilada?]</th>\n",
       "      <th>Considerando los últimos tres meses:  [¿Esto te ha hecho sentir mal? ]</th>\n",
       "      <th>Considerando los últimos tres meses:  [¿Te has sentido observada y/o juzgada por no llevar el pelo arreglado?]</th>\n",
       "      <th>Considerando los últimos tres meses:  [¿Esto te ha hecho sentir mal?  ]</th>\n",
       "    </tr>\n",
       "  </thead>\n",
       "  <tbody>\n",
       "    <tr>\n",
       "      <th>0</th>\n",
       "      <td>0</td>\n",
       "      <td>A veces</td>\n",
       "      <td>A veces</td>\n",
       "      <td>Nunca</td>\n",
       "      <td>Nunca</td>\n",
       "      <td>A veces</td>\n",
       "      <td>Rara vez o casi nunca</td>\n",
       "    </tr>\n",
       "    <tr>\n",
       "      <th>1</th>\n",
       "      <td>1</td>\n",
       "      <td>Rara vez o casi nunca</td>\n",
       "      <td>Rara vez o casi nunca</td>\n",
       "      <td>Rara vez o casi nunca</td>\n",
       "      <td>Rara vez o casi nunca</td>\n",
       "      <td>Rara vez o casi nunca</td>\n",
       "      <td>Rara vez o casi nunca</td>\n",
       "    </tr>\n",
       "    <tr>\n",
       "      <th>2</th>\n",
       "      <td>2</td>\n",
       "      <td>A veces</td>\n",
       "      <td>A veces</td>\n",
       "      <td>Frecuentemente</td>\n",
       "      <td>Siempre</td>\n",
       "      <td>Muy frecuentemente</td>\n",
       "      <td>A veces</td>\n",
       "    </tr>\n",
       "    <tr>\n",
       "      <th>3</th>\n",
       "      <td>3</td>\n",
       "      <td>Nunca</td>\n",
       "      <td>Nunca</td>\n",
       "      <td>Nunca</td>\n",
       "      <td>Nunca</td>\n",
       "      <td>Nunca</td>\n",
       "      <td>Nunca</td>\n",
       "    </tr>\n",
       "    <tr>\n",
       "      <th>4</th>\n",
       "      <td>4</td>\n",
       "      <td>Frecuentemente</td>\n",
       "      <td>Frecuentemente</td>\n",
       "      <td>Frecuentemente</td>\n",
       "      <td>Frecuentemente</td>\n",
       "      <td>Frecuentemente</td>\n",
       "      <td>Frecuentemente</td>\n",
       "    </tr>\n",
       "  </tbody>\n",
       "</table>\n",
       "</div>"
      ],
      "text/plain": [
       "   Id  \\\n",
       "0   0   \n",
       "1   1   \n",
       "2   2   \n",
       "3   3   \n",
       "4   4   \n",
       "\n",
       "  Considerando los últimos tres meses:  [¿Te has sentido observada y/o juzgada por no ir maquillada?]  \\\n",
       "0                                            A veces                                                    \n",
       "1                              Rara vez o casi nunca                                                    \n",
       "2                                            A veces                                                    \n",
       "3                                              Nunca                                                    \n",
       "4                                     Frecuentemente                                                    \n",
       "\n",
       "  Considerando los últimos tres meses:  [¿Esto te ha hecho sentir mal?]  \\\n",
       "0                                            A veces                      \n",
       "1                              Rara vez o casi nunca                      \n",
       "2                                            A veces                      \n",
       "3                                              Nunca                      \n",
       "4                                     Frecuentemente                      \n",
       "\n",
       "  Considerando los últimos tres meses:  [¿Te has sentido observada y/o juzgada por no ir depilada?]  \\\n",
       "0                                              Nunca                                                  \n",
       "1                              Rara vez o casi nunca                                                  \n",
       "2                                     Frecuentemente                                                  \n",
       "3                                              Nunca                                                  \n",
       "4                                     Frecuentemente                                                  \n",
       "\n",
       "  Considerando los últimos tres meses:  [¿Esto te ha hecho sentir mal? ]  \\\n",
       "0                                              Nunca                       \n",
       "1                              Rara vez o casi nunca                       \n",
       "2                                            Siempre                       \n",
       "3                                              Nunca                       \n",
       "4                                     Frecuentemente                       \n",
       "\n",
       "  Considerando los últimos tres meses:  [¿Te has sentido observada y/o juzgada por no llevar el pelo arreglado?]  \\\n",
       "0                                            A veces                                                               \n",
       "1                              Rara vez o casi nunca                                                               \n",
       "2                                 Muy frecuentemente                                                               \n",
       "3                                              Nunca                                                               \n",
       "4                                     Frecuentemente                                                               \n",
       "\n",
       "  Considerando los últimos tres meses:  [¿Esto te ha hecho sentir mal?  ]  \n",
       "0                              Rara vez o casi nunca                       \n",
       "1                              Rara vez o casi nunca                       \n",
       "2                                            A veces                       \n",
       "3                                              Nunca                       \n",
       "4                                     Frecuentemente                       "
      ]
     },
     "execution_count": 243,
     "metadata": {},
     "output_type": "execute_result"
    }
   ],
   "source": [
    "social_pression.head()"
   ]
  },
  {
   "cell_type": "code",
   "execution_count": 244,
   "id": "demonstrated-pressure",
   "metadata": {},
   "outputs": [
    {
     "data": {
      "text/plain": [
       "Index(['Id',\n",
       "       'Considerando los últimos tres meses:  [¿Te has sentido observada y/o juzgada por no ir maquillada?]',\n",
       "       'Considerando los últimos tres meses:  [¿Esto te ha hecho sentir mal?]',\n",
       "       'Considerando los últimos tres meses:  [¿Te has sentido observada y/o juzgada por no ir depilada?]',\n",
       "       'Considerando los últimos tres meses:  [¿Esto te ha hecho sentir mal? ]',\n",
       "       'Considerando los últimos tres meses:  [¿Te has sentido observada y/o juzgada por no llevar el pelo arreglado?]',\n",
       "       'Considerando los últimos tres meses:  [¿Esto te ha hecho sentir mal?  ]'],\n",
       "      dtype='object')"
      ]
     },
     "execution_count": 244,
     "metadata": {},
     "output_type": "execute_result"
    }
   ],
   "source": [
    "social_pression.columns"
   ]
  },
  {
   "cell_type": "code",
   "execution_count": 245,
   "id": "tough-infrastructure",
   "metadata": {},
   "outputs": [],
   "source": [
    "social_pression.rename(columns={\n",
    "    'Considerando los últimos tres meses:  [¿Te has sentido observada y/o juzgada por no ir maquillada?]': 'maquillaje',\n",
    "    'Considerando los últimos tres meses:  [¿Esto te ha hecho sentir mal?]':'maquillaje_sent',\n",
    "    'Considerando los últimos tres meses:  [¿Te has sentido observada y/o juzgada por no ir depilada?]':'depilacion',\n",
    "    'Considerando los últimos tres meses:  [¿Esto te ha hecho sentir mal? ]':'depilacion_sent',\n",
    "    'Considerando los últimos tres meses:  [¿Te has sentido observada y/o juzgada por no llevar el pelo arreglado?]':'pelo',\n",
    "    'Considerando los últimos tres meses:  [¿Esto te ha hecho sentir mal?  ]':'pelo_sent',\n",
    "     }, inplace=True)"
   ]
  },
  {
   "cell_type": "code",
   "execution_count": 246,
   "id": "framed-termination",
   "metadata": {},
   "outputs": [
    {
     "name": "stdout",
     "output_type": "stream",
     "text": [
      "<class 'pandas.core.frame.DataFrame'>\n",
      "RangeIndex: 434 entries, 0 to 433\n",
      "Data columns (total 7 columns):\n",
      " #   Column           Non-Null Count  Dtype \n",
      "---  ------           --------------  ----- \n",
      " 0   Id               434 non-null    int64 \n",
      " 1   maquillaje       433 non-null    object\n",
      " 2   maquillaje_sent  421 non-null    object\n",
      " 3   depilacion       430 non-null    object\n",
      " 4   depilacion_sent  427 non-null    object\n",
      " 5   pelo             431 non-null    object\n",
      " 6   pelo_sent        427 non-null    object\n",
      "dtypes: int64(1), object(6)\n",
      "memory usage: 23.9+ KB\n"
     ]
    }
   ],
   "source": [
    "social_pression.info()"
   ]
  },
  {
   "cell_type": "markdown",
   "id": "indirect-constitutional",
   "metadata": {},
   "source": [
    "- las preguntas 1 3 y 5 refieren a la presion social\n",
    "- las preguntas 2 4 y 6 a la repercusion emocional de dicha presion social - las preguntas giran en torno a:\n",
    "                       1 y 2 = maquillaje\n",
    "                       3 y 4 = depilación\n",
    "                       5 y 6 = pelo"
   ]
  },
  {
   "cell_type": "markdown",
   "id": "loved-hometown",
   "metadata": {},
   "source": [
    "### a) Check missing values:"
   ]
  },
  {
   "cell_type": "code",
   "execution_count": 247,
   "id": "polar-purple",
   "metadata": {},
   "outputs": [
    {
     "data": {
      "text/html": [
       "<div>\n",
       "<style scoped>\n",
       "    .dataframe tbody tr th:only-of-type {\n",
       "        vertical-align: middle;\n",
       "    }\n",
       "\n",
       "    .dataframe tbody tr th {\n",
       "        vertical-align: top;\n",
       "    }\n",
       "\n",
       "    .dataframe thead th {\n",
       "        text-align: right;\n",
       "    }\n",
       "</style>\n",
       "<table border=\"1\" class=\"dataframe\">\n",
       "  <thead>\n",
       "    <tr style=\"text-align: right;\">\n",
       "      <th></th>\n",
       "      <th>Percentage_NaN</th>\n",
       "    </tr>\n",
       "  </thead>\n",
       "  <tbody>\n",
       "    <tr>\n",
       "      <th>maquillaje_sent</th>\n",
       "      <td>3.0</td>\n",
       "    </tr>\n",
       "    <tr>\n",
       "      <th>depilacion_sent</th>\n",
       "      <td>1.6</td>\n",
       "    </tr>\n",
       "    <tr>\n",
       "      <th>pelo_sent</th>\n",
       "      <td>1.6</td>\n",
       "    </tr>\n",
       "    <tr>\n",
       "      <th>depilacion</th>\n",
       "      <td>0.9</td>\n",
       "    </tr>\n",
       "    <tr>\n",
       "      <th>pelo</th>\n",
       "      <td>0.7</td>\n",
       "    </tr>\n",
       "    <tr>\n",
       "      <th>maquillaje</th>\n",
       "      <td>0.2</td>\n",
       "    </tr>\n",
       "    <tr>\n",
       "      <th>Id</th>\n",
       "      <td>0.0</td>\n",
       "    </tr>\n",
       "  </tbody>\n",
       "</table>\n",
       "</div>"
      ],
      "text/plain": [
       "                 Percentage_NaN\n",
       "maquillaje_sent             3.0\n",
       "depilacion_sent             1.6\n",
       "pelo_sent                   1.6\n",
       "depilacion                  0.9\n",
       "pelo                        0.7\n",
       "maquillaje                  0.2\n",
       "Id                          0.0"
      ]
     },
     "execution_count": 247,
     "metadata": {},
     "output_type": "execute_result"
    }
   ],
   "source": [
    "percentage_nullValues(social_pression)"
   ]
  },
  {
   "cell_type": "code",
   "execution_count": 248,
   "id": "bearing-frost",
   "metadata": {},
   "outputs": [],
   "source": [
    "social_pression=social_pression.dropna()"
   ]
  },
  {
   "cell_type": "markdown",
   "id": "novel-client",
   "metadata": {},
   "source": [
    "### b) Dealing with categorical variables\n"
   ]
  },
  {
   "cell_type": "code",
   "execution_count": 249,
   "id": "attended-stuff",
   "metadata": {},
   "outputs": [],
   "source": [
    "replace_map_social = {'Nunca':1,\n",
    "               'Rara vez o casi nunca':2,\n",
    "              'A veces':3,\n",
    "              'Frecuentemente':4,\n",
    "              'Muy frecuentemente':5,\n",
    "              'Siempre':6   }"
   ]
  },
  {
   "cell_type": "code",
   "execution_count": 250,
   "id": "essential-reset",
   "metadata": {},
   "outputs": [],
   "source": [
    "social_pression.maquillaje.replace(replace_map_social,inplace=True)\n",
    "social_pression.maquillaje_sent.replace(replace_map_social,inplace=True)\n",
    "social_pression.depilacion.replace(replace_map_social,inplace=True)\n",
    "social_pression.depilacion_sent.replace(replace_map_social,inplace=True)\n",
    "social_pression.pelo.replace(replace_map_social,inplace=True)\n",
    "social_pression.pelo_sent.replace(replace_map_social,inplace=True)"
   ]
  },
  {
   "cell_type": "code",
   "execution_count": 251,
   "id": "understood-gibraltar",
   "metadata": {},
   "outputs": [
    {
     "data": {
      "text/html": [
       "<div>\n",
       "<style scoped>\n",
       "    .dataframe tbody tr th:only-of-type {\n",
       "        vertical-align: middle;\n",
       "    }\n",
       "\n",
       "    .dataframe tbody tr th {\n",
       "        vertical-align: top;\n",
       "    }\n",
       "\n",
       "    .dataframe thead th {\n",
       "        text-align: right;\n",
       "    }\n",
       "</style>\n",
       "<table border=\"1\" class=\"dataframe\">\n",
       "  <thead>\n",
       "    <tr style=\"text-align: right;\">\n",
       "      <th></th>\n",
       "      <th>Id</th>\n",
       "      <th>maquillaje</th>\n",
       "      <th>maquillaje_sent</th>\n",
       "      <th>depilacion</th>\n",
       "      <th>depilacion_sent</th>\n",
       "      <th>pelo</th>\n",
       "      <th>pelo_sent</th>\n",
       "    </tr>\n",
       "  </thead>\n",
       "  <tbody>\n",
       "    <tr>\n",
       "      <th>0</th>\n",
       "      <td>0</td>\n",
       "      <td>3</td>\n",
       "      <td>3</td>\n",
       "      <td>1</td>\n",
       "      <td>1</td>\n",
       "      <td>3</td>\n",
       "      <td>2</td>\n",
       "    </tr>\n",
       "    <tr>\n",
       "      <th>1</th>\n",
       "      <td>1</td>\n",
       "      <td>2</td>\n",
       "      <td>2</td>\n",
       "      <td>2</td>\n",
       "      <td>2</td>\n",
       "      <td>2</td>\n",
       "      <td>2</td>\n",
       "    </tr>\n",
       "    <tr>\n",
       "      <th>2</th>\n",
       "      <td>2</td>\n",
       "      <td>3</td>\n",
       "      <td>3</td>\n",
       "      <td>4</td>\n",
       "      <td>6</td>\n",
       "      <td>5</td>\n",
       "      <td>3</td>\n",
       "    </tr>\n",
       "    <tr>\n",
       "      <th>3</th>\n",
       "      <td>3</td>\n",
       "      <td>1</td>\n",
       "      <td>1</td>\n",
       "      <td>1</td>\n",
       "      <td>1</td>\n",
       "      <td>1</td>\n",
       "      <td>1</td>\n",
       "    </tr>\n",
       "    <tr>\n",
       "      <th>4</th>\n",
       "      <td>4</td>\n",
       "      <td>4</td>\n",
       "      <td>4</td>\n",
       "      <td>4</td>\n",
       "      <td>4</td>\n",
       "      <td>4</td>\n",
       "      <td>4</td>\n",
       "    </tr>\n",
       "  </tbody>\n",
       "</table>\n",
       "</div>"
      ],
      "text/plain": [
       "   Id  maquillaje  maquillaje_sent  depilacion  depilacion_sent  pelo  \\\n",
       "0   0           3                3           1                1     3   \n",
       "1   1           2                2           2                2     2   \n",
       "2   2           3                3           4                6     5   \n",
       "3   3           1                1           1                1     1   \n",
       "4   4           4                4           4                4     4   \n",
       "\n",
       "   pelo_sent  \n",
       "0          2  \n",
       "1          2  \n",
       "2          3  \n",
       "3          1  \n",
       "4          4  "
      ]
     },
     "execution_count": 251,
     "metadata": {},
     "output_type": "execute_result"
    }
   ],
   "source": [
    "social_pression.head()"
   ]
  },
  {
   "cell_type": "markdown",
   "id": "partial-relief",
   "metadata": {},
   "source": [
    "### c) Dealing with numerical variables\n"
   ]
  },
  {
   "cell_type": "markdown",
   "id": "coastal-arcade",
   "metadata": {},
   "source": [
    "- Rangos total_sp y efectos_sp = de 3 a 18 \n",
    "- De 3 a 7 baja frecuencia de presion social y/o repercusion de la misma\n",
    "- De 8 a 12 frecuencia media de presion social y/o repercusion de la misma\n",
    "- De 13 a 18 alta frecuencia de presion social y/o repercusion de la misma"
   ]
  },
  {
   "cell_type": "code",
   "execution_count": 252,
   "id": "convertible-springer",
   "metadata": {},
   "outputs": [],
   "source": [
    "social_pression[\"total_sp\"]= social_pression[['maquillaje','depilacion','pelo']].sum(axis=1)"
   ]
  },
  {
   "cell_type": "code",
   "execution_count": 253,
   "id": "difficult-purchase",
   "metadata": {},
   "outputs": [],
   "source": [
    "social_pression[\"efectos_sp\"]= social_pression[['maquillaje_sent','depilacion_sent','pelo_sent']].sum(axis=1)"
   ]
  },
  {
   "cell_type": "markdown",
   "id": "immediate-lying",
   "metadata": {},
   "source": [
    "### d) Drop duplicates"
   ]
  },
  {
   "cell_type": "code",
   "execution_count": 254,
   "id": "challenging-kazakhstan",
   "metadata": {},
   "outputs": [
    {
     "data": {
      "text/plain": [
       "0"
      ]
     },
     "execution_count": 254,
     "metadata": {},
     "output_type": "execute_result"
    }
   ],
   "source": [
    "social_pression.duplicated().sum()"
   ]
  },
  {
   "cell_type": "code",
   "execution_count": 261,
   "id": "traditional-character",
   "metadata": {},
   "outputs": [
    {
     "data": {
      "text/html": [
       "<div>\n",
       "<style scoped>\n",
       "    .dataframe tbody tr th:only-of-type {\n",
       "        vertical-align: middle;\n",
       "    }\n",
       "\n",
       "    .dataframe tbody tr th {\n",
       "        vertical-align: top;\n",
       "    }\n",
       "\n",
       "    .dataframe thead th {\n",
       "        text-align: right;\n",
       "    }\n",
       "</style>\n",
       "<table border=\"1\" class=\"dataframe\">\n",
       "  <thead>\n",
       "    <tr style=\"text-align: right;\">\n",
       "      <th></th>\n",
       "      <th>Id</th>\n",
       "      <th>maquillaje</th>\n",
       "      <th>maquillaje_sent</th>\n",
       "      <th>depilacion</th>\n",
       "      <th>depilacion_sent</th>\n",
       "      <th>pelo</th>\n",
       "      <th>pelo_sent</th>\n",
       "      <th>total_sp</th>\n",
       "      <th>efectos_sp</th>\n",
       "    </tr>\n",
       "  </thead>\n",
       "  <tbody>\n",
       "    <tr>\n",
       "      <th>0</th>\n",
       "      <td>0</td>\n",
       "      <td>3</td>\n",
       "      <td>3</td>\n",
       "      <td>1</td>\n",
       "      <td>1</td>\n",
       "      <td>3</td>\n",
       "      <td>2</td>\n",
       "      <td>7</td>\n",
       "      <td>6</td>\n",
       "    </tr>\n",
       "    <tr>\n",
       "      <th>1</th>\n",
       "      <td>1</td>\n",
       "      <td>2</td>\n",
       "      <td>2</td>\n",
       "      <td>2</td>\n",
       "      <td>2</td>\n",
       "      <td>2</td>\n",
       "      <td>2</td>\n",
       "      <td>6</td>\n",
       "      <td>6</td>\n",
       "    </tr>\n",
       "    <tr>\n",
       "      <th>2</th>\n",
       "      <td>2</td>\n",
       "      <td>3</td>\n",
       "      <td>3</td>\n",
       "      <td>4</td>\n",
       "      <td>6</td>\n",
       "      <td>5</td>\n",
       "      <td>3</td>\n",
       "      <td>12</td>\n",
       "      <td>12</td>\n",
       "    </tr>\n",
       "    <tr>\n",
       "      <th>3</th>\n",
       "      <td>3</td>\n",
       "      <td>1</td>\n",
       "      <td>1</td>\n",
       "      <td>1</td>\n",
       "      <td>1</td>\n",
       "      <td>1</td>\n",
       "      <td>1</td>\n",
       "      <td>3</td>\n",
       "      <td>3</td>\n",
       "    </tr>\n",
       "    <tr>\n",
       "      <th>4</th>\n",
       "      <td>4</td>\n",
       "      <td>4</td>\n",
       "      <td>4</td>\n",
       "      <td>4</td>\n",
       "      <td>4</td>\n",
       "      <td>4</td>\n",
       "      <td>4</td>\n",
       "      <td>12</td>\n",
       "      <td>12</td>\n",
       "    </tr>\n",
       "    <tr>\n",
       "      <th>...</th>\n",
       "      <td>...</td>\n",
       "      <td>...</td>\n",
       "      <td>...</td>\n",
       "      <td>...</td>\n",
       "      <td>...</td>\n",
       "      <td>...</td>\n",
       "      <td>...</td>\n",
       "      <td>...</td>\n",
       "      <td>...</td>\n",
       "    </tr>\n",
       "    <tr>\n",
       "      <th>428</th>\n",
       "      <td>428</td>\n",
       "      <td>1</td>\n",
       "      <td>1</td>\n",
       "      <td>3</td>\n",
       "      <td>4</td>\n",
       "      <td>5</td>\n",
       "      <td>5</td>\n",
       "      <td>9</td>\n",
       "      <td>10</td>\n",
       "    </tr>\n",
       "    <tr>\n",
       "      <th>429</th>\n",
       "      <td>429</td>\n",
       "      <td>2</td>\n",
       "      <td>3</td>\n",
       "      <td>6</td>\n",
       "      <td>4</td>\n",
       "      <td>5</td>\n",
       "      <td>3</td>\n",
       "      <td>13</td>\n",
       "      <td>10</td>\n",
       "    </tr>\n",
       "    <tr>\n",
       "      <th>430</th>\n",
       "      <td>430</td>\n",
       "      <td>3</td>\n",
       "      <td>2</td>\n",
       "      <td>4</td>\n",
       "      <td>3</td>\n",
       "      <td>5</td>\n",
       "      <td>5</td>\n",
       "      <td>12</td>\n",
       "      <td>10</td>\n",
       "    </tr>\n",
       "    <tr>\n",
       "      <th>431</th>\n",
       "      <td>431</td>\n",
       "      <td>3</td>\n",
       "      <td>4</td>\n",
       "      <td>4</td>\n",
       "      <td>4</td>\n",
       "      <td>2</td>\n",
       "      <td>2</td>\n",
       "      <td>9</td>\n",
       "      <td>10</td>\n",
       "    </tr>\n",
       "    <tr>\n",
       "      <th>433</th>\n",
       "      <td>433</td>\n",
       "      <td>4</td>\n",
       "      <td>3</td>\n",
       "      <td>4</td>\n",
       "      <td>3</td>\n",
       "      <td>3</td>\n",
       "      <td>1</td>\n",
       "      <td>11</td>\n",
       "      <td>7</td>\n",
       "    </tr>\n",
       "  </tbody>\n",
       "</table>\n",
       "<p>415 rows × 9 columns</p>\n",
       "</div>"
      ],
      "text/plain": [
       "      Id  maquillaje  maquillaje_sent  depilacion  depilacion_sent  pelo  \\\n",
       "0      0           3                3           1                1     3   \n",
       "1      1           2                2           2                2     2   \n",
       "2      2           3                3           4                6     5   \n",
       "3      3           1                1           1                1     1   \n",
       "4      4           4                4           4                4     4   \n",
       "..   ...         ...              ...         ...              ...   ...   \n",
       "428  428           1                1           3                4     5   \n",
       "429  429           2                3           6                4     5   \n",
       "430  430           3                2           4                3     5   \n",
       "431  431           3                4           4                4     2   \n",
       "433  433           4                3           4                3     3   \n",
       "\n",
       "     pelo_sent  total_sp  efectos_sp  \n",
       "0            2         7           6  \n",
       "1            2         6           6  \n",
       "2            3        12          12  \n",
       "3            1         3           3  \n",
       "4            4        12          12  \n",
       "..         ...       ...         ...  \n",
       "428          5         9          10  \n",
       "429          3        13          10  \n",
       "430          5        12          10  \n",
       "431          2         9          10  \n",
       "433          1        11           7  \n",
       "\n",
       "[415 rows x 9 columns]"
      ]
     },
     "execution_count": 261,
     "metadata": {},
     "output_type": "execute_result"
    }
   ],
   "source": []
  },
  {
   "cell_type": "markdown",
   "id": "speaking-kinase",
   "metadata": {},
   "source": [
    "### e) VER! Adding some labels\n"
   ]
  },
  {
   "cell_type": "markdown",
   "id": "terminal-stephen",
   "metadata": {},
   "source": [
    "- percepcion de la presion social"
   ]
  },
  {
   "cell_type": "code",
   "execution_count": 255,
   "id": "understanding-suicide",
   "metadata": {},
   "outputs": [
    {
     "data": {
      "text/plain": [
       "(177, 9)"
      ]
     },
     "execution_count": 255,
     "metadata": {},
     "output_type": "execute_result"
    }
   ],
   "source": [
    "low_frec_sp = social_pression[social_pression.total_sp<=7]\n",
    "low_frec_sp.shape"
   ]
  },
  {
   "cell_type": "code",
   "execution_count": 256,
   "id": "square-framework",
   "metadata": {},
   "outputs": [
    {
     "data": {
      "text/plain": [
       "(185, 9)"
      ]
     },
     "execution_count": 256,
     "metadata": {},
     "output_type": "execute_result"
    }
   ],
   "source": [
    "med_frec_sp = social_pression[(social_pression.total_sp>=8)&(social_pression.total_sp<=12)]\n",
    "med_frec_sp.shape"
   ]
  },
  {
   "cell_type": "code",
   "execution_count": 257,
   "id": "super-vienna",
   "metadata": {},
   "outputs": [
    {
     "data": {
      "text/plain": [
       "(53, 9)"
      ]
     },
     "execution_count": 257,
     "metadata": {},
     "output_type": "execute_result"
    }
   ],
   "source": [
    "high_frec_sp = social_pression[social_pression.total_sp>=13]\n",
    "high_frec_sp.shape"
   ]
  },
  {
   "cell_type": "code",
   "execution_count": 266,
   "id": "settled-ready",
   "metadata": {},
   "outputs": [
    {
     "data": {
      "text/html": [
       "<div>\n",
       "<style scoped>\n",
       "    .dataframe tbody tr th:only-of-type {\n",
       "        vertical-align: middle;\n",
       "    }\n",
       "\n",
       "    .dataframe tbody tr th {\n",
       "        vertical-align: top;\n",
       "    }\n",
       "\n",
       "    .dataframe thead th {\n",
       "        text-align: right;\n",
       "    }\n",
       "</style>\n",
       "<table border=\"1\" class=\"dataframe\">\n",
       "  <thead>\n",
       "    <tr style=\"text-align: right;\">\n",
       "      <th></th>\n",
       "      <th>Id</th>\n",
       "      <th>maquillaje</th>\n",
       "      <th>maquillaje_sent</th>\n",
       "      <th>depilacion</th>\n",
       "      <th>depilacion_sent</th>\n",
       "      <th>pelo</th>\n",
       "      <th>pelo_sent</th>\n",
       "      <th>total_sp</th>\n",
       "      <th>efectos_sp</th>\n",
       "      <th>tag_presion</th>\n",
       "    </tr>\n",
       "  </thead>\n",
       "  <tbody>\n",
       "    <tr>\n",
       "      <th>0</th>\n",
       "      <td>0</td>\n",
       "      <td>3</td>\n",
       "      <td>3</td>\n",
       "      <td>1</td>\n",
       "      <td>1</td>\n",
       "      <td>3</td>\n",
       "      <td>2</td>\n",
       "      <td>7</td>\n",
       "      <td>6</td>\n",
       "      <td>1.0</td>\n",
       "    </tr>\n",
       "    <tr>\n",
       "      <th>1</th>\n",
       "      <td>1</td>\n",
       "      <td>2</td>\n",
       "      <td>2</td>\n",
       "      <td>2</td>\n",
       "      <td>2</td>\n",
       "      <td>2</td>\n",
       "      <td>2</td>\n",
       "      <td>6</td>\n",
       "      <td>6</td>\n",
       "      <td>1.0</td>\n",
       "    </tr>\n",
       "    <tr>\n",
       "      <th>2</th>\n",
       "      <td>2</td>\n",
       "      <td>3</td>\n",
       "      <td>3</td>\n",
       "      <td>4</td>\n",
       "      <td>6</td>\n",
       "      <td>5</td>\n",
       "      <td>3</td>\n",
       "      <td>12</td>\n",
       "      <td>12</td>\n",
       "      <td>2.0</td>\n",
       "    </tr>\n",
       "    <tr>\n",
       "      <th>3</th>\n",
       "      <td>3</td>\n",
       "      <td>1</td>\n",
       "      <td>1</td>\n",
       "      <td>1</td>\n",
       "      <td>1</td>\n",
       "      <td>1</td>\n",
       "      <td>1</td>\n",
       "      <td>3</td>\n",
       "      <td>3</td>\n",
       "      <td>1.0</td>\n",
       "    </tr>\n",
       "    <tr>\n",
       "      <th>4</th>\n",
       "      <td>4</td>\n",
       "      <td>4</td>\n",
       "      <td>4</td>\n",
       "      <td>4</td>\n",
       "      <td>4</td>\n",
       "      <td>4</td>\n",
       "      <td>4</td>\n",
       "      <td>12</td>\n",
       "      <td>12</td>\n",
       "      <td>2.0</td>\n",
       "    </tr>\n",
       "    <tr>\n",
       "      <th>...</th>\n",
       "      <td>...</td>\n",
       "      <td>...</td>\n",
       "      <td>...</td>\n",
       "      <td>...</td>\n",
       "      <td>...</td>\n",
       "      <td>...</td>\n",
       "      <td>...</td>\n",
       "      <td>...</td>\n",
       "      <td>...</td>\n",
       "      <td>...</td>\n",
       "    </tr>\n",
       "    <tr>\n",
       "      <th>428</th>\n",
       "      <td>428</td>\n",
       "      <td>1</td>\n",
       "      <td>1</td>\n",
       "      <td>3</td>\n",
       "      <td>4</td>\n",
       "      <td>5</td>\n",
       "      <td>5</td>\n",
       "      <td>9</td>\n",
       "      <td>10</td>\n",
       "      <td>2.0</td>\n",
       "    </tr>\n",
       "    <tr>\n",
       "      <th>429</th>\n",
       "      <td>429</td>\n",
       "      <td>2</td>\n",
       "      <td>3</td>\n",
       "      <td>6</td>\n",
       "      <td>4</td>\n",
       "      <td>5</td>\n",
       "      <td>3</td>\n",
       "      <td>13</td>\n",
       "      <td>10</td>\n",
       "      <td>3.0</td>\n",
       "    </tr>\n",
       "    <tr>\n",
       "      <th>430</th>\n",
       "      <td>430</td>\n",
       "      <td>3</td>\n",
       "      <td>2</td>\n",
       "      <td>4</td>\n",
       "      <td>3</td>\n",
       "      <td>5</td>\n",
       "      <td>5</td>\n",
       "      <td>12</td>\n",
       "      <td>10</td>\n",
       "      <td>2.0</td>\n",
       "    </tr>\n",
       "    <tr>\n",
       "      <th>431</th>\n",
       "      <td>431</td>\n",
       "      <td>3</td>\n",
       "      <td>4</td>\n",
       "      <td>4</td>\n",
       "      <td>4</td>\n",
       "      <td>2</td>\n",
       "      <td>2</td>\n",
       "      <td>9</td>\n",
       "      <td>10</td>\n",
       "      <td>2.0</td>\n",
       "    </tr>\n",
       "    <tr>\n",
       "      <th>433</th>\n",
       "      <td>433</td>\n",
       "      <td>4</td>\n",
       "      <td>3</td>\n",
       "      <td>4</td>\n",
       "      <td>3</td>\n",
       "      <td>3</td>\n",
       "      <td>1</td>\n",
       "      <td>11</td>\n",
       "      <td>7</td>\n",
       "      <td>2.0</td>\n",
       "    </tr>\n",
       "  </tbody>\n",
       "</table>\n",
       "<p>415 rows × 10 columns</p>\n",
       "</div>"
      ],
      "text/plain": [
       "      Id  maquillaje  maquillaje_sent  depilacion  depilacion_sent  pelo  \\\n",
       "0      0           3                3           1                1     3   \n",
       "1      1           2                2           2                2     2   \n",
       "2      2           3                3           4                6     5   \n",
       "3      3           1                1           1                1     1   \n",
       "4      4           4                4           4                4     4   \n",
       "..   ...         ...              ...         ...              ...   ...   \n",
       "428  428           1                1           3                4     5   \n",
       "429  429           2                3           6                4     5   \n",
       "430  430           3                2           4                3     5   \n",
       "431  431           3                4           4                4     2   \n",
       "433  433           4                3           4                3     3   \n",
       "\n",
       "     pelo_sent  total_sp  efectos_sp  tag_presion  \n",
       "0            2         7           6          1.0  \n",
       "1            2         6           6          1.0  \n",
       "2            3        12          12          2.0  \n",
       "3            1         3           3          1.0  \n",
       "4            4        12          12          2.0  \n",
       "..         ...       ...         ...          ...  \n",
       "428          5         9          10          2.0  \n",
       "429          3        13          10          3.0  \n",
       "430          5        12          10          2.0  \n",
       "431          2         9          10          2.0  \n",
       "433          1        11           7          2.0  \n",
       "\n",
       "[415 rows x 10 columns]"
      ]
     },
     "execution_count": 266,
     "metadata": {},
     "output_type": "execute_result"
    }
   ],
   "source": [
    "social_pression"
   ]
  },
  {
   "cell_type": "code",
   "execution_count": 262,
   "id": "possible-wedding",
   "metadata": {},
   "outputs": [],
   "source": [
    "social_pression.loc[social_pression.total_sp <=7,'tag_presion']=1"
   ]
  },
  {
   "cell_type": "code",
   "execution_count": 263,
   "id": "sustainable-seeker",
   "metadata": {},
   "outputs": [],
   "source": [
    "social_pression.loc[(social_pression.total_sp>=8)&(social_pression.total_sp<=12),'tag_presion']=2"
   ]
  },
  {
   "cell_type": "code",
   "execution_count": 265,
   "id": "developing-florist",
   "metadata": {},
   "outputs": [],
   "source": [
    "social_pression.loc[social_pression.total_sp>=13,'tag_presion']=3"
   ]
  },
  {
   "cell_type": "markdown",
   "id": "cross-eagle",
   "metadata": {},
   "source": [
    "- efectos de la presion social"
   ]
  },
  {
   "cell_type": "code",
   "execution_count": 258,
   "id": "fifty-uncertainty",
   "metadata": {},
   "outputs": [
    {
     "data": {
      "text/plain": [
       "(222, 9)"
      ]
     },
     "execution_count": 258,
     "metadata": {},
     "output_type": "execute_result"
    }
   ],
   "source": [
    "low_efect_sp = social_pression[social_pression.efectos_sp<=7]\n",
    "low_efect_sp.shape"
   ]
  },
  {
   "cell_type": "code",
   "execution_count": 259,
   "id": "bulgarian-franchise",
   "metadata": {},
   "outputs": [
    {
     "data": {
      "text/plain": [
       "(146, 9)"
      ]
     },
     "execution_count": 259,
     "metadata": {},
     "output_type": "execute_result"
    }
   ],
   "source": [
    "med_efect_sp = social_pression[(social_pression.efectos_sp>=8)&(social_pression.efectos_sp<=12)]\n",
    "med_efect_sp.shape"
   ]
  },
  {
   "cell_type": "code",
   "execution_count": 260,
   "id": "distributed-excuse",
   "metadata": {},
   "outputs": [
    {
     "data": {
      "text/plain": [
       "(47, 9)"
      ]
     },
     "execution_count": 260,
     "metadata": {},
     "output_type": "execute_result"
    }
   ],
   "source": [
    "high_efect_sp = social_pression[social_pression.efectos_sp>=13]\n",
    "high_efect_sp.shape"
   ]
  },
  {
   "cell_type": "code",
   "execution_count": 267,
   "id": "alike-petroleum",
   "metadata": {},
   "outputs": [],
   "source": [
    "social_pression.loc[social_pression.efectos_sp <=7,'tag_efectos']=1"
   ]
  },
  {
   "cell_type": "code",
   "execution_count": 268,
   "id": "jewish-defensive",
   "metadata": {},
   "outputs": [],
   "source": [
    "social_pression.loc[(social_pression.efectos_sp>=8)&(social_pression.efectos_sp<=12),'tag_efectos']=2"
   ]
  },
  {
   "cell_type": "code",
   "execution_count": 269,
   "id": "broken-fight",
   "metadata": {},
   "outputs": [],
   "source": [
    "social_pression.loc[social_pression.efectos_sp>=13,'tag_efectos']=3"
   ]
  },
  {
   "cell_type": "code",
   "execution_count": 270,
   "id": "floating-honor",
   "metadata": {},
   "outputs": [
    {
     "data": {
      "text/html": [
       "<div>\n",
       "<style scoped>\n",
       "    .dataframe tbody tr th:only-of-type {\n",
       "        vertical-align: middle;\n",
       "    }\n",
       "\n",
       "    .dataframe tbody tr th {\n",
       "        vertical-align: top;\n",
       "    }\n",
       "\n",
       "    .dataframe thead th {\n",
       "        text-align: right;\n",
       "    }\n",
       "</style>\n",
       "<table border=\"1\" class=\"dataframe\">\n",
       "  <thead>\n",
       "    <tr style=\"text-align: right;\">\n",
       "      <th></th>\n",
       "      <th>Id</th>\n",
       "      <th>maquillaje</th>\n",
       "      <th>maquillaje_sent</th>\n",
       "      <th>depilacion</th>\n",
       "      <th>depilacion_sent</th>\n",
       "      <th>pelo</th>\n",
       "      <th>pelo_sent</th>\n",
       "      <th>total_sp</th>\n",
       "      <th>efectos_sp</th>\n",
       "      <th>tag_presion</th>\n",
       "      <th>tag_efectos</th>\n",
       "    </tr>\n",
       "  </thead>\n",
       "  <tbody>\n",
       "    <tr>\n",
       "      <th>0</th>\n",
       "      <td>0</td>\n",
       "      <td>3</td>\n",
       "      <td>3</td>\n",
       "      <td>1</td>\n",
       "      <td>1</td>\n",
       "      <td>3</td>\n",
       "      <td>2</td>\n",
       "      <td>7</td>\n",
       "      <td>6</td>\n",
       "      <td>1.0</td>\n",
       "      <td>1.0</td>\n",
       "    </tr>\n",
       "    <tr>\n",
       "      <th>1</th>\n",
       "      <td>1</td>\n",
       "      <td>2</td>\n",
       "      <td>2</td>\n",
       "      <td>2</td>\n",
       "      <td>2</td>\n",
       "      <td>2</td>\n",
       "      <td>2</td>\n",
       "      <td>6</td>\n",
       "      <td>6</td>\n",
       "      <td>1.0</td>\n",
       "      <td>1.0</td>\n",
       "    </tr>\n",
       "    <tr>\n",
       "      <th>2</th>\n",
       "      <td>2</td>\n",
       "      <td>3</td>\n",
       "      <td>3</td>\n",
       "      <td>4</td>\n",
       "      <td>6</td>\n",
       "      <td>5</td>\n",
       "      <td>3</td>\n",
       "      <td>12</td>\n",
       "      <td>12</td>\n",
       "      <td>2.0</td>\n",
       "      <td>2.0</td>\n",
       "    </tr>\n",
       "    <tr>\n",
       "      <th>3</th>\n",
       "      <td>3</td>\n",
       "      <td>1</td>\n",
       "      <td>1</td>\n",
       "      <td>1</td>\n",
       "      <td>1</td>\n",
       "      <td>1</td>\n",
       "      <td>1</td>\n",
       "      <td>3</td>\n",
       "      <td>3</td>\n",
       "      <td>1.0</td>\n",
       "      <td>1.0</td>\n",
       "    </tr>\n",
       "    <tr>\n",
       "      <th>4</th>\n",
       "      <td>4</td>\n",
       "      <td>4</td>\n",
       "      <td>4</td>\n",
       "      <td>4</td>\n",
       "      <td>4</td>\n",
       "      <td>4</td>\n",
       "      <td>4</td>\n",
       "      <td>12</td>\n",
       "      <td>12</td>\n",
       "      <td>2.0</td>\n",
       "      <td>2.0</td>\n",
       "    </tr>\n",
       "    <tr>\n",
       "      <th>...</th>\n",
       "      <td>...</td>\n",
       "      <td>...</td>\n",
       "      <td>...</td>\n",
       "      <td>...</td>\n",
       "      <td>...</td>\n",
       "      <td>...</td>\n",
       "      <td>...</td>\n",
       "      <td>...</td>\n",
       "      <td>...</td>\n",
       "      <td>...</td>\n",
       "      <td>...</td>\n",
       "    </tr>\n",
       "    <tr>\n",
       "      <th>428</th>\n",
       "      <td>428</td>\n",
       "      <td>1</td>\n",
       "      <td>1</td>\n",
       "      <td>3</td>\n",
       "      <td>4</td>\n",
       "      <td>5</td>\n",
       "      <td>5</td>\n",
       "      <td>9</td>\n",
       "      <td>10</td>\n",
       "      <td>2.0</td>\n",
       "      <td>2.0</td>\n",
       "    </tr>\n",
       "    <tr>\n",
       "      <th>429</th>\n",
       "      <td>429</td>\n",
       "      <td>2</td>\n",
       "      <td>3</td>\n",
       "      <td>6</td>\n",
       "      <td>4</td>\n",
       "      <td>5</td>\n",
       "      <td>3</td>\n",
       "      <td>13</td>\n",
       "      <td>10</td>\n",
       "      <td>3.0</td>\n",
       "      <td>2.0</td>\n",
       "    </tr>\n",
       "    <tr>\n",
       "      <th>430</th>\n",
       "      <td>430</td>\n",
       "      <td>3</td>\n",
       "      <td>2</td>\n",
       "      <td>4</td>\n",
       "      <td>3</td>\n",
       "      <td>5</td>\n",
       "      <td>5</td>\n",
       "      <td>12</td>\n",
       "      <td>10</td>\n",
       "      <td>2.0</td>\n",
       "      <td>2.0</td>\n",
       "    </tr>\n",
       "    <tr>\n",
       "      <th>431</th>\n",
       "      <td>431</td>\n",
       "      <td>3</td>\n",
       "      <td>4</td>\n",
       "      <td>4</td>\n",
       "      <td>4</td>\n",
       "      <td>2</td>\n",
       "      <td>2</td>\n",
       "      <td>9</td>\n",
       "      <td>10</td>\n",
       "      <td>2.0</td>\n",
       "      <td>2.0</td>\n",
       "    </tr>\n",
       "    <tr>\n",
       "      <th>433</th>\n",
       "      <td>433</td>\n",
       "      <td>4</td>\n",
       "      <td>3</td>\n",
       "      <td>4</td>\n",
       "      <td>3</td>\n",
       "      <td>3</td>\n",
       "      <td>1</td>\n",
       "      <td>11</td>\n",
       "      <td>7</td>\n",
       "      <td>2.0</td>\n",
       "      <td>1.0</td>\n",
       "    </tr>\n",
       "  </tbody>\n",
       "</table>\n",
       "<p>415 rows × 11 columns</p>\n",
       "</div>"
      ],
      "text/plain": [
       "      Id  maquillaje  maquillaje_sent  depilacion  depilacion_sent  pelo  \\\n",
       "0      0           3                3           1                1     3   \n",
       "1      1           2                2           2                2     2   \n",
       "2      2           3                3           4                6     5   \n",
       "3      3           1                1           1                1     1   \n",
       "4      4           4                4           4                4     4   \n",
       "..   ...         ...              ...         ...              ...   ...   \n",
       "428  428           1                1           3                4     5   \n",
       "429  429           2                3           6                4     5   \n",
       "430  430           3                2           4                3     5   \n",
       "431  431           3                4           4                4     2   \n",
       "433  433           4                3           4                3     3   \n",
       "\n",
       "     pelo_sent  total_sp  efectos_sp  tag_presion  tag_efectos  \n",
       "0            2         7           6          1.0          1.0  \n",
       "1            2         6           6          1.0          1.0  \n",
       "2            3        12          12          2.0          2.0  \n",
       "3            1         3           3          1.0          1.0  \n",
       "4            4        12          12          2.0          2.0  \n",
       "..         ...       ...         ...          ...          ...  \n",
       "428          5         9          10          2.0          2.0  \n",
       "429          3        13          10          3.0          2.0  \n",
       "430          5        12          10          2.0          2.0  \n",
       "431          2         9          10          2.0          2.0  \n",
       "433          1        11           7          2.0          1.0  \n",
       "\n",
       "[415 rows x 11 columns]"
      ]
     },
     "execution_count": 270,
     "metadata": {},
     "output_type": "execute_result"
    }
   ],
   "source": [
    "social_pression"
   ]
  },
  {
   "cell_type": "markdown",
   "id": "acting-angola",
   "metadata": {},
   "source": [
    "- Rangos total_sp y efectos_sp = de 3 a 18 \n",
    "- De 3 a 7 baja frecuencia de presion social y/o repercusion de la misma\n",
    "- De 8 a 12 frecuencia media de presion social y/o repercusion de la misma\n",
    "- De 13 a 18 alta frecuencia de presion social y/o repercusion de la misma\n",
    "- tag_presion y tag_efectos = rango de 1 a 3 donde 1 corresponde a baja, 2 a media y 3 a alta frecuencia"
   ]
  },
  {
   "cell_type": "markdown",
   "id": "southwest-assets",
   "metadata": {},
   "source": [
    "- Value counts de maquillaje, pelo y depilacion"
   ]
  },
  {
   "cell_type": "code",
   "execution_count": null,
   "id": "trained-washington",
   "metadata": {},
   "outputs": [],
   "source": [
    "social_pression.maquillaje.value_counts()"
   ]
  },
  {
   "cell_type": "code",
   "execution_count": null,
   "id": "random-liquid",
   "metadata": {},
   "outputs": [],
   "source": [
    "social_pression.depilacion.value_counts()"
   ]
  },
  {
   "cell_type": "code",
   "execution_count": null,
   "id": "broken-greece",
   "metadata": {},
   "outputs": [],
   "source": [
    "social_pression.pelo.value_counts()"
   ]
  },
  {
   "cell_type": "markdown",
   "id": "finite-charge",
   "metadata": {},
   "source": [
    "## Saving the data clean"
   ]
  },
  {
   "cell_type": "code",
   "execution_count": 489,
   "id": "ready-origin",
   "metadata": {},
   "outputs": [],
   "source": [
    "#social_pression.to_csv('social_presion.csv')"
   ]
  },
  {
   "cell_type": "markdown",
   "id": "convertible-antarctica",
   "metadata": {},
   "source": [
    "# body_opinion"
   ]
  },
  {
   "cell_type": "code",
   "execution_count": 476,
   "id": "passive-cincinnati",
   "metadata": {},
   "outputs": [
    {
     "data": {
      "text/html": [
       "<div>\n",
       "<style scoped>\n",
       "    .dataframe tbody tr th:only-of-type {\n",
       "        vertical-align: middle;\n",
       "    }\n",
       "\n",
       "    .dataframe tbody tr th {\n",
       "        vertical-align: top;\n",
       "    }\n",
       "\n",
       "    .dataframe thead th {\n",
       "        text-align: right;\n",
       "    }\n",
       "</style>\n",
       "<table border=\"1\" class=\"dataframe\">\n",
       "  <thead>\n",
       "    <tr style=\"text-align: right;\">\n",
       "      <th></th>\n",
       "      <th>Id</th>\n",
       "      <th>Haz una breve reflexión libre acerca de como te sientes con tu cuerpo.</th>\n",
       "    </tr>\n",
       "  </thead>\n",
       "  <tbody>\n",
       "    <tr>\n",
       "      <th>0</th>\n",
       "      <td>0</td>\n",
       "      <td>En general bien, hasta que empiezo a compararm...</td>\n",
       "    </tr>\n",
       "    <tr>\n",
       "      <th>1</th>\n",
       "      <td>1</td>\n",
       "      <td>NaN</td>\n",
       "    </tr>\n",
       "    <tr>\n",
       "      <th>2</th>\n",
       "      <td>2</td>\n",
       "      <td>Aprendiendo a aceptarme y quererme desaprendie...</td>\n",
       "    </tr>\n",
       "    <tr>\n",
       "      <th>3</th>\n",
       "      <td>3</td>\n",
       "      <td>Horrible</td>\n",
       "    </tr>\n",
       "    <tr>\n",
       "      <th>4</th>\n",
       "      <td>4</td>\n",
       "      <td>Me veo delgada, me gustaría tener más carne, l...</td>\n",
       "    </tr>\n",
       "  </tbody>\n",
       "</table>\n",
       "</div>"
      ],
      "text/plain": [
       "   Id Haz una breve reflexión libre acerca de como te sientes con tu cuerpo.\n",
       "0   0  En general bien, hasta que empiezo a compararm...                    \n",
       "1   1                                                NaN                    \n",
       "2   2  Aprendiendo a aceptarme y quererme desaprendie...                    \n",
       "3   3                                           Horrible                    \n",
       "4   4  Me veo delgada, me gustaría tener más carne, l...                    "
      ]
     },
     "execution_count": 476,
     "metadata": {},
     "output_type": "execute_result"
    }
   ],
   "source": [
    "body_opinion.head()"
   ]
  },
  {
   "cell_type": "code",
   "execution_count": 477,
   "id": "regular-procedure",
   "metadata": {},
   "outputs": [],
   "source": [
    "body_opinion=body_opinion.dropna()"
   ]
  },
  {
   "cell_type": "code",
   "execution_count": 478,
   "id": "conditional-football",
   "metadata": {},
   "outputs": [
    {
     "name": "stdout",
     "output_type": "stream",
     "text": [
      "<class 'pandas.core.frame.DataFrame'>\n",
      "Int64Index: 341 entries, 0 to 433\n",
      "Data columns (total 2 columns):\n",
      " #   Column                                                                  Non-Null Count  Dtype \n",
      "---  ------                                                                  --------------  ----- \n",
      " 0   Id                                                                      341 non-null    int64 \n",
      " 1   Haz una breve reflexión libre acerca de como te sientes con tu cuerpo.  341 non-null    object\n",
      "dtypes: int64(1), object(1)\n",
      "memory usage: 8.0+ KB\n"
     ]
    }
   ],
   "source": [
    "body_opinion.info()"
   ]
  },
  {
   "cell_type": "markdown",
   "id": "varied-america",
   "metadata": {},
   "source": [
    "## Saving the dataset"
   ]
  },
  {
   "cell_type": "code",
   "execution_count": 480,
   "id": "cultural-charger",
   "metadata": {},
   "outputs": [],
   "source": [
    "#body_opinion.to_csv('body_opinion.csv')"
   ]
  },
  {
   "cell_type": "markdown",
   "id": "judicial-latitude",
   "metadata": {},
   "source": [
    "# Instagram"
   ]
  },
  {
   "cell_type": "code",
   "execution_count": 408,
   "id": "flying-section",
   "metadata": {},
   "outputs": [
    {
     "data": {
      "text/html": [
       "<div>\n",
       "<style scoped>\n",
       "    .dataframe tbody tr th:only-of-type {\n",
       "        vertical-align: middle;\n",
       "    }\n",
       "\n",
       "    .dataframe tbody tr th {\n",
       "        vertical-align: top;\n",
       "    }\n",
       "\n",
       "    .dataframe thead th {\n",
       "        text-align: right;\n",
       "    }\n",
       "</style>\n",
       "<table border=\"1\" class=\"dataframe\">\n",
       "  <thead>\n",
       "    <tr style=\"text-align: right;\">\n",
       "      <th></th>\n",
       "      <th>Id</th>\n",
       "      <th>¿Tienes Instagram?</th>\n",
       "      <th>¿A qué edad te hiciste el perfil en Instagram?</th>\n",
       "      <th>¿Cuántas horas al día crees que pasas en la aplicación?</th>\n",
       "      <th>¿Cuántas veces al día dirías que entras a la aplicación por aburrimiento?</th>\n",
       "      <th>¿Cuántas veces al día estas mirando el teléfono por alguna otra razón y terminas entrando en Instagram?</th>\n",
       "      <th>¿Cada vez que entras a Instagram, cuánto tiempo dirías en promedio que permaneces en la aplicación?</th>\n",
       "      <th>Semanalmente: [¿Cuántas fotografías subes?]</th>\n",
       "      <th>Semanalmente: [¿En cuántas de ellas apareces?]</th>\n",
       "      <th>Semanalmente: [De las que apareces, ¿Cuántas llevan algún filtro? ]</th>\n",
       "      <th>Semanalmente: [¿Cuántas historias subes?]</th>\n",
       "      <th>Semanalmente: [¿En cuántas de ellas apareces? ]</th>\n",
       "      <th>Semanalmente: [De las que apareces, ¿Cuántas llevan algún filtro?]</th>\n",
       "      <th>Semanalmente: [¿Cuántas veces repites una foto o historia en la que apareces porque no te gusta como sales en ella?]</th>\n",
       "      <th>Semanalmente: [¿Cuántas veces desistes de subir contenido en el que apareces porque no te gusta como sales?]</th>\n",
       "    </tr>\n",
       "  </thead>\n",
       "  <tbody>\n",
       "    <tr>\n",
       "      <th>0</th>\n",
       "      <td>0</td>\n",
       "      <td>Si</td>\n",
       "      <td>28</td>\n",
       "      <td>Menos de una hora diaria</td>\n",
       "      <td>Entre siete y nueve veces al día</td>\n",
       "      <td>Entre cuatro y seis veces al día</td>\n",
       "      <td>Entre 15 y 30 minutos</td>\n",
       "      <td>Menos de 1</td>\n",
       "      <td>Menos de 1</td>\n",
       "      <td>NaN</td>\n",
       "      <td>Entre 4 y 6</td>\n",
       "      <td>Entre 1 y 3</td>\n",
       "      <td>NaN</td>\n",
       "      <td>Entre 1 y 3</td>\n",
       "      <td>Entre 4 y 6</td>\n",
       "    </tr>\n",
       "    <tr>\n",
       "      <th>1</th>\n",
       "      <td>1</td>\n",
       "      <td>Si</td>\n",
       "      <td>we</td>\n",
       "      <td>Entre una y tres horas</td>\n",
       "      <td>Entre cuatro y seis veces al día</td>\n",
       "      <td>Entre siete y nueve veces al día</td>\n",
       "      <td>Menos de 15 minutos</td>\n",
       "      <td>Entre 1 y 3</td>\n",
       "      <td>Entre 1 y 3</td>\n",
       "      <td>NaN</td>\n",
       "      <td>Entre 1 y 3</td>\n",
       "      <td>Entre 1 y 3</td>\n",
       "      <td>NaN</td>\n",
       "      <td>Entre 1 y 3</td>\n",
       "      <td>Entre 1 y 3</td>\n",
       "    </tr>\n",
       "    <tr>\n",
       "      <th>2</th>\n",
       "      <td>2</td>\n",
       "      <td>Si</td>\n",
       "      <td>18</td>\n",
       "      <td>Menos de una hora diaria</td>\n",
       "      <td>Entre siete y nueve veces al día</td>\n",
       "      <td>Entre cuatro y seis veces al día</td>\n",
       "      <td>Menos de 15 minutos</td>\n",
       "      <td>Menos de 1</td>\n",
       "      <td>Menos de 1</td>\n",
       "      <td>NaN</td>\n",
       "      <td>Menos de 1</td>\n",
       "      <td>Menos de 1</td>\n",
       "      <td>NaN</td>\n",
       "      <td>Entre 4 y 6</td>\n",
       "      <td>Entre 4 y 6</td>\n",
       "    </tr>\n",
       "    <tr>\n",
       "      <th>3</th>\n",
       "      <td>3</td>\n",
       "      <td>Si</td>\n",
       "      <td>20</td>\n",
       "      <td>Entre una y tres horas</td>\n",
       "      <td>Entre cuatro y seis veces al día</td>\n",
       "      <td>Entre cuatro y seis veces al día</td>\n",
       "      <td>Más de 30 minutos</td>\n",
       "      <td>Menos de 1</td>\n",
       "      <td>Menos de 1</td>\n",
       "      <td>NaN</td>\n",
       "      <td>Entre 1 y 3</td>\n",
       "      <td>Menos de 1</td>\n",
       "      <td>NaN</td>\n",
       "      <td>Entre 4 y 6</td>\n",
       "      <td>Entre 4 y 6</td>\n",
       "    </tr>\n",
       "    <tr>\n",
       "      <th>4</th>\n",
       "      <td>4</td>\n",
       "      <td>No</td>\n",
       "      <td>NaN</td>\n",
       "      <td>NaN</td>\n",
       "      <td>NaN</td>\n",
       "      <td>NaN</td>\n",
       "      <td>NaN</td>\n",
       "      <td>NaN</td>\n",
       "      <td>NaN</td>\n",
       "      <td>NaN</td>\n",
       "      <td>NaN</td>\n",
       "      <td>NaN</td>\n",
       "      <td>NaN</td>\n",
       "      <td>NaN</td>\n",
       "      <td>NaN</td>\n",
       "    </tr>\n",
       "  </tbody>\n",
       "</table>\n",
       "</div>"
      ],
      "text/plain": [
       "   Id ¿Tienes Instagram? ¿A qué edad te hiciste el perfil en Instagram?  \\\n",
       "0   0                 Si                                             28   \n",
       "1   1                 Si                                             we   \n",
       "2   2                 Si                                             18   \n",
       "3   3                 Si                                             20   \n",
       "4   4                 No                                            NaN   \n",
       "\n",
       "  ¿Cuántas horas al día crees que pasas en la aplicación?   \\\n",
       "0                           Menos de una hora diaria         \n",
       "1                             Entre una y tres horas         \n",
       "2                           Menos de una hora diaria         \n",
       "3                             Entre una y tres horas         \n",
       "4                                                NaN         \n",
       "\n",
       "  ¿Cuántas veces al día dirías que entras a la aplicación por aburrimiento?  \\\n",
       "0                   Entre siete y nueve veces al día                          \n",
       "1                   Entre cuatro y seis veces al día                          \n",
       "2                   Entre siete y nueve veces al día                          \n",
       "3                   Entre cuatro y seis veces al día                          \n",
       "4                                                NaN                          \n",
       "\n",
       "  ¿Cuántas veces al día estas mirando el teléfono por alguna otra razón y terminas entrando en Instagram?  \\\n",
       "0                   Entre cuatro y seis veces al día                                                        \n",
       "1                   Entre siete y nueve veces al día                                                        \n",
       "2                   Entre cuatro y seis veces al día                                                        \n",
       "3                   Entre cuatro y seis veces al día                                                        \n",
       "4                                                NaN                                                        \n",
       "\n",
       "  ¿Cada vez que entras a Instagram, cuánto tiempo dirías en promedio que permaneces en la aplicación?  \\\n",
       "0                              Entre 15 y 30 minutos                                                    \n",
       "1                                Menos de 15 minutos                                                    \n",
       "2                                Menos de 15 minutos                                                    \n",
       "3                                  Más de 30 minutos                                                    \n",
       "4                                                NaN                                                    \n",
       "\n",
       "  Semanalmente: [¿Cuántas fotografías subes?]  \\\n",
       "0                                  Menos de 1   \n",
       "1                                 Entre 1 y 3   \n",
       "2                                  Menos de 1   \n",
       "3                                  Menos de 1   \n",
       "4                                         NaN   \n",
       "\n",
       "  Semanalmente: [¿En cuántas de ellas apareces?]  \\\n",
       "0                                     Menos de 1   \n",
       "1                                    Entre 1 y 3   \n",
       "2                                     Menos de 1   \n",
       "3                                     Menos de 1   \n",
       "4                                            NaN   \n",
       "\n",
       "  Semanalmente: [De las que apareces, ¿Cuántas llevan algún filtro? ]  \\\n",
       "0                                                NaN                    \n",
       "1                                                NaN                    \n",
       "2                                                NaN                    \n",
       "3                                                NaN                    \n",
       "4                                                NaN                    \n",
       "\n",
       "  Semanalmente: [¿Cuántas historias subes?]  \\\n",
       "0                               Entre 4 y 6   \n",
       "1                               Entre 1 y 3   \n",
       "2                                Menos de 1   \n",
       "3                               Entre 1 y 3   \n",
       "4                                       NaN   \n",
       "\n",
       "  Semanalmente: [¿En cuántas de ellas apareces? ]  \\\n",
       "0                                     Entre 1 y 3   \n",
       "1                                     Entre 1 y 3   \n",
       "2                                      Menos de 1   \n",
       "3                                      Menos de 1   \n",
       "4                                             NaN   \n",
       "\n",
       "  Semanalmente: [De las que apareces, ¿Cuántas llevan algún filtro?]  \\\n",
       "0                                                NaN                   \n",
       "1                                                NaN                   \n",
       "2                                                NaN                   \n",
       "3                                                NaN                   \n",
       "4                                                NaN                   \n",
       "\n",
       "  Semanalmente: [¿Cuántas veces repites una foto o historia en la que apareces porque no te gusta como sales en ella?]  \\\n",
       "0                                        Entre 1 y 3                                                                     \n",
       "1                                        Entre 1 y 3                                                                     \n",
       "2                                        Entre 4 y 6                                                                     \n",
       "3                                        Entre 4 y 6                                                                     \n",
       "4                                                NaN                                                                     \n",
       "\n",
       "  Semanalmente: [¿Cuántas veces desistes de subir contenido en el que apareces porque no te gusta como sales?]  \n",
       "0                                        Entre 4 y 6                                                            \n",
       "1                                        Entre 1 y 3                                                            \n",
       "2                                        Entre 4 y 6                                                            \n",
       "3                                        Entre 4 y 6                                                            \n",
       "4                                                NaN                                                            "
      ]
     },
     "execution_count": 408,
     "metadata": {},
     "output_type": "execute_result"
    }
   ],
   "source": [
    "instagram.head()"
   ]
  },
  {
   "cell_type": "code",
   "execution_count": 409,
   "id": "increasing-dancing",
   "metadata": {},
   "outputs": [
    {
     "data": {
      "text/plain": [
       "Index(['Id', '¿Tienes Instagram?',\n",
       "       '¿A qué edad te hiciste el perfil en Instagram?',\n",
       "       '¿Cuántas horas al día crees que pasas en la aplicación? ',\n",
       "       '¿Cuántas veces al día dirías que entras a la aplicación por aburrimiento?',\n",
       "       '¿Cuántas veces al día estas mirando el teléfono por alguna otra razón y terminas entrando en Instagram?',\n",
       "       '¿Cada vez que entras a Instagram, cuánto tiempo dirías en promedio que permaneces en la aplicación?',\n",
       "       'Semanalmente: [¿Cuántas fotografías subes?]',\n",
       "       'Semanalmente: [¿En cuántas de ellas apareces?]',\n",
       "       'Semanalmente: [De las que apareces, ¿Cuántas llevan algún filtro? ]',\n",
       "       'Semanalmente: [¿Cuántas historias subes?]',\n",
       "       'Semanalmente: [¿En cuántas de ellas apareces? ]',\n",
       "       'Semanalmente: [De las que apareces, ¿Cuántas llevan algún filtro?]',\n",
       "       'Semanalmente: [¿Cuántas veces repites una foto o historia en la que apareces porque no te gusta como sales en ella?]',\n",
       "       'Semanalmente: [¿Cuántas veces desistes de subir contenido en el que apareces porque no te gusta como sales?]'],\n",
       "      dtype='object')"
      ]
     },
     "execution_count": 409,
     "metadata": {},
     "output_type": "execute_result"
    }
   ],
   "source": [
    "instagram.columns"
   ]
  },
  {
   "cell_type": "markdown",
   "id": "reported-advance",
   "metadata": {},
   "source": [
    "## EDA and Data Cleaning\n"
   ]
  },
  {
   "cell_type": "code",
   "execution_count": 410,
   "id": "reverse-finance",
   "metadata": {},
   "outputs": [],
   "source": [
    "instagram.rename(columns={'¿Tienes Instagram?':'instagram',\n",
    "                          '¿A qué edad te hiciste el perfil en Instagram?':'edad_instagram',\n",
    "                          '¿Cuántas horas al día crees que pasas en la aplicación? ':'tiempo_declarado_ig',\n",
    "                          '¿Cuántas veces al día dirías que entras a la aplicación por aburrimiento?':'aburrimiento',\n",
    "                          '¿Cuántas veces al día estas mirando el teléfono por alguna otra razón y terminas entrando en Instagram?':'inercia',\n",
    "                          '¿Cada vez que entras a Instagram, cuánto tiempo dirías en promedio que permaneces en la aplicación?':'tiempo_promedio_ig',\n",
    "                          'Semanalmente: [¿Cuántas fotografías subes?]': 'fotos_subidas',\n",
    "                          'Semanalmente: [¿En cuántas de ellas apareces?]':'fotos_propias',\n",
    "                          'Semanalmente: [De las que apareces, ¿Cuántas llevan algún filtro? ]':'fotos_propias_filtro',\n",
    "                          'Semanalmente: [¿Cuántas historias subes?]':'historias_subidas',\n",
    "                          'Semanalmente: [¿En cuántas de ellas apareces? ]':'historias_propias',\n",
    "                          'Semanalmente: [De las que apareces, ¿Cuántas llevan algún filtro?]':'historias_propias_filtro',\n",
    "                          'Semanalmente: [¿Cuántas veces repites una foto o historia en la que apareces porque no te gusta como sales en ella?]':'repeticion',\n",
    "                          'Semanalmente: [¿Cuántas veces desistes de subir contenido en el que apareces porque no te gusta como sales?]':'desistidas'\n",
    "     }, inplace=True)"
   ]
  },
  {
   "cell_type": "code",
   "execution_count": 411,
   "id": "pretty-position",
   "metadata": {},
   "outputs": [
    {
     "data": {
      "text/plain": [
       "Si    421\n",
       "No     12\n",
       "Name: instagram, dtype: int64"
      ]
     },
     "execution_count": 411,
     "metadata": {},
     "output_type": "execute_result"
    }
   ],
   "source": [
    "instagram.instagram.value_counts()"
   ]
  },
  {
   "cell_type": "code",
   "execution_count": 412,
   "id": "grateful-legislation",
   "metadata": {},
   "outputs": [],
   "source": [
    "instagram = instagram[instagram.instagram == 'Si']"
   ]
  },
  {
   "cell_type": "code",
   "execution_count": 413,
   "id": "concrete-tractor",
   "metadata": {},
   "outputs": [
    {
     "data": {
      "text/plain": [
       "array(['28', 'we', '18', '20', '38', 'No recuerdo, sobre los 13', '24',\n",
       "       '26', '23', '27', '13', '22', '30', '14', '32', '33', '14 años.',\n",
       "       '17', '25', '12 ', '35', '19 años', '39', '34',\n",
       "       '30 y pico cuando salio', '16', '36', '29', '46', '13-14', '21',\n",
       "       '15', '19', '14 ', '40', '12', '49', '60', '14 años', '24 ',\n",
       "       '15 / 16', '16/17', '16-17', '9/10 años.', '37', 'once', '17-18',\n",
       "       'No me acuerdo', '12 o 13', '18 aproximadamente', 'Con 33',\n",
       "       '11 años', '9', 'A los 14', 'a los 10/11', '2013', nan,\n",
       "       'Tenía 13 años.', 'No tengo la edad en Instagram', '10/11',\n",
       "       '11/12', '11', '2015', '10', '51',\n",
       "       'No recuerdo. A los 27 quizás. ', '10 años', 'A los doce creo',\n",
       "       '24/25 no recuerdo bien ', '31', '15 años ', '25?', '50', '45',\n",
       "       '42', '22 años', 'Alrededor de los 28-29', '44', '16 aprox',\n",
       "       'No lo recuerdo', '14-15', '52', '15 creo ', '26 años quizás',\n",
       "       '17 mas o menos', '65', '13 aprox', '22/23 años', '43', '30 +/-',\n",
       "       '46 años ', 'No recuerdo ', '32 años'], dtype=object)"
      ]
     },
     "execution_count": 413,
     "metadata": {},
     "output_type": "execute_result"
    }
   ],
   "source": [
    "instagram.edad_instagram.unique()"
   ]
  },
  {
   "cell_type": "code",
   "execution_count": 414,
   "id": "floating-enclosure",
   "metadata": {},
   "outputs": [],
   "source": [
    "replace_map_edad_ig = {'No recuerdo, sobre los 13':13,\n",
    "                      '14 años.':14,'19 años':19,'30 y pico cuando salio':30,\n",
    "                      '13-14':13,'14 años':14,'24 ':24,'15 / 16':15,\n",
    "                      '16/17':16,'16-17':16,'9/10 años.':9,'once':11,\n",
    "                      '17-18':17,'12 o 13':12,'18 aproximadamente':18,\n",
    "                      'Con 33':33,'11 años':11,'A los 14':14,'a los 10/11':10,\n",
    "                      'Tenía 13 años.':13,'10/11':10,'11/12':11,\n",
    "                      'No recuerdo. A los 27 quizás. ':27,'10 años':10,\n",
    "                      'A los doce creo':12,'24/25 no recuerdo bien ':24,\n",
    "                      '15 años ':15,'25?':25,'26 años quizás':26,\n",
    "                      '17 mas o menos':17,'13 aprox':13,'22/23 años':22,\n",
    "                      '30 +/-':30,'46 años ':46,'32 años':32,'16 aprox':16,\n",
    "                      '14 ':14,'22 años':22,'Alrededor de los 28-29':28,\n",
    "                      '14-15':14,'15 creo ':15}"
   ]
  },
  {
   "cell_type": "code",
   "execution_count": 415,
   "id": "instrumental-arlington",
   "metadata": {},
   "outputs": [],
   "source": [
    "instagram.edad_instagram.replace(replace_map_edad_ig,inplace=True)"
   ]
  },
  {
   "cell_type": "code",
   "execution_count": 416,
   "id": "crude-tutorial",
   "metadata": {},
   "outputs": [
    {
     "data": {
      "text/plain": [
       "array(['28', 'we', '18', '20', '38', 13, '24', '26', '23', '27', '13',\n",
       "       '22', '30', '14', '32', '33', 14, '17', '25', '12 ', '35', 19,\n",
       "       '39', '34', 30, '16', '36', '29', '46', '21', '15', '19', '40',\n",
       "       '12', '49', '60', 24, 15, 16, 9, '37', 11, 17, 'No me acuerdo', 12,\n",
       "       18, 33, '9', 10, '2013', nan, 'No tengo la edad en Instagram',\n",
       "       '11', '2015', '10', '51', 27, '31', 25, '50', '45', '42', 22, 28,\n",
       "       '44', 'No lo recuerdo', '52', 26, '65', '43', 46, 'No recuerdo ',\n",
       "       32], dtype=object)"
      ]
     },
     "execution_count": 416,
     "metadata": {},
     "output_type": "execute_result"
    }
   ],
   "source": [
    "instagram.edad_instagram.unique()"
   ]
  },
  {
   "cell_type": "markdown",
   "id": "everyday-flooring",
   "metadata": {},
   "source": [
    "### a) Check missing values:"
   ]
  },
  {
   "cell_type": "code",
   "execution_count": 417,
   "id": "increasing-regard",
   "metadata": {},
   "outputs": [
    {
     "data": {
      "text/html": [
       "<div>\n",
       "<style scoped>\n",
       "    .dataframe tbody tr th:only-of-type {\n",
       "        vertical-align: middle;\n",
       "    }\n",
       "\n",
       "    .dataframe tbody tr th {\n",
       "        vertical-align: top;\n",
       "    }\n",
       "\n",
       "    .dataframe thead th {\n",
       "        text-align: right;\n",
       "    }\n",
       "</style>\n",
       "<table border=\"1\" class=\"dataframe\">\n",
       "  <thead>\n",
       "    <tr style=\"text-align: right;\">\n",
       "      <th></th>\n",
       "      <th>Id</th>\n",
       "      <th>instagram</th>\n",
       "      <th>edad_instagram</th>\n",
       "      <th>tiempo_declarado_ig</th>\n",
       "      <th>aburrimiento</th>\n",
       "      <th>inercia</th>\n",
       "      <th>tiempo_promedio_ig</th>\n",
       "      <th>fotos_subidas</th>\n",
       "      <th>fotos_propias</th>\n",
       "      <th>fotos_propias_filtro</th>\n",
       "      <th>historias_subidas</th>\n",
       "      <th>historias_propias</th>\n",
       "      <th>historias_propias_filtro</th>\n",
       "      <th>repeticion</th>\n",
       "      <th>desistidas</th>\n",
       "    </tr>\n",
       "  </thead>\n",
       "  <tbody>\n",
       "    <tr>\n",
       "      <th>1</th>\n",
       "      <td>1</td>\n",
       "      <td>Si</td>\n",
       "      <td>we</td>\n",
       "      <td>Entre una y tres horas</td>\n",
       "      <td>Entre cuatro y seis veces al día</td>\n",
       "      <td>Entre siete y nueve veces al día</td>\n",
       "      <td>Menos de 15 minutos</td>\n",
       "      <td>Entre 1 y 3</td>\n",
       "      <td>Entre 1 y 3</td>\n",
       "      <td>NaN</td>\n",
       "      <td>Entre 1 y 3</td>\n",
       "      <td>Entre 1 y 3</td>\n",
       "      <td>NaN</td>\n",
       "      <td>Entre 1 y 3</td>\n",
       "      <td>Entre 1 y 3</td>\n",
       "    </tr>\n",
       "    <tr>\n",
       "      <th>136</th>\n",
       "      <td>136</td>\n",
       "      <td>Si</td>\n",
       "      <td>No me acuerdo</td>\n",
       "      <td>Menos de una hora diaria</td>\n",
       "      <td>Hasta tres veces al día</td>\n",
       "      <td>Hasta tres veces al día</td>\n",
       "      <td>Menos de 15 minutos</td>\n",
       "      <td>Menos de 1</td>\n",
       "      <td>Menos de 1</td>\n",
       "      <td>Menos de 1</td>\n",
       "      <td>Menos de 1</td>\n",
       "      <td>Menos de 1</td>\n",
       "      <td>Menos de 1</td>\n",
       "      <td>Menos de 1</td>\n",
       "      <td>Menos de 1</td>\n",
       "    </tr>\n",
       "    <tr>\n",
       "      <th>175</th>\n",
       "      <td>175</td>\n",
       "      <td>Si</td>\n",
       "      <td>2013</td>\n",
       "      <td>Entre una y tres horas</td>\n",
       "      <td>Entre cuatro y seis veces al día</td>\n",
       "      <td>Entre cuatro y seis veces al día</td>\n",
       "      <td>Entre 15 y 30 minutos</td>\n",
       "      <td>Menos de 1</td>\n",
       "      <td>Menos de 1</td>\n",
       "      <td>Menos de 1</td>\n",
       "      <td>Entre 6 y 9</td>\n",
       "      <td>Menos de 1</td>\n",
       "      <td>Menos de 1</td>\n",
       "      <td>Entre 4 y 6</td>\n",
       "      <td>Menos de 1</td>\n",
       "    </tr>\n",
       "    <tr>\n",
       "      <th>184</th>\n",
       "      <td>184</td>\n",
       "      <td>Si</td>\n",
       "      <td>No tengo la edad en Instagram</td>\n",
       "      <td>Entre una y tres horas</td>\n",
       "      <td>Diez o más veces al día</td>\n",
       "      <td>Diez o más veces al día</td>\n",
       "      <td>Menos de 15 minutos</td>\n",
       "      <td>Menos de 1</td>\n",
       "      <td>Entre 1 y 3</td>\n",
       "      <td>Menos de 1</td>\n",
       "      <td>Entre 1 y 3</td>\n",
       "      <td>Menos de 1</td>\n",
       "      <td>Menos de 1</td>\n",
       "      <td>Entre 1 y 3</td>\n",
       "      <td>Entre 1 y 3</td>\n",
       "    </tr>\n",
       "    <tr>\n",
       "      <th>199</th>\n",
       "      <td>199</td>\n",
       "      <td>Si</td>\n",
       "      <td>2015</td>\n",
       "      <td>Entre una y tres horas</td>\n",
       "      <td>Diez o más veces al día</td>\n",
       "      <td>Entre cuatro y seis veces al día</td>\n",
       "      <td>Menos de 15 minutos</td>\n",
       "      <td>Menos de 1</td>\n",
       "      <td>Menos de 1</td>\n",
       "      <td>Entre 6 y 9</td>\n",
       "      <td>Entre 1 y 3</td>\n",
       "      <td>Entre 1 y 3</td>\n",
       "      <td>Entre 1 y 3</td>\n",
       "      <td>Más de 10</td>\n",
       "      <td>Más de 10</td>\n",
       "    </tr>\n",
       "    <tr>\n",
       "      <th>281</th>\n",
       "      <td>281</td>\n",
       "      <td>Si</td>\n",
       "      <td>2013</td>\n",
       "      <td>Más de tres horas diarias</td>\n",
       "      <td>Entre siete y nueve veces al día</td>\n",
       "      <td>Entre siete y nueve veces al día</td>\n",
       "      <td>Menos de 15 minutos</td>\n",
       "      <td>Menos de 1</td>\n",
       "      <td>Menos de 1</td>\n",
       "      <td>Menos de 1</td>\n",
       "      <td>Entre 6 y 9</td>\n",
       "      <td>Entre 1 y 3</td>\n",
       "      <td>Entre 1 y 3</td>\n",
       "      <td>Entre 6 y 9</td>\n",
       "      <td>Entre 4 y 6</td>\n",
       "    </tr>\n",
       "    <tr>\n",
       "      <th>335</th>\n",
       "      <td>335</td>\n",
       "      <td>Si</td>\n",
       "      <td>No lo recuerdo</td>\n",
       "      <td>Entre una y tres horas</td>\n",
       "      <td>Diez o más veces al día</td>\n",
       "      <td>Diez o más veces al día</td>\n",
       "      <td>Menos de 15 minutos</td>\n",
       "      <td>Entre 1 y 3</td>\n",
       "      <td>Entre 1 y 3</td>\n",
       "      <td>Entre 1 y 3</td>\n",
       "      <td>Entre 4 y 6</td>\n",
       "      <td>Menos de 1</td>\n",
       "      <td>Menos de 1</td>\n",
       "      <td>Entre 1 y 3</td>\n",
       "      <td>Más de 10</td>\n",
       "    </tr>\n",
       "    <tr>\n",
       "      <th>427</th>\n",
       "      <td>427</td>\n",
       "      <td>Si</td>\n",
       "      <td>No recuerdo</td>\n",
       "      <td>Entre una y tres horas</td>\n",
       "      <td>Hasta tres veces al día</td>\n",
       "      <td>Entre cuatro y seis veces al día</td>\n",
       "      <td>Más de 30 minutos</td>\n",
       "      <td>Menos de 1</td>\n",
       "      <td>Menos de 1</td>\n",
       "      <td>Menos de 1</td>\n",
       "      <td>Menos de 1</td>\n",
       "      <td>Menos de 1</td>\n",
       "      <td>Menos de 1</td>\n",
       "      <td>Menos de 1</td>\n",
       "      <td>Menos de 1</td>\n",
       "    </tr>\n",
       "  </tbody>\n",
       "</table>\n",
       "</div>"
      ],
      "text/plain": [
       "      Id instagram                 edad_instagram        tiempo_declarado_ig  \\\n",
       "1      1        Si                             we     Entre una y tres horas   \n",
       "136  136        Si                  No me acuerdo   Menos de una hora diaria   \n",
       "175  175        Si                           2013     Entre una y tres horas   \n",
       "184  184        Si  No tengo la edad en Instagram     Entre una y tres horas   \n",
       "199  199        Si                           2015     Entre una y tres horas   \n",
       "281  281        Si                           2013  Más de tres horas diarias   \n",
       "335  335        Si                 No lo recuerdo     Entre una y tres horas   \n",
       "427  427        Si                   No recuerdo      Entre una y tres horas   \n",
       "\n",
       "                         aburrimiento                           inercia  \\\n",
       "1    Entre cuatro y seis veces al día  Entre siete y nueve veces al día   \n",
       "136           Hasta tres veces al día           Hasta tres veces al día   \n",
       "175  Entre cuatro y seis veces al día  Entre cuatro y seis veces al día   \n",
       "184           Diez o más veces al día           Diez o más veces al día   \n",
       "199           Diez o más veces al día  Entre cuatro y seis veces al día   \n",
       "281  Entre siete y nueve veces al día  Entre siete y nueve veces al día   \n",
       "335           Diez o más veces al día           Diez o más veces al día   \n",
       "427           Hasta tres veces al día  Entre cuatro y seis veces al día   \n",
       "\n",
       "        tiempo_promedio_ig fotos_subidas fotos_propias fotos_propias_filtro  \\\n",
       "1      Menos de 15 minutos   Entre 1 y 3   Entre 1 y 3                  NaN   \n",
       "136    Menos de 15 minutos    Menos de 1    Menos de 1           Menos de 1   \n",
       "175  Entre 15 y 30 minutos    Menos de 1    Menos de 1           Menos de 1   \n",
       "184    Menos de 15 minutos    Menos de 1   Entre 1 y 3           Menos de 1   \n",
       "199    Menos de 15 minutos    Menos de 1    Menos de 1          Entre 6 y 9   \n",
       "281    Menos de 15 minutos    Menos de 1    Menos de 1           Menos de 1   \n",
       "335    Menos de 15 minutos   Entre 1 y 3   Entre 1 y 3          Entre 1 y 3   \n",
       "427      Más de 30 minutos    Menos de 1    Menos de 1           Menos de 1   \n",
       "\n",
       "    historias_subidas historias_propias historias_propias_filtro   repeticion  \\\n",
       "1         Entre 1 y 3       Entre 1 y 3                      NaN  Entre 1 y 3   \n",
       "136        Menos de 1        Menos de 1               Menos de 1   Menos de 1   \n",
       "175       Entre 6 y 9        Menos de 1               Menos de 1  Entre 4 y 6   \n",
       "184       Entre 1 y 3        Menos de 1               Menos de 1  Entre 1 y 3   \n",
       "199       Entre 1 y 3       Entre 1 y 3              Entre 1 y 3    Más de 10   \n",
       "281       Entre 6 y 9       Entre 1 y 3              Entre 1 y 3  Entre 6 y 9   \n",
       "335       Entre 4 y 6        Menos de 1               Menos de 1  Entre 1 y 3   \n",
       "427        Menos de 1        Menos de 1               Menos de 1   Menos de 1   \n",
       "\n",
       "      desistidas  \n",
       "1    Entre 1 y 3  \n",
       "136   Menos de 1  \n",
       "175   Menos de 1  \n",
       "184  Entre 1 y 3  \n",
       "199    Más de 10  \n",
       "281  Entre 4 y 6  \n",
       "335    Más de 10  \n",
       "427   Menos de 1  "
      ]
     },
     "execution_count": 417,
     "metadata": {},
     "output_type": "execute_result"
    }
   ],
   "source": [
    "to_drop =instagram[(instagram.edad_instagram=='we')|(instagram.edad_instagram=='No me acuerdo')\n",
    "                  |(instagram.edad_instagram=='2013')|(instagram.edad_instagram=='No tengo la edad en Instagram')\n",
    "                  |(instagram.edad_instagram=='nan')|(instagram.edad_instagram=='2015')\n",
    "                  |(instagram.edad_instagram=='No lo recuerdo')|(instagram.edad_instagram=='No recuerdo ')]\n",
    "to_drop"
   ]
  },
  {
   "cell_type": "code",
   "execution_count": 418,
   "id": "subjective-magazine",
   "metadata": {},
   "outputs": [],
   "source": [
    "instagram = instagram.drop(instagram.Id[1])\n",
    "instagram = instagram.drop(instagram.Id[136])\n",
    "instagram = instagram.drop(instagram.Id[184])\n",
    "instagram = instagram.drop(instagram.Id[335])\n",
    "instagram = instagram.drop(instagram.Id[427])"
   ]
  },
  {
   "cell_type": "code",
   "execution_count": 419,
   "id": "adolescent-trust",
   "metadata": {},
   "outputs": [
    {
     "data": {
      "text/html": [
       "<div>\n",
       "<style scoped>\n",
       "    .dataframe tbody tr th:only-of-type {\n",
       "        vertical-align: middle;\n",
       "    }\n",
       "\n",
       "    .dataframe tbody tr th {\n",
       "        vertical-align: top;\n",
       "    }\n",
       "\n",
       "    .dataframe thead th {\n",
       "        text-align: right;\n",
       "    }\n",
       "</style>\n",
       "<table border=\"1\" class=\"dataframe\">\n",
       "  <thead>\n",
       "    <tr style=\"text-align: right;\">\n",
       "      <th></th>\n",
       "      <th>Id</th>\n",
       "      <th>instagram</th>\n",
       "      <th>edad_instagram</th>\n",
       "      <th>tiempo_declarado_ig</th>\n",
       "      <th>aburrimiento</th>\n",
       "      <th>inercia</th>\n",
       "      <th>tiempo_promedio_ig</th>\n",
       "      <th>fotos_subidas</th>\n",
       "      <th>fotos_propias</th>\n",
       "      <th>fotos_propias_filtro</th>\n",
       "      <th>historias_subidas</th>\n",
       "      <th>historias_propias</th>\n",
       "      <th>historias_propias_filtro</th>\n",
       "      <th>repeticion</th>\n",
       "      <th>desistidas</th>\n",
       "    </tr>\n",
       "  </thead>\n",
       "  <tbody>\n",
       "    <tr>\n",
       "      <th>175</th>\n",
       "      <td>175</td>\n",
       "      <td>Si</td>\n",
       "      <td>2013</td>\n",
       "      <td>Entre una y tres horas</td>\n",
       "      <td>Entre cuatro y seis veces al día</td>\n",
       "      <td>Entre cuatro y seis veces al día</td>\n",
       "      <td>Entre 15 y 30 minutos</td>\n",
       "      <td>Menos de 1</td>\n",
       "      <td>Menos de 1</td>\n",
       "      <td>Menos de 1</td>\n",
       "      <td>Entre 6 y 9</td>\n",
       "      <td>Menos de 1</td>\n",
       "      <td>Menos de 1</td>\n",
       "      <td>Entre 4 y 6</td>\n",
       "      <td>Menos de 1</td>\n",
       "    </tr>\n",
       "    <tr>\n",
       "      <th>199</th>\n",
       "      <td>199</td>\n",
       "      <td>Si</td>\n",
       "      <td>2015</td>\n",
       "      <td>Entre una y tres horas</td>\n",
       "      <td>Diez o más veces al día</td>\n",
       "      <td>Entre cuatro y seis veces al día</td>\n",
       "      <td>Menos de 15 minutos</td>\n",
       "      <td>Menos de 1</td>\n",
       "      <td>Menos de 1</td>\n",
       "      <td>Entre 6 y 9</td>\n",
       "      <td>Entre 1 y 3</td>\n",
       "      <td>Entre 1 y 3</td>\n",
       "      <td>Entre 1 y 3</td>\n",
       "      <td>Más de 10</td>\n",
       "      <td>Más de 10</td>\n",
       "    </tr>\n",
       "    <tr>\n",
       "      <th>281</th>\n",
       "      <td>281</td>\n",
       "      <td>Si</td>\n",
       "      <td>2013</td>\n",
       "      <td>Más de tres horas diarias</td>\n",
       "      <td>Entre siete y nueve veces al día</td>\n",
       "      <td>Entre siete y nueve veces al día</td>\n",
       "      <td>Menos de 15 minutos</td>\n",
       "      <td>Menos de 1</td>\n",
       "      <td>Menos de 1</td>\n",
       "      <td>Menos de 1</td>\n",
       "      <td>Entre 6 y 9</td>\n",
       "      <td>Entre 1 y 3</td>\n",
       "      <td>Entre 1 y 3</td>\n",
       "      <td>Entre 6 y 9</td>\n",
       "      <td>Entre 4 y 6</td>\n",
       "    </tr>\n",
       "  </tbody>\n",
       "</table>\n",
       "</div>"
      ],
      "text/plain": [
       "      Id instagram edad_instagram        tiempo_declarado_ig  \\\n",
       "175  175        Si           2013     Entre una y tres horas   \n",
       "199  199        Si           2015     Entre una y tres horas   \n",
       "281  281        Si           2013  Más de tres horas diarias   \n",
       "\n",
       "                         aburrimiento                           inercia  \\\n",
       "175  Entre cuatro y seis veces al día  Entre cuatro y seis veces al día   \n",
       "199           Diez o más veces al día  Entre cuatro y seis veces al día   \n",
       "281  Entre siete y nueve veces al día  Entre siete y nueve veces al día   \n",
       "\n",
       "        tiempo_promedio_ig fotos_subidas fotos_propias fotos_propias_filtro  \\\n",
       "175  Entre 15 y 30 minutos    Menos de 1    Menos de 1           Menos de 1   \n",
       "199    Menos de 15 minutos    Menos de 1    Menos de 1          Entre 6 y 9   \n",
       "281    Menos de 15 minutos    Menos de 1    Menos de 1           Menos de 1   \n",
       "\n",
       "    historias_subidas historias_propias historias_propias_filtro   repeticion  \\\n",
       "175       Entre 6 y 9        Menos de 1               Menos de 1  Entre 4 y 6   \n",
       "199       Entre 1 y 3       Entre 1 y 3              Entre 1 y 3    Más de 10   \n",
       "281       Entre 6 y 9       Entre 1 y 3              Entre 1 y 3  Entre 6 y 9   \n",
       "\n",
       "      desistidas  \n",
       "175   Menos de 1  \n",
       "199    Más de 10  \n",
       "281  Entre 4 y 6  "
      ]
     },
     "execution_count": 419,
     "metadata": {},
     "output_type": "execute_result"
    }
   ],
   "source": [
    "to_check = instagram[(instagram.Id==175)|(instagram.Id==199)|(instagram.Id==281)]\n",
    "to_check"
   ]
  },
  {
   "cell_type": "code",
   "execution_count": 420,
   "id": "differential-disco",
   "metadata": {},
   "outputs": [],
   "source": [
    "instagram.loc[175,'edad_instagram']=18\n",
    "instagram.loc[199,'edad_instagram']=12\n",
    "instagram.loc[281,'edad_instagram']=21"
   ]
  },
  {
   "cell_type": "code",
   "execution_count": 421,
   "id": "cloudy-exhibition",
   "metadata": {},
   "outputs": [
    {
     "data": {
      "text/plain": [
       "13    23\n",
       "17    23\n",
       "16    21\n",
       "18    21\n",
       "14    20\n",
       "      ..\n",
       "46     1\n",
       "52     1\n",
       "51     1\n",
       "9      1\n",
       "65     1\n",
       "Name: edad_instagram, Length: 66, dtype: int64"
      ]
     },
     "execution_count": 421,
     "metadata": {},
     "output_type": "execute_result"
    }
   ],
   "source": [
    "instagram.edad_instagram.value_counts()"
   ]
  },
  {
   "cell_type": "code",
   "execution_count": 422,
   "id": "daily-stamp",
   "metadata": {},
   "outputs": [
    {
     "data": {
      "text/plain": [
       "Id                           0\n",
       "instagram                    0\n",
       "edad_instagram               7\n",
       "tiempo_declarado_ig          1\n",
       "aburrimiento                 3\n",
       "inercia                      5\n",
       "tiempo_promedio_ig           1\n",
       "fotos_subidas                2\n",
       "fotos_propias                8\n",
       "fotos_propias_filtro        26\n",
       "historias_subidas            3\n",
       "historias_propias            3\n",
       "historias_propias_filtro    24\n",
       "repeticion                   7\n",
       "desistidas                   4\n",
       "dtype: int64"
      ]
     },
     "execution_count": 422,
     "metadata": {},
     "output_type": "execute_result"
    }
   ],
   "source": [
    "instagram.isnull().sum()"
   ]
  },
  {
   "cell_type": "code",
   "execution_count": 423,
   "id": "linear-universal",
   "metadata": {},
   "outputs": [],
   "source": [
    "instagram=instagram.dropna()"
   ]
  },
  {
   "cell_type": "markdown",
   "id": "proved-conversion",
   "metadata": {},
   "source": [
    "### b) Dealing with categorical variables, transforming into numerilcal \n"
   ]
  },
  {
   "cell_type": "code",
   "execution_count": 424,
   "id": "skilled-delivery",
   "metadata": {},
   "outputs": [
    {
     "name": "stdout",
     "output_type": "stream",
     "text": [
      "<class 'pandas.core.frame.DataFrame'>\n",
      "Int64Index: 369 entries, 20 to 433\n",
      "Data columns (total 15 columns):\n",
      " #   Column                    Non-Null Count  Dtype \n",
      "---  ------                    --------------  ----- \n",
      " 0   Id                        369 non-null    int64 \n",
      " 1   instagram                 369 non-null    object\n",
      " 2   edad_instagram            369 non-null    object\n",
      " 3   tiempo_declarado_ig       369 non-null    object\n",
      " 4   aburrimiento              369 non-null    object\n",
      " 5   inercia                   369 non-null    object\n",
      " 6   tiempo_promedio_ig        369 non-null    object\n",
      " 7   fotos_subidas             369 non-null    object\n",
      " 8   fotos_propias             369 non-null    object\n",
      " 9   fotos_propias_filtro      369 non-null    object\n",
      " 10  historias_subidas         369 non-null    object\n",
      " 11  historias_propias         369 non-null    object\n",
      " 12  historias_propias_filtro  369 non-null    object\n",
      " 13  repeticion                369 non-null    object\n",
      " 14  desistidas                369 non-null    object\n",
      "dtypes: int64(1), object(14)\n",
      "memory usage: 46.1+ KB\n"
     ]
    }
   ],
   "source": [
    "instagram.info()"
   ]
  },
  {
   "cell_type": "markdown",
   "id": "simplified-manual",
   "metadata": {},
   "source": [
    "- edad"
   ]
  },
  {
   "cell_type": "code",
   "execution_count": 425,
   "id": "continued-pressure",
   "metadata": {},
   "outputs": [],
   "source": [
    "instagram.edad_instagram = instagram.edad_instagram.astype('float')"
   ]
  },
  {
   "cell_type": "markdown",
   "id": "happy-plant",
   "metadata": {},
   "source": [
    "- tiempo declarado; se asument valores medios de los rangos de las preguntas, tiempo medido en minutos"
   ]
  },
  {
   "cell_type": "code",
   "execution_count": 426,
   "id": "acceptable-equipment",
   "metadata": {},
   "outputs": [
    {
     "data": {
      "text/plain": [
       "array(['Entre una y tres horas', 'Más de tres horas diarias',\n",
       "       'Menos de una hora diaria'], dtype=object)"
      ]
     },
     "execution_count": 426,
     "metadata": {},
     "output_type": "execute_result"
    }
   ],
   "source": [
    "instagram.tiempo_declarado_ig.unique()"
   ]
  },
  {
   "cell_type": "code",
   "execution_count": 427,
   "id": "social-myanmar",
   "metadata": {},
   "outputs": [],
   "source": [
    "instagram.loc[instagram.tiempo_declarado_ig=='Menos de una hora diaria','tiempo_declarado_ig']=60"
   ]
  },
  {
   "cell_type": "code",
   "execution_count": 428,
   "id": "normal-tunnel",
   "metadata": {},
   "outputs": [],
   "source": [
    "instagram.loc[instagram.tiempo_declarado_ig=='Entre una y tres horas','tiempo_declarado_ig']=120"
   ]
  },
  {
   "cell_type": "code",
   "execution_count": 429,
   "id": "preliminary-master",
   "metadata": {},
   "outputs": [],
   "source": [
    "instagram.loc[instagram.tiempo_declarado_ig=='Más de tres horas diarias','tiempo_declarado_ig']=180"
   ]
  },
  {
   "cell_type": "code",
   "execution_count": 430,
   "id": "military-auckland",
   "metadata": {},
   "outputs": [],
   "source": [
    "instagram.tiempo_declarado_ig = instagram.tiempo_declarado_ig.astype('float')"
   ]
  },
  {
   "cell_type": "markdown",
   "id": "white-happiness",
   "metadata": {},
   "source": [
    "- aburrimiento, se asume el valor medio para el rango contenido en las posibles respuestas. "
   ]
  },
  {
   "cell_type": "code",
   "execution_count": 431,
   "id": "dominant-settle",
   "metadata": {},
   "outputs": [
    {
     "data": {
      "text/plain": [
       "Diez o más veces al día             117\n",
       "Entre cuatro y seis veces al día    109\n",
       "Entre siete y nueve veces al día     78\n",
       "Hasta tres veces al día              65\n",
       "Name: aburrimiento, dtype: int64"
      ]
     },
     "execution_count": 431,
     "metadata": {},
     "output_type": "execute_result"
    }
   ],
   "source": [
    "instagram.aburrimiento.value_counts()"
   ]
  },
  {
   "cell_type": "code",
   "execution_count": 432,
   "id": "casual-shepherd",
   "metadata": {},
   "outputs": [
    {
     "data": {
      "text/plain": [
       "array(['Entre cuatro y seis veces al día',\n",
       "       'Entre siete y nueve veces al día', 'Diez o más veces al día',\n",
       "       'Hasta tres veces al día'], dtype=object)"
      ]
     },
     "execution_count": 432,
     "metadata": {},
     "output_type": "execute_result"
    }
   ],
   "source": [
    "instagram.aburrimiento.unique()"
   ]
  },
  {
   "cell_type": "code",
   "execution_count": 433,
   "id": "divine-treasurer",
   "metadata": {},
   "outputs": [],
   "source": [
    "instagram.loc[instagram.aburrimiento=='Hasta tres veces al día','aburrimiento']=3"
   ]
  },
  {
   "cell_type": "code",
   "execution_count": 434,
   "id": "aggregate-mouse",
   "metadata": {},
   "outputs": [],
   "source": [
    "instagram.loc[instagram.aburrimiento=='Entre cuatro y seis veces al día','aburrimiento']=5"
   ]
  },
  {
   "cell_type": "code",
   "execution_count": 435,
   "id": "promising-safety",
   "metadata": {},
   "outputs": [],
   "source": [
    "instagram.loc[instagram.aburrimiento=='Entre siete y nueve veces al día','aburrimiento']=8"
   ]
  },
  {
   "cell_type": "code",
   "execution_count": 436,
   "id": "stylish-camping",
   "metadata": {},
   "outputs": [],
   "source": [
    "instagram.loc[instagram.aburrimiento=='Diez o más veces al día','aburrimiento']=10"
   ]
  },
  {
   "cell_type": "code",
   "execution_count": 437,
   "id": "occupational-palace",
   "metadata": {},
   "outputs": [],
   "source": [
    "instagram.aburrimiento = instagram.aburrimiento.astype('float')"
   ]
  },
  {
   "cell_type": "markdown",
   "id": "material-overhead",
   "metadata": {},
   "source": [
    "- inercia"
   ]
  },
  {
   "cell_type": "code",
   "execution_count": 438,
   "id": "provincial-analyst",
   "metadata": {},
   "outputs": [
    {
     "data": {
      "text/plain": [
       "Entre cuatro y seis veces al día    117\n",
       "Hasta tres veces al día              98\n",
       "Diez o más veces al día              83\n",
       "Entre siete y nueve veces al día     71\n",
       "Name: inercia, dtype: int64"
      ]
     },
     "execution_count": 438,
     "metadata": {},
     "output_type": "execute_result"
    }
   ],
   "source": [
    "instagram.inercia.value_counts()"
   ]
  },
  {
   "cell_type": "code",
   "execution_count": 439,
   "id": "dress-dallas",
   "metadata": {},
   "outputs": [
    {
     "data": {
      "text/plain": [
       "array(['Hasta tres veces al día', 'Diez o más veces al día',\n",
       "       'Entre cuatro y seis veces al día',\n",
       "       'Entre siete y nueve veces al día'], dtype=object)"
      ]
     },
     "execution_count": 439,
     "metadata": {},
     "output_type": "execute_result"
    }
   ],
   "source": [
    "instagram.inercia.unique()"
   ]
  },
  {
   "cell_type": "code",
   "execution_count": 440,
   "id": "spread-motor",
   "metadata": {},
   "outputs": [],
   "source": [
    "instagram.loc[instagram.inercia=='Hasta tres veces al día','inercia']=3"
   ]
  },
  {
   "cell_type": "code",
   "execution_count": 441,
   "id": "beautiful-partnership",
   "metadata": {},
   "outputs": [],
   "source": [
    "instagram.loc[instagram.inercia=='Entre cuatro y seis veces al día','inercia']=5"
   ]
  },
  {
   "cell_type": "code",
   "execution_count": 442,
   "id": "sporting-companion",
   "metadata": {},
   "outputs": [],
   "source": [
    "instagram.loc[instagram.inercia=='Entre siete y nueve veces al día','inercia']=8"
   ]
  },
  {
   "cell_type": "code",
   "execution_count": 443,
   "id": "worth-meaning",
   "metadata": {},
   "outputs": [],
   "source": [
    "instagram.loc[instagram.inercia=='Diez o más veces al día','inercia']=10"
   ]
  },
  {
   "cell_type": "code",
   "execution_count": 444,
   "id": "cellular-begin",
   "metadata": {},
   "outputs": [],
   "source": [
    "instagram.inercia = instagram.inercia.astype('float')"
   ]
  },
  {
   "cell_type": "markdown",
   "id": "expensive-amazon",
   "metadata": {},
   "source": [
    "- tiempo promedio; se asument valores medios de los rangos de las preguntas, tiempo medido en minutos"
   ]
  },
  {
   "cell_type": "code",
   "execution_count": 445,
   "id": "cooked-complexity",
   "metadata": {
    "scrolled": true
   },
   "outputs": [
    {
     "data": {
      "text/plain": [
       "Menos de 15 minutos      179\n",
       "Entre 15 y 30 minutos    150\n",
       "Más de 30 minutos         40\n",
       "Name: tiempo_promedio_ig, dtype: int64"
      ]
     },
     "execution_count": 445,
     "metadata": {},
     "output_type": "execute_result"
    }
   ],
   "source": [
    "instagram.tiempo_promedio_ig.value_counts()"
   ]
  },
  {
   "cell_type": "code",
   "execution_count": 446,
   "id": "distinct-disposition",
   "metadata": {},
   "outputs": [
    {
     "data": {
      "text/plain": [
       "array(['Menos de 15 minutos', 'Entre 15 y 30 minutos',\n",
       "       'Más de 30 minutos'], dtype=object)"
      ]
     },
     "execution_count": 446,
     "metadata": {},
     "output_type": "execute_result"
    }
   ],
   "source": [
    "instagram.tiempo_promedio_ig.unique()"
   ]
  },
  {
   "cell_type": "code",
   "execution_count": 447,
   "id": "photographic-juice",
   "metadata": {},
   "outputs": [],
   "source": [
    "instagram.loc[instagram.tiempo_promedio_ig=='Menos de 15 minutos','tiempo_promedio_ig']=15"
   ]
  },
  {
   "cell_type": "code",
   "execution_count": 448,
   "id": "united-malawi",
   "metadata": {},
   "outputs": [],
   "source": [
    "instagram.loc[instagram.tiempo_promedio_ig=='Entre 15 y 30 minutos','tiempo_promedio_ig']=25"
   ]
  },
  {
   "cell_type": "code",
   "execution_count": 449,
   "id": "incorporated-rough",
   "metadata": {},
   "outputs": [],
   "source": [
    "instagram.loc[instagram.tiempo_promedio_ig=='Más de 30 minutos','tiempo_promedio_ig']=35"
   ]
  },
  {
   "cell_type": "code",
   "execution_count": 450,
   "id": "departmental-france",
   "metadata": {},
   "outputs": [],
   "source": [
    "instagram.tiempo_promedio_ig = instagram.tiempo_promedio_ig.astype('float')"
   ]
  },
  {
   "cell_type": "markdown",
   "id": "original-charge",
   "metadata": {},
   "source": [
    "- fotos subidas"
   ]
  },
  {
   "cell_type": "code",
   "execution_count": 451,
   "id": "structured-cherry",
   "metadata": {},
   "outputs": [
    {
     "data": {
      "text/plain": [
       "Menos de 1     312\n",
       "Entre 1 y 3     48\n",
       "Entre 4 y 6      7\n",
       "Más de 10        2\n",
       "Name: fotos_subidas, dtype: int64"
      ]
     },
     "execution_count": 451,
     "metadata": {},
     "output_type": "execute_result"
    }
   ],
   "source": [
    "instagram.fotos_subidas.value_counts()"
   ]
  },
  {
   "cell_type": "code",
   "execution_count": 452,
   "id": "offshore-majority",
   "metadata": {},
   "outputs": [],
   "source": [
    "instagram.loc[instagram.fotos_subidas=='Menos de 1','fotos_subidas']=1\n",
    "instagram.loc[instagram.fotos_subidas=='Entre 1 y 3','fotos_subidas']=2\n",
    "instagram.loc[instagram.fotos_subidas=='Entre 4 y 6','fotos_subidas']=5\n",
    "instagram.loc[instagram.fotos_subidas=='Entre 6 y 9','fotos_subidas']=8\n",
    "instagram.loc[instagram.fotos_subidas=='Más de 10','fotos_subidas']=10"
   ]
  },
  {
   "cell_type": "markdown",
   "id": "growing-selection",
   "metadata": {},
   "source": [
    "- fotos propias"
   ]
  },
  {
   "cell_type": "code",
   "execution_count": 453,
   "id": "empirical-mother",
   "metadata": {
    "scrolled": true
   },
   "outputs": [
    {
     "data": {
      "text/plain": [
       "Menos de 1     273\n",
       "Entre 1 y 3     60\n",
       "Más de 10       24\n",
       "Entre 6 y 9      8\n",
       "Entre 4 y 6      4\n",
       "Name: fotos_propias, dtype: int64"
      ]
     },
     "execution_count": 453,
     "metadata": {},
     "output_type": "execute_result"
    }
   ],
   "source": [
    "instagram.fotos_propias.value_counts()"
   ]
  },
  {
   "cell_type": "code",
   "execution_count": 454,
   "id": "alone-filter",
   "metadata": {},
   "outputs": [],
   "source": [
    "instagram.loc[instagram.fotos_propias=='Menos de 1','fotos_propias']=1\n",
    "instagram.loc[instagram.fotos_propias=='Entre 1 y 3','fotos_propias']=2\n",
    "instagram.loc[instagram.fotos_propias=='Entre 4 y 6','fotos_propias']=5\n",
    "instagram.loc[instagram.fotos_propias=='Entre 6 y 9','fotos_propias']=8\n",
    "instagram.loc[instagram.fotos_propias=='Más de 10','fotos_propias']=10"
   ]
  },
  {
   "cell_type": "markdown",
   "id": "exceptional-stability",
   "metadata": {},
   "source": [
    "- fotos propias filtro"
   ]
  },
  {
   "cell_type": "code",
   "execution_count": 455,
   "id": "scientific-cooking",
   "metadata": {},
   "outputs": [
    {
     "data": {
      "text/plain": [
       "Menos de 1     257\n",
       "Entre 1 y 3     63\n",
       "Más de 10       25\n",
       "Entre 6 y 9     12\n",
       "Entre 4 y 6     12\n",
       "Name: fotos_propias_filtro, dtype: int64"
      ]
     },
     "execution_count": 455,
     "metadata": {},
     "output_type": "execute_result"
    }
   ],
   "source": [
    "instagram.fotos_propias_filtro.value_counts()"
   ]
  },
  {
   "cell_type": "code",
   "execution_count": 456,
   "id": "female-soccer",
   "metadata": {},
   "outputs": [],
   "source": [
    "instagram.loc[instagram.fotos_propias_filtro=='Menos de 1','fotos_propias_filtro']=1\n",
    "instagram.loc[instagram.fotos_propias_filtro=='Entre 1 y 3','fotos_propias_filtro']=2\n",
    "instagram.loc[instagram.fotos_propias_filtro=='Entre 4 y 6','fotos_propias_filtro']=5\n",
    "instagram.loc[instagram.fotos_propias_filtro=='Entre 6 y 9','fotos_propias_filtro']=8\n",
    "instagram.loc[instagram.fotos_propias_filtro=='Más de 10','fotos_propias_filtro']=10"
   ]
  },
  {
   "cell_type": "markdown",
   "id": "spiritual-occurrence",
   "metadata": {},
   "source": [
    "- historias subidas"
   ]
  },
  {
   "cell_type": "code",
   "execution_count": 457,
   "id": "vital-workplace",
   "metadata": {},
   "outputs": [
    {
     "data": {
      "text/plain": [
       "Menos de 1     118\n",
       "Entre 1 y 3    112\n",
       "Entre 4 y 6     61\n",
       "Más de 10       43\n",
       "Entre 6 y 9     35\n",
       "Name: historias_subidas, dtype: int64"
      ]
     },
     "execution_count": 457,
     "metadata": {},
     "output_type": "execute_result"
    }
   ],
   "source": [
    "instagram.historias_subidas.value_counts()"
   ]
  },
  {
   "cell_type": "code",
   "execution_count": 458,
   "id": "ceramic-advisory",
   "metadata": {},
   "outputs": [],
   "source": [
    "instagram.loc[instagram.historias_subidas=='Menos de 1','historias_subidas']=1\n",
    "instagram.loc[instagram.historias_subidas=='Entre 1 y 3','historias_subidas']=2\n",
    "instagram.loc[instagram.historias_subidas=='Entre 4 y 6','historias_subidas']=5\n",
    "instagram.loc[instagram.historias_subidas=='Entre 6 y 9','historias_subidas']=8\n",
    "instagram.loc[instagram.historias_subidas=='Más de 10','historias_subidas']=10"
   ]
  },
  {
   "cell_type": "markdown",
   "id": "respective-export",
   "metadata": {},
   "source": [
    "- historias propias"
   ]
  },
  {
   "cell_type": "code",
   "execution_count": 459,
   "id": "coated-apartment",
   "metadata": {},
   "outputs": [
    {
     "data": {
      "text/plain": [
       "Menos de 1     227\n",
       "Entre 1 y 3    108\n",
       "Entre 4 y 6     23\n",
       "Más de 10        7\n",
       "Entre 6 y 9      4\n",
       "Name: historias_propias, dtype: int64"
      ]
     },
     "execution_count": 459,
     "metadata": {},
     "output_type": "execute_result"
    }
   ],
   "source": [
    "instagram.historias_propias.value_counts()"
   ]
  },
  {
   "cell_type": "code",
   "execution_count": 460,
   "id": "handmade-draft",
   "metadata": {},
   "outputs": [],
   "source": [
    "instagram.loc[instagram.historias_propias=='Menos de 1','historias_propias']=1\n",
    "instagram.loc[instagram.historias_propias=='Entre 1 y 3','historias_propias']=2\n",
    "instagram.loc[instagram.historias_propias=='Entre 4 y 6','historias_propias']=5\n",
    "instagram.loc[instagram.historias_propias=='Entre 6 y 9','historias_propias']=8\n",
    "instagram.loc[instagram.historias_propias=='Más de 10','historias_propias']=10"
   ]
  },
  {
   "cell_type": "markdown",
   "id": "creative-register",
   "metadata": {},
   "source": [
    "- historias propias filtro"
   ]
  },
  {
   "cell_type": "code",
   "execution_count": 461,
   "id": "thermal-guitar",
   "metadata": {
    "scrolled": true
   },
   "outputs": [
    {
     "data": {
      "text/plain": [
       "Menos de 1     215\n",
       "Entre 1 y 3     96\n",
       "Entre 4 y 6     23\n",
       "Más de 10       23\n",
       "Entre 6 y 9     12\n",
       "Name: historias_propias_filtro, dtype: int64"
      ]
     },
     "execution_count": 461,
     "metadata": {},
     "output_type": "execute_result"
    }
   ],
   "source": [
    "instagram.historias_propias_filtro.value_counts()"
   ]
  },
  {
   "cell_type": "code",
   "execution_count": 462,
   "id": "korean-honey",
   "metadata": {},
   "outputs": [],
   "source": [
    "instagram.loc[instagram.historias_propias_filtro=='Menos de 1','historias_propias_filtro']=1\n",
    "instagram.loc[instagram.historias_propias_filtro=='Entre 1 y 3','historias_propias_filtro']=2\n",
    "instagram.loc[instagram.historias_propias_filtro=='Entre 4 y 6','historias_propias_filtro']=5\n",
    "instagram.loc[instagram.historias_propias_filtro=='Entre 6 y 9','historias_propias_filtro']=8\n",
    "instagram.loc[instagram.historias_propias_filtro=='Más de 10','historias_propias_filtro']=10"
   ]
  },
  {
   "cell_type": "markdown",
   "id": "nasty-airplane",
   "metadata": {},
   "source": [
    "- Repeticion"
   ]
  },
  {
   "cell_type": "code",
   "execution_count": 463,
   "id": "second-peace",
   "metadata": {},
   "outputs": [
    {
     "data": {
      "text/plain": [
       "Menos de 1     144\n",
       "Entre 1 y 3     89\n",
       "Entre 4 y 6     58\n",
       "Más de 10       46\n",
       "Entre 6 y 9     32\n",
       "Name: repeticion, dtype: int64"
      ]
     },
     "execution_count": 463,
     "metadata": {},
     "output_type": "execute_result"
    }
   ],
   "source": [
    "instagram.repeticion.value_counts()"
   ]
  },
  {
   "cell_type": "code",
   "execution_count": 464,
   "id": "nutritional-jimmy",
   "metadata": {},
   "outputs": [],
   "source": [
    "instagram.loc[instagram.repeticion=='Menos de 1','repeticion']=1\n",
    "instagram.loc[instagram.repeticion=='Entre 1 y 3','repeticion']=2\n",
    "instagram.loc[instagram.repeticion=='Entre 4 y 6','repeticion']=5\n",
    "instagram.loc[instagram.repeticion=='Entre 6 y 9','repeticion']=8\n",
    "instagram.loc[instagram.repeticion=='Más de 10','repeticion']=10"
   ]
  },
  {
   "cell_type": "markdown",
   "id": "wound-officer",
   "metadata": {},
   "source": [
    "- Desistidas"
   ]
  },
  {
   "cell_type": "code",
   "execution_count": 465,
   "id": "allied-adjustment",
   "metadata": {
    "scrolled": true
   },
   "outputs": [
    {
     "data": {
      "text/plain": [
       "array(['Entre 4 y 6', 'Más de 10', 'Entre 6 y 9', 'Menos de 1',\n",
       "       'Entre 1 y 3'], dtype=object)"
      ]
     },
     "execution_count": 465,
     "metadata": {},
     "output_type": "execute_result"
    }
   ],
   "source": [
    "instagram.desistidas.unique()"
   ]
  },
  {
   "cell_type": "code",
   "execution_count": 466,
   "id": "educational-fleet",
   "metadata": {},
   "outputs": [],
   "source": [
    "instagram.loc[instagram.desistidas=='Menos de 1','desistidas']=1\n",
    "instagram.loc[instagram.desistidas=='Entre 1 y 3','desistidas']=2\n",
    "instagram.loc[instagram.desistidas=='Entre 4 y 6','desistidas']=5\n",
    "instagram.loc[instagram.desistidas=='Entre 6 y 9','desistidas']=8\n",
    "instagram.loc[instagram.desistidas=='Más de 10','desistidas']=10"
   ]
  },
  {
   "cell_type": "markdown",
   "id": "integral-complaint",
   "metadata": {},
   "source": [
    "### d) Drop duplicates"
   ]
  },
  {
   "cell_type": "code",
   "execution_count": 467,
   "id": "geological-circus",
   "metadata": {},
   "outputs": [
    {
     "data": {
      "text/plain": [
       "0"
      ]
     },
     "execution_count": 467,
     "metadata": {},
     "output_type": "execute_result"
    }
   ],
   "source": [
    "instagram.duplicated().sum()"
   ]
  },
  {
   "cell_type": "markdown",
   "id": "raised-owner",
   "metadata": {},
   "source": [
    "### b) Feature adition\n"
   ]
  },
  {
   "cell_type": "code",
   "execution_count": 468,
   "id": "accessible-designation",
   "metadata": {},
   "outputs": [],
   "source": [
    "#sumar aburrimiento+inercia = entradas_ig "
   ]
  },
  {
   "cell_type": "code",
   "execution_count": 469,
   "id": "alternate-atlas",
   "metadata": {},
   "outputs": [],
   "source": [
    "instagram['entradas_ig']=instagram[['inercia','aburrimiento']].sum(axis=1)"
   ]
  },
  {
   "cell_type": "code",
   "execution_count": 470,
   "id": "virgin-athletics",
   "metadata": {},
   "outputs": [],
   "source": [
    "#multiplicar entradas_ig con tiempo_promedio = tiempo_estimado"
   ]
  },
  {
   "cell_type": "code",
   "execution_count": 471,
   "id": "sealed-turtle",
   "metadata": {},
   "outputs": [],
   "source": [
    "instagram['tiempo_estimado_ig'] = instagram['entradas_ig']*instagram['tiempo_promedio_ig']"
   ]
  },
  {
   "cell_type": "code",
   "execution_count": 472,
   "id": "opposite-cycle",
   "metadata": {},
   "outputs": [
    {
     "data": {
      "text/html": [
       "<div>\n",
       "<style scoped>\n",
       "    .dataframe tbody tr th:only-of-type {\n",
       "        vertical-align: middle;\n",
       "    }\n",
       "\n",
       "    .dataframe tbody tr th {\n",
       "        vertical-align: top;\n",
       "    }\n",
       "\n",
       "    .dataframe thead th {\n",
       "        text-align: right;\n",
       "    }\n",
       "</style>\n",
       "<table border=\"1\" class=\"dataframe\">\n",
       "  <thead>\n",
       "    <tr style=\"text-align: right;\">\n",
       "      <th></th>\n",
       "      <th>Id</th>\n",
       "      <th>instagram</th>\n",
       "      <th>edad_instagram</th>\n",
       "      <th>tiempo_declarado_ig</th>\n",
       "      <th>aburrimiento</th>\n",
       "      <th>inercia</th>\n",
       "      <th>tiempo_promedio_ig</th>\n",
       "      <th>fotos_subidas</th>\n",
       "      <th>fotos_propias</th>\n",
       "      <th>fotos_propias_filtro</th>\n",
       "      <th>historias_subidas</th>\n",
       "      <th>historias_propias</th>\n",
       "      <th>historias_propias_filtro</th>\n",
       "      <th>repeticion</th>\n",
       "      <th>desistidas</th>\n",
       "      <th>entradas_ig</th>\n",
       "      <th>tiempo_estimado_ig</th>\n",
       "    </tr>\n",
       "  </thead>\n",
       "  <tbody>\n",
       "    <tr>\n",
       "      <th>20</th>\n",
       "      <td>20</td>\n",
       "      <td>Si</td>\n",
       "      <td>14.0</td>\n",
       "      <td>120.0</td>\n",
       "      <td>5.0</td>\n",
       "      <td>3.0</td>\n",
       "      <td>15.0</td>\n",
       "      <td>1</td>\n",
       "      <td>1</td>\n",
       "      <td>1</td>\n",
       "      <td>1</td>\n",
       "      <td>1</td>\n",
       "      <td>1</td>\n",
       "      <td>1</td>\n",
       "      <td>5</td>\n",
       "      <td>8.0</td>\n",
       "      <td>120.0</td>\n",
       "    </tr>\n",
       "    <tr>\n",
       "      <th>21</th>\n",
       "      <td>21</td>\n",
       "      <td>Si</td>\n",
       "      <td>17.0</td>\n",
       "      <td>180.0</td>\n",
       "      <td>8.0</td>\n",
       "      <td>10.0</td>\n",
       "      <td>25.0</td>\n",
       "      <td>1</td>\n",
       "      <td>1</td>\n",
       "      <td>1</td>\n",
       "      <td>1</td>\n",
       "      <td>1</td>\n",
       "      <td>1</td>\n",
       "      <td>1</td>\n",
       "      <td>10</td>\n",
       "      <td>18.0</td>\n",
       "      <td>450.0</td>\n",
       "    </tr>\n",
       "    <tr>\n",
       "      <th>22</th>\n",
       "      <td>22</td>\n",
       "      <td>Si</td>\n",
       "      <td>18.0</td>\n",
       "      <td>120.0</td>\n",
       "      <td>8.0</td>\n",
       "      <td>5.0</td>\n",
       "      <td>15.0</td>\n",
       "      <td>1</td>\n",
       "      <td>10</td>\n",
       "      <td>10</td>\n",
       "      <td>5</td>\n",
       "      <td>2</td>\n",
       "      <td>10</td>\n",
       "      <td>10</td>\n",
       "      <td>10</td>\n",
       "      <td>13.0</td>\n",
       "      <td>195.0</td>\n",
       "    </tr>\n",
       "    <tr>\n",
       "      <th>23</th>\n",
       "      <td>23</td>\n",
       "      <td>Si</td>\n",
       "      <td>26.0</td>\n",
       "      <td>60.0</td>\n",
       "      <td>10.0</td>\n",
       "      <td>10.0</td>\n",
       "      <td>15.0</td>\n",
       "      <td>1</td>\n",
       "      <td>8</td>\n",
       "      <td>8</td>\n",
       "      <td>1</td>\n",
       "      <td>5</td>\n",
       "      <td>1</td>\n",
       "      <td>1</td>\n",
       "      <td>8</td>\n",
       "      <td>20.0</td>\n",
       "      <td>300.0</td>\n",
       "    </tr>\n",
       "    <tr>\n",
       "      <th>24</th>\n",
       "      <td>24</td>\n",
       "      <td>Si</td>\n",
       "      <td>25.0</td>\n",
       "      <td>60.0</td>\n",
       "      <td>3.0</td>\n",
       "      <td>3.0</td>\n",
       "      <td>15.0</td>\n",
       "      <td>1</td>\n",
       "      <td>1</td>\n",
       "      <td>1</td>\n",
       "      <td>1</td>\n",
       "      <td>1</td>\n",
       "      <td>1</td>\n",
       "      <td>1</td>\n",
       "      <td>1</td>\n",
       "      <td>6.0</td>\n",
       "      <td>90.0</td>\n",
       "    </tr>\n",
       "    <tr>\n",
       "      <th>...</th>\n",
       "      <td>...</td>\n",
       "      <td>...</td>\n",
       "      <td>...</td>\n",
       "      <td>...</td>\n",
       "      <td>...</td>\n",
       "      <td>...</td>\n",
       "      <td>...</td>\n",
       "      <td>...</td>\n",
       "      <td>...</td>\n",
       "      <td>...</td>\n",
       "      <td>...</td>\n",
       "      <td>...</td>\n",
       "      <td>...</td>\n",
       "      <td>...</td>\n",
       "      <td>...</td>\n",
       "      <td>...</td>\n",
       "      <td>...</td>\n",
       "    </tr>\n",
       "    <tr>\n",
       "      <th>428</th>\n",
       "      <td>428</td>\n",
       "      <td>Si</td>\n",
       "      <td>20.0</td>\n",
       "      <td>120.0</td>\n",
       "      <td>10.0</td>\n",
       "      <td>10.0</td>\n",
       "      <td>25.0</td>\n",
       "      <td>1</td>\n",
       "      <td>1</td>\n",
       "      <td>1</td>\n",
       "      <td>1</td>\n",
       "      <td>1</td>\n",
       "      <td>1</td>\n",
       "      <td>8</td>\n",
       "      <td>10</td>\n",
       "      <td>20.0</td>\n",
       "      <td>500.0</td>\n",
       "    </tr>\n",
       "    <tr>\n",
       "      <th>429</th>\n",
       "      <td>429</td>\n",
       "      <td>Si</td>\n",
       "      <td>32.0</td>\n",
       "      <td>120.0</td>\n",
       "      <td>3.0</td>\n",
       "      <td>3.0</td>\n",
       "      <td>25.0</td>\n",
       "      <td>1</td>\n",
       "      <td>1</td>\n",
       "      <td>1</td>\n",
       "      <td>2</td>\n",
       "      <td>1</td>\n",
       "      <td>1</td>\n",
       "      <td>1</td>\n",
       "      <td>1</td>\n",
       "      <td>6.0</td>\n",
       "      <td>150.0</td>\n",
       "    </tr>\n",
       "    <tr>\n",
       "      <th>430</th>\n",
       "      <td>430</td>\n",
       "      <td>Si</td>\n",
       "      <td>20.0</td>\n",
       "      <td>120.0</td>\n",
       "      <td>5.0</td>\n",
       "      <td>5.0</td>\n",
       "      <td>35.0</td>\n",
       "      <td>1</td>\n",
       "      <td>1</td>\n",
       "      <td>1</td>\n",
       "      <td>10</td>\n",
       "      <td>2</td>\n",
       "      <td>1</td>\n",
       "      <td>1</td>\n",
       "      <td>10</td>\n",
       "      <td>10.0</td>\n",
       "      <td>350.0</td>\n",
       "    </tr>\n",
       "    <tr>\n",
       "      <th>431</th>\n",
       "      <td>431</td>\n",
       "      <td>Si</td>\n",
       "      <td>26.0</td>\n",
       "      <td>120.0</td>\n",
       "      <td>8.0</td>\n",
       "      <td>5.0</td>\n",
       "      <td>15.0</td>\n",
       "      <td>1</td>\n",
       "      <td>1</td>\n",
       "      <td>1</td>\n",
       "      <td>1</td>\n",
       "      <td>1</td>\n",
       "      <td>1</td>\n",
       "      <td>1</td>\n",
       "      <td>1</td>\n",
       "      <td>13.0</td>\n",
       "      <td>195.0</td>\n",
       "    </tr>\n",
       "    <tr>\n",
       "      <th>433</th>\n",
       "      <td>433</td>\n",
       "      <td>Si</td>\n",
       "      <td>42.0</td>\n",
       "      <td>60.0</td>\n",
       "      <td>3.0</td>\n",
       "      <td>3.0</td>\n",
       "      <td>25.0</td>\n",
       "      <td>1</td>\n",
       "      <td>2</td>\n",
       "      <td>2</td>\n",
       "      <td>1</td>\n",
       "      <td>1</td>\n",
       "      <td>1</td>\n",
       "      <td>5</td>\n",
       "      <td>5</td>\n",
       "      <td>6.0</td>\n",
       "      <td>150.0</td>\n",
       "    </tr>\n",
       "  </tbody>\n",
       "</table>\n",
       "<p>369 rows × 17 columns</p>\n",
       "</div>"
      ],
      "text/plain": [
       "      Id instagram  edad_instagram  tiempo_declarado_ig  aburrimiento  \\\n",
       "20    20        Si            14.0                120.0           5.0   \n",
       "21    21        Si            17.0                180.0           8.0   \n",
       "22    22        Si            18.0                120.0           8.0   \n",
       "23    23        Si            26.0                 60.0          10.0   \n",
       "24    24        Si            25.0                 60.0           3.0   \n",
       "..   ...       ...             ...                  ...           ...   \n",
       "428  428        Si            20.0                120.0          10.0   \n",
       "429  429        Si            32.0                120.0           3.0   \n",
       "430  430        Si            20.0                120.0           5.0   \n",
       "431  431        Si            26.0                120.0           8.0   \n",
       "433  433        Si            42.0                 60.0           3.0   \n",
       "\n",
       "     inercia  tiempo_promedio_ig fotos_subidas fotos_propias  \\\n",
       "20       3.0                15.0             1             1   \n",
       "21      10.0                25.0             1             1   \n",
       "22       5.0                15.0             1            10   \n",
       "23      10.0                15.0             1             8   \n",
       "24       3.0                15.0             1             1   \n",
       "..       ...                 ...           ...           ...   \n",
       "428     10.0                25.0             1             1   \n",
       "429      3.0                25.0             1             1   \n",
       "430      5.0                35.0             1             1   \n",
       "431      5.0                15.0             1             1   \n",
       "433      3.0                25.0             1             2   \n",
       "\n",
       "    fotos_propias_filtro historias_subidas historias_propias  \\\n",
       "20                     1                 1                 1   \n",
       "21                     1                 1                 1   \n",
       "22                    10                 5                 2   \n",
       "23                     8                 1                 5   \n",
       "24                     1                 1                 1   \n",
       "..                   ...               ...               ...   \n",
       "428                    1                 1                 1   \n",
       "429                    1                 2                 1   \n",
       "430                    1                10                 2   \n",
       "431                    1                 1                 1   \n",
       "433                    2                 1                 1   \n",
       "\n",
       "    historias_propias_filtro repeticion desistidas  entradas_ig  \\\n",
       "20                         1          1          5          8.0   \n",
       "21                         1          1         10         18.0   \n",
       "22                        10         10         10         13.0   \n",
       "23                         1          1          8         20.0   \n",
       "24                         1          1          1          6.0   \n",
       "..                       ...        ...        ...          ...   \n",
       "428                        1          8         10         20.0   \n",
       "429                        1          1          1          6.0   \n",
       "430                        1          1         10         10.0   \n",
       "431                        1          1          1         13.0   \n",
       "433                        1          5          5          6.0   \n",
       "\n",
       "     tiempo_estimado_ig  \n",
       "20                120.0  \n",
       "21                450.0  \n",
       "22                195.0  \n",
       "23                300.0  \n",
       "24                 90.0  \n",
       "..                  ...  \n",
       "428               500.0  \n",
       "429               150.0  \n",
       "430               350.0  \n",
       "431               195.0  \n",
       "433               150.0  \n",
       "\n",
       "[369 rows x 17 columns]"
      ]
     },
     "execution_count": 472,
     "metadata": {},
     "output_type": "execute_result"
    }
   ],
   "source": [
    "instagram"
   ]
  },
  {
   "cell_type": "code",
   "execution_count": 473,
   "id": "every-kelly",
   "metadata": {},
   "outputs": [],
   "source": [
    "instagram = instagram.drop(['instagram'],axis=1)"
   ]
  },
  {
   "cell_type": "markdown",
   "id": "proved-munich",
   "metadata": {},
   "source": [
    "## Save the data clean\n"
   ]
  },
  {
   "cell_type": "code",
   "execution_count": 475,
   "id": "great-recall",
   "metadata": {},
   "outputs": [],
   "source": [
    "#instagram.to_csv('instagram.csv')"
   ]
  },
  {
   "cell_type": "markdown",
   "id": "dutch-import",
   "metadata": {},
   "source": [
    "# Tik Tok "
   ]
  },
  {
   "cell_type": "markdown",
   "id": "insured-permission",
   "metadata": {},
   "source": [
    "## EDA and Data Cleaning\n"
   ]
  },
  {
   "cell_type": "code",
   "execution_count": 514,
   "id": "physical-injury",
   "metadata": {},
   "outputs": [
    {
     "data": {
      "text/plain": [
       "Index(['Id', '¿Tienes Tik-Tok?',\n",
       "       '¿A qué edad te hiciste el perfil en Tik-Tok?',\n",
       "       '¿Cuántas horas al día crees que pasas en Tik-Tok? ',\n",
       "       '¿Cuántas veces al día dirías que entras por aburrimiento?',\n",
       "       '¿Cuántas veces al día estas mirando el teléfono por alguna otra razón y terminas entrando a Tik-Tok?',\n",
       "       '¿Cada vez que entras a Tik-Tok, cuánto tiempo dirías en promedio que en la aplicación?',\n",
       "       'Semanalmente... [¿Cuántos videos en los que apareces subes?]',\n",
       "       'Semanalmente... [¿Cuántos de ellos llevan filtros?]',\n",
       "       'Semanalmente... [¿Cuántas veces repites un video en el que apareces porque no te gusta como sales en ella?]',\n",
       "       'Semanalmente... [¿Cuántas veces desistes de subir contenido en el que apareces porque no te gusta como sales?]'],\n",
       "      dtype='object')"
      ]
     },
     "execution_count": 514,
     "metadata": {},
     "output_type": "execute_result"
    }
   ],
   "source": [
    "tiktok.columns"
   ]
  },
  {
   "cell_type": "code",
   "execution_count": 515,
   "id": "chronic-essence",
   "metadata": {},
   "outputs": [],
   "source": [
    "tiktok.rename(columns={'¿Tienes Tik-Tok?':'tiktok',\n",
    "    '¿A qué edad te hiciste el perfil en Tik-Tok?':'edad_tiktok',\n",
    "    '¿Cuántas horas al día crees que pasas en Tik-Tok? ':'tiempo_declarado_tt',\n",
    "    '¿Cuántas veces al día dirías que entras por aburrimiento?':'aburrimiento',\n",
    "    '¿Cuántas veces al día estas mirando el teléfono por alguna otra razón y terminas entrando a Tik-Tok?':'inercia',\n",
    "    '¿Cada vez que entras a Tik-Tok, cuánto tiempo dirías en promedio que en la aplicación?':'tiempo_promedio_tt',\n",
    "    'Semanalmente... [¿Cuántos videos en los que apareces subes?]':'videos_propios',\n",
    "    'Semanalmente... [¿Cuántos de ellos llevan filtros?]': 'videos_propios_filtros',\n",
    "    'Semanalmente... [¿Cuántas veces repites un video en el que apareces porque no te gusta como sales en ella?]':'repeticion',\n",
    "    'Semanalmente... [¿Cuántas veces desistes de subir contenido en el que apareces porque no te gusta como sales?]':'desistidas',\n",
    "                          }, inplace=True)"
   ]
  },
  {
   "cell_type": "code",
   "execution_count": 516,
   "id": "suffering-sheriff",
   "metadata": {},
   "outputs": [
    {
     "data": {
      "text/plain": [
       "No    309\n",
       "Sí    124\n",
       "Name: tiktok, dtype: int64"
      ]
     },
     "execution_count": 516,
     "metadata": {},
     "output_type": "execute_result"
    }
   ],
   "source": [
    "tiktok.tiktok.value_counts()"
   ]
  },
  {
   "cell_type": "code",
   "execution_count": 517,
   "id": "rational-links",
   "metadata": {},
   "outputs": [],
   "source": [
    "tiktok = tiktok[tiktok.tiktok == 'Sí']"
   ]
  },
  {
   "cell_type": "code",
   "execution_count": 519,
   "id": "funded-input",
   "metadata": {},
   "outputs": [
    {
     "data": {
      "text/plain": [
       "array(['29', '23', '21', nan, '22', '37', '24', '18', '43', '33', '16-17',\n",
       "       '17', '19', 'No me acuerdo', '20', '15', '31', '12 años.', '41',\n",
       "       '32', '25', '10', '12', '14', 'catorce', '48', '46', '13', '11',\n",
       "       'en el 2017 cuando era musicaly, y ahora el año pasado, no se bien las edades',\n",
       "       '27', '17 años.', '13/14', '10/11', '20 años', '34', 'A los 10',\n",
       "       '16', '30', '26', '35', '22 años ', '27 xD ', '38', '28', '44',\n",
       "       '0'], dtype=object)"
      ]
     },
     "execution_count": 519,
     "metadata": {},
     "output_type": "execute_result"
    }
   ],
   "source": [
    "tiktok.edad_tiktok.unique()"
   ]
  },
  {
   "cell_type": "code",
   "execution_count": 520,
   "id": "sharp-proxy",
   "metadata": {},
   "outputs": [],
   "source": [
    "replace_map_edad_tt = {'16-17':16,'12 años.':12,'catorce':14,'17 años.':17,\n",
    "                      '13/14':13,'10/11':10,'20 años':20,'A los 10':10,\n",
    "                       '22 años ':22,'27 xD ':27}"
   ]
  },
  {
   "cell_type": "code",
   "execution_count": 521,
   "id": "absent-therapist",
   "metadata": {},
   "outputs": [],
   "source": [
    "tiktok.edad_tiktok.replace(replace_map_edad_tt,inplace=True)"
   ]
  },
  {
   "cell_type": "code",
   "execution_count": 530,
   "id": "abroad-pearl",
   "metadata": {},
   "outputs": [
    {
     "data": {
      "text/plain": [
       "array(['29', '23', '21', nan, '22', '37', '24', '18', '43', '33', 16,\n",
       "       '17', '19', '20', '15', '31', 12, '41', '32', '25', '10', '12',\n",
       "       '14', 14, '48', '46', '13', '11', '27', 17, 13, 10, 20, '34', '16',\n",
       "       '30', '26', '35', 22, 27, '38', '28', '44', '0'], dtype=object)"
      ]
     },
     "execution_count": 530,
     "metadata": {},
     "output_type": "execute_result"
    }
   ],
   "source": [
    "tiktok.edad_tiktok.unique()"
   ]
  },
  {
   "cell_type": "code",
   "execution_count": 524,
   "id": "checked-participant",
   "metadata": {},
   "outputs": [
    {
     "data": {
      "text/html": [
       "<div>\n",
       "<style scoped>\n",
       "    .dataframe tbody tr th:only-of-type {\n",
       "        vertical-align: middle;\n",
       "    }\n",
       "\n",
       "    .dataframe tbody tr th {\n",
       "        vertical-align: top;\n",
       "    }\n",
       "\n",
       "    .dataframe thead th {\n",
       "        text-align: right;\n",
       "    }\n",
       "</style>\n",
       "<table border=\"1\" class=\"dataframe\">\n",
       "  <thead>\n",
       "    <tr style=\"text-align: right;\">\n",
       "      <th></th>\n",
       "      <th>Id</th>\n",
       "      <th>tiktok</th>\n",
       "      <th>edad_tiktok</th>\n",
       "      <th>tiempo_declarado_tt</th>\n",
       "      <th>aburrimiento</th>\n",
       "      <th>inercia</th>\n",
       "      <th>tiempo_promedio_tt</th>\n",
       "      <th>videos_propios</th>\n",
       "      <th>videos_propios_filtros</th>\n",
       "      <th>repeticion</th>\n",
       "      <th>desistidas</th>\n",
       "    </tr>\n",
       "  </thead>\n",
       "  <tbody>\n",
       "    <tr>\n",
       "      <th>64</th>\n",
       "      <td>64</td>\n",
       "      <td>Sí</td>\n",
       "      <td>No me acuerdo</td>\n",
       "      <td>Menos de una hora diaria</td>\n",
       "      <td>Hasta tres veces al día</td>\n",
       "      <td>Hasta tres veces al día</td>\n",
       "      <td>Menos de 15 minutos</td>\n",
       "      <td>Menos de 1</td>\n",
       "      <td>Menos de 1</td>\n",
       "      <td>Menos de 1</td>\n",
       "      <td>Menos de 1</td>\n",
       "    </tr>\n",
       "  </tbody>\n",
       "</table>\n",
       "</div>"
      ],
      "text/plain": [
       "    Id tiktok    edad_tiktok       tiempo_declarado_tt  \\\n",
       "64  64     Sí  No me acuerdo  Menos de una hora diaria   \n",
       "\n",
       "               aburrimiento                  inercia   tiempo_promedio_tt  \\\n",
       "64  Hasta tres veces al día  Hasta tres veces al día  Menos de 15 minutos   \n",
       "\n",
       "   videos_propios videos_propios_filtros  repeticion  desistidas  \n",
       "64     Menos de 1             Menos de 1  Menos de 1  Menos de 1  "
      ]
     },
     "execution_count": 524,
     "metadata": {},
     "output_type": "execute_result"
    }
   ],
   "source": [
    "to_drop = tiktok[tiktok.edad_tiktok=='No me acuerdo']\n",
    "to_drop"
   ]
  },
  {
   "cell_type": "code",
   "execution_count": 525,
   "id": "wooden-senator",
   "metadata": {},
   "outputs": [],
   "source": [
    "tiktok = tiktok.drop(tiktok.Id[64])"
   ]
  },
  {
   "cell_type": "code",
   "execution_count": 529,
   "id": "better-institution",
   "metadata": {},
   "outputs": [
    {
     "data": {
      "text/html": [
       "<div>\n",
       "<style scoped>\n",
       "    .dataframe tbody tr th:only-of-type {\n",
       "        vertical-align: middle;\n",
       "    }\n",
       "\n",
       "    .dataframe tbody tr th {\n",
       "        vertical-align: top;\n",
       "    }\n",
       "\n",
       "    .dataframe thead th {\n",
       "        text-align: right;\n",
       "    }\n",
       "</style>\n",
       "<table border=\"1\" class=\"dataframe\">\n",
       "  <thead>\n",
       "    <tr style=\"text-align: right;\">\n",
       "      <th></th>\n",
       "      <th>Id</th>\n",
       "      <th>tiktok</th>\n",
       "      <th>edad_tiktok</th>\n",
       "      <th>tiempo_declarado_tt</th>\n",
       "      <th>aburrimiento</th>\n",
       "      <th>inercia</th>\n",
       "      <th>tiempo_promedio_tt</th>\n",
       "      <th>videos_propios</th>\n",
       "      <th>videos_propios_filtros</th>\n",
       "      <th>repeticion</th>\n",
       "      <th>desistidas</th>\n",
       "    </tr>\n",
       "  </thead>\n",
       "  <tbody>\n",
       "  </tbody>\n",
       "</table>\n",
       "</div>"
      ],
      "text/plain": [
       "Empty DataFrame\n",
       "Columns: [Id, tiktok, edad_tiktok, tiempo_declarado_tt, aburrimiento, inercia, tiempo_promedio_tt, videos_propios, videos_propios_filtros, repeticion, desistidas]\n",
       "Index: []"
      ]
     },
     "execution_count": 529,
     "metadata": {},
     "output_type": "execute_result"
    }
   ],
   "source": [
    "to_check =tiktok[tiktok.edad_tiktok=='en el 2017 cuando era musicaly, y ahora el año pasado, no se bien las edades']\n",
    "to_check"
   ]
  },
  {
   "cell_type": "code",
   "execution_count": 528,
   "id": "specified-corporation",
   "metadata": {},
   "outputs": [],
   "source": [
    "tiktok.loc[171,'edad_tiktok']=12"
   ]
  },
  {
   "cell_type": "code",
   "execution_count": 547,
   "id": "stock-maintenance",
   "metadata": {},
   "outputs": [],
   "source": [
    "tiktok.edad_tiktok = tiktok.edad_tiktok.astype('float')"
   ]
  },
  {
   "cell_type": "markdown",
   "id": "abstract-colors",
   "metadata": {},
   "source": [
    "### a) Check missing values:"
   ]
  },
  {
   "cell_type": "code",
   "execution_count": 531,
   "id": "interested-sailing",
   "metadata": {},
   "outputs": [
    {
     "data": {
      "text/html": [
       "<div>\n",
       "<style scoped>\n",
       "    .dataframe tbody tr th:only-of-type {\n",
       "        vertical-align: middle;\n",
       "    }\n",
       "\n",
       "    .dataframe tbody tr th {\n",
       "        vertical-align: top;\n",
       "    }\n",
       "\n",
       "    .dataframe thead th {\n",
       "        text-align: right;\n",
       "    }\n",
       "</style>\n",
       "<table border=\"1\" class=\"dataframe\">\n",
       "  <thead>\n",
       "    <tr style=\"text-align: right;\">\n",
       "      <th></th>\n",
       "      <th>Percentage_NaN</th>\n",
       "    </tr>\n",
       "  </thead>\n",
       "  <tbody>\n",
       "    <tr>\n",
       "      <th>videos_propios_filtros</th>\n",
       "      <td>18.7</td>\n",
       "    </tr>\n",
       "    <tr>\n",
       "      <th>repeticion</th>\n",
       "      <td>14.6</td>\n",
       "    </tr>\n",
       "    <tr>\n",
       "      <th>desistidas</th>\n",
       "      <td>12.2</td>\n",
       "    </tr>\n",
       "    <tr>\n",
       "      <th>aburrimiento</th>\n",
       "      <td>9.8</td>\n",
       "    </tr>\n",
       "    <tr>\n",
       "      <th>inercia</th>\n",
       "      <td>9.8</td>\n",
       "    </tr>\n",
       "    <tr>\n",
       "      <th>videos_propios</th>\n",
       "      <td>8.9</td>\n",
       "    </tr>\n",
       "    <tr>\n",
       "      <th>edad_tiktok</th>\n",
       "      <td>1.6</td>\n",
       "    </tr>\n",
       "    <tr>\n",
       "      <th>tiempo_declarado_tt</th>\n",
       "      <td>1.6</td>\n",
       "    </tr>\n",
       "    <tr>\n",
       "      <th>tiempo_promedio_tt</th>\n",
       "      <td>1.6</td>\n",
       "    </tr>\n",
       "    <tr>\n",
       "      <th>Id</th>\n",
       "      <td>0.0</td>\n",
       "    </tr>\n",
       "    <tr>\n",
       "      <th>tiktok</th>\n",
       "      <td>0.0</td>\n",
       "    </tr>\n",
       "  </tbody>\n",
       "</table>\n",
       "</div>"
      ],
      "text/plain": [
       "                        Percentage_NaN\n",
       "videos_propios_filtros            18.7\n",
       "repeticion                        14.6\n",
       "desistidas                        12.2\n",
       "aburrimiento                       9.8\n",
       "inercia                            9.8\n",
       "videos_propios                     8.9\n",
       "edad_tiktok                        1.6\n",
       "tiempo_declarado_tt                1.6\n",
       "tiempo_promedio_tt                 1.6\n",
       "Id                                 0.0\n",
       "tiktok                             0.0"
      ]
     },
     "execution_count": 531,
     "metadata": {},
     "output_type": "execute_result"
    }
   ],
   "source": [
    "percentage_nullValues(tiktok)"
   ]
  },
  {
   "cell_type": "code",
   "execution_count": 533,
   "id": "solar-favor",
   "metadata": {},
   "outputs": [],
   "source": [
    "tiktok = tiktok.dropna()"
   ]
  },
  {
   "cell_type": "markdown",
   "id": "monthly-giant",
   "metadata": {},
   "source": [
    "### b) Dealing with categorical variables\n"
   ]
  },
  {
   "cell_type": "code",
   "execution_count": 539,
   "id": "grand-loading",
   "metadata": {
    "scrolled": true
   },
   "outputs": [
    {
     "name": "stdout",
     "output_type": "stream",
     "text": [
      "<class 'pandas.core.frame.DataFrame'>\n",
      "Int64Index: 94 entries, 22 to 420\n",
      "Data columns (total 11 columns):\n",
      " #   Column                  Non-Null Count  Dtype  \n",
      "---  ------                  --------------  -----  \n",
      " 0   Id                      94 non-null     int64  \n",
      " 1   tiktok                  94 non-null     object \n",
      " 2   edad_tiktok             94 non-null     object \n",
      " 3   tiempo_declarado_tt     94 non-null     float64\n",
      " 4   aburrimiento            94 non-null     object \n",
      " 5   inercia                 94 non-null     object \n",
      " 6   tiempo_promedio_tt      94 non-null     object \n",
      " 7   videos_propios          94 non-null     object \n",
      " 8   videos_propios_filtros  94 non-null     object \n",
      " 9   repeticion              94 non-null     object \n",
      " 10  desistidas              94 non-null     object \n",
      "dtypes: float64(1), int64(1), object(9)\n",
      "memory usage: 10.9+ KB\n"
     ]
    }
   ],
   "source": [
    "tiktok.info()"
   ]
  },
  {
   "cell_type": "markdown",
   "id": "residential-pacific",
   "metadata": {},
   "source": [
    "- tiempo declarado"
   ]
  },
  {
   "cell_type": "code",
   "execution_count": 534,
   "id": "allied-norman",
   "metadata": {},
   "outputs": [
    {
     "data": {
      "text/plain": [
       "array(['Más de tres horas diarias', 'Entre una y tres horas',\n",
       "       'Menos de una hora diaria'], dtype=object)"
      ]
     },
     "execution_count": 534,
     "metadata": {},
     "output_type": "execute_result"
    }
   ],
   "source": [
    "tiktok.tiempo_declarado_tt.unique()"
   ]
  },
  {
   "cell_type": "code",
   "execution_count": 535,
   "id": "happy-employee",
   "metadata": {},
   "outputs": [],
   "source": [
    "tiktok.loc[tiktok.tiempo_declarado_tt=='Menos de una hora diaria','tiempo_declarado_tt']=60"
   ]
  },
  {
   "cell_type": "code",
   "execution_count": 536,
   "id": "understood-celebrity",
   "metadata": {},
   "outputs": [],
   "source": [
    "tiktok.loc[tiktok.tiempo_declarado_tt=='Entre una y tres horas','tiempo_declarado_tt']=120"
   ]
  },
  {
   "cell_type": "code",
   "execution_count": 537,
   "id": "sixth-compatibility",
   "metadata": {},
   "outputs": [],
   "source": [
    "tiktok.loc[tiktok.tiempo_declarado_tt=='Más de tres horas diarias','tiempo_declarado_tt']=180"
   ]
  },
  {
   "cell_type": "code",
   "execution_count": 538,
   "id": "infinite-comparison",
   "metadata": {},
   "outputs": [],
   "source": [
    "tiktok.tiempo_declarado_tt = tiktok.tiempo_declarado_tt.astype('float')"
   ]
  },
  {
   "cell_type": "markdown",
   "id": "chronic-shield",
   "metadata": {},
   "source": [
    "- aburrimiento, se asume el valor medio para el rango contenido en las posibles respuestas. "
   ]
  },
  {
   "cell_type": "code",
   "execution_count": 540,
   "id": "entertaining-coast",
   "metadata": {},
   "outputs": [
    {
     "data": {
      "text/plain": [
       "Hasta tres veces al día             62\n",
       "Entre cuatro y seis veces al día    15\n",
       "Diez o más veces al día             10\n",
       "Entre siete y nueve veces al día     7\n",
       "Name: aburrimiento, dtype: int64"
      ]
     },
     "execution_count": 540,
     "metadata": {},
     "output_type": "execute_result"
    }
   ],
   "source": [
    "tiktok.aburrimiento.value_counts()"
   ]
  },
  {
   "cell_type": "code",
   "execution_count": 541,
   "id": "ecological-causing",
   "metadata": {},
   "outputs": [
    {
     "data": {
      "text/plain": [
       "array(['Diez o más veces al día', 'Hasta tres veces al día',\n",
       "       'Entre cuatro y seis veces al día',\n",
       "       'Entre siete y nueve veces al día'], dtype=object)"
      ]
     },
     "execution_count": 541,
     "metadata": {},
     "output_type": "execute_result"
    }
   ],
   "source": [
    "tiktok.aburrimiento.unique()"
   ]
  },
  {
   "cell_type": "code",
   "execution_count": 542,
   "id": "peripheral-bidding",
   "metadata": {},
   "outputs": [],
   "source": [
    "tiktok.loc[tiktok.aburrimiento=='Hasta tres veces al día','aburrimiento']=3"
   ]
  },
  {
   "cell_type": "code",
   "execution_count": 543,
   "id": "digital-companion",
   "metadata": {},
   "outputs": [],
   "source": [
    "tiktok.loc[tiktok.aburrimiento=='Entre cuatro y seis veces al día','aburrimiento']=5"
   ]
  },
  {
   "cell_type": "code",
   "execution_count": 544,
   "id": "mathematical-addiction",
   "metadata": {},
   "outputs": [],
   "source": [
    "tiktok.loc[tiktok.aburrimiento=='Entre siete y nueve veces al día','aburrimiento']=8"
   ]
  },
  {
   "cell_type": "code",
   "execution_count": 545,
   "id": "original-wichita",
   "metadata": {},
   "outputs": [],
   "source": [
    "tiktok.loc[tiktok.aburrimiento=='Diez o más veces al día','aburrimiento']=10"
   ]
  },
  {
   "cell_type": "code",
   "execution_count": 546,
   "id": "specified-above",
   "metadata": {},
   "outputs": [],
   "source": [
    "tiktok.aburrimiento = tiktok.aburrimiento.astype('float')"
   ]
  },
  {
   "cell_type": "markdown",
   "id": "preliminary-newport",
   "metadata": {},
   "source": [
    "- inercia"
   ]
  },
  {
   "cell_type": "code",
   "execution_count": 548,
   "id": "dried-diabetes",
   "metadata": {},
   "outputs": [
    {
     "data": {
      "text/plain": [
       "Hasta tres veces al día             67\n",
       "Entre cuatro y seis veces al día    11\n",
       "Entre siete y nueve veces al día     8\n",
       "Diez o más veces al día              8\n",
       "Name: inercia, dtype: int64"
      ]
     },
     "execution_count": 548,
     "metadata": {},
     "output_type": "execute_result"
    }
   ],
   "source": [
    "tiktok.inercia.value_counts()"
   ]
  },
  {
   "cell_type": "code",
   "execution_count": 549,
   "id": "retained-algebra",
   "metadata": {},
   "outputs": [
    {
     "data": {
      "text/plain": [
       "array(['Diez o más veces al día', 'Hasta tres veces al día',\n",
       "       'Entre cuatro y seis veces al día',\n",
       "       'Entre siete y nueve veces al día'], dtype=object)"
      ]
     },
     "execution_count": 549,
     "metadata": {},
     "output_type": "execute_result"
    }
   ],
   "source": [
    "tiktok.inercia.unique()"
   ]
  },
  {
   "cell_type": "code",
   "execution_count": 550,
   "id": "material-pressure",
   "metadata": {},
   "outputs": [],
   "source": [
    "tiktok.loc[tiktok.inercia=='Hasta tres veces al día','inercia']=3"
   ]
  },
  {
   "cell_type": "code",
   "execution_count": 551,
   "id": "consistent-general",
   "metadata": {},
   "outputs": [],
   "source": [
    "tiktok.loc[tiktok.inercia=='Entre cuatro y seis veces al día','inercia']=5"
   ]
  },
  {
   "cell_type": "code",
   "execution_count": 552,
   "id": "modified-vampire",
   "metadata": {},
   "outputs": [],
   "source": [
    "tiktok.loc[tiktok.inercia=='Entre siete y nueve veces al día','inercia']=8"
   ]
  },
  {
   "cell_type": "code",
   "execution_count": 553,
   "id": "binding-spell",
   "metadata": {},
   "outputs": [],
   "source": [
    "tiktok.loc[tiktok.inercia=='Diez o más veces al día','inercia']=10"
   ]
  },
  {
   "cell_type": "code",
   "execution_count": 554,
   "id": "growing-differential",
   "metadata": {},
   "outputs": [],
   "source": [
    "tiktok.inercia = tiktok.inercia.astype('float')"
   ]
  },
  {
   "cell_type": "markdown",
   "id": "determined-witch",
   "metadata": {},
   "source": [
    "- tiempo promedio; se asument valores medios de los rangos de las preguntas, tiempo medido en minutos"
   ]
  },
  {
   "cell_type": "code",
   "execution_count": 555,
   "id": "correct-access",
   "metadata": {
    "scrolled": true
   },
   "outputs": [
    {
     "data": {
      "text/plain": [
       "Menos de 15 minutos      36\n",
       "Entre 15 y 30 minutos    29\n",
       "Más de 30 minutos        29\n",
       "Name: tiempo_promedio_tt, dtype: int64"
      ]
     },
     "execution_count": 555,
     "metadata": {},
     "output_type": "execute_result"
    }
   ],
   "source": [
    "tiktok.tiempo_promedio_tt.value_counts()"
   ]
  },
  {
   "cell_type": "code",
   "execution_count": 556,
   "id": "killing-development",
   "metadata": {},
   "outputs": [
    {
     "data": {
      "text/plain": [
       "array(['Entre 15 y 30 minutos', 'Más de 30 minutos',\n",
       "       'Menos de 15 minutos'], dtype=object)"
      ]
     },
     "execution_count": 556,
     "metadata": {},
     "output_type": "execute_result"
    }
   ],
   "source": [
    "tiktok.tiempo_promedio_tt.unique()"
   ]
  },
  {
   "cell_type": "code",
   "execution_count": 557,
   "id": "unlimited-depth",
   "metadata": {},
   "outputs": [],
   "source": [
    "tiktok.loc[tiktok.tiempo_promedio_tt=='Menos de 15 minutos','tiempo_promedio_tt']=15"
   ]
  },
  {
   "cell_type": "code",
   "execution_count": 558,
   "id": "environmental-handle",
   "metadata": {},
   "outputs": [],
   "source": [
    "tiktok.loc[tiktok.tiempo_promedio_tt=='Entre 15 y 30 minutos','tiempo_promedio_tt']=25"
   ]
  },
  {
   "cell_type": "code",
   "execution_count": 559,
   "id": "exceptional-intellectual",
   "metadata": {},
   "outputs": [],
   "source": [
    "tiktok.loc[tiktok.tiempo_promedio_tt=='Más de 30 minutos','tiempo_promedio_tt']=35"
   ]
  },
  {
   "cell_type": "code",
   "execution_count": 560,
   "id": "pressing-competition",
   "metadata": {},
   "outputs": [],
   "source": [
    "tiktok.tiempo_promedio_tt = tiktok.tiempo_promedio_tt.astype('float')"
   ]
  },
  {
   "cell_type": "markdown",
   "id": "acting-dylan",
   "metadata": {},
   "source": [
    "- fotos propias"
   ]
  },
  {
   "cell_type": "code",
   "execution_count": 562,
   "id": "individual-intensity",
   "metadata": {
    "scrolled": true
   },
   "outputs": [
    {
     "data": {
      "text/plain": [
       "Menos de 1     85\n",
       "Entre 1 y 3     7\n",
       "Más de 10       1\n",
       "Entre 4 y 6     1\n",
       "Name: videos_propios, dtype: int64"
      ]
     },
     "execution_count": 562,
     "metadata": {},
     "output_type": "execute_result"
    }
   ],
   "source": [
    "tiktok.videos_propios.value_counts()"
   ]
  },
  {
   "cell_type": "code",
   "execution_count": 563,
   "id": "addressed-lease",
   "metadata": {},
   "outputs": [],
   "source": [
    "tiktok.loc[tiktok.videos_propios=='Menos de 1','videos_propios']=1\n",
    "tiktok.loc[tiktok.videos_propios=='Entre 1 y 3','videos_propios']=2\n",
    "tiktok.loc[tiktok.videos_propios=='Entre 4 y 6','videos_propios']=5\n",
    "tiktok.loc[tiktok.videos_propios=='Entre 6 y 9','videos_propios']=8\n",
    "tiktok.loc[tiktok.videos_propios=='Más de 10','videos_propios']=10"
   ]
  },
  {
   "cell_type": "markdown",
   "id": "unlike-necessity",
   "metadata": {},
   "source": [
    "- fotos propias filtro"
   ]
  },
  {
   "cell_type": "code",
   "execution_count": 564,
   "id": "occupied-commerce",
   "metadata": {},
   "outputs": [
    {
     "data": {
      "text/plain": [
       "Menos de 1     83\n",
       "Entre 1 y 3     7\n",
       "Más de 10       3\n",
       "Entre 4 y 6     1\n",
       "Name: videos_propios_filtros, dtype: int64"
      ]
     },
     "execution_count": 564,
     "metadata": {},
     "output_type": "execute_result"
    }
   ],
   "source": [
    "tiktok.videos_propios_filtros.value_counts()"
   ]
  },
  {
   "cell_type": "code",
   "execution_count": 565,
   "id": "ranking-toilet",
   "metadata": {},
   "outputs": [],
   "source": [
    "tiktok.loc[tiktok.videos_propios_filtros=='Menos de 1','videos_propios_filtros']=1\n",
    "tiktok.loc[tiktok.videos_propios_filtros=='Entre 1 y 3','videos_propios_filtros']=2\n",
    "tiktok.loc[tiktok.videos_propios_filtros=='Entre 4 y 6','videos_propios_filtros']=5\n",
    "tiktok.loc[tiktok.videos_propios_filtros=='Entre 6 y 9','videos_propios_filtros']=8\n",
    "tiktok.loc[tiktok.videos_propios_filtros=='Más de 10','videos_propios_filtros']=10"
   ]
  },
  {
   "cell_type": "markdown",
   "id": "horizontal-field",
   "metadata": {},
   "source": [
    "- Repeticion"
   ]
  },
  {
   "cell_type": "code",
   "execution_count": 567,
   "id": "designing-indian",
   "metadata": {},
   "outputs": [
    {
     "data": {
      "text/plain": [
       "Menos de 1     78\n",
       "Entre 1 y 3     7\n",
       "Más de 10       4\n",
       "Entre 4 y 6     4\n",
       "Entre 6 y 9     1\n",
       "Name: repeticion, dtype: int64"
      ]
     },
     "execution_count": 567,
     "metadata": {},
     "output_type": "execute_result"
    }
   ],
   "source": [
    "tiktok.repeticion.value_counts()"
   ]
  },
  {
   "cell_type": "code",
   "execution_count": 568,
   "id": "black-favor",
   "metadata": {},
   "outputs": [],
   "source": [
    "tiktok.loc[tiktok.repeticion=='Menos de 1','repeticion']=1\n",
    "tiktok.loc[tiktok.repeticion=='Entre 1 y 3','repeticion']=2\n",
    "tiktok.loc[tiktok.repeticion=='Entre 4 y 6','repeticion']=5\n",
    "tiktok.loc[tiktok.repeticion=='Entre 6 y 9','repeticion']=8\n",
    "tiktok.loc[tiktok.repeticion=='Más de 10','repeticion']=10"
   ]
  },
  {
   "cell_type": "markdown",
   "id": "alternative-prairie",
   "metadata": {},
   "source": [
    "- Desistidas"
   ]
  },
  {
   "cell_type": "code",
   "execution_count": 569,
   "id": "impressed-observation",
   "metadata": {
    "scrolled": true
   },
   "outputs": [
    {
     "data": {
      "text/plain": [
       "array(['Menos de 1', 'Entre 4 y 6', 'Más de 10', 'Entre 6 y 9',\n",
       "       'Entre 1 y 3'], dtype=object)"
      ]
     },
     "execution_count": 569,
     "metadata": {},
     "output_type": "execute_result"
    }
   ],
   "source": [
    "tiktok.desistidas.unique()"
   ]
  },
  {
   "cell_type": "code",
   "execution_count": 570,
   "id": "residential-neighbor",
   "metadata": {},
   "outputs": [],
   "source": [
    "tiktok.loc[tiktok.desistidas=='Menos de 1','desistidas']=1\n",
    "tiktok.loc[tiktok.desistidas=='Entre 1 y 3','desistidas']=2\n",
    "tiktok.loc[tiktok.desistidas=='Entre 4 y 6','desistidas']=5\n",
    "tiktok.loc[tiktok.desistidas=='Entre 6 y 9','desistidas']=8\n",
    "tiktok.loc[tiktok.desistidas=='Más de 10','desistidas']=10"
   ]
  },
  {
   "cell_type": "markdown",
   "id": "specialized-violation",
   "metadata": {},
   "source": [
    "### c) Dealing with numerical variables\n"
   ]
  },
  {
   "cell_type": "code",
   "execution_count": 573,
   "id": "returning-eating",
   "metadata": {},
   "outputs": [
    {
     "data": {
      "text/html": [
       "<div>\n",
       "<style scoped>\n",
       "    .dataframe tbody tr th:only-of-type {\n",
       "        vertical-align: middle;\n",
       "    }\n",
       "\n",
       "    .dataframe tbody tr th {\n",
       "        vertical-align: top;\n",
       "    }\n",
       "\n",
       "    .dataframe thead th {\n",
       "        text-align: right;\n",
       "    }\n",
       "</style>\n",
       "<table border=\"1\" class=\"dataframe\">\n",
       "  <thead>\n",
       "    <tr style=\"text-align: right;\">\n",
       "      <th></th>\n",
       "      <th>Id</th>\n",
       "      <th>tiktok</th>\n",
       "      <th>edad_tiktok</th>\n",
       "      <th>tiempo_declarado_tt</th>\n",
       "      <th>aburrimiento</th>\n",
       "      <th>inercia</th>\n",
       "      <th>tiempo_promedio_tt</th>\n",
       "      <th>videos_propios</th>\n",
       "      <th>videos_propios_filtros</th>\n",
       "      <th>repeticion</th>\n",
       "      <th>desistidas</th>\n",
       "      <th>entradas_tt</th>\n",
       "    </tr>\n",
       "  </thead>\n",
       "  <tbody>\n",
       "    <tr>\n",
       "      <th>22</th>\n",
       "      <td>22</td>\n",
       "      <td>Sí</td>\n",
       "      <td>24.0</td>\n",
       "      <td>180.0</td>\n",
       "      <td>10.0</td>\n",
       "      <td>10.0</td>\n",
       "      <td>25.0</td>\n",
       "      <td>1</td>\n",
       "      <td>1</td>\n",
       "      <td>1</td>\n",
       "      <td>1</td>\n",
       "      <td>20.0</td>\n",
       "    </tr>\n",
       "    <tr>\n",
       "      <th>27</th>\n",
       "      <td>27</td>\n",
       "      <td>Sí</td>\n",
       "      <td>18.0</td>\n",
       "      <td>120.0</td>\n",
       "      <td>3.0</td>\n",
       "      <td>3.0</td>\n",
       "      <td>35.0</td>\n",
       "      <td>1</td>\n",
       "      <td>1</td>\n",
       "      <td>1</td>\n",
       "      <td>1</td>\n",
       "      <td>6.0</td>\n",
       "    </tr>\n",
       "    <tr>\n",
       "      <th>36</th>\n",
       "      <td>36</td>\n",
       "      <td>Sí</td>\n",
       "      <td>22.0</td>\n",
       "      <td>120.0</td>\n",
       "      <td>10.0</td>\n",
       "      <td>5.0</td>\n",
       "      <td>25.0</td>\n",
       "      <td>1</td>\n",
       "      <td>1</td>\n",
       "      <td>1</td>\n",
       "      <td>1</td>\n",
       "      <td>15.0</td>\n",
       "    </tr>\n",
       "    <tr>\n",
       "      <th>41</th>\n",
       "      <td>41</td>\n",
       "      <td>Sí</td>\n",
       "      <td>18.0</td>\n",
       "      <td>120.0</td>\n",
       "      <td>3.0</td>\n",
       "      <td>3.0</td>\n",
       "      <td>25.0</td>\n",
       "      <td>1</td>\n",
       "      <td>1</td>\n",
       "      <td>1</td>\n",
       "      <td>1</td>\n",
       "      <td>6.0</td>\n",
       "    </tr>\n",
       "    <tr>\n",
       "      <th>42</th>\n",
       "      <td>42</td>\n",
       "      <td>Sí</td>\n",
       "      <td>33.0</td>\n",
       "      <td>60.0</td>\n",
       "      <td>5.0</td>\n",
       "      <td>3.0</td>\n",
       "      <td>15.0</td>\n",
       "      <td>1</td>\n",
       "      <td>1</td>\n",
       "      <td>1</td>\n",
       "      <td>5</td>\n",
       "      <td>8.0</td>\n",
       "    </tr>\n",
       "    <tr>\n",
       "      <th>...</th>\n",
       "      <td>...</td>\n",
       "      <td>...</td>\n",
       "      <td>...</td>\n",
       "      <td>...</td>\n",
       "      <td>...</td>\n",
       "      <td>...</td>\n",
       "      <td>...</td>\n",
       "      <td>...</td>\n",
       "      <td>...</td>\n",
       "      <td>...</td>\n",
       "      <td>...</td>\n",
       "      <td>...</td>\n",
       "    </tr>\n",
       "    <tr>\n",
       "      <th>390</th>\n",
       "      <td>390</td>\n",
       "      <td>Sí</td>\n",
       "      <td>16.0</td>\n",
       "      <td>60.0</td>\n",
       "      <td>3.0</td>\n",
       "      <td>3.0</td>\n",
       "      <td>15.0</td>\n",
       "      <td>1</td>\n",
       "      <td>1</td>\n",
       "      <td>1</td>\n",
       "      <td>10</td>\n",
       "      <td>6.0</td>\n",
       "    </tr>\n",
       "    <tr>\n",
       "      <th>391</th>\n",
       "      <td>391</td>\n",
       "      <td>Sí</td>\n",
       "      <td>21.0</td>\n",
       "      <td>60.0</td>\n",
       "      <td>3.0</td>\n",
       "      <td>3.0</td>\n",
       "      <td>15.0</td>\n",
       "      <td>1</td>\n",
       "      <td>1</td>\n",
       "      <td>10</td>\n",
       "      <td>10</td>\n",
       "      <td>6.0</td>\n",
       "    </tr>\n",
       "    <tr>\n",
       "      <th>396</th>\n",
       "      <td>396</td>\n",
       "      <td>Sí</td>\n",
       "      <td>48.0</td>\n",
       "      <td>60.0</td>\n",
       "      <td>3.0</td>\n",
       "      <td>3.0</td>\n",
       "      <td>25.0</td>\n",
       "      <td>1</td>\n",
       "      <td>1</td>\n",
       "      <td>2</td>\n",
       "      <td>5</td>\n",
       "      <td>6.0</td>\n",
       "    </tr>\n",
       "    <tr>\n",
       "      <th>407</th>\n",
       "      <td>407</td>\n",
       "      <td>Sí</td>\n",
       "      <td>30.0</td>\n",
       "      <td>60.0</td>\n",
       "      <td>3.0</td>\n",
       "      <td>3.0</td>\n",
       "      <td>15.0</td>\n",
       "      <td>1</td>\n",
       "      <td>1</td>\n",
       "      <td>1</td>\n",
       "      <td>1</td>\n",
       "      <td>6.0</td>\n",
       "    </tr>\n",
       "    <tr>\n",
       "      <th>420</th>\n",
       "      <td>420</td>\n",
       "      <td>Sí</td>\n",
       "      <td>25.0</td>\n",
       "      <td>120.0</td>\n",
       "      <td>3.0</td>\n",
       "      <td>3.0</td>\n",
       "      <td>35.0</td>\n",
       "      <td>1</td>\n",
       "      <td>1</td>\n",
       "      <td>1</td>\n",
       "      <td>1</td>\n",
       "      <td>6.0</td>\n",
       "    </tr>\n",
       "  </tbody>\n",
       "</table>\n",
       "<p>94 rows × 12 columns</p>\n",
       "</div>"
      ],
      "text/plain": [
       "      Id tiktok  edad_tiktok  tiempo_declarado_tt  aburrimiento  inercia  \\\n",
       "22    22     Sí         24.0                180.0          10.0     10.0   \n",
       "27    27     Sí         18.0                120.0           3.0      3.0   \n",
       "36    36     Sí         22.0                120.0          10.0      5.0   \n",
       "41    41     Sí         18.0                120.0           3.0      3.0   \n",
       "42    42     Sí         33.0                 60.0           5.0      3.0   \n",
       "..   ...    ...          ...                  ...           ...      ...   \n",
       "390  390     Sí         16.0                 60.0           3.0      3.0   \n",
       "391  391     Sí         21.0                 60.0           3.0      3.0   \n",
       "396  396     Sí         48.0                 60.0           3.0      3.0   \n",
       "407  407     Sí         30.0                 60.0           3.0      3.0   \n",
       "420  420     Sí         25.0                120.0           3.0      3.0   \n",
       "\n",
       "     tiempo_promedio_tt videos_propios videos_propios_filtros repeticion  \\\n",
       "22                 25.0              1                      1          1   \n",
       "27                 35.0              1                      1          1   \n",
       "36                 25.0              1                      1          1   \n",
       "41                 25.0              1                      1          1   \n",
       "42                 15.0              1                      1          1   \n",
       "..                  ...            ...                    ...        ...   \n",
       "390                15.0              1                      1          1   \n",
       "391                15.0              1                      1         10   \n",
       "396                25.0              1                      1          2   \n",
       "407                15.0              1                      1          1   \n",
       "420                35.0              1                      1          1   \n",
       "\n",
       "    desistidas  entradas_tt  \n",
       "22           1         20.0  \n",
       "27           1          6.0  \n",
       "36           1         15.0  \n",
       "41           1          6.0  \n",
       "42           5          8.0  \n",
       "..         ...          ...  \n",
       "390         10          6.0  \n",
       "391         10          6.0  \n",
       "396          5          6.0  \n",
       "407          1          6.0  \n",
       "420          1          6.0  \n",
       "\n",
       "[94 rows x 12 columns]"
      ]
     },
     "execution_count": 573,
     "metadata": {},
     "output_type": "execute_result"
    }
   ],
   "source": [
    "tiktok"
   ]
  },
  {
   "cell_type": "code",
   "execution_count": 468,
   "id": "freelance-monroe",
   "metadata": {},
   "outputs": [],
   "source": [
    "#sumar aburrimiento+inercia = entradas_tt"
   ]
  },
  {
   "cell_type": "code",
   "execution_count": 572,
   "id": "moved-machine",
   "metadata": {},
   "outputs": [],
   "source": [
    "tiktok['entradas_tt']=tiktok[['inercia','aburrimiento']].sum(axis=1)"
   ]
  },
  {
   "cell_type": "code",
   "execution_count": 470,
   "id": "joint-album",
   "metadata": {},
   "outputs": [],
   "source": [
    "#multiplicar entradas_tt con tiempo_promedio = tiempo_estimado"
   ]
  },
  {
   "cell_type": "code",
   "execution_count": 574,
   "id": "informative-powder",
   "metadata": {},
   "outputs": [],
   "source": [
    "tiktok['tiempo_estimado_tt'] = tiktok['entradas_tt']*tiktok['tiempo_promedio_tt']"
   ]
  },
  {
   "cell_type": "code",
   "execution_count": 575,
   "id": "naked-noise",
   "metadata": {},
   "outputs": [
    {
     "data": {
      "text/html": [
       "<div>\n",
       "<style scoped>\n",
       "    .dataframe tbody tr th:only-of-type {\n",
       "        vertical-align: middle;\n",
       "    }\n",
       "\n",
       "    .dataframe tbody tr th {\n",
       "        vertical-align: top;\n",
       "    }\n",
       "\n",
       "    .dataframe thead th {\n",
       "        text-align: right;\n",
       "    }\n",
       "</style>\n",
       "<table border=\"1\" class=\"dataframe\">\n",
       "  <thead>\n",
       "    <tr style=\"text-align: right;\">\n",
       "      <th></th>\n",
       "      <th>Id</th>\n",
       "      <th>tiktok</th>\n",
       "      <th>edad_tiktok</th>\n",
       "      <th>tiempo_declarado_tt</th>\n",
       "      <th>aburrimiento</th>\n",
       "      <th>inercia</th>\n",
       "      <th>tiempo_promedio_tt</th>\n",
       "      <th>videos_propios</th>\n",
       "      <th>videos_propios_filtros</th>\n",
       "      <th>repeticion</th>\n",
       "      <th>desistidas</th>\n",
       "      <th>entradas_tt</th>\n",
       "      <th>tiempo_estimado_tt</th>\n",
       "    </tr>\n",
       "  </thead>\n",
       "  <tbody>\n",
       "    <tr>\n",
       "      <th>22</th>\n",
       "      <td>22</td>\n",
       "      <td>Sí</td>\n",
       "      <td>24.0</td>\n",
       "      <td>180.0</td>\n",
       "      <td>10.0</td>\n",
       "      <td>10.0</td>\n",
       "      <td>25.0</td>\n",
       "      <td>1</td>\n",
       "      <td>1</td>\n",
       "      <td>1</td>\n",
       "      <td>1</td>\n",
       "      <td>20.0</td>\n",
       "      <td>500.0</td>\n",
       "    </tr>\n",
       "    <tr>\n",
       "      <th>27</th>\n",
       "      <td>27</td>\n",
       "      <td>Sí</td>\n",
       "      <td>18.0</td>\n",
       "      <td>120.0</td>\n",
       "      <td>3.0</td>\n",
       "      <td>3.0</td>\n",
       "      <td>35.0</td>\n",
       "      <td>1</td>\n",
       "      <td>1</td>\n",
       "      <td>1</td>\n",
       "      <td>1</td>\n",
       "      <td>6.0</td>\n",
       "      <td>210.0</td>\n",
       "    </tr>\n",
       "    <tr>\n",
       "      <th>36</th>\n",
       "      <td>36</td>\n",
       "      <td>Sí</td>\n",
       "      <td>22.0</td>\n",
       "      <td>120.0</td>\n",
       "      <td>10.0</td>\n",
       "      <td>5.0</td>\n",
       "      <td>25.0</td>\n",
       "      <td>1</td>\n",
       "      <td>1</td>\n",
       "      <td>1</td>\n",
       "      <td>1</td>\n",
       "      <td>15.0</td>\n",
       "      <td>375.0</td>\n",
       "    </tr>\n",
       "    <tr>\n",
       "      <th>41</th>\n",
       "      <td>41</td>\n",
       "      <td>Sí</td>\n",
       "      <td>18.0</td>\n",
       "      <td>120.0</td>\n",
       "      <td>3.0</td>\n",
       "      <td>3.0</td>\n",
       "      <td>25.0</td>\n",
       "      <td>1</td>\n",
       "      <td>1</td>\n",
       "      <td>1</td>\n",
       "      <td>1</td>\n",
       "      <td>6.0</td>\n",
       "      <td>150.0</td>\n",
       "    </tr>\n",
       "    <tr>\n",
       "      <th>42</th>\n",
       "      <td>42</td>\n",
       "      <td>Sí</td>\n",
       "      <td>33.0</td>\n",
       "      <td>60.0</td>\n",
       "      <td>5.0</td>\n",
       "      <td>3.0</td>\n",
       "      <td>15.0</td>\n",
       "      <td>1</td>\n",
       "      <td>1</td>\n",
       "      <td>1</td>\n",
       "      <td>5</td>\n",
       "      <td>8.0</td>\n",
       "      <td>120.0</td>\n",
       "    </tr>\n",
       "    <tr>\n",
       "      <th>...</th>\n",
       "      <td>...</td>\n",
       "      <td>...</td>\n",
       "      <td>...</td>\n",
       "      <td>...</td>\n",
       "      <td>...</td>\n",
       "      <td>...</td>\n",
       "      <td>...</td>\n",
       "      <td>...</td>\n",
       "      <td>...</td>\n",
       "      <td>...</td>\n",
       "      <td>...</td>\n",
       "      <td>...</td>\n",
       "      <td>...</td>\n",
       "    </tr>\n",
       "    <tr>\n",
       "      <th>390</th>\n",
       "      <td>390</td>\n",
       "      <td>Sí</td>\n",
       "      <td>16.0</td>\n",
       "      <td>60.0</td>\n",
       "      <td>3.0</td>\n",
       "      <td>3.0</td>\n",
       "      <td>15.0</td>\n",
       "      <td>1</td>\n",
       "      <td>1</td>\n",
       "      <td>1</td>\n",
       "      <td>10</td>\n",
       "      <td>6.0</td>\n",
       "      <td>90.0</td>\n",
       "    </tr>\n",
       "    <tr>\n",
       "      <th>391</th>\n",
       "      <td>391</td>\n",
       "      <td>Sí</td>\n",
       "      <td>21.0</td>\n",
       "      <td>60.0</td>\n",
       "      <td>3.0</td>\n",
       "      <td>3.0</td>\n",
       "      <td>15.0</td>\n",
       "      <td>1</td>\n",
       "      <td>1</td>\n",
       "      <td>10</td>\n",
       "      <td>10</td>\n",
       "      <td>6.0</td>\n",
       "      <td>90.0</td>\n",
       "    </tr>\n",
       "    <tr>\n",
       "      <th>396</th>\n",
       "      <td>396</td>\n",
       "      <td>Sí</td>\n",
       "      <td>48.0</td>\n",
       "      <td>60.0</td>\n",
       "      <td>3.0</td>\n",
       "      <td>3.0</td>\n",
       "      <td>25.0</td>\n",
       "      <td>1</td>\n",
       "      <td>1</td>\n",
       "      <td>2</td>\n",
       "      <td>5</td>\n",
       "      <td>6.0</td>\n",
       "      <td>150.0</td>\n",
       "    </tr>\n",
       "    <tr>\n",
       "      <th>407</th>\n",
       "      <td>407</td>\n",
       "      <td>Sí</td>\n",
       "      <td>30.0</td>\n",
       "      <td>60.0</td>\n",
       "      <td>3.0</td>\n",
       "      <td>3.0</td>\n",
       "      <td>15.0</td>\n",
       "      <td>1</td>\n",
       "      <td>1</td>\n",
       "      <td>1</td>\n",
       "      <td>1</td>\n",
       "      <td>6.0</td>\n",
       "      <td>90.0</td>\n",
       "    </tr>\n",
       "    <tr>\n",
       "      <th>420</th>\n",
       "      <td>420</td>\n",
       "      <td>Sí</td>\n",
       "      <td>25.0</td>\n",
       "      <td>120.0</td>\n",
       "      <td>3.0</td>\n",
       "      <td>3.0</td>\n",
       "      <td>35.0</td>\n",
       "      <td>1</td>\n",
       "      <td>1</td>\n",
       "      <td>1</td>\n",
       "      <td>1</td>\n",
       "      <td>6.0</td>\n",
       "      <td>210.0</td>\n",
       "    </tr>\n",
       "  </tbody>\n",
       "</table>\n",
       "<p>94 rows × 13 columns</p>\n",
       "</div>"
      ],
      "text/plain": [
       "      Id tiktok  edad_tiktok  tiempo_declarado_tt  aburrimiento  inercia  \\\n",
       "22    22     Sí         24.0                180.0          10.0     10.0   \n",
       "27    27     Sí         18.0                120.0           3.0      3.0   \n",
       "36    36     Sí         22.0                120.0          10.0      5.0   \n",
       "41    41     Sí         18.0                120.0           3.0      3.0   \n",
       "42    42     Sí         33.0                 60.0           5.0      3.0   \n",
       "..   ...    ...          ...                  ...           ...      ...   \n",
       "390  390     Sí         16.0                 60.0           3.0      3.0   \n",
       "391  391     Sí         21.0                 60.0           3.0      3.0   \n",
       "396  396     Sí         48.0                 60.0           3.0      3.0   \n",
       "407  407     Sí         30.0                 60.0           3.0      3.0   \n",
       "420  420     Sí         25.0                120.0           3.0      3.0   \n",
       "\n",
       "     tiempo_promedio_tt videos_propios videos_propios_filtros repeticion  \\\n",
       "22                 25.0              1                      1          1   \n",
       "27                 35.0              1                      1          1   \n",
       "36                 25.0              1                      1          1   \n",
       "41                 25.0              1                      1          1   \n",
       "42                 15.0              1                      1          1   \n",
       "..                  ...            ...                    ...        ...   \n",
       "390                15.0              1                      1          1   \n",
       "391                15.0              1                      1         10   \n",
       "396                25.0              1                      1          2   \n",
       "407                15.0              1                      1          1   \n",
       "420                35.0              1                      1          1   \n",
       "\n",
       "    desistidas  entradas_tt  tiempo_estimado_tt  \n",
       "22           1         20.0               500.0  \n",
       "27           1          6.0               210.0  \n",
       "36           1         15.0               375.0  \n",
       "41           1          6.0               150.0  \n",
       "42           5          8.0               120.0  \n",
       "..         ...          ...                 ...  \n",
       "390         10          6.0                90.0  \n",
       "391         10          6.0                90.0  \n",
       "396          5          6.0               150.0  \n",
       "407          1          6.0                90.0  \n",
       "420          1          6.0               210.0  \n",
       "\n",
       "[94 rows x 13 columns]"
      ]
     },
     "execution_count": 575,
     "metadata": {},
     "output_type": "execute_result"
    }
   ],
   "source": [
    "tiktok"
   ]
  },
  {
   "cell_type": "markdown",
   "id": "handy-armor",
   "metadata": {},
   "source": [
    "##  Saving the data clean\n"
   ]
  },
  {
   "cell_type": "code",
   "execution_count": 576,
   "id": "dirty-jonathan",
   "metadata": {},
   "outputs": [],
   "source": [
    "tiktok = tiktok.drop(['tiktok'],axis=1)"
   ]
  },
  {
   "cell_type": "code",
   "execution_count": 577,
   "id": "promising-drunk",
   "metadata": {},
   "outputs": [],
   "source": [
    "#tiktok.to_csv('tiktok.csv')"
   ]
  },
  {
   "cell_type": "code",
   "execution_count": null,
   "id": "secondary-conclusion",
   "metadata": {},
   "outputs": [],
   "source": [
    "## Finalmente solo se trabajará con la informacion recopilada de instagram debido a la amplitud de la muestra "
   ]
  }
 ],
 "metadata": {
  "kernelspec": {
   "display_name": "Python 3",
   "language": "python",
   "name": "python3"
  },
  "language_info": {
   "codemirror_mode": {
    "name": "ipython",
    "version": 3
   },
   "file_extension": ".py",
   "mimetype": "text/x-python",
   "name": "python",
   "nbconvert_exporter": "python",
   "pygments_lexer": "ipython3",
   "version": "3.7.9"
  },
  "toc": {
   "base_numbering": 1,
   "nav_menu": {},
   "number_sections": true,
   "sideBar": true,
   "skip_h1_title": false,
   "title_cell": "Table of Contents",
   "title_sidebar": "Contents",
   "toc_cell": false,
   "toc_position": {
    "height": "calc(100% - 180px)",
    "left": "10px",
    "top": "150px",
    "width": "204.637px"
   },
   "toc_section_display": true,
   "toc_window_display": true
  },
  "varInspector": {
   "cols": {
    "lenName": 16,
    "lenType": 16,
    "lenVar": 40
   },
   "kernels_config": {
    "python": {
     "delete_cmd_postfix": "",
     "delete_cmd_prefix": "del ",
     "library": "var_list.py",
     "varRefreshCmd": "print(var_dic_list())"
    },
    "r": {
     "delete_cmd_postfix": ") ",
     "delete_cmd_prefix": "rm(",
     "library": "var_list.r",
     "varRefreshCmd": "cat(var_dic_list()) "
    }
   },
   "types_to_exclude": [
    "module",
    "function",
    "builtin_function_or_method",
    "instance",
    "_Feature"
   ],
   "window_display": false
  }
 },
 "nbformat": 4,
 "nbformat_minor": 5
}
